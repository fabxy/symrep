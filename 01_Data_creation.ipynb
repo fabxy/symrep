{
 "cells": [
  {
   "cell_type": "markdown",
   "metadata": {},
   "source": [
    "# 2022 Flatiron Machine Learning x Science Summer School\n",
    "\n",
    "## Step 1: Create generic data from algebraic equations\n",
    "\n",
    "In this step, we want to create data from algebraic equations of the form $f(g(x))$, where $g: \\mathbb{R}^a \\rightarrow \\mathbb{R}^b$, $f: \\mathbb{R}^b \\rightarrow \\mathbb{R}^c$ and $f \\circ g: \\mathbb{R}^a \\rightarrow \\mathbb{R}^c$. One example could be\n",
    "\n",
    "$g(x) = x_1 \\cdot cos(x_3)$\n",
    "\n",
    "$f(x) = x^2 + x$\n",
    "\n",
    "$f(g(x)) = g(x)^2 + g(x) = x_1^2 \\cdot cos^2(x_3) + x_1 \\cdot cos(x_3)$\n",
    "\n",
    "where $a = 3$, $b = 1$ and $c = 1$. Ideally, we would like to define $f$ and $g$ such that $f \\circ g$ is difficult to discover for symbolic regression, while $f$ and $g$ individually are easily discoverable.\n",
    "\n",
    "Note that for $b \\gt 1$, one potential issue is that there is no unique solution. For $a = 2$, $b = 2$, $c = 1$, one example is\n",
    "\n",
    "$g(x) = [x_1^2, x_1 x_2]$\n",
    "\n",
    "$f(x) = x_1 + x_2$\n",
    "\n",
    "where $h(x) = [x_1^2 + x_1, x_1 x_2 - x_1]$ is an equally valid solution, i.e. $f(g(x)) = f(h(x))$. Furthermore, there are infinitely many solutions where, for example, only at certain points data is added to $g_1$ and subtracted from $g_2$.\n",
    "\n",
    "We estimate that this issue could be one of the main challenges of this project.\n",
    "\n",
    "Let's get started!"
   ]
  },
  {
   "cell_type": "code",
   "execution_count": 1,
   "metadata": {},
   "outputs": [],
   "source": [
    "import os\n",
    "import numpy as np"
   ]
  },
  {
   "cell_type": "markdown",
   "metadata": {},
   "source": [
    "### Step 1.1: Create standard input data\n",
    "\n",
    "Since the input data in machine learning is often standardized as part of the preprocessing anyway, we simply sample from $\\mathcal{N}(0, 1)$. \n",
    "\n",
    "Furthermore, we specify the input data to be 10 dimensional, which provides enough flexibility to define complex target functions.\n",
    "\n",
    "We start with sampling 1000 data points in each dimension."
   ]
  },
  {
   "cell_type": "code",
   "execution_count": 2,
   "metadata": {},
   "outputs": [],
   "source": [
    "seed = 0\n",
    "\n",
    "input_name = \"X04\"\n",
    "input_size = 2\n",
    "\n",
    "data_size = int(1e3)"
   ]
  },
  {
   "cell_type": "code",
   "execution_count": 3,
   "metadata": {},
   "outputs": [],
   "source": [
    "np.random.seed(seed)\n",
    "\n",
    "data = {}\n",
    "data[input_name] = np.random.normal(size=(data_size, input_size))"
   ]
  },
  {
   "cell_type": "markdown",
   "metadata": {},
   "source": [
    "### Step 1.2: Create target function data\n",
    "\n",
    "As discussed above, we want to define easily discoverable functions $f$ and $g$ where their composition $f \\circ g$ is difficult to discover for symbolic regression.\n",
    "\n",
    "Additionally, it would be good to cover different combinations of $b$ and $c$.\n",
    "\n",
    "For $b > 1$, there is the above mentioned identifiability issue. Raising $c$, however, could provide more information and reduce the issue. For example,\n",
    "\n",
    "$g(x) = [x_1^2, x_1 x_2]$\n",
    "\n",
    "$f(x) = x_1 + x_2$\n",
    "\n",
    "allows adding and subtracting any function $h(x_1)$ to $g_1$ and $g_2$, respectively. In contrast,\n",
    "\n",
    "$g(x) = [x_1^2, x_1 x_2]$\n",
    "\n",
    "$f(x) = [x_1 + x_2, x_1^2]$\n",
    "\n",
    "would avoid this issue as $g(x) = [x_1^2 + h(x_1), x_1 x_2 - h(x_1)]$ would lead to $f(g(x)) = [x_1^2 + x_1 x_2, (x_1^2 + h(x_1))^2]$.\n",
    "\n",
    "What are the available mathematical operators in PySR? See https://astroautomata.com/PySR/#/operators.\n",
    "\n",
    "* Unary: `neg`, `square`, `cube`, `exp`, `abs`, `log_abs = log(abs(x) + 1e-8)`, `log10_abs`, `log2_abs`, `log1p_abs = log(abs(x) + 1)`, `sqrt_abs = sqrt(abs(x))`, `sin`, `cos`, `tan`, `sinh`, `cosh`, `tanh`, `atan`, `asinh`, `acosh_abs`, `atanh_clip = atanh((x+1)%2 - 1)`, `erf`, `erfc`, `gamma`, `relu`, `round`, `floor`, `ceil`, `round`, `sign`\n",
    "\n",
    "* Binary: `plus`, `sub`, `mult`, `pow`, `div`, `greater`, `mod`, `logical_or`, `logical_and`\n",
    "\n",
    "We select the following operators:\n",
    "\n",
    "* Unary: `sin`, `cos`, `exp`, `log_abs`\n",
    "\n",
    "* Binary: `plus`, `sub`, `mult`, (`pow`)\n",
    "\n",
    "Additionally, we define the functionality to add Gaussian noise to each function, but we set $\\sigma^2 = 0$ for now.\n",
    "\n",
    "The data is not split into training, validation and testing data at this point.\n",
    "\n",
    "Functions:\n",
    "\n",
    "* $b=1$, $c=1$:\n",
    "\n",
    "    * $g^1(x) = x_0 + \\text{cos}(x_2) + x_3 \\cdot x_6 + x_7^2$\n",
    "\n",
    "    * $f^1(x) = x^2$\n",
    "\n",
    "    * $g^2(x) = \\text{sin}(x_0) \\cdot \\text{cos}(x_1) + x_5^3 + \\text{exp}(x_9)$\n",
    "\n",
    "    * $f^2(x) = 3.95 x^2 + x$\n",
    "\n",
    "    * $g^3(x) = x_0 - x_3 \\cdot x_5^2 + \\text{log}(\\text{abs}(x_7 + x_8))$\n",
    "\n",
    "    * $f^3(x) = x \\cdot \\text{exp}(0.25 x)$\n",
    "\n",
    "* $b=3$, $c=1$:\n",
    "\n",
    "    * $g^4(x) = $\n",
    "\n",
    "    * $f^4(x) = $\n",
    "\n",
    "    * $g^5(x) = $\n",
    "\n",
    "    * $f^5(x) = $\n",
    "\n",
    "    * $g^6(x) = $\n",
    "\n",
    "    * $f^6(x) = $\n",
    "\n",
    "* $b=3$, $c=3$:\n",
    "\n",
    "    * $g^7(x) = $\n",
    "\n",
    "    * $f^7(x) = $\n",
    "\n",
    "    * $g^8(x) = $\n",
    "\n",
    "    * $f^8(x) = $\n",
    "\n",
    "    * $g^9(x) = $\n",
    "\n",
    "    * $f^9(x) = $\n",
    "\n",
    "* $b=5$, $c=1$:\n",
    "\n",
    "    * $g^{10}(x) = $\n",
    "\n",
    "    * $f^{10}(x) = $\n",
    "\n",
    "    * $g^{11}(x) = $\n",
    "\n",
    "    * $f^{11}(x) = $\n",
    "\n",
    "    * $g^{12}(x) = $\n",
    "\n",
    "    * $f^{12}(x) = $\n",
    "\n",
    "* $b=5$, $c=3$:\n",
    "\n",
    "    * $g^{13}(x) = $\n",
    "\n",
    "    * $f^{13}(x) = $\n",
    "\n",
    "    * $g^{14}(x) = $\n",
    "\n",
    "    * $f^{14}(x) = $\n",
    "\n",
    "    * $g^{15}(x) = $\n",
    "\n",
    "    * $f^{15}(x) = $\n",
    "\n",
    "* $b=5$, $c=5$:\n",
    "\n",
    "    * $g^{16}(x) = $\n",
    "\n",
    "    * $f^{16}(x) = $\n",
    "\n",
    "    * $g^{17}(x) = $\n",
    "\n",
    "    * $f^{17}(x) = $\n",
    "\n",
    "    * $g^{18}(x) = $\n",
    "\n",
    "    * $f^{18}(x) = $"
   ]
  },
  {
   "cell_type": "code",
   "execution_count": 4,
   "metadata": {},
   "outputs": [],
   "source": [
    "fun_tups = [\n",
    "    # (\"G01\", [\"X01[:,0] + np.cos(X01[:,2]) + X01[:,3] * X01[:,6] + X01[:,7]**2\"], 0),\n",
    "    # (\"F01\", [\"G01[:,0]**2\"], 0),\n",
    "    # (\"G02\", [\"np.sin(X01[:,0]) * np.cos(X01[:,1]) + X01[:,5]**3 + np.exp(X01[:,9])\"], 0),\n",
    "    # (\"F02\", [\"3.95 * G02[:,0]**2 + G02[:,0]\"], 0),\n",
    "    # (\"G03\", [\"X01[:,0] - X01[:,3] * X01[:,5]**2 + np.log(np.abs(X01[:,7] + X01[:,8]))\"], 0),\n",
    "    # (\"F03\", [\"G03[:,0] * np.exp(0.25 * G03[:,0])\"], 0),\n",
    "    (\"G04\", [\"X04[:,0] + np.cos(X04[:,1]) + X04[:,0] * X04[:,1] + X04[:,1]**2\"], 0),\n",
    "    (\"F04\", [\"G04[:,0]**2\"], 0),\n",
    "]"
   ]
  },
  {
   "cell_type": "code",
   "execution_count": 5,
   "metadata": {},
   "outputs": [
    {
     "name": "stdout",
     "output_type": "stream",
     "text": [
      "Evaluating G04.\n",
      "Evaluating F04.\n"
     ]
    }
   ],
   "source": [
    "for fun_tup in fun_tups:\n",
    "    \n",
    "    fun_name = fun_tup[0]\n",
    "    print(f\"Evaluating {fun_name}.\")\n",
    "\n",
    "    res = []    \n",
    "    for fun in fun_tup[1]:\n",
    "        \n",
    "        # evaluate target function string\n",
    "        fun_data = eval(fun, {'np': np}, data)\n",
    "\n",
    "        # add Gaussian noise\n",
    "        fun_data += np.random.normal(scale=fun_tups[0][2], size=data_size)\n",
    "\n",
    "        res.append(fun_data)\n",
    "\n",
    "    data[fun_name] = np.array(res).T"
   ]
  },
  {
   "cell_type": "markdown",
   "metadata": {},
   "source": [
    "### Step 1.3: Save data"
   ]
  },
  {
   "cell_type": "code",
   "execution_count": 6,
   "metadata": {},
   "outputs": [
    {
     "name": "stdout",
     "output_type": "stream",
     "text": [
      "Saved X04 data.\n",
      "Saved G04 data.\n",
      "Saved F04 data.\n"
     ]
    }
   ],
   "source": [
    "data_path = \"data\"\n",
    "data_ext = \".gz\"\n",
    "info_ext = \".info\"\n",
    "\n",
    "# create data folder\n",
    "os.makedirs(data_path, exist_ok=True)\n",
    "\n",
    "# save input data\n",
    "var = input_name\n",
    "np.savetxt(os.path.join(data_path, var + data_ext), data[var])\n",
    "print(f\"Saved {var} data.\")\n",
    "\n",
    "# save target data\n",
    "for fun_tup in fun_tups:\n",
    "    var = fun_tup[0]\n",
    "\n",
    "    np.savetxt(os.path.join(data_path, var + data_ext), data[var])\n",
    "\n",
    "    with open(os.path.join(data_path, var + info_ext), \"w\") as f:\n",
    "        for fun in fun_tup[1]:\n",
    "            f.write(fun + '\\n')\n",
    "\n",
    "        f.write(str(fun_tup[2]) + '\\n')\n",
    "\n",
    "    print(f\"Saved {var} data.\")"
   ]
  }
 ],
 "metadata": {
  "kernelspec": {
   "display_name": "Python 3.8.3 ('base')",
   "language": "python",
   "name": "python3"
  },
  "language_info": {
   "codemirror_mode": {
    "name": "ipython",
    "version": 3
   },
   "file_extension": ".py",
   "mimetype": "text/x-python",
   "name": "python",
   "nbconvert_exporter": "python",
   "pygments_lexer": "ipython3",
   "version": "3.8.3"
  },
  "orig_nbformat": 4,
  "vscode": {
   "interpreter": {
    "hash": "540f5367292c701f747780e6da702d3852f1c7c25c6067d18f36ab6562a2dcf2"
   }
  }
 },
 "nbformat": 4,
 "nbformat_minor": 2
}
