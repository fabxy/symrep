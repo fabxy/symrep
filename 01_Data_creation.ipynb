{
 "cells": [
  {
   "cell_type": "markdown",
   "metadata": {},
   "source": [
    "# 2022 Flatiron Machine Learning x Science Summer School\n",
    "\n",
    "## Step 1: Create generic data from algebraic equations\n",
    "\n",
    "In this step, we want to create data from algebraic equations of the form $f(g(x))$, where $g: \\mathbb{R}^a \\rightarrow \\mathbb{R}^b$, $f: \\mathbb{R}^b \\rightarrow \\mathbb{R}^c$ and $f \\circ g: \\mathbb{R}^a \\rightarrow \\mathbb{R}^c$. One example could be\n",
    "\n",
    "$g(x) = x_1 \\cdot cos(x_3)$\n",
    "\n",
    "$f(x) = x^2 + x$\n",
    "\n",
    "$f(g(x)) = g(x)^2 + g(x) = x_1^2 \\cdot cos^2(x_3) + x_1 \\cdot cos(x_3)$\n",
    "\n",
    "where $a = 3$, $b = 1$ and $c = 1$. Ideally, we would like to define $f$ and $g$ such that $f \\circ g$ is difficult to discover for symbolic regression, while $f$ and $g$ individually are easily discoverable.\n",
    "\n",
    "Note that for $b \\gt 1$, one potential issue is that there is no unique solution. For $a = 2$, $b = 2$, $c = 1$, one example is\n",
    "\n",
    "$g(x) = [x_1^2, x_1 x_2]$\n",
    "\n",
    "$f(x) = x_1 + x_2$\n",
    "\n",
    "where $h(x) = [x_1^2 + x_1, x_1 x_2 - x_1]$ is an equally valid solution, i.e. $f(g(x)) = f(h(x))$. Furthermore, there are infinitely many solutions where, for example, only at certain points data is added to $g_1$ and subtracted from $g_2$.\n",
    "\n",
    "We estimate that this issue could be one of the main challenges of this project.\n",
    "\n",
    "Let's get started!"
   ]
  },
  {
   "cell_type": "code",
   "execution_count": 1,
   "metadata": {},
   "outputs": [],
   "source": [
    "import os\n",
    "import numpy as np"
   ]
  },
  {
   "cell_type": "markdown",
   "metadata": {},
   "source": [
    "### Step 1.1: Create standard input data\n",
    "\n",
    "Range of input data: N(0, 1)\n",
    "\n",
    "Size of input data: 1000"
   ]
  },
  {
   "cell_type": "code",
   "execution_count": 23,
   "metadata": {},
   "outputs": [],
   "source": [
    "seed = 0\n",
    "\n",
    "data_size = int(1e3)\n",
    "\n",
    "input_name = \"X01\"\n",
    "input_size = 10"
   ]
  },
  {
   "cell_type": "code",
   "execution_count": 24,
   "metadata": {},
   "outputs": [],
   "source": [
    "np.random.seed(seed)\n",
    "\n",
    "data = {}\n",
    "data[input_name] = np.random.normal(size=(data_size, input_size))"
   ]
  },
  {
   "cell_type": "markdown",
   "metadata": {},
   "source": [
    "### Step 1.2: Create target function data\n",
    "\n",
    "What kind of target functions do we want to investigate? What kind of operators are we including?\n",
    "\n",
    "addition\n",
    "multiplication\n",
    "subtraction\n",
    "exponential\n",
    "power\n",
    "logarithm\n",
    "sine\n",
    "cosine\n",
    "\n",
    "noise\n",
    "\n",
    "train val test split?"
   ]
  },
  {
   "cell_type": "code",
   "execution_count": 25,
   "metadata": {},
   "outputs": [],
   "source": [
    "fun_tups = [\n",
    "    (\"G01\", [\"X01[:,0]**2\", \"X01[:,1] * X01[:,2]\"], 0),\n",
    "    (\"F01\", [\"G01[:,0] + G01[:,1]\"], 0)\n",
    "]"
   ]
  },
  {
   "cell_type": "code",
   "execution_count": 27,
   "metadata": {},
   "outputs": [
    {
     "name": "stdout",
     "output_type": "stream",
     "text": [
      "Evaluating G01.\n",
      "Evaluating F01.\n"
     ]
    }
   ],
   "source": [
    "for fun_tup in fun_tups:\n",
    "    \n",
    "    fun_name = fun_tup[0]\n",
    "    print(f\"Evaluating {fun_name}.\")\n",
    "\n",
    "    res = []    \n",
    "    for fun in fun_tup[1]:\n",
    "        \n",
    "        # evaluate target function string\n",
    "        fun_data = eval(fun, data)\n",
    "\n",
    "        # add Gaussian noise\n",
    "        fun_data += np.random.normal(scale=fun_tups[0][2], size=data_size)\n",
    "\n",
    "        res.append(fun_data)\n",
    "\n",
    "    data[fun_name] = np.array(res).T"
   ]
  },
  {
   "cell_type": "markdown",
   "metadata": {},
   "source": [
    "### Step 1.3: Save data"
   ]
  },
  {
   "cell_type": "code",
   "execution_count": 22,
   "metadata": {},
   "outputs": [
    {
     "name": "stdout",
     "output_type": "stream",
     "text": [
      "Saved X01 data.\n",
      "Saved G01 data.\n",
      "Saved F01 data.\n"
     ]
    }
   ],
   "source": [
    "data_path = \"data\"\n",
    "data_ext = \".gz\"\n",
    "info_ext = \".info\"\n",
    "\n",
    "# create data folder\n",
    "os.makedirs(data_path, exist_ok=True)\n",
    "\n",
    "# save input data\n",
    "var = input_name\n",
    "np.savetxt(os.path.join(data_path, var + data_ext), data[var])\n",
    "print(f\"Saved {var} data.\")\n",
    "\n",
    "# save target data\n",
    "for fun_tup in fun_tups:\n",
    "    var = fun_tup[0]\n",
    "\n",
    "    np.savetxt(os.path.join(data_path, var + data_ext), data[var])\n",
    "\n",
    "    with open(os.path.join(data_path, var + info_ext), \"w\") as f:\n",
    "        for fun in fun_tup[1]:\n",
    "            f.write(fun + '\\n')\n",
    "\n",
    "        f.write(str(fun_tup[2]) + '\\n')\n",
    "\n",
    "    print(f\"Saved {var} data.\")"
   ]
  }
 ],
 "metadata": {
  "kernelspec": {
   "display_name": "Python 3.8.3 ('base')",
   "language": "python",
   "name": "python3"
  },
  "language_info": {
   "codemirror_mode": {
    "name": "ipython",
    "version": 3
   },
   "file_extension": ".py",
   "mimetype": "text/x-python",
   "name": "python",
   "nbconvert_exporter": "python",
   "pygments_lexer": "ipython3",
   "version": "3.8.3"
  },
  "orig_nbformat": 4,
  "vscode": {
   "interpreter": {
    "hash": "540f5367292c701f747780e6da702d3852f1c7c25c6067d18f36ab6562a2dcf2"
   }
  }
 },
 "nbformat": 4,
 "nbformat_minor": 2
}
