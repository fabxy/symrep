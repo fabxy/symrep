{
 "cells": [
  {
   "cell_type": "markdown",
   "metadata": {},
   "source": [
    "# 2022 Flatiron Machine Learning x Science Summer School\n",
    "\n",
    "## Step 1: Create generic data from algebraic equations\n",
    "\n",
    "In this step, we want to create data from algebraic equations of the form $f(g(x))$, where $g: \\mathbb{R}^a \\rightarrow \\mathbb{R}^b$, $f: \\mathbb{R}^b \\rightarrow \\mathbb{R}^c$ and $f \\circ g: \\mathbb{R}^a \\rightarrow \\mathbb{R}^c$. One example could be\n",
    "\n",
    "$g(x) = x_1 \\cdot cos(x_3)$\n",
    "\n",
    "$f(x) = x^2 + x$\n",
    "\n",
    "$f(g(x)) = g(x)^2 + g(x) = x_1^2 \\cdot cos^2(x_3) + x_1 \\cdot cos(x_3)$\n",
    "\n",
    "where $a = 3$, $b = 1$ and $c = 1$. \n",
    "\n",
    "Ideally, we would like to define $f$ and $g$ such that $f \\circ g$ is difficult to discover for symbolic regression, while $f$ and $g$ individually are easily discoverable.\n",
    "\n",
    "Let's get started!"
   ]
  },
  {
   "cell_type": "code",
   "execution_count": 1,
   "metadata": {},
   "outputs": [],
   "source": [
    "import os\n",
    "import numpy as np"
   ]
  },
  {
   "cell_type": "markdown",
   "metadata": {},
   "source": [
    "### Step 1.1: Create standard input data\n",
    "\n",
    "Since the input data in machine learning is often standardized as part of the preprocessing anyway, we simply sample from $\\mathcal{N}(0, 1)$."
   ]
  },
  {
   "cell_type": "code",
   "execution_count": 2,
   "metadata": {},
   "outputs": [],
   "source": [
    "seed = 0\n",
    "\n",
    "inputs = {\n",
    "    \"X01\": (int(1e3), 2),\n",
    "    \"X02\": (int(1e3), 2),\n",
    "    \"X03\": (int(1e3), 3),\n",
    "    \"X04\": (int(1e3), 3),\n",
    "    \"X05\": (int(1e3), 5),\n",
    "    \"X00\": (int(1e3), 2),\n",
    "    \"X06\": (int(1e3), 8),\n",
    "    \"X07\": (int(1e3), 2),\n",
    "    \"X09\": (int(1e3), 2),\n",
    "    \"X10\": (int(1e3), 2),\n",
    "}"
   ]
  },
  {
   "cell_type": "code",
   "execution_count": 3,
   "metadata": {},
   "outputs": [],
   "source": [
    "np.random.seed(seed)\n",
    "\n",
    "data = {}\n",
    "for var in inputs:\n",
    "    data[var] = np.random.normal(size=inputs[var])"
   ]
  },
  {
   "cell_type": "code",
   "execution_count": 4,
   "metadata": {},
   "outputs": [
    {
     "name": "stdout",
     "output_type": "stream",
     "text": [
      "Loaded X08 data.\n",
      "Loaded X10_100 data.\n",
      "Loaded X11 data.\n",
      "Loaded X11_100 data.\n",
      "Loaded X11_1000 data.\n",
      "Loaded X11_10000 data.\n",
      "Loaded X11_std0100 data.\n",
      "Loaded X11_std0125 data.\n",
      "Loaded X11_std0200 data.\n",
      "Loaded X11_std0300 data.\n",
      "Loaded X11_std1000 data.\n"
     ]
    }
   ],
   "source": [
    "data_path = \"data_1k\"\n",
    "data_ext = \".gz\"\n",
    "reload = False\n",
    "\n",
    "for file_name in os.listdir(data_path):\n",
    "    var = file_name.split('.')[0]\n",
    "    file_ext = file_name.split('.')[-1]\n",
    "    \n",
    "    if var[0] == \"X\" and file_ext == data_ext[1:] and (reload or var not in data):    \n",
    "        load_data = np.loadtxt(os.path.join(data_path, file_name))\n",
    "        if len(load_data.shape) == 1:\n",
    "            load_data = load_data.reshape(-1,1)\n",
    "        data[var] = load_data\n",
    "        print(f\"Loaded {var} data.\")"
   ]
  },
  {
   "cell_type": "markdown",
   "metadata": {},
   "source": [
    "### Step 1.2: Create target function data\n",
    "\n",
    "As discussed above, we want to define easily discoverable functions $f$ and $g$ where their composition $f \\circ g$ is difficult to discover for symbolic regression.\n",
    "\n",
    "Additionally, it would be good to cover different combinations of $b$ and $c$.\n",
    "\n",
    "For $b \\gt 1$, a potential issue is that there might not be a unique solution. For $a = 2$, $b = 2$, $c = 1$, the example\n",
    "\n",
    "$g(x) = [x_1^2, x_1 x_2]$\n",
    "\n",
    "$f(x) = x_1 + x_2$\n",
    "\n",
    "allows adding and subtracting any function $h(x_1)$ to $g_1$ and $g_2$ and thus, there are infinitely many solutions. Raising $c$, however, could provide more information. For example,\n",
    "\n",
    "$g(x) = [x_1^2, x_1 x_2]$\n",
    "\n",
    "$f(x) = [x_1 + x_2, x_1^2]$\n",
    "\n",
    "would avoid this issue as $g(x) = [x_1^2 + h(x_1), x_1 x_2 - h(x_1)]$ would lead to $f(g(x)) = [x_1^2 + x_1 x_2, (x_1^2 + h(x_1))^2]$.\n",
    "\n",
    "What are the available mathematical operators in PySR? See https://astroautomata.com/PySR/#/operators.\n",
    "\n",
    "* Unary: `neg`, `square`, `cube`, `exp`, `abs`, `log_abs = log(abs(x) + 1e-8)`, `log10_abs`, `log2_abs`, `log1p_abs = log(abs(x) + 1)`, `sqrt_abs = sqrt(abs(x))`, `sin`, `cos`, `tan`, `sinh`, `cosh`, `tanh`, `atan`, `asinh`, `acosh_abs`, `atanh_clip = atanh((x+1)%2 - 1)`, `erf`, `erfc`, `gamma`, `relu`, `round`, `floor`, `ceil`, `round`, `sign`\n",
    "\n",
    "* Binary: `plus`, `sub`, `mult`, `pow`, `div`, `greater`, `mod`, `logical_or`, `logical_and`\n",
    "\n",
    "We select the following operators:\n",
    "\n",
    "* Unary: `sin`, `cos`, `exp`, `log_abs`\n",
    "\n",
    "* Binary: `plus`, `sub`, `mult`, (`pow`)\n",
    "\n",
    "Additionally, we define the functionality to add Gaussian noise to each function, but we set $\\sigma^2 = 0$ for now.\n",
    "\n",
    "Functions:\n",
    "\n",
    "* $a=2$, $b=1$, $c=1$:\n",
    "\n",
    "    * $g^1(x) = x_0^2 + \\text{cos}(x_1) + x_0 \\cdot x_1$\n",
    "\n",
    "    * $f^1(y) = y^2 + y$\n",
    "\n",
    "* $a=2$, $b=3$, $c=1$:\n",
    "\n",
    "    * $g^2(x) = [x_0^2, \\text{cos}(x_1), x_0 \\cdot x_1]$\n",
    "\n",
    "    * $f^2(y) = (y_0 + y_1 + y_2)^2 + y_0 + y_1 + y_2$\n",
    "\n",
    "* $a=3$, $b=1$, $c=1$:\n",
    "\n",
    "    * $g^3(x) = \\text{sin}(x_0) \\cdot \\text{cos}(x_1) + x_2^3 + \\text{exp}(x_2)$\n",
    "\n",
    "    * $f^3(y) = y^2 + 2.745 \\cdot y$\n",
    "\n",
    "* $a=3$, $b=3$, $c=1$:\n",
    "\n",
    "    * $g^4(x) = [\\text{sin}(x_0) \\cdot \\text{cos}(x_1), x_2^3, \\text{exp}(x_2)]$\n",
    "\n",
    "    * $f^4(y) = y_0^2 + y_1 \\cdot y_2$\n",
    "\n",
    "* $a=5$, $b=3$, $c=1$:\n",
    "\n",
    "    * $g^5(x) = [x_0, x_1 \\cdot x_3^2, \\text{log}(\\text{abs}(x_3 + x_4))]$\n",
    "\n",
    "    * $f^5(x) = (y_0 + y_1) \\cdot \\text{exp}(0.31 \\cdot y_2)$\n",
    "    \n",
    "* $a=2$, $b=3$, $c=1$:\n",
    "\n",
    "    * $g^0(x) = [x_0^2, \\text{cos}(x_1), x_0 \\cdot x_1]$\n",
    "\n",
    "    * $f^0(y) = y_0 + y_1 + y_2$\n",
    "    \n",
    "* $a=8$, $b=3$, $c=1$:\n",
    "\n",
    "    * $g^6(x) = [x_0^2, \\text{cos}(x_3), x_5 \\cdot x_7]$\n",
    "\n",
    "    * $f^6(y) = y_0 + y_1 + y_2$\n",
    "    \n",
    "* $a=2$, $b=3$, $c=1$:\n",
    "\n",
    "    * $g^7(x) = [2.7 \\cdot x_0^2, 5 \\cdot \\text{cos}(3 \\cdot x_1), 4.5 \\cdot x_0 \\cdot x_1]$\n",
    "\n",
    "    * $f^7(y) = y_0 + y_1 + y_2$\n",
    "    \n",
    "* $a=2$, $b=5$, $c=1$:\n",
    "\n",
    "    * $g^9(x) = [1.5 \\cdot x_0^2, 3.5 \\cdot \\text{sin}(2.5 \\cdot x_1), 3.0 \\cdot x_0 \\cdot \\text{cos}(0.5 \\cdot x_0), x_0 \\cdot x_1, 0.5 \\cdot x_1 \\cdot \\text{exp}(x_0)]$\n",
    "\n",
    "    * $f^9(y) = y_0 + y_1 + y_2 + y_3 + y_4$"
   ]
  },
  {
   "cell_type": "code",
   "execution_count": 5,
   "metadata": {},
   "outputs": [],
   "source": [
    "fun_tups = [\n",
    "    (\"G01\", [\"X01[:,0]**2 + np.cos(X01[:,1]) + X01[:,0] * X01[:,1]\"], 0),\n",
    "    (\"F01\", [\"G01[:,0]**2 + G01[:,0]\"], 0),\n",
    "    (\"G02\", [\"X02[:,0]**2\", \"np.cos(X02[:,1])\", \"X02[:,0] * X02[:,1]\"], 0),\n",
    "    (\"F02\", [\"(G02[:,0] + G02[:,1] + G02[:,2])**2 + G02[:,0] + G02[:,1] + G02[:,2]\"], 0),\n",
    "    (\"G03\", [\"np.sin(X03[:,0]) * np.cos(X03[:,1]) + X03[:,2]**3 + np.exp(X03[:,2])\"], 0),\n",
    "    (\"F03\", [\"G03[:,0]**2 + 2.745 * G03[:,0]\"], 0),\n",
    "    (\"G04\", [\"np.sin(X04[:,0]) * np.cos(X04[:,1])\", \"X04[:,2]**3\", \"np.exp(X04[:,2])\"], 0),\n",
    "    (\"F04\", [\"G04[:,0]**2 + G04[:,1] * G04[:,2]\"], 0),\n",
    "    (\"G05\", [\"X05[:,0]\", \"X05[:,1] * X05[:,3]**2\", \"np.log(np.abs(X05[:,3] + X05[:,3]))\"], 0),\n",
    "    (\"F05\", [\"(G05[:,0] + G05[:,1]) * np.exp(0.31 * G05[:,2])\"], 0),\n",
    "    (\"G00\", [\"X00[:,0]**2\", \"np.cos(X00[:,1])\", \"X00[:,0] * X00[:,1]\"], 0),\n",
    "    (\"F00\", [\"G00[:,0] + G00[:,1] + G00[:,2]\"], 0),\n",
    "    (\"G06\", [\"X06[:,0]**2\", \"np.cos(X06[:,3])\", \"X06[:,5] * X06[:,7]\"], 0),\n",
    "    (\"F06\", [\"G06[:,0] + G06[:,1] + G06[:,2]\"], 0),\n",
    "    (\"G07\", [\"2.7*X07[:,0]**2\", \"5*np.cos(3*X07[:,1])\", \"4.5*X07[:,0]*X07[:,1]\"], 0),\n",
    "    (\"F07\", [\"G07[:,0] + G07[:,1] + G07[:,2]\"], 0),\n",
    "    (\"G09\", [\"1.5*X09[:,0]**2\", \n",
    "             \"3.5*np.sin(2.5*X09[:,1])\", \n",
    "             \"3.0*X09[:,0]*np.cos(0.5*X09[:,0])\", \n",
    "             \"X09[:,0]*X09[:,1]\",\n",
    "             \"0.5*X09[:,1]*np.exp(X09[:,0])\"], 0),\n",
    "    (\"F09\", [\"G09[:,0] + G09[:,1] + G09[:,2] + G09[:,3] + G09[:,4]\"], 0),\n",
    "    (\"G11\", [\"-0.08*(X11[:,0] + 0.165)**2 - 0.21\", \n",
    "             \"0.0785*(X11[:,0] - 0.63)**2 - 0.252\", \n",
    "             \"0.0895*(X11[:,0] + 0.21)**2 - 0.0375\"], 0),\n",
    "    (\"F11\", [\"G11[:,0] * G11[:,1] + np.sin(G11[:,2])\"], 0),\n",
    "]"
   ]
  },
  {
   "cell_type": "code",
   "execution_count": 6,
   "metadata": {},
   "outputs": [
    {
     "name": "stdout",
     "output_type": "stream",
     "text": [
      "Evaluating G01.\n",
      "Evaluating F01.\n",
      "Evaluating G02.\n",
      "Evaluating F02.\n",
      "Evaluating G03.\n",
      "Evaluating F03.\n",
      "Evaluating G04.\n",
      "Evaluating F04.\n",
      "Evaluating G05.\n",
      "Evaluating F05.\n",
      "Evaluating G00.\n",
      "Evaluating F00.\n",
      "Evaluating G06.\n",
      "Evaluating F06.\n",
      "Evaluating G07.\n",
      "Evaluating F07.\n",
      "Evaluating G09.\n",
      "Evaluating F09.\n",
      "Evaluating G11.\n",
      "Evaluating F11.\n"
     ]
    }
   ],
   "source": [
    "for fun_tup in fun_tups:\n",
    "    \n",
    "    fun_name = fun_tup[0]\n",
    "    print(f\"Evaluating {fun_name}.\")\n",
    "\n",
    "    res = []    \n",
    "    for fun in fun_tup[1]:\n",
    "        \n",
    "        # evaluate target function string\n",
    "        fun_data = eval(fun, {'np': np}, data)\n",
    "\n",
    "        # add Gaussian noise\n",
    "        fun_data += np.random.normal(scale=fun_tups[0][2], size=fun_data.shape[0])\n",
    "\n",
    "        res.append(fun_data)\n",
    "\n",
    "    data[fun_name] = np.array(res).T"
   ]
  },
  {
   "cell_type": "markdown",
   "metadata": {},
   "source": [
    "### Step 1.3: Save data"
   ]
  },
  {
   "cell_type": "code",
   "execution_count": 7,
   "metadata": {},
   "outputs": [
    {
     "name": "stdout",
     "output_type": "stream",
     "text": [
      "Saved G11 data.\n",
      "Saved F11 data.\n"
     ]
    }
   ],
   "source": [
    "data_path = \"data_1k\"\n",
    "data_ext = \".gz\"\n",
    "info_ext = \".info\"\n",
    "update = False\n",
    "\n",
    "# create data folder\n",
    "os.makedirs(data_path, exist_ok=True)\n",
    "\n",
    "# save input data\n",
    "for var in inputs:\n",
    "    if update or var + data_ext not in os.listdir(data_path):\n",
    "        np.savetxt(os.path.join(data_path, var + data_ext), data[var])\n",
    "        print(f\"Saved {var} data.\")\n",
    "\n",
    "# save target data\n",
    "for fun_tup in fun_tups:\n",
    "    var = fun_tup[0]\n",
    "    \n",
    "    if update or var + data_ext not in os.listdir(data_path):\n",
    "        np.savetxt(os.path.join(data_path, var + data_ext), data[var])\n",
    "\n",
    "        with open(os.path.join(data_path, var + info_ext), \"w\") as f:\n",
    "            for fun in fun_tup[1]:\n",
    "                f.write(fun + '\\n')\n",
    "\n",
    "            f.write(str(fun_tup[2]) + '\\n')\n",
    "\n",
    "        print(f\"Saved {var} data.\")"
   ]
  }
 ],
 "metadata": {
  "kernelspec": {
   "display_name": "Python 3 (ipykernel)",
   "language": "python",
   "name": "python3"
  },
  "language_info": {
   "codemirror_mode": {
    "name": "ipython",
    "version": 3
   },
   "file_extension": ".py",
   "mimetype": "text/x-python",
   "name": "python",
   "nbconvert_exporter": "python",
   "pygments_lexer": "ipython3",
   "version": "3.8.3"
  },
  "toc": {
   "base_numbering": 1,
   "nav_menu": {},
   "number_sections": false,
   "sideBar": true,
   "skip_h1_title": true,
   "title_cell": "Table of Contents",
   "title_sidebar": "Contents",
   "toc_cell": false,
   "toc_position": {},
   "toc_section_display": true,
   "toc_window_display": false
  },
  "vscode": {
   "interpreter": {
    "hash": "540f5367292c701f747780e6da702d3852f1c7c25c6067d18f36ab6562a2dcf2"
   }
  }
 },
 "nbformat": 4,
 "nbformat_minor": 2
}
