{
 "cells": [
  {
   "cell_type": "markdown",
   "id": "0a36d8b0",
   "metadata": {},
   "source": [
    "# 2022 Flatiron Machine Learning x Science Summer School\n",
    "\n",
    "## Step 17: Train MLP with fixed symbolic discriminator\n",
    "\n",
    "Can we utilize a fixed symbolic discriminator (SD) to incentivize quadratic latent features?"
   ]
  },
  {
   "cell_type": "code",
   "execution_count": 1,
   "id": "f3ec97ea",
   "metadata": {},
   "outputs": [],
   "source": [
    "%matplotlib widget\n",
    "%load_ext autoreload\n",
    "%autoreload 2\n",
    "\n",
    "import os\n",
    "import numpy as np\n",
    "import matplotlib.pyplot as plt\n",
    "import joblib\n",
    "\n",
    "import torch\n",
    "import torch.nn as nn\n",
    "import wandb\n",
    "\n",
    "from srnet import SRNet, SRData\n",
    "from sdnet import SDNet, SDData\n",
    "from csdnet import CSDNet\n",
    "import srnet_utils as ut"
   ]
  },
  {
   "cell_type": "markdown",
   "id": "539859f4",
   "metadata": {},
   "source": [
    "### Step 17.1: Define latent and target data on `X11`\n",
    "\n",
    "Function library `F11_v1`: `N0*0.05*(X11[:,0] + 0.5*N1)**2 + 0.15*N2`\n",
    "\n",
    "Sample coefficients for latent functions:\n",
    "\n",
    "1. `N0`: -1.60, `N1`: 0.33, `N2`: -1.40\n",
    "2. `N0`: 1.57, `N1`: -1.26, `N2`: -1.68\n",
    "3. `N0`: 1.79, `N1`: 0.42, `N2`: -0.25\n",
    "\n",
    "Resulting latent functions $g(x)$:\n",
    "\n",
    "1. `-0.08*(X11[:,0] + 0.165)**2 - 0.21`\n",
    "2. `0.0785*(X11[:,0] - 0.63)**2 - 0.252`\n",
    "3. `0.0895*(X11[:,0] + 0.21)**2 - 0.0375`\n",
    "\n",
    "A linear target function $f(x)$ would result in a quadratic composition $f(g(x))$.\n",
    "\n",
    "Thus, let's define $f(x) = x_0 \\cdot x_1 + \\text{sin}(x_2)$."
   ]
  },
  {
   "cell_type": "code",
   "execution_count": 2,
   "id": "70cc81dc",
   "metadata": {},
   "outputs": [],
   "source": [
    "# load data\n",
    "data_path = \"data_1k\"\n",
    "in_var = \"X11\"\n",
    "lat_var = \"G11\"\n",
    "target_var = \"F11\"\n",
    "\n",
    "train_data = SRData(data_path, in_var, lat_var, target_var, data_mask=None)"
   ]
  },
  {
   "cell_type": "code",
   "execution_count": 3,
   "id": "bf693e3e",
   "metadata": {},
   "outputs": [
    {
     "data": {
      "application/vnd.jupyter.widget-view+json": {
       "model_id": "21e151b19164445cb701b37ff2d83312",
       "version_major": 2,
       "version_minor": 0
      },
      "text/plain": [
       "Canvas(toolbar=Toolbar(toolitems=[('Home', 'Reset original view', 'home', 'home'), ('Back', 'Back to previous …"
      ]
     },
     "metadata": {},
     "output_type": "display_data"
    }
   ],
   "source": [
    "colors = plt.rcParams['axes.prop_cycle'].by_key()['color']\n",
    "styles = ['--', '-.', ':', '-']\n",
    "print_comp = True\n",
    "\n",
    "fig, ax = plt.subplots()\n",
    "\n",
    "ax.plot(train_data.in_data[:,0], train_data.target_data[:,0], ls=styles[-1], color=colors[0])\n",
    "\n",
    "if print_comp:\n",
    "    for i in range(train_data.lat_data.shape[1]):\n",
    "        ax.plot(train_data.in_data[:,0], train_data.lat_data[:,i], ls=styles[i], color=colors[0], alpha=0.5)\n",
    "\n",
    "plt.show()"
   ]
  },
  {
   "cell_type": "markdown",
   "id": "199d6806",
   "metadata": {},
   "source": [
    "### Step 17.2: Explore MLP training\n",
    "\n",
    "Linear SD predictions:"
   ]
  },
  {
   "cell_type": "code",
   "execution_count": 4,
   "id": "c7394963",
   "metadata": {},
   "outputs": [
    {
     "data": {
      "application/vnd.jupyter.widget-view+json": {
       "model_id": "a1226931ac444c44abe9dc0f338fa3c2",
       "version_major": 2,
       "version_minor": 0
      },
      "text/plain": [
       "Canvas(toolbar=Toolbar(toolitems=[('Home', 'Reset original view', 'home', 'home'), ('Back', 'Back to previous …"
      ]
     },
     "metadata": {},
     "output_type": "display_data"
    }
   ],
   "source": [
    "# plot losses\n",
    "save_names = [\"srnet_model_F11_v1_critic_check_lin\"]\n",
    "save_path = \"models\"\n",
    "models = ut.plot_losses(save_names, save_path=\"models\", excl_names=[])"
   ]
  },
  {
   "cell_type": "code",
   "execution_count": 5,
   "id": "dcf043b2",
   "metadata": {},
   "outputs": [],
   "source": [
    "corr_data = [(f\"g{i}\", train_data.lat_data[:,i]) for i in range(train_data.lat_data.shape[1])]"
   ]
  },
  {
   "cell_type": "code",
   "execution_count": 6,
   "id": "9f41e453",
   "metadata": {},
   "outputs": [
    {
     "name": "stdout",
     "output_type": "stream",
     "text": [
      "srnet_model_F11_v1_critic_check_lin_lr_1e-4_sd_0e0\n",
      "[0.29544127, 0.09934967, 0.081448585]\n",
      "[1, 2, 0]\n",
      "\n",
      "Node 1\n",
      "corr(n1, g0): -0.2106\n",
      "corr(n1, g1): -0.6267\n",
      "corr(n1, g2): 0.2640\n",
      "\n",
      "Node 2\n",
      "corr(n2, g0): 0.9275\n",
      "corr(n2, g1): -0.3686\n",
      "corr(n2, g2): -0.9412\n",
      "\n",
      "Node 0\n",
      "corr(n0, g0): 0.3988\n",
      "corr(n0, g1): -0.9334\n",
      "corr(n0, g2): -0.3499\n",
      "\n",
      "srnet_model_F11_v1_critic_check_lin_lr_1e-4_sd_1e-4\n",
      "[2484.077, 1887.9333, 1343.1079]\n",
      "[2, 0, 1]\n",
      "\n",
      "Node 2\n",
      "corr(n2, g0): 0.8873\n",
      "corr(n2, g1): -0.2011\n",
      "corr(n2, g2): -0.9112\n",
      "\n",
      "Node 0\n",
      "corr(n0, g0): 0.8876\n",
      "corr(n0, g1): -0.2016\n",
      "corr(n0, g2): -0.9115\n",
      "\n",
      "Node 1\n",
      "corr(n1, g0): 0.7392\n",
      "corr(n1, g1): -0.9873\n",
      "corr(n1, g2): -0.7011\n",
      "\n",
      "srnet_model_F11_v1_critic_check_lin_lr_1e-5_sd_1e-2\n",
      "[0.40147242, 0.10085495, 0.00064590725]\n",
      "[1, 0, 2]\n",
      "\n",
      "Node 1\n",
      "corr(n1, g0): 0.4345\n",
      "corr(n1, g1): -0.9728\n",
      "corr(n1, g2): -0.3843\n",
      "\n",
      "Node 0\n",
      "corr(n0, g0): 0.9776\n",
      "corr(n0, g1): -0.7717\n",
      "corr(n0, g2): -0.9651\n",
      "\n",
      "Node 2\n",
      "corr(n2, g0): -0.8806\n",
      "corr(n2, g1): 0.8234\n",
      "corr(n2, g2): 0.8601\n",
      "\n",
      "srnet_model_F11_v1_critic_check_lin_lr_1e-5_sd_1e-4\n",
      "[0.2484665, 0.21682738, 0.029780654]\n",
      "[1, 2, 0]\n",
      "\n",
      "Node 1\n",
      "corr(n1, g0): 0.3160\n",
      "corr(n1, g1): -0.9350\n",
      "corr(n1, g2): -0.2635\n",
      "\n",
      "Node 2\n",
      "corr(n2, g0): 0.8767\n",
      "corr(n2, g1): -0.1793\n",
      "corr(n2, g2): -0.9017\n",
      "\n",
      "Node 0\n",
      "corr(n0, g0): 0.9695\n",
      "corr(n0, g1): -0.7954\n",
      "corr(n0, g2): -0.9548\n",
      "\n"
     ]
    }
   ],
   "source": [
    "model_path = \"models\"\n",
    "model_ext = \".pkl\"\n",
    "\n",
    "for model_name in models:\n",
    "    print(model_name)\n",
    "    \n",
    "    model = ut.load_model(model_name + model_ext, model_path, SRNet)\n",
    "    \n",
    "    with torch.no_grad():\n",
    "        preds, acts = model(train_data.in_data, get_lat=True)\n",
    "        \n",
    "    all_nodes = ut.get_node_order(acts, show=True)\n",
    "            \n",
    "    corr_mat = ut.node_correlations(acts, all_nodes, corr_data, show=True)\n",
    "        \n",
    "    print(\"\")"
   ]
  },
  {
   "cell_type": "code",
   "execution_count": 7,
   "id": "e471b695",
   "metadata": {},
   "outputs": [],
   "source": [
    "model_name = \"srnet_model_F11_v1_critic_check_lin_lr_1e-4_sd_0e0\"\n",
    "model_path = \"models\"\n",
    "model_ext = \".pkl\"\n",
    "\n",
    "model = ut.load_model(model_name + model_ext, model_path, SRNet)\n",
    "\n",
    "with torch.no_grad():\n",
    "    bsl_preds, bsl_acts = model(train_data.in_data, get_lat=True)"
   ]
  },
  {
   "cell_type": "code",
   "execution_count": 8,
   "id": "1230e6cf",
   "metadata": {},
   "outputs": [],
   "source": [
    "model_name = \"srnet_model_F11_v1_critic_check_lin_lr_1e-5_sd_1e-4\"\n",
    "model_path = \"models\"\n",
    "model_ext = \".pkl\"\n",
    "\n",
    "model = ut.load_model(model_name + model_ext, model_path, SRNet)\n",
    "\n",
    "with torch.no_grad():\n",
    "    preds, acts = model(train_data.in_data, get_lat=True)"
   ]
  },
  {
   "cell_type": "code",
   "execution_count": 9,
   "id": "ed7a7949",
   "metadata": {},
   "outputs": [
    {
     "data": {
      "application/vnd.jupyter.widget-view+json": {
       "model_id": "db02aaa3cf604fdebcad27b8da74cc0b",
       "version_major": 2,
       "version_minor": 0
      },
      "text/plain": [
       "Canvas(toolbar=Toolbar(toolitems=[('Home', 'Reset original view', 'home', 'home'), ('Back', 'Back to previous …"
      ]
     },
     "metadata": {},
     "output_type": "display_data"
    }
   ],
   "source": [
    "fig, ax = plt.subplots()\n",
    "\n",
    "nt = 0\n",
    "na = 0\n",
    "nb = 0\n",
    "\n",
    "ax.scatter(train_data.in_data[:,0], train_data.lat_data[:,nt])\n",
    "ax.scatter(train_data.in_data[:,0], acts[:,na])\n",
    "ax.scatter(train_data.in_data[:,0], bsl_acts[:,nb])\n",
    "\n",
    "plt.show()"
   ]
  },
  {
   "cell_type": "code",
   "execution_count": 10,
   "id": "05ed8b13",
   "metadata": {},
   "outputs": [
    {
     "data": {
      "application/vnd.jupyter.widget-view+json": {
       "model_id": "363389862f854dcf99ac5fda5b071bf6",
       "version_major": 2,
       "version_minor": 0
      },
      "text/plain": [
       "Canvas(toolbar=Toolbar(toolitems=[('Home', 'Reset original view', 'home', 'home'), ('Back', 'Back to previous …"
      ]
     },
     "metadata": {},
     "output_type": "display_data"
    }
   ],
   "source": [
    "fig, ax = plt.subplots()\n",
    "\n",
    "nt = 1\n",
    "na = 1\n",
    "nb = 1\n",
    "\n",
    "ax.scatter(train_data.in_data[:,0], train_data.lat_data[:,nt])\n",
    "ax.scatter(train_data.in_data[:,0], acts[:,na])\n",
    "ax.scatter(train_data.in_data[:,0], bsl_acts[:,nb])\n",
    "\n",
    "plt.show()"
   ]
  },
  {
   "cell_type": "code",
   "execution_count": 11,
   "id": "787cc349",
   "metadata": {},
   "outputs": [
    {
     "data": {
      "application/vnd.jupyter.widget-view+json": {
       "model_id": "7acfb9e484774ac4ad42eae24acc3f50",
       "version_major": 2,
       "version_minor": 0
      },
      "text/plain": [
       "Canvas(toolbar=Toolbar(toolitems=[('Home', 'Reset original view', 'home', 'home'), ('Back', 'Back to previous …"
      ]
     },
     "metadata": {},
     "output_type": "display_data"
    }
   ],
   "source": [
    "fig, ax = plt.subplots()\n",
    "\n",
    "nt = 2\n",
    "na = 2\n",
    "nb = 2\n",
    "\n",
    "ax.scatter(train_data.in_data[:,0], train_data.lat_data[:,nt])\n",
    "ax.scatter(train_data.in_data[:,0], acts[:,na])\n",
    "ax.scatter(train_data.in_data[:,0], bsl_acts[:,nb])\n",
    "\n",
    "plt.show()"
   ]
  },
  {
   "cell_type": "code",
   "execution_count": 12,
   "id": "69ecf0ea",
   "metadata": {},
   "outputs": [
    {
     "data": {
      "application/vnd.jupyter.widget-view+json": {
       "model_id": "31b78e08d12f4e00a05fd3cac8b32784",
       "version_major": 2,
       "version_minor": 0
      },
      "text/plain": [
       "Canvas(toolbar=Toolbar(toolitems=[('Home', 'Reset original view', 'home', 'home'), ('Back', 'Back to previous …"
      ]
     },
     "metadata": {},
     "output_type": "display_data"
    }
   ],
   "source": [
    "fig, ax = plt.subplots()\n",
    "\n",
    "ax.scatter(train_data.in_data[:,0], train_data.target_data[:,0])\n",
    "ax.scatter(train_data.in_data[:,0], preds[:,0])\n",
    "\n",
    "plt.show()"
   ]
  },
  {
   "cell_type": "markdown",
   "id": "0e6ce8b1",
   "metadata": {},
   "source": [
    "Sigmoid SD predictions:"
   ]
  },
  {
   "cell_type": "code",
   "execution_count": 13,
   "id": "b451ffd0",
   "metadata": {},
   "outputs": [
    {
     "data": {
      "application/vnd.jupyter.widget-view+json": {
       "model_id": "b08fda30e8ee4da58c00d731696d9b31",
       "version_major": 2,
       "version_minor": 0
      },
      "text/plain": [
       "Canvas(toolbar=Toolbar(toolitems=[('Home', 'Reset original view', 'home', 'home'), ('Back', 'Back to previous …"
      ]
     },
     "metadata": {},
     "output_type": "display_data"
    }
   ],
   "source": [
    "# plot losses\n",
    "save_names = [\"srnet_model_F11_v1_critic_check_sig\"]\n",
    "save_path = \"models\"\n",
    "models = ut.plot_losses(save_names, save_path=\"models\", excl_names=[])"
   ]
  },
  {
   "cell_type": "code",
   "execution_count": 14,
   "id": "266d0563",
   "metadata": {},
   "outputs": [],
   "source": [
    "corr_data = [(f\"g{i}\", train_data.lat_data[:,i]) for i in range(train_data.lat_data.shape[1])]"
   ]
  },
  {
   "cell_type": "code",
   "execution_count": 15,
   "id": "c972a60f",
   "metadata": {
    "scrolled": false
   },
   "outputs": [
    {
     "name": "stdout",
     "output_type": "stream",
     "text": [
      "srnet_model_F11_v1_critic_check_sig_lr_1e-4_sd_1e0\n",
      "[0.24387582, 0.018124828, 0.0014003412]\n",
      "[1, 0, 2]\n",
      "\n",
      "Node 1\n",
      "corr(n1, g0): -0.1024\n",
      "corr(n1, g1): -0.7083\n",
      "corr(n1, g2): 0.1569\n",
      "\n",
      "Node 0\n",
      "corr(n0, g0): 0.9688\n",
      "corr(n0, g1): -0.7944\n",
      "corr(n0, g2): -0.9542\n",
      "\n",
      "Node 2\n",
      "corr(n2, g0): -0.8762\n",
      "corr(n2, g1): 0.8488\n",
      "corr(n2, g2): 0.8538\n",
      "\n",
      "srnet_model_F11_v1_critic_check_sig_lr_1e-4_sd_1e2\n",
      "[0.13236833, 0.020032948, 0.001114716]\n",
      "[1, 0, 2]\n",
      "\n",
      "Node 1\n",
      "corr(n1, g0): 0.3005\n",
      "corr(n1, g1): -0.9292\n",
      "corr(n1, g2): -0.2477\n",
      "\n",
      "Node 0\n",
      "corr(n0, g0): 0.9613\n",
      "corr(n0, g1): -0.8098\n",
      "corr(n0, g2): -0.9453\n",
      "\n",
      "Node 2\n",
      "corr(n2, g0): -0.8464\n",
      "corr(n2, g1): 0.8506\n",
      "corr(n2, g2): 0.8226\n",
      "\n",
      "srnet_model_F11_v1_critic_check_sig_lr_1e-4_sd_1e3\n",
      "[0.124692306, 0.01973096, 0.001017363]\n",
      "[1, 0, 2]\n",
      "\n",
      "Node 1\n",
      "corr(n1, g0): 0.3125\n",
      "corr(n1, g1): -0.9339\n",
      "corr(n1, g2): -0.2599\n",
      "\n",
      "Node 0\n",
      "corr(n0, g0): 0.9591\n",
      "corr(n0, g1): -0.8151\n",
      "corr(n0, g2): -0.9427\n",
      "\n",
      "Node 2\n",
      "corr(n2, g0): -0.8447\n",
      "corr(n2, g1): 0.8452\n",
      "corr(n2, g2): 0.8213\n",
      "\n",
      "srnet_model_F11_v1_critic_check_sig_lr_1e-5_sd_1e-2\n",
      "[0.38947, 0.057461224, 0.04248716]\n",
      "[1, 2, 0]\n",
      "\n",
      "Node 1\n",
      "corr(n1, g0): -0.1704\n",
      "corr(n1, g1): -0.6581\n",
      "corr(n1, g2): 0.2242\n",
      "\n",
      "Node 2\n",
      "corr(n2, g0): 0.8764\n",
      "corr(n2, g1): -0.1814\n",
      "corr(n2, g2): -0.9012\n",
      "\n",
      "Node 0\n",
      "corr(n0, g0): 0.5581\n",
      "corr(n0, g1): -0.9942\n",
      "corr(n0, g2): -0.5118\n",
      "\n"
     ]
    }
   ],
   "source": [
    "model_path = \"models\"\n",
    "model_ext = \".pkl\"\n",
    "\n",
    "for model_name in models:\n",
    "    print(model_name)\n",
    "    \n",
    "    model = ut.load_model(model_name + model_ext, model_path, SRNet)\n",
    "    \n",
    "    with torch.no_grad():\n",
    "        preds, acts = model(train_data.in_data, get_lat=True)\n",
    "        \n",
    "    all_nodes = ut.get_node_order(acts, show=True)\n",
    "            \n",
    "    corr_mat = ut.node_correlations(acts, all_nodes, corr_data, show=True)\n",
    "        \n",
    "    print(\"\")"
   ]
  },
  {
   "cell_type": "code",
   "execution_count": 16,
   "id": "3168ef39",
   "metadata": {},
   "outputs": [],
   "source": [
    "model_name = \"srnet_model_F11_v1_critic_check_sig_lr_1e-4_sd_1e3\"\n",
    "model_path = \"models\"\n",
    "model_ext = \".pkl\"\n",
    "\n",
    "model = ut.load_model(model_name + model_ext, model_path, SRNet)\n",
    "\n",
    "with torch.no_grad():\n",
    "    preds, acts = model(train_data.in_data, get_lat=True)"
   ]
  },
  {
   "cell_type": "code",
   "execution_count": 17,
   "id": "d4cf7423",
   "metadata": {},
   "outputs": [
    {
     "data": {
      "application/vnd.jupyter.widget-view+json": {
       "model_id": "3bedf47ea1c1403987ef88c0d0114f6b",
       "version_major": 2,
       "version_minor": 0
      },
      "text/plain": [
       "Canvas(toolbar=Toolbar(toolitems=[('Home', 'Reset original view', 'home', 'home'), ('Back', 'Back to previous …"
      ]
     },
     "metadata": {},
     "output_type": "display_data"
    }
   ],
   "source": [
    "fig, ax = plt.subplots()\n",
    "\n",
    "nt = 0\n",
    "na = 0\n",
    "\n",
    "ax.scatter(train_data.in_data[:,0], train_data.lat_data[:,nt])\n",
    "ax.scatter(train_data.in_data[:,0], acts[:,na])\n",
    "\n",
    "plt.show()"
   ]
  },
  {
   "cell_type": "code",
   "execution_count": 18,
   "id": "0b7d89ff",
   "metadata": {},
   "outputs": [
    {
     "data": {
      "application/vnd.jupyter.widget-view+json": {
       "model_id": "83d7c20e777a475b91bc4df879632743",
       "version_major": 2,
       "version_minor": 0
      },
      "text/plain": [
       "Canvas(toolbar=Toolbar(toolitems=[('Home', 'Reset original view', 'home', 'home'), ('Back', 'Back to previous …"
      ]
     },
     "metadata": {},
     "output_type": "display_data"
    }
   ],
   "source": [
    "fig, ax = plt.subplots()\n",
    "\n",
    "nt = 1\n",
    "na = 1\n",
    "\n",
    "ax.scatter(train_data.in_data[:,0], train_data.lat_data[:,nt])\n",
    "ax.scatter(train_data.in_data[:,0], acts[:,na])\n",
    "\n",
    "plt.show()"
   ]
  },
  {
   "cell_type": "code",
   "execution_count": 19,
   "id": "d9e0e591",
   "metadata": {},
   "outputs": [
    {
     "data": {
      "application/vnd.jupyter.widget-view+json": {
       "model_id": "6982450d157b48fcb31e1fb5799f1689",
       "version_major": 2,
       "version_minor": 0
      },
      "text/plain": [
       "Canvas(toolbar=Toolbar(toolitems=[('Home', 'Reset original view', 'home', 'home'), ('Back', 'Back to previous …"
      ]
     },
     "metadata": {},
     "output_type": "display_data"
    }
   ],
   "source": [
    "fig, ax = plt.subplots()\n",
    "\n",
    "nt = 2\n",
    "na = 2\n",
    "\n",
    "ax.scatter(train_data.in_data[:,0], train_data.lat_data[:,nt])\n",
    "ax.scatter(train_data.in_data[:,0], acts[:,na])\n",
    "\n",
    "plt.show()"
   ]
  },
  {
   "cell_type": "code",
   "execution_count": 20,
   "id": "61f10e03",
   "metadata": {},
   "outputs": [
    {
     "data": {
      "application/vnd.jupyter.widget-view+json": {
       "model_id": "43000bec936f4f4ca3a79cd9c0578376",
       "version_major": 2,
       "version_minor": 0
      },
      "text/plain": [
       "Canvas(toolbar=Toolbar(toolitems=[('Home', 'Reset original view', 'home', 'home'), ('Back', 'Back to previous …"
      ]
     },
     "metadata": {},
     "output_type": "display_data"
    }
   ],
   "source": [
    "fig, ax = plt.subplots()\n",
    "\n",
    "ax.scatter(train_data.in_data[:,0], train_data.target_data[:,0])\n",
    "ax.scatter(train_data.in_data[:,0], preds[:,0])\n",
    "\n",
    "plt.show()"
   ]
  },
  {
   "cell_type": "markdown",
   "id": "7c919477",
   "metadata": {},
   "source": [
    "### Step 17.3: Run hyperparameter study"
   ]
  },
  {
   "cell_type": "code",
   "execution_count": 21,
   "id": "6d48a24f",
   "metadata": {},
   "outputs": [],
   "source": [
    "# set wandb project\n",
    "wandb_project = \"173-fixed-critic-study-F11_v1\""
   ]
  },
  {
   "cell_type": "code",
   "execution_count": 22,
   "id": "3c3a8243",
   "metadata": {},
   "outputs": [],
   "source": [
    "# hyperparams = {\n",
    "#     \"arch\": {\n",
    "#         \"in_size\": train_data.in_data.shape[1],\n",
    "#         \"out_size\": train_data.target_data.shape[1],\n",
    "#         \"hid_num\": (2, 2),\n",
    "#         \"hid_size\": (32, 32), \n",
    "#         \"hid_type\": (\"MLP\", \"MLP\"),\n",
    "#         \"hid_kwargs\": {\n",
    "#             \"alpha\": None,\n",
    "#             \"norm\": None,\n",
    "#             \"prune\": None,\n",
    "#             },\n",
    "#         \"lat_size\": 3,\n",
    "#         },\n",
    "#     \"epochs\": 20000,\n",
    "#     \"runtime\": None,\n",
    "#     \"batch_size\": train_data.in_data.shape[0],\n",
    "#     \"shuffle\": False,\n",
    "#     \"lr\": 1e-4,\n",
    "#     \"wd\": 1e-7,\n",
    "#     \"l1\": 0.0,\n",
    "#     \"a1\": 0.0,\n",
    "#     \"a2\": 0.0,\n",
    "#     \"e1\": 0.0,\n",
    "#     \"e2\": 0.0,\n",
    "#     \"e3\": 0.0,\n",
    "#     \"gc\": 0.0,\n",
    "#     \"sd\": 1e-4,\n",
    "#     \"sd_fun\": \"linear\",\n",
    "#     # \"ext\": None,\n",
    "#     # \"ext_type\": None,\n",
    "#     # \"ext_size\": 0,\n",
    "#     # \"disc\": {\n",
    "#     #     \"hid_num\": 1,\n",
    "#     #     \"hid_size\": 64,\n",
    "#     #     \"lr\": 1e-4,\n",
    "#     #     \"wd\": 1e-7,\n",
    "#     #     \"betas\": (0.9,0.999),\n",
    "#     #     \"iters\": 5,\n",
    "#     #     \"gp\": 0.0,\n",
    "#     #     \"loss_fun\": \"BCE\",\n",
    "#     # },\n",
    "# }"
   ]
  },
  {
   "cell_type": "code",
   "execution_count": 23,
   "id": "635b6c94",
   "metadata": {},
   "outputs": [],
   "source": [
    "# define hyperparameter study\n",
    "hp_study = {\n",
    "    \"method\": \"random\",\n",
    "    \"parameters\": {\n",
    "        \"arch\": {\n",
    "            \"parameters\": {\n",
    "                \"in_size\": {\n",
    "                    \"values\": [1]\n",
    "                },\n",
    "                \"out_size\": {\n",
    "                    \"values\": [1]\n",
    "                },\n",
    "                \"hid_num\": {\n",
    "                    \"values\": [1, 2, 4]\n",
    "                },\n",
    "                \"hid_size\": {\n",
    "                    \"values\": [32, 64]\n",
    "                },\n",
    "                \"lat_size\": {\n",
    "                    \"values\": [3]\n",
    "                },\n",
    "            }\n",
    "        },\n",
    "        \"lr\": {\n",
    "            \"values\": [1e-6, 1e-5, 1e-4, 1e-3]\n",
    "        },\n",
    "        \"sd\": {\n",
    "            \"values\": [1e-5, 1e-4, 1e-3, 1e-2]\n",
    "        },\n",
    "    }\n",
    "}"
   ]
  },
  {
   "cell_type": "code",
   "execution_count": null,
   "id": "bd56d95e",
   "metadata": {},
   "outputs": [],
   "source": [
    "# create sweep\n",
    "sweep_id = wandb.sweep(hp_study, project=wandb_project)"
   ]
  },
  {
   "cell_type": "code",
   "execution_count": 24,
   "id": "87513d31",
   "metadata": {},
   "outputs": [],
   "source": [
    "# hyperparams = {\n",
    "#     \"arch\": {\n",
    "#         \"in_size\": train_data.in_data.shape[1],\n",
    "#         \"out_size\": train_data.target_data.shape[1],\n",
    "#         \"hid_num\": (2, 2),\n",
    "#         \"hid_size\": (32, 32), \n",
    "#         \"hid_type\": (\"MLP\", \"MLP\"),\n",
    "#         \"hid_kwargs\": {\n",
    "#             \"alpha\": None,\n",
    "#             \"norm\": None,\n",
    "#             \"prune\": None,\n",
    "#             },\n",
    "#         \"lat_size\": 3,\n",
    "#         },\n",
    "#     \"epochs\": 20000,\n",
    "#     \"runtime\": None,\n",
    "#     \"batch_size\": train_data.in_data.shape[0],\n",
    "#     \"shuffle\": False,\n",
    "#     \"lr\": 1e-4,\n",
    "#     \"wd\": 1e-7,\n",
    "#     \"l1\": 0.0,\n",
    "#     \"a1\": 0.0,\n",
    "#     \"a2\": 0.0,\n",
    "#     \"e1\": 0.0,\n",
    "#     \"e2\": 0.0,\n",
    "#     \"e3\": 0.0,\n",
    "#     \"gc\": 0.0,\n",
    "#     \"sd\": 1e-4,\n",
    "#     \"sd_fun\": \"sigmoid\",\n",
    "#     # \"ext\": None,\n",
    "#     # \"ext_type\": None,\n",
    "#     # \"ext_size\": 0,\n",
    "#     # \"disc\": {\n",
    "#     #     \"hid_num\": 1,\n",
    "#     #     \"hid_size\": 64,\n",
    "#     #     \"lr\": 1e-4,\n",
    "#     #     \"wd\": 1e-7,\n",
    "#     #     \"betas\": (0.9,0.999),\n",
    "#     #     \"iters\": 5,\n",
    "#     #     \"gp\": 0.0,\n",
    "#     #     \"loss_fun\": \"BCE\",\n",
    "#     # },\n",
    "# }"
   ]
  },
  {
   "cell_type": "code",
   "execution_count": 25,
   "id": "8b271795",
   "metadata": {},
   "outputs": [],
   "source": [
    "# define hyperparameter study\n",
    "hp_study = {\n",
    "    \"method\": \"random\",\n",
    "    \"parameters\": {\n",
    "        \"arch\": {\n",
    "            \"parameters\": {\n",
    "                \"in_size\": {\n",
    "                    \"values\": [1]\n",
    "                },\n",
    "                \"out_size\": {\n",
    "                    \"values\": [1]\n",
    "                },\n",
    "                \"hid_num\": {\n",
    "                    \"values\": [1, 2, 4]\n",
    "                },\n",
    "                \"hid_size\": {\n",
    "                    \"values\": [32, 64]\n",
    "                },\n",
    "                \"lat_size\": {\n",
    "                    \"values\": [3]\n",
    "                },\n",
    "            }\n",
    "        },\n",
    "        \"lr\": {\n",
    "            \"values\": [1e-6, 1e-5, 1e-4, 1e-3]\n",
    "        },\n",
    "        \"sd\": {\n",
    "            \"values\": [1e0, 1e1, 1e2, 1e3]\n",
    "        },\n",
    "    }\n",
    "}"
   ]
  },
  {
   "cell_type": "code",
   "execution_count": null,
   "id": "bdd2bb7a",
   "metadata": {},
   "outputs": [],
   "source": [
    "# create sweep\n",
    "sweep_id = wandb.sweep(hp_study, project=wandb_project)"
   ]
  },
  {
   "cell_type": "markdown",
   "id": "ebe374c1",
   "metadata": {},
   "source": [
    "**Linear**:\n",
    "\n",
    "<img src=\"results/173-fixed-critic-study-F11_v1_lin2.png\">"
   ]
  },
  {
   "cell_type": "markdown",
   "id": "bbca28cf",
   "metadata": {},
   "source": [
    "**Sigmoid**:\n",
    "\n",
    "<img src=\"results/173-fixed-critic-study-F11_v1_sig2.png\">"
   ]
  },
  {
   "cell_type": "markdown",
   "id": "1a5d3993",
   "metadata": {},
   "source": [
    "Utilizing **sigmoid** predictions yields lower validation errors and more runs with a `min_corr` value of 87% or higher.\n",
    "\n",
    "One concern w.r.t. **linear** predictions is that positive predictions are maximized and taken into focus instead of minimizing the validation loss. Additionally, due to using sigmoid in critic training, a critic prediction of 1000 is not more certain than one of 100.\n",
    "\n",
    "On the other hand, utilizing **sigmoid** predictions, once the latent features reach a certain similarity to the real data, there is basically no feedback from the critic anymore."
   ]
  },
  {
   "cell_type": "code",
   "execution_count": 34,
   "id": "ac1852bc",
   "metadata": {},
   "outputs": [
    {
     "data": {
      "application/vnd.jupyter.widget-view+json": {
       "model_id": "af2a06927be14a809346dfd09f8fa90e",
       "version_major": 2,
       "version_minor": 0
      },
      "text/plain": [
       "Canvas(toolbar=Toolbar(toolitems=[('Home', 'Reset original view', 'home', 'home'), ('Back', 'Back to previous …"
      ]
     },
     "metadata": {},
     "output_type": "display_data"
    }
   ],
   "source": [
    "# plot losses\n",
    "save_names = [\"srnet_model_F11_v1_critic_study\"]\n",
    "save_path = \"models\"\n",
    "models = ut.plot_losses(save_names, save_path=\"models\", excl_names=[], log=False)"
   ]
  },
  {
   "cell_type": "code",
   "execution_count": 28,
   "id": "223e0f7d",
   "metadata": {},
   "outputs": [],
   "source": [
    "corr_data = [(f\"g{i}\", train_data.lat_data[:,i]) for i in range(train_data.lat_data.shape[1])]"
   ]
  },
  {
   "cell_type": "code",
   "execution_count": 29,
   "id": "a29ed080",
   "metadata": {},
   "outputs": [
    {
     "name": "stdout",
     "output_type": "stream",
     "text": [
      "srnet_model_F11_v1_critic_study_lin_v1\n",
      "[43267.44, 18236.11, 6458.543]\n",
      "[0, 2, 1]\n",
      "\n",
      "Node 0\n",
      "corr(n0, g0): 0.5264\n",
      "corr(n0, g1): -0.9900\n",
      "corr(n0, g2): -0.4790\n",
      "\n",
      "Node 2\n",
      "corr(n2, g0): 0.4867\n",
      "corr(n2, g1): -0.9836\n",
      "corr(n2, g2): -0.4380\n",
      "\n",
      "Node 1\n",
      "corr(n1, g0): 0.4786\n",
      "corr(n1, g1): -0.9820\n",
      "corr(n1, g2): -0.4297\n",
      "\n",
      "srnet_model_F11_v1_critic_study_lin_v2\n",
      "[1.0286546, 0.9936166, 0.5156132]\n",
      "[2, 1, 0]\n",
      "\n",
      "Node 2\n",
      "corr(n2, g0): 0.9013\n",
      "corr(n2, g1): -0.2320\n",
      "corr(n2, g2): -0.9237\n",
      "\n",
      "Node 1\n",
      "corr(n1, g0): 0.4617\n",
      "corr(n1, g1): -0.9793\n",
      "corr(n1, g2): -0.4123\n",
      "\n",
      "Node 0\n",
      "corr(n0, g0): 0.8877\n",
      "corr(n0, g1): -0.2018\n",
      "corr(n0, g2): -0.9116\n",
      "\n",
      "srnet_model_F11_v1_critic_study_sig_v1\n",
      "[0.041821864, 0.03000773, 0.024630899]\n",
      "[0, 2, 1]\n",
      "\n",
      "Node 0\n",
      "corr(n0, g0): -0.9895\n",
      "corr(n0, g1): 0.5193\n",
      "corr(n0, g2): 0.9953\n",
      "\n",
      "Node 2\n",
      "corr(n2, g0): 0.9962\n",
      "corr(n2, g1): -0.6546\n",
      "corr(n2, g2): -0.9927\n",
      "\n",
      "Node 1\n",
      "corr(n1, g0): -0.9944\n",
      "corr(n1, g1): 0.5685\n",
      "corr(n1, g2): 0.9970\n",
      "\n",
      "srnet_model_F11_v1_critic_study_sig_v2\n",
      "[0.025904426, 0.021181995, 0.020423802]\n",
      "[0, 1, 2]\n",
      "\n",
      "Node 0\n",
      "corr(n0, g0): -0.9950\n",
      "corr(n0, g1): 0.5788\n",
      "corr(n0, g2): 0.9968\n",
      "\n",
      "Node 1\n",
      "corr(n1, g0): -0.9967\n",
      "corr(n1, g1): 0.6196\n",
      "corr(n1, g2): 0.9957\n",
      "\n",
      "Node 2\n",
      "corr(n2, g0): 0.9815\n",
      "corr(n2, g1): -0.7492\n",
      "corr(n2, g2): -0.9707\n",
      "\n"
     ]
    }
   ],
   "source": [
    "model_path = \"models\"\n",
    "model_ext = \".pkl\"\n",
    "\n",
    "for model_name in models:\n",
    "    print(model_name)\n",
    "    \n",
    "    model = ut.load_model(model_name + model_ext, model_path, SRNet)\n",
    "    \n",
    "    with torch.no_grad():\n",
    "        preds, acts = model(train_data.in_data, get_lat=True)\n",
    "        \n",
    "    all_nodes = ut.get_node_order(acts, show=True)\n",
    "            \n",
    "    corr_mat = ut.node_correlations(acts, all_nodes, corr_data, show=True)\n",
    "        \n",
    "    print(\"\")"
   ]
  },
  {
   "cell_type": "code",
   "execution_count": 35,
   "id": "bb1e4a03",
   "metadata": {},
   "outputs": [],
   "source": [
    "model_name = \"srnet_model_F11_v1_critic_study_sig_v1\"\n",
    "model_path = \"models\"\n",
    "model_ext = \".pkl\"\n",
    "\n",
    "model = ut.load_model(model_name + model_ext, model_path, SRNet)\n",
    "\n",
    "with torch.no_grad():\n",
    "    preds, acts = model(train_data.in_data, get_lat=True)"
   ]
  },
  {
   "cell_type": "code",
   "execution_count": 36,
   "id": "0fa50d91",
   "metadata": {},
   "outputs": [
    {
     "data": {
      "application/vnd.jupyter.widget-view+json": {
       "model_id": "1c3d7892b3af4c4faf1cbb4ad513fd81",
       "version_major": 2,
       "version_minor": 0
      },
      "text/plain": [
       "Canvas(toolbar=Toolbar(toolitems=[('Home', 'Reset original view', 'home', 'home'), ('Back', 'Back to previous …"
      ]
     },
     "metadata": {},
     "output_type": "display_data"
    }
   ],
   "source": [
    "fig, ax = plt.subplots()\n",
    "\n",
    "nt = 0\n",
    "na = 0\n",
    "\n",
    "ax.scatter(train_data.in_data[:,0], train_data.lat_data[:,nt])\n",
    "ax.scatter(train_data.in_data[:,0], acts[:,na])\n",
    "\n",
    "plt.show()"
   ]
  },
  {
   "cell_type": "code",
   "execution_count": 37,
   "id": "ef47ca5c",
   "metadata": {},
   "outputs": [
    {
     "data": {
      "application/vnd.jupyter.widget-view+json": {
       "model_id": "25ed97f80fed4d67a86d27e273163f16",
       "version_major": 2,
       "version_minor": 0
      },
      "text/plain": [
       "Canvas(toolbar=Toolbar(toolitems=[('Home', 'Reset original view', 'home', 'home'), ('Back', 'Back to previous …"
      ]
     },
     "metadata": {},
     "output_type": "display_data"
    }
   ],
   "source": [
    "fig, ax = plt.subplots()\n",
    "\n",
    "nt = 1\n",
    "na = 1\n",
    "\n",
    "ax.scatter(train_data.in_data[:,0], train_data.lat_data[:,nt])\n",
    "ax.scatter(train_data.in_data[:,0], acts[:,na])\n",
    "\n",
    "plt.show()"
   ]
  },
  {
   "cell_type": "code",
   "execution_count": 38,
   "id": "b4022134",
   "metadata": {},
   "outputs": [
    {
     "name": "stderr",
     "output_type": "stream",
     "text": [
      "/tmp/ipykernel_3112/3239956421.py:1: RuntimeWarning: More than 20 figures have been opened. Figures created through the pyplot interface (`matplotlib.pyplot.figure`) are retained until explicitly closed and may consume too much memory. (To control this warning, see the rcParam `figure.max_open_warning`).\n",
      "  fig, ax = plt.subplots()\n"
     ]
    },
    {
     "data": {
      "application/vnd.jupyter.widget-view+json": {
       "model_id": "44ded694472244b7918036c57ce9dd2c",
       "version_major": 2,
       "version_minor": 0
      },
      "text/plain": [
       "Canvas(toolbar=Toolbar(toolitems=[('Home', 'Reset original view', 'home', 'home'), ('Back', 'Back to previous …"
      ]
     },
     "metadata": {},
     "output_type": "display_data"
    }
   ],
   "source": [
    "fig, ax = plt.subplots()\n",
    "\n",
    "nt = 2\n",
    "na = 2\n",
    "\n",
    "ax.scatter(train_data.in_data[:,0], train_data.lat_data[:,nt])\n",
    "ax.scatter(train_data.in_data[:,0], acts[:,na])\n",
    "\n",
    "plt.show()"
   ]
  },
  {
   "cell_type": "code",
   "execution_count": 39,
   "id": "fa57540f",
   "metadata": {},
   "outputs": [
    {
     "data": {
      "application/vnd.jupyter.widget-view+json": {
       "model_id": "aedc2ff21e724a7aa6ec6152999dca17",
       "version_major": 2,
       "version_minor": 0
      },
      "text/plain": [
       "Canvas(toolbar=Toolbar(toolitems=[('Home', 'Reset original view', 'home', 'home'), ('Back', 'Back to previous …"
      ]
     },
     "metadata": {},
     "output_type": "display_data"
    }
   ],
   "source": [
    "fig, ax = plt.subplots()\n",
    "\n",
    "ax.scatter(train_data.in_data[:,0], train_data.target_data[:,0])\n",
    "ax.scatter(train_data.in_data[:,0], preds[:,0])\n",
    "\n",
    "plt.show()"
   ]
  },
  {
   "cell_type": "markdown",
   "id": "d0dbac29",
   "metadata": {},
   "source": [
    "Learning quadratic latent features works well, however, since we are not learning the exact underlying quadratic functions (but transformations of these), discovering the nonlinear function $f(x)$ might be difficult."
   ]
  },
  {
   "cell_type": "code",
   "execution_count": null,
   "id": "596c5880",
   "metadata": {},
   "outputs": [],
   "source": [
    "# ut.save_preds(preds, \"F11_p1\", \"data_1k\", model_name)"
   ]
  },
  {
   "cell_type": "code",
   "execution_count": null,
   "id": "d1d0a1c9",
   "metadata": {},
   "outputs": [],
   "source": [
    "# ut.save_preds(acts, \"G11_p1\", \"data_1k\", model_name)"
   ]
  }
 ],
 "metadata": {
  "kernelspec": {
   "display_name": "Python 3 (ipykernel)",
   "language": "python",
   "name": "python3"
  },
  "language_info": {
   "codemirror_mode": {
    "name": "ipython",
    "version": 3
   },
   "file_extension": ".py",
   "mimetype": "text/x-python",
   "name": "python",
   "nbconvert_exporter": "python",
   "pygments_lexer": "ipython3",
   "version": "3.8.3"
  },
  "toc": {
   "base_numbering": 1,
   "nav_menu": {},
   "number_sections": false,
   "sideBar": true,
   "skip_h1_title": true,
   "title_cell": "Table of Contents",
   "title_sidebar": "Contents",
   "toc_cell": false,
   "toc_position": {},
   "toc_section_display": true,
   "toc_window_display": false
  }
 },
 "nbformat": 4,
 "nbformat_minor": 5
}
