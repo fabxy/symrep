{
 "cells": [
  {
   "cell_type": "markdown",
   "id": "895ca4be",
   "metadata": {},
   "source": [
    "# 2022 Flatiron Machine Learning x Science Summer School\n",
    "\n",
    "## Step 4: Train MLP with $L_1$ regularization on latent features"
   ]
  },
  {
   "cell_type": "markdown",
   "id": "390e36a0",
   "metadata": {},
   "source": [
    "### Step 4.1: Check $L_1$ regularization parameter"
   ]
  },
  {
   "cell_type": "code",
   "execution_count": 1,
   "id": "f72d1241",
   "metadata": {},
   "outputs": [],
   "source": [
    "%matplotlib widget\n",
    "%load_ext autoreload\n",
    "%autoreload 2\n",
    "\n",
    "import os\n",
    "import numpy as np\n",
    "import matplotlib.pyplot as plt\n",
    "import joblib\n",
    "\n",
    "import torch\n",
    "import wandb\n",
    "\n",
    "from srnet import SRNet, SRData\n",
    "import srnet_utils as ut"
   ]
  },
  {
   "cell_type": "code",
   "execution_count": 2,
   "id": "58e0538a",
   "metadata": {},
   "outputs": [],
   "source": [
    "# set wandb project\n",
    "wandb_project = \"41-l1-study-F00\""
   ]
  },
  {
   "cell_type": "code",
   "execution_count": 3,
   "id": "1595d1b9",
   "metadata": {},
   "outputs": [],
   "source": [
    "# define hyperparameters\n",
    "# hyperparams = {\n",
    "#     \"arch\": {\n",
    "#         \"in_size\": train_data.in_data.shape[1],\n",
    "#         \"out_size\": train_data.target_data.shape[1],\n",
    "#         \"hid_num\": (2,0),\n",
    "#         \"hid_size\": 32, \n",
    "#         \"hid_type\": \"MLP\",\n",
    "#         \"lat_size\": 16,\n",
    "#         },\n",
    "#     \"epochs\": 10000,\n",
    "#     \"runtime\": None,\n",
    "#     \"batch_size\": 64,\n",
    "#     \"lr\": 1e-4,\n",
    "#     \"wd\": 1e-4,\n",
    "#     \"l1\": 0.0,\n",
    "#     \"shuffle\": True,\n",
    "# }"
   ]
  },
  {
   "cell_type": "code",
   "execution_count": 4,
   "id": "117a8518",
   "metadata": {},
   "outputs": [],
   "source": [
    "# define hyperparameter study\n",
    "hp_study = {\n",
    "    \"method\": \"grid\", # random, bayesian\n",
    "    #\"metric\": {\n",
    "    #    \"name\": \"val_loss\",\n",
    "    #    \"goal\": \"minimize\",\n",
    "    #},\n",
    "    \"parameters\": {\n",
    "        \"l1\": {\n",
    "            \"values\": [1e-6, 1e-4, 1e-2, 1e-1]\n",
    "        }\n",
    "    }\n",
    "}"
   ]
  },
  {
   "cell_type": "code",
   "execution_count": null,
   "id": "7f73ef9c",
   "metadata": {},
   "outputs": [],
   "source": [
    "# create sweep\n",
    "sweep_id = wandb.sweep(hp_study, project=wandb_project)"
   ]
  },
  {
   "cell_type": "code",
   "execution_count": null,
   "id": "0b74b87e",
   "metadata": {},
   "outputs": [],
   "source": [
    "# download data from wandb\n",
    "file_ext = \".pkl\"\n",
    "\n",
    "api = wandb.Api()\n",
    "\n",
    "runs = api.runs(wandb_project)\n",
    "for run in runs:\n",
    "    for f in run.files():\n",
    "        if f.name[-len(file_ext):] == file_ext and not os.path.isfile(f.name):\n",
    "            print(f\"Downloading {os.path.basename(f.name)}.\")\n",
    "            run.file(f.name).download()"
   ]
  },
  {
   "cell_type": "code",
   "execution_count": 6,
   "id": "27425476",
   "metadata": {},
   "outputs": [
    {
     "data": {
      "application/vnd.jupyter.widget-view+json": {
       "model_id": "4435a71fdf184bbd9aecb1e51bb67776",
       "version_major": 2,
       "version_minor": 0
      },
      "text/plain": [
       "Canvas(toolbar=Toolbar(toolitems=[('Home', 'Reset original view', 'home', 'home'), ('Back', 'Back to previous …"
      ]
     },
     "metadata": {},
     "output_type": "display_data"
    }
   ],
   "source": [
    "# plot losses\n",
    "save_names = [\"F00_l1\", \"F00_conv1k\"]\n",
    "save_path = \"models\"\n",
    "ut.plot_losses(save_names, save_path=\"models\", excl_names=[\"gc\"]);"
   ]
  },
  {
   "cell_type": "code",
   "execution_count": null,
   "id": "3b0d1113",
   "metadata": {},
   "outputs": [],
   "source": [
    "# print losses\n",
    "states = {}\n",
    "for save_name in save_names:\n",
    "    for file_name in sorted(os.listdir(save_path)):\n",
    "        if save_name in file_name:\n",
    "            state = joblib.load(os.path.join(save_path, file_name))\n",
    "            print(f\"{file_name.split('.')[0].split('_')[-1]}:\\t{state['total_train_loss']:.3e} {state['total_val_loss']:.3e}\")"
   ]
  },
  {
   "cell_type": "markdown",
   "id": "d1fcc1db",
   "metadata": {},
   "source": [
    "Notes:\n",
    "\n",
    "* A $L_1$ regularization parameter of `1e-3` seems to be an optimum for the validation error"
   ]
  },
  {
   "cell_type": "code",
   "execution_count": null,
   "id": "5f5b78ba",
   "metadata": {},
   "outputs": [],
   "source": [
    "# load data\n",
    "data_path = \"data_1k\"\n",
    "\n",
    "in_var = \"X00\"\n",
    "lat_var = \"G00\"\n",
    "target_var = \"F00\"\n",
    "\n",
    "mask_ext = \".mask\"\n",
    "masks = joblib.load(os.path.join(data_path, in_var + mask_ext))     # TODO: create mask if file does not exist\n",
    "\n",
    "train_data = SRData(data_path, in_var, lat_var, target_var, masks[\"train\"])\n",
    "val_data = SRData(data_path, in_var, lat_var, target_var, masks[\"val\"])"
   ]
  },
  {
   "cell_type": "code",
   "execution_count": null,
   "id": "cf5019e2",
   "metadata": {},
   "outputs": [],
   "source": [
    "# latent feature variance overview\n",
    "model_path = \"models\"\n",
    "model_ext = \".pkl\"\n",
    "\n",
    "models = [\n",
    "    \"srnet_model_F00_conv1k\",\n",
    "    \"srnet_model_F00_l1_1e-06\",\n",
    "    \"srnet_model_F00_l1_1e-04\",\n",
    "    \"srnet_model_F00_l1_1e-03\",\n",
    "    \"srnet_model_F00_l1_1e-02\",\n",
    "    \"srnet_model_F00_l1_1e-01\",\n",
    "]\n",
    "\n",
    "for model_name in models:\n",
    "    print(model_name)\n",
    "    model = ut.load_model(model_name + model_ext, model_path, SRNet)\n",
    "    \n",
    "    with torch.no_grad():\n",
    "        preds, acts = model(train_data.in_data, get_lat=True)\n",
    "        \n",
    "    all_nodes = ut.get_node_order(acts, show=True)\n",
    "    print(\"\")"
   ]
  },
  {
   "cell_type": "markdown",
   "id": "a32de60d",
   "metadata": {},
   "source": [
    "Notes:\n",
    "\n",
    "* A $L_1$ regularization parameter of `1e-3` yields three high variance latent features"
   ]
  },
  {
   "cell_type": "code",
   "execution_count": null,
   "id": "f1c2544e",
   "metadata": {},
   "outputs": [],
   "source": [
    "model_name = \"srnet_model_F00_l1_1e-03\"\n",
    "\n",
    "model = ut.load_model(model_name + model_ext, model_path, SRNet)\n",
    "\n",
    "with torch.no_grad():\n",
    "    preds, acts = model(train_data.in_data, get_lat=True)\n",
    "    \n",
    "all_nodes = ut.get_node_order(acts, show=True)"
   ]
  },
  {
   "cell_type": "code",
   "execution_count": null,
   "id": "2bbc93c9",
   "metadata": {},
   "outputs": [],
   "source": [
    "nodes = all_nodes[:3]"
   ]
  },
  {
   "cell_type": "code",
   "execution_count": null,
   "id": "d8941821",
   "metadata": {},
   "outputs": [],
   "source": [
    "# select plotting data\n",
    "x_data = train_data.in_data[:,0]\n",
    "y_data = train_data.in_data[:,1]\n",
    "z_data = [\n",
    "    (\"target\", train_data.target_data),\n",
    "    #(\"x**2\", x_data**2), \n",
    "    #(\"cos(y)\", np.cos(y_data)), \n",
    "    #(\"x*y\", x_data * y_data),\n",
    "]\n",
    "plot_size = train_data.target_data.shape[0]"
   ]
  },
  {
   "cell_type": "code",
   "execution_count": null,
   "id": "24d2295a",
   "metadata": {},
   "outputs": [],
   "source": [
    "ut.plot_acts(x_data, y_data, z_data, acts=acts, nodes=nodes, model=model, agg=False, plot_size=plot_size)"
   ]
  },
  {
   "cell_type": "code",
   "execution_count": null,
   "id": "97920dac",
   "metadata": {},
   "outputs": [],
   "source": [
    "corr_data = [\n",
    "    (\"x**2\", x_data**2), \n",
    "    (\"cos(y)\", np.cos(y_data)), \n",
    "    (\"x*y\", x_data * y_data),\n",
    "]"
   ]
  },
  {
   "cell_type": "code",
   "execution_count": null,
   "id": "98c12536",
   "metadata": {},
   "outputs": [],
   "source": [
    "ut.node_correlations(acts, nodes, corr_data, nonzero=True)"
   ]
  },
  {
   "cell_type": "markdown",
   "id": "5bc2da08",
   "metadata": {},
   "source": [
    "Notes:\n",
    "\n",
    "* The high variance latent features do not split into the desired latent functions"
   ]
  },
  {
   "cell_type": "markdown",
   "id": "b8c98f47",
   "metadata": {},
   "source": [
    "### Step 4.1: Train MLP with $L_1$ regularization for `F06`"
   ]
  },
  {
   "cell_type": "code",
   "execution_count": 7,
   "id": "74e48a03",
   "metadata": {},
   "outputs": [],
   "source": [
    "# set wandb project\n",
    "wandb_project = \"42-l1-study-F06\""
   ]
  },
  {
   "cell_type": "code",
   "execution_count": 3,
   "id": "771f5b46",
   "metadata": {},
   "outputs": [],
   "source": [
    "# define hyperparameters\n",
    "# hyperparams = {\n",
    "#     \"arch\": {\n",
    "#         \"in_size\": train_data.in_data.shape[1],\n",
    "#         \"out_size\": train_data.target_data.shape[1],\n",
    "#         \"hid_num\": (2,0),\n",
    "#         \"hid_size\": 32, \n",
    "#         \"hid_type\": \"MLP\",\n",
    "#         \"lat_size\": 16,\n",
    "#         },\n",
    "#     \"epochs\": 10000,\n",
    "#     \"runtime\": None,\n",
    "#     \"batch_size\": 64,\n",
    "#     \"lr\": 1e-4,\n",
    "#     \"wd\": 1e-4,\n",
    "#     \"l1\": 0.0,\n",
    "#     \"a1\": 0.0,\n",
    "#     \"a2\": 0.0,\n",
    "#     \"gc\": 0.0,\n",
    "#     \"shuffle\": True,\n",
    "# }"
   ]
  },
  {
   "cell_type": "code",
   "execution_count": 8,
   "id": "e0acdd69",
   "metadata": {},
   "outputs": [],
   "source": [
    "# define hyperparameter study\n",
    "hp_study = {\n",
    "    \"method\": \"grid\", # random, bayesian\n",
    "    #\"metric\": {\n",
    "    #    \"name\": \"val_loss\",\n",
    "    #    \"goal\": \"minimize\",\n",
    "    #},\n",
    "    \"parameters\": {\n",
    "        \"l1\": {\n",
    "            \"values\": [1e-4, 1e-3, 1e-2]\n",
    "        }\n",
    "    }\n",
    "}"
   ]
  },
  {
   "cell_type": "code",
   "execution_count": 9,
   "id": "96fd007a",
   "metadata": {},
   "outputs": [
    {
     "name": "stdout",
     "output_type": "stream",
     "text": [
      "Create sweep with ID: cuusilho\n",
      "Sweep URL: https://wandb.ai/fabxy/42-l1-study-F06/sweeps/cuusilho\n"
     ]
    }
   ],
   "source": [
    "# create sweep\n",
    "sweep_id = wandb.sweep(hp_study, project=wandb_project)"
   ]
  },
  {
   "cell_type": "code",
   "execution_count": 34,
   "id": "c98fb3b9",
   "metadata": {},
   "outputs": [
    {
     "name": "stdout",
     "output_type": "stream",
     "text": [
      "Downloading srnet_model_F06_l1_3e-03.pkl.\n"
     ]
    }
   ],
   "source": [
    "# download data from wandb\n",
    "file_ext = \".pkl\"\n",
    "\n",
    "api = wandb.Api()\n",
    "\n",
    "runs = api.runs(wandb_project)\n",
    "for run in runs:\n",
    "    for f in run.files():\n",
    "        if f.name[-len(file_ext):] == file_ext and not os.path.isfile(f.name):\n",
    "            print(f\"Downloading {os.path.basename(f.name)}.\")\n",
    "            run.file(f.name).download()"
   ]
  },
  {
   "cell_type": "code",
   "execution_count": 35,
   "id": "9ee2ded1",
   "metadata": {},
   "outputs": [
    {
     "data": {
      "application/vnd.jupyter.widget-view+json": {
       "model_id": "0b9c034e3a0b49638a8d904722163d85",
       "version_major": 2,
       "version_minor": 0
      },
      "text/plain": [
       "Canvas(toolbar=Toolbar(toolitems=[('Home', 'Reset original view', 'home', 'home'), ('Back', 'Back to previous …"
      ]
     },
     "metadata": {},
     "output_type": "display_data"
    }
   ],
   "source": [
    "# plot losses\n",
    "save_names = [\"F06_l1\", \"F06_conv1k\"]\n",
    "save_path = \"models\"\n",
    "models = ut.plot_losses(save_names, save_path=\"models\", excl_names=[\"gc\"])"
   ]
  },
  {
   "cell_type": "code",
   "execution_count": 36,
   "id": "33334e53",
   "metadata": {},
   "outputs": [
    {
     "name": "stdout",
     "output_type": "stream",
     "text": [
      "1e-02:\t1.121e-04 9.756e-02\n",
      "1e-03:\t6.536e-05 8.146e-02\n",
      "1e-04:\t9.697e-05 6.264e-02\n",
      "3e-03:\t9.247e-05 8.242e-02\n",
      "5e-03:\t1.455e-04 8.647e-02\n",
      "conv1k:\t4.420e-05 4.926e-02\n"
     ]
    }
   ],
   "source": [
    "# print losses\n",
    "model_ext = \".pkl\"\n",
    "states = {}\n",
    "for model_name in models:\n",
    "    state = joblib.load(os.path.join(save_path, model_name + model_ext))\n",
    "    print(f\"{model_name.split('.')[0].split('_')[-1]}:\\t{state['total_train_loss']:.3e} {state['total_val_loss']:.3e}\")"
   ]
  },
  {
   "cell_type": "code",
   "execution_count": 37,
   "id": "64e31558",
   "metadata": {},
   "outputs": [],
   "source": [
    "# load data\n",
    "data_path = \"data_1k\"\n",
    "\n",
    "in_var = \"X06\"\n",
    "lat_var = \"G06\"\n",
    "target_var = \"F06\"\n",
    "\n",
    "mask_ext = \".mask\"\n",
    "masks = joblib.load(os.path.join(data_path, in_var + mask_ext))\n",
    "\n",
    "train_data = SRData(data_path, in_var, lat_var, target_var, masks[\"train\"])\n",
    "val_data = SRData(data_path, in_var, lat_var, target_var, masks[\"val\"])"
   ]
  },
  {
   "cell_type": "code",
   "execution_count": 38,
   "id": "a81b3a4f",
   "metadata": {},
   "outputs": [
    {
     "name": "stdout",
     "output_type": "stream",
     "text": [
      "srnet_model_F06_l1_1e-02\n",
      "[0.049321637, 0.004771799, 0.00019846704, 6.6069247e-06, 1.4752286e-06, 4.5226514e-08, 2.13454e-08, 1.7446855e-08, 1.18685435e-08, 5.5786127e-09, 3.9206283e-09, 2.1274518e-09, 8.199103e-10, 6.736814e-10, 2.3913765e-10, 1.6228391e-10]\n",
      "[9, 8, 11, 10, 15, 5, 7, 13, 3, 2, 6, 0, 4, 14, 12, 1]\n",
      "\n",
      "srnet_model_F06_l1_1e-03\n",
      "[0.039115362, 0.03129036, 0.023613036, 0.011601761, 0.011366514, 0.009309147, 0.002526981, 6.6599045e-05, 5.3251642e-05, 1.1133867e-09, 6.4825845e-10, 6.21421e-10, 5.41498e-10, 4.3636036e-10, 3.4151335e-10, 1.5669119e-10]\n",
      "[9, 10, 11, 13, 8, 15, 3, 5, 7, 2, 6, 4, 0, 1, 12, 14]\n",
      "\n",
      "srnet_model_F06_l1_1e-04\n",
      "[0.035668433, 0.035033483, 0.034245808, 0.033510864, 0.028321486, 0.02800836, 0.025181893, 0.023803087, 0.021075113, 0.019416295, 0.010689795, 0.01015003, 0.009687535, 0.00847647, 0.0072003896, 0.006011835]\n",
      "[9, 11, 10, 13, 7, 8, 3, 5, 15, 6, 1, 4, 2, 12, 0, 14]\n",
      "\n",
      "srnet_model_F06_l1_3e-03\n",
      "[0.043674815, 0.015250864, 0.015104065, 0.007413745, 5.3274063e-05, 2.1200472e-06, 3.2012056e-07, 4.970898e-08, 4.043706e-09, 6.789294e-10, 6.3081884e-10, 5.966184e-10, 3.210844e-10, 2.8482752e-10, 1.0929242e-10, 7.421286e-11]\n",
      "[9, 11, 10, 8, 13, 15, 3, 7, 5, 2, 14, 4, 12, 6, 0, 1]\n",
      "\n",
      "srnet_model_F06_l1_5e-03\n",
      "[0.07608852, 0.0029992198, 0.0026491508, 0.00095268845, 2.7391384e-06, 1.5039743e-07, 1.1951946e-07, 5.0929152e-08, 7.935523e-09, 1.780319e-09, 3.7116857e-10, 3.5486752e-10, 3.4219275e-10, 2.0695867e-10, 9.595231e-11, 6.7503565e-11]\n",
      "[9, 11, 8, 10, 13, 3, 15, 7, 5, 1, 6, 2, 12, 14, 4, 0]\n",
      "\n",
      "srnet_model_F06_conv1k\n",
      "[0.07345882, 0.038932025, 0.038396627, 0.030609325, 0.022553695, 0.021590559, 0.021060195, 0.018421583, 0.016839076, 0.014656181, 0.013953692, 0.013143861, 0.012904241, 0.011364459, 0.008470869, 0.0072448477]\n",
      "[4, 5, 2, 10, 7, 0, 13, 12, 3, 14, 9, 1, 6, 11, 15, 8]\n",
      "\n"
     ]
    }
   ],
   "source": [
    "# latent feature variance overview\n",
    "model_path = \"models\"\n",
    "\n",
    "for model_name in models:\n",
    "    print(model_name)\n",
    "    model = ut.load_model(model_name + model_ext, model_path, SRNet)\n",
    "    \n",
    "    with torch.no_grad():\n",
    "        preds, acts = model(train_data.in_data, get_lat=True)\n",
    "        \n",
    "    all_nodes = ut.get_node_order(acts, show=True)\n",
    "    print(\"\")"
   ]
  },
  {
   "cell_type": "markdown",
   "id": "fb76987a",
   "metadata": {},
   "source": [
    "Notes:\n",
    "\n",
    "* Interestingly, while `1e-03` is clearly too little regularization, `5e-03` seems to be already too much\n",
    "\n",
    "* `3e-03` seems to be alright, however, the sensitivity is surprising"
   ]
  },
  {
   "cell_type": "code",
   "execution_count": 39,
   "id": "ffefa165",
   "metadata": {},
   "outputs": [],
   "source": [
    "# load model\n",
    "model_name = \"srnet_model_F06_l1_3e-03.pkl\"\n",
    "model_path = \"models\"\n",
    "\n",
    "model = ut.load_model(model_name, model_path, SRNet)"
   ]
  },
  {
   "cell_type": "code",
   "execution_count": 40,
   "id": "986c892a",
   "metadata": {},
   "outputs": [],
   "source": [
    "# get predictions\n",
    "with torch.no_grad():\n",
    "    preds, acts = model(train_data.in_data, get_lat=True)"
   ]
  },
  {
   "cell_type": "code",
   "execution_count": 41,
   "id": "f61e9f41",
   "metadata": {},
   "outputs": [
    {
     "name": "stdout",
     "output_type": "stream",
     "text": [
      "[0.043674815, 0.015250864, 0.015104065, 0.007413745, 5.3274063e-05, 2.1200472e-06, 3.2012056e-07, 4.970898e-08, 4.043706e-09, 6.789294e-10, 6.3081884e-10, 5.966184e-10, 3.210844e-10, 2.8482752e-10, 1.0929242e-10, 7.421286e-11]\n",
      "[9, 11, 10, 8, 13, 15, 3, 7, 5, 2, 14, 4, 12, 6, 0, 1]\n"
     ]
    }
   ],
   "source": [
    "# get latent feature variance\n",
    "all_nodes = ut.get_node_order(acts, show=True)"
   ]
  },
  {
   "cell_type": "code",
   "execution_count": 42,
   "id": "f53be81f",
   "metadata": {},
   "outputs": [],
   "source": [
    "nodes = all_nodes[:4]"
   ]
  },
  {
   "cell_type": "code",
   "execution_count": 43,
   "id": "a2f83a22",
   "metadata": {},
   "outputs": [],
   "source": [
    "# select data\n",
    "x0_data = train_data.in_data[:,0]\n",
    "x3_data = train_data.in_data[:,3]\n",
    "x5_data = train_data.in_data[:,5]\n",
    "x7_data = train_data.in_data[:,7]\n",
    "\n",
    "corr_data = [\n",
    "    (\"x0**2\", x0_data**2), \n",
    "    (\"cos(x3)\", np.cos(x3_data)), \n",
    "    (\"x5*x7\", x5_data * x7_data),\n",
    "    (\"x0\", x0_data),\n",
    "    (\"x3\", x3_data),\n",
    "    (\"x5\", x5_data),\n",
    "    (\"x7\", x7_data),\n",
    "]"
   ]
  },
  {
   "cell_type": "code",
   "execution_count": 44,
   "id": "cad6a4d7",
   "metadata": {},
   "outputs": [
    {
     "name": "stdout",
     "output_type": "stream",
     "text": [
      "\n",
      "Node 9\n",
      "corr(n9, x0**2): -0.7860/-0.7860\n",
      "corr(n9, cos(x3)): -0.2444/-0.2444\n",
      "corr(n9, x5*x7): -0.5961/-0.5961\n",
      "corr(n9, x0): -0.0272/-0.0272\n",
      "corr(n9, x3): -0.0642/-0.0642\n",
      "corr(n9, x5): -0.0232/-0.0232\n",
      "corr(n9, x7): 0.0006/0.0006\n",
      "\n",
      "Node 11\n",
      "corr(n11, x0**2): -0.7805/-0.7805\n",
      "corr(n11, cos(x3)): -0.2323/-0.2323\n",
      "corr(n11, x5*x7): -0.6077/-0.6077\n",
      "corr(n11, x0): -0.0679/-0.0679\n",
      "corr(n11, x3): -0.0405/-0.0405\n",
      "corr(n11, x5): -0.0369/-0.0369\n",
      "corr(n11, x7): -0.0509/-0.0509\n",
      "\n",
      "Node 10\n",
      "corr(n10, x0**2): -0.7831/-0.7831\n",
      "corr(n10, cos(x3)): -0.2328/-0.2328\n",
      "corr(n10, x5*x7): -0.6039/-0.6039\n",
      "corr(n10, x0): -0.0373/-0.0373\n",
      "corr(n10, x3): -0.0484/-0.0484\n",
      "corr(n10, x5): -0.0465/-0.0465\n",
      "corr(n10, x7): -0.0213/-0.0213\n",
      "\n",
      "Node 8\n",
      "corr(n8, x0**2): 0.7716/0.7716\n",
      "corr(n8, cos(x3)): 0.2486/0.2486\n",
      "corr(n8, x5*x7): 0.6097/0.6097\n",
      "corr(n8, x0): 0.0504/0.0504\n",
      "corr(n8, x3): 0.0286/0.0286\n",
      "corr(n8, x5): -0.0029/-0.0029\n",
      "corr(n8, x7): 0.0443/0.0443\n"
     ]
    }
   ],
   "source": [
    "ut.node_correlations(acts, nodes, corr_data, nonzero=True)"
   ]
  },
  {
   "cell_type": "markdown",
   "id": "78a26fce",
   "metadata": {},
   "source": [
    "Notes:\n",
    "\n",
    "* Despite being now separable, the high variance latent features do not split into the desired latent functions"
   ]
  }
 ],
 "metadata": {
  "kernelspec": {
   "display_name": "Python 3 (ipykernel)",
   "language": "python",
   "name": "python3"
  },
  "language_info": {
   "codemirror_mode": {
    "name": "ipython",
    "version": 3
   },
   "file_extension": ".py",
   "mimetype": "text/x-python",
   "name": "python",
   "nbconvert_exporter": "python",
   "pygments_lexer": "ipython3",
   "version": "3.8.3"
  },
  "toc": {
   "base_numbering": 1,
   "nav_menu": {},
   "number_sections": false,
   "sideBar": true,
   "skip_h1_title": true,
   "title_cell": "Table of Contents",
   "title_sidebar": "Contents",
   "toc_cell": false,
   "toc_position": {},
   "toc_section_display": true,
   "toc_window_display": false
  }
 },
 "nbformat": 4,
 "nbformat_minor": 5
}
