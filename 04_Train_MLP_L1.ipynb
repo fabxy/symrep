{
 "cells": [
  {
   "cell_type": "markdown",
   "id": "895ca4be",
   "metadata": {},
   "source": [
    "# 2022 Flatiron Machine Learning x Science Summer School\n",
    "\n",
    "## Step 4: Train MLP with $L_1$ regularization on latent features"
   ]
  },
  {
   "cell_type": "markdown",
   "id": "390e36a0",
   "metadata": {},
   "source": [
    "### Step 4.1: Check $L_1$ regularization parameter"
   ]
  },
  {
   "cell_type": "code",
   "execution_count": null,
   "id": "f72d1241",
   "metadata": {},
   "outputs": [],
   "source": [
    "%matplotlib widget\n",
    "%load_ext autoreload\n",
    "%autoreload 2\n",
    "\n",
    "import os\n",
    "import numpy as np\n",
    "import matplotlib.pyplot as plt\n",
    "import joblib\n",
    "\n",
    "import torch\n",
    "import wandb\n",
    "\n",
    "from srnet import SRNet, SRData\n",
    "import srnet_utils as ut"
   ]
  },
  {
   "cell_type": "code",
   "execution_count": null,
   "id": "58e0538a",
   "metadata": {},
   "outputs": [],
   "source": [
    "# set wandb project\n",
    "wandb_project = \"41-l1-study-F00\""
   ]
  },
  {
   "cell_type": "code",
   "execution_count": null,
   "id": "1595d1b9",
   "metadata": {},
   "outputs": [],
   "source": [
    "# define hyperparameters\n",
    "# hyperparams = {\n",
    "#     \"arch\": {\n",
    "#         \"in_size\": train_data.in_data.shape[1],\n",
    "#         \"out_size\": train_data.target_data.shape[1],\n",
    "#         \"hid_num\": (2,0),\n",
    "#         \"hid_size\": 32, \n",
    "#         \"hid_type\": \"MLP\",\n",
    "#         \"lat_size\": 16,\n",
    "#         },\n",
    "#     \"epochs\": 10000,\n",
    "#     \"runtime\": None,\n",
    "#     \"batch_size\": 64,\n",
    "#     \"lr\": 1e-4,\n",
    "#     \"wd\": 1e-4,\n",
    "#     \"l1\": 0.0,\n",
    "#     \"shuffle\": True,\n",
    "# }"
   ]
  },
  {
   "cell_type": "code",
   "execution_count": null,
   "id": "117a8518",
   "metadata": {},
   "outputs": [],
   "source": [
    "# define hyperparameter study\n",
    "hp_study = {\n",
    "    \"method\": \"grid\", # random, bayesian\n",
    "    #\"metric\": {\n",
    "    #    \"name\": \"val_loss\",\n",
    "    #    \"goal\": \"minimize\",\n",
    "    #},\n",
    "    \"parameters\": {\n",
    "        \"l1\": {\n",
    "            \"values\": [1e-6, 1e-4, 1e-2, 1e-1]\n",
    "        }\n",
    "    }\n",
    "}"
   ]
  },
  {
   "cell_type": "code",
   "execution_count": null,
   "id": "7f73ef9c",
   "metadata": {},
   "outputs": [],
   "source": [
    "# create sweep\n",
    "sweep_id = wandb.sweep(hp_study, project=wandb_project)"
   ]
  },
  {
   "cell_type": "code",
   "execution_count": null,
   "id": "0b74b87e",
   "metadata": {},
   "outputs": [],
   "source": [
    "# download data from wandb\n",
    "file_ext = \".pkl\"\n",
    "\n",
    "api = wandb.Api()\n",
    "\n",
    "runs = api.runs(wandb_project)\n",
    "for run in runs:\n",
    "    for f in run.files():\n",
    "        if f.name[-len(file_ext):] == file_ext and not os.path.isfile(f.name):\n",
    "            print(f\"Downloading {os.path.basename(f.name)}.\")\n",
    "            run.file(f.name).download()"
   ]
  },
  {
   "cell_type": "code",
   "execution_count": null,
   "id": "27425476",
   "metadata": {},
   "outputs": [],
   "source": [
    "# plot losses\n",
    "save_names = [\"F00_l1\", \"F00_conv1k\"]\n",
    "save_path = \"models\"\n",
    "models = ut.plot_losses(save_names, save_path=\"models\", excl_names=[\"gc\"])"
   ]
  },
  {
   "cell_type": "code",
   "execution_count": null,
   "id": "3b0d1113",
   "metadata": {},
   "outputs": [],
   "source": [
    "# print losses\n",
    "states = {}\n",
    "model_ext = \".pkl\"\n",
    "for model_name in models:\n",
    "    state = joblib.load(os.path.join(save_path, model_name + model_ext))\n",
    "    print(f\"{model_name.split('.')[0].split('_')[-1]}:\\t{state['total_train_loss']:.3e} {state['total_val_loss']:.3e}\")"
   ]
  },
  {
   "cell_type": "markdown",
   "id": "d1fcc1db",
   "metadata": {},
   "source": [
    "Notes:\n",
    "\n",
    "* A $L_1$ regularization parameter of `1e-3` seems to be an optimum for the validation error"
   ]
  },
  {
   "cell_type": "code",
   "execution_count": null,
   "id": "5f5b78ba",
   "metadata": {},
   "outputs": [],
   "source": [
    "# load data\n",
    "data_path = \"data_1k\"\n",
    "\n",
    "in_var = \"X00\"\n",
    "lat_var = \"G00\"\n",
    "target_var = \"F00\"\n",
    "\n",
    "mask_ext = \".mask\"\n",
    "masks = joblib.load(os.path.join(data_path, in_var + mask_ext))     # TODO: create mask if file does not exist\n",
    "\n",
    "train_data = SRData(data_path, in_var, lat_var, target_var, masks[\"train\"])\n",
    "val_data = SRData(data_path, in_var, lat_var, target_var, masks[\"val\"])"
   ]
  },
  {
   "cell_type": "code",
   "execution_count": null,
   "id": "cf5019e2",
   "metadata": {},
   "outputs": [],
   "source": [
    "# latent feature variance overview\n",
    "model_path = \"models\"\n",
    "model_ext = \".pkl\"\n",
    "\n",
    "models = [\n",
    "    \"srnet_model_F00_conv1k\",\n",
    "    \"srnet_model_F00_l1_1e-06\",\n",
    "    \"srnet_model_F00_l1_1e-04\",\n",
    "    \"srnet_model_F00_l1_1e-03\",\n",
    "    \"srnet_model_F00_l1_1e-02\",\n",
    "    \"srnet_model_F00_l1_1e-01\",\n",
    "]\n",
    "\n",
    "for model_name in models:\n",
    "    print(model_name)\n",
    "    model = ut.load_model(model_name + model_ext, model_path, SRNet)\n",
    "    \n",
    "    with torch.no_grad():\n",
    "        preds, acts = model(train_data.in_data, get_lat=True)\n",
    "        \n",
    "    all_nodes = ut.get_node_order(acts, show=True)\n",
    "    print(\"\")"
   ]
  },
  {
   "cell_type": "markdown",
   "id": "a32de60d",
   "metadata": {},
   "source": [
    "Notes:\n",
    "\n",
    "* A $L_1$ regularization parameter of `1e-3` yields three high variance latent features"
   ]
  },
  {
   "cell_type": "code",
   "execution_count": null,
   "id": "f1c2544e",
   "metadata": {},
   "outputs": [],
   "source": [
    "model_name = \"srnet_model_F00_l1_1e-03\"\n",
    "\n",
    "model = ut.load_model(model_name + model_ext, model_path, SRNet)\n",
    "\n",
    "with torch.no_grad():\n",
    "    preds, acts = model(train_data.in_data, get_lat=True)\n",
    "    \n",
    "all_nodes = ut.get_node_order(acts, show=True)"
   ]
  },
  {
   "cell_type": "code",
   "execution_count": null,
   "id": "2bbc93c9",
   "metadata": {},
   "outputs": [],
   "source": [
    "nodes = all_nodes[:3]"
   ]
  },
  {
   "cell_type": "code",
   "execution_count": null,
   "id": "d8941821",
   "metadata": {},
   "outputs": [],
   "source": [
    "# select plotting data\n",
    "x_data = train_data.in_data[:,0]\n",
    "y_data = train_data.in_data[:,1]\n",
    "z_data = [\n",
    "    (\"target\", train_data.target_data),\n",
    "    #(\"x**2\", x_data**2), \n",
    "    #(\"cos(y)\", np.cos(y_data)), \n",
    "    #(\"x*y\", x_data * y_data),\n",
    "]\n",
    "plot_size = train_data.target_data.shape[0]"
   ]
  },
  {
   "cell_type": "code",
   "execution_count": null,
   "id": "24d2295a",
   "metadata": {},
   "outputs": [],
   "source": [
    "ut.plot_acts(x_data, y_data, z_data, acts=acts, nodes=nodes, model=model, agg=False, plot_size=plot_size)"
   ]
  },
  {
   "cell_type": "code",
   "execution_count": null,
   "id": "97920dac",
   "metadata": {},
   "outputs": [],
   "source": [
    "corr_data = [\n",
    "    (\"x**2\", x_data**2), \n",
    "    (\"cos(y)\", np.cos(y_data)), \n",
    "    (\"x*y\", x_data * y_data),\n",
    "]"
   ]
  },
  {
   "cell_type": "code",
   "execution_count": null,
   "id": "98c12536",
   "metadata": {},
   "outputs": [],
   "source": [
    "ut.node_correlations(acts, nodes, corr_data, nonzero=True)"
   ]
  },
  {
   "cell_type": "markdown",
   "id": "5bc2da08",
   "metadata": {},
   "source": [
    "Notes:\n",
    "\n",
    "* The high variance latent features do not split into the desired latent functions"
   ]
  },
  {
   "cell_type": "markdown",
   "id": "b8c98f47",
   "metadata": {},
   "source": [
    "### Step 4.1: Train MLP with $L_1$ regularization for `F06`"
   ]
  },
  {
   "cell_type": "code",
   "execution_count": null,
   "id": "74e48a03",
   "metadata": {},
   "outputs": [],
   "source": [
    "# set wandb project\n",
    "wandb_project = \"42-l1-study-F06\""
   ]
  },
  {
   "cell_type": "code",
   "execution_count": null,
   "id": "771f5b46",
   "metadata": {},
   "outputs": [],
   "source": [
    "# define hyperparameters\n",
    "# hyperparams = {\n",
    "#     \"arch\": {\n",
    "#         \"in_size\": train_data.in_data.shape[1],\n",
    "#         \"out_size\": train_data.target_data.shape[1],\n",
    "#         \"hid_num\": (2,0),\n",
    "#         \"hid_size\": 32, \n",
    "#         \"hid_type\": \"MLP\",\n",
    "#         \"lat_size\": 16,\n",
    "#         },\n",
    "#     \"epochs\": 10000,\n",
    "#     \"runtime\": None,\n",
    "#     \"batch_size\": 64,\n",
    "#     \"lr\": 1e-4,\n",
    "#     \"wd\": 1e-4,\n",
    "#     \"l1\": 0.0,\n",
    "#     \"a1\": 0.0,\n",
    "#     \"a2\": 0.0,\n",
    "#     \"gc\": 0.0,\n",
    "#     \"shuffle\": True,\n",
    "# }"
   ]
  },
  {
   "cell_type": "code",
   "execution_count": null,
   "id": "e0acdd69",
   "metadata": {},
   "outputs": [],
   "source": [
    "# define hyperparameter study\n",
    "hp_study = {\n",
    "    \"method\": \"grid\", # random, bayesian\n",
    "    #\"metric\": {\n",
    "    #    \"name\": \"val_loss\",\n",
    "    #    \"goal\": \"minimize\",\n",
    "    #},\n",
    "    \"parameters\": {\n",
    "        \"l1\": {\n",
    "            \"values\": [1e-4, 1e-3, 1e-2]\n",
    "        }\n",
    "    }\n",
    "}"
   ]
  },
  {
   "cell_type": "code",
   "execution_count": null,
   "id": "96fd007a",
   "metadata": {},
   "outputs": [],
   "source": [
    "# create sweep\n",
    "sweep_id = wandb.sweep(hp_study, project=wandb_project)"
   ]
  },
  {
   "cell_type": "code",
   "execution_count": null,
   "id": "c98fb3b9",
   "metadata": {},
   "outputs": [],
   "source": [
    "# download data from wandb\n",
    "file_ext = \".pkl\"\n",
    "\n",
    "api = wandb.Api()\n",
    "\n",
    "runs = api.runs(wandb_project)\n",
    "for run in runs:\n",
    "    for f in run.files():\n",
    "        if f.name[-len(file_ext):] == file_ext and not os.path.isfile(f.name):\n",
    "            print(f\"Downloading {os.path.basename(f.name)}.\")\n",
    "            run.file(f.name).download()"
   ]
  },
  {
   "cell_type": "code",
   "execution_count": null,
   "id": "9ee2ded1",
   "metadata": {},
   "outputs": [],
   "source": [
    "# plot losses\n",
    "save_names = [\"F06_l1\", \"F06_conv1k\"]\n",
    "save_path = \"models\"\n",
    "models = ut.plot_losses(save_names, save_path=\"models\", excl_names=[\"gc\"])"
   ]
  },
  {
   "cell_type": "code",
   "execution_count": null,
   "id": "33334e53",
   "metadata": {},
   "outputs": [],
   "source": [
    "# print losses\n",
    "model_ext = \".pkl\"\n",
    "states = {}\n",
    "for model_name in models:\n",
    "    state = joblib.load(os.path.join(save_path, model_name + model_ext))\n",
    "    print(f\"{model_name.split('.')[0].split('_')[-1]}:\\t{state['total_train_loss']:.3e} {state['total_val_loss']:.3e}\")"
   ]
  },
  {
   "cell_type": "code",
   "execution_count": null,
   "id": "64e31558",
   "metadata": {},
   "outputs": [],
   "source": [
    "# load data\n",
    "data_path = \"data_1k\"\n",
    "\n",
    "in_var = \"X06\"\n",
    "lat_var = \"G06\"\n",
    "target_var = \"F06\"\n",
    "\n",
    "mask_ext = \".mask\"\n",
    "masks = joblib.load(os.path.join(data_path, in_var + mask_ext))\n",
    "\n",
    "train_data = SRData(data_path, in_var, lat_var, target_var, masks[\"train\"])\n",
    "val_data = SRData(data_path, in_var, lat_var, target_var, masks[\"val\"])"
   ]
  },
  {
   "cell_type": "code",
   "execution_count": null,
   "id": "a81b3a4f",
   "metadata": {},
   "outputs": [],
   "source": [
    "# latent feature variance overview\n",
    "model_path = \"models\"\n",
    "\n",
    "for model_name in models:\n",
    "    print(model_name)\n",
    "    model = ut.load_model(model_name + model_ext, model_path, SRNet)\n",
    "    \n",
    "    with torch.no_grad():\n",
    "        preds, acts = model(train_data.in_data, get_lat=True)\n",
    "        \n",
    "    all_nodes = ut.get_node_order(acts, show=True)\n",
    "    print(\"\")"
   ]
  },
  {
   "cell_type": "markdown",
   "id": "fb76987a",
   "metadata": {},
   "source": [
    "Notes:\n",
    "\n",
    "* Interestingly, while `1e-03` is clearly too little regularization, `5e-03` seems to be already too much\n",
    "\n",
    "* `3e-03` seems to be alright, however, the sensitivity is surprising"
   ]
  },
  {
   "cell_type": "code",
   "execution_count": null,
   "id": "ffefa165",
   "metadata": {},
   "outputs": [],
   "source": [
    "# load model\n",
    "model_name = \"srnet_model_F06_l1_3e-03.pkl\"\n",
    "model_path = \"models\"\n",
    "\n",
    "model = ut.load_model(model_name, model_path, SRNet)"
   ]
  },
  {
   "cell_type": "code",
   "execution_count": null,
   "id": "986c892a",
   "metadata": {},
   "outputs": [],
   "source": [
    "# get predictions\n",
    "with torch.no_grad():\n",
    "    preds, acts = model(train_data.in_data, get_lat=True)"
   ]
  },
  {
   "cell_type": "code",
   "execution_count": null,
   "id": "f61e9f41",
   "metadata": {},
   "outputs": [],
   "source": [
    "# get latent feature variance\n",
    "all_nodes = ut.get_node_order(acts, show=True)"
   ]
  },
  {
   "cell_type": "code",
   "execution_count": null,
   "id": "f53be81f",
   "metadata": {},
   "outputs": [],
   "source": [
    "nodes = all_nodes[:4]"
   ]
  },
  {
   "cell_type": "code",
   "execution_count": null,
   "id": "a2f83a22",
   "metadata": {},
   "outputs": [],
   "source": [
    "# select data\n",
    "x0_data = train_data.in_data[:,0]\n",
    "x3_data = train_data.in_data[:,3]\n",
    "x5_data = train_data.in_data[:,5]\n",
    "x7_data = train_data.in_data[:,7]\n",
    "\n",
    "corr_data = [\n",
    "    (\"x0**2\", x0_data**2), \n",
    "    (\"cos(x3)\", np.cos(x3_data)), \n",
    "    (\"x5*x7\", x5_data * x7_data),\n",
    "    (\"x0\", x0_data),\n",
    "    (\"x3\", x3_data),\n",
    "    (\"x5\", x5_data),\n",
    "    (\"x7\", x7_data),\n",
    "]"
   ]
  },
  {
   "cell_type": "code",
   "execution_count": null,
   "id": "cad6a4d7",
   "metadata": {},
   "outputs": [],
   "source": [
    "ut.node_correlations(acts, nodes, corr_data, nonzero=True)"
   ]
  },
  {
   "cell_type": "markdown",
   "id": "78a26fce",
   "metadata": {},
   "source": [
    "Notes:\n",
    "\n",
    "* Despite being now separable, the high variance latent features do not split into the desired latent functions"
   ]
  }
 ],
 "metadata": {
  "kernelspec": {
   "display_name": "Python 3 (ipykernel)",
   "language": "python",
   "name": "python3"
  },
  "language_info": {
   "codemirror_mode": {
    "name": "ipython",
    "version": 3
   },
   "file_extension": ".py",
   "mimetype": "text/x-python",
   "name": "python",
   "nbconvert_exporter": "python",
   "pygments_lexer": "ipython3",
   "version": "3.8.3"
  },
  "toc": {
   "base_numbering": 1,
   "nav_menu": {},
   "number_sections": false,
   "sideBar": true,
   "skip_h1_title": true,
   "title_cell": "Table of Contents",
   "title_sidebar": "Contents",
   "toc_cell": false,
   "toc_position": {},
   "toc_section_display": true,
   "toc_window_display": false
  }
 },
 "nbformat": 4,
 "nbformat_minor": 5
}
