{
 "cells": [
  {
   "cell_type": "markdown",
   "id": "895ca4be",
   "metadata": {},
   "source": [
    "# 2022 Flatiron Machine Learning x Science Summer School\n",
    "\n",
    "## Step 4: Train MLP with $L_1$ regularization on latent features"
   ]
  },
  {
   "cell_type": "markdown",
   "id": "390e36a0",
   "metadata": {},
   "source": [
    "### Step 4.1: Check $L_1$ regularization parameter"
   ]
  },
  {
   "cell_type": "code",
   "execution_count": 1,
   "id": "f72d1241",
   "metadata": {},
   "outputs": [],
   "source": [
    "%matplotlib widget\n",
    "%load_ext autoreload\n",
    "%autoreload 2\n",
    "\n",
    "import os\n",
    "import numpy as np\n",
    "import matplotlib.pyplot as plt\n",
    "import joblib\n",
    "\n",
    "import torch\n",
    "import wandb\n",
    "\n",
    "from srnet import SRNet, SRData\n",
    "import srnet_utils as ut"
   ]
  },
  {
   "cell_type": "code",
   "execution_count": 2,
   "id": "58e0538a",
   "metadata": {},
   "outputs": [],
   "source": [
    "# set wandb project\n",
    "wandb_project = \"41-l1-study-F00\""
   ]
  },
  {
   "cell_type": "code",
   "execution_count": 3,
   "id": "1595d1b9",
   "metadata": {},
   "outputs": [],
   "source": [
    "# define hyperparameters\n",
    "# hyperparams = {\n",
    "#     \"arch\": {\n",
    "#         \"in_size\": train_data.in_data.shape[1],\n",
    "#         \"out_size\": train_data.target_data.shape[1],\n",
    "#         \"hid_num\": (2,0),\n",
    "#         \"hid_size\": 32, \n",
    "#         \"hid_type\": \"MLP\",\n",
    "#         \"lat_size\": 16,\n",
    "#         },\n",
    "#     \"epochs\": 10000,\n",
    "#     \"runtime\": None,\n",
    "#     \"batch_size\": 64,\n",
    "#     \"lr\": 1e-4,\n",
    "#     \"wd\": 1e-4,\n",
    "#     \"l1\": 0.0,\n",
    "#     \"shuffle\": True,\n",
    "# }"
   ]
  },
  {
   "cell_type": "code",
   "execution_count": 4,
   "id": "117a8518",
   "metadata": {},
   "outputs": [],
   "source": [
    "# define hyperparameter study\n",
    "hp_study = {\n",
    "    \"method\": \"grid\", # random, bayesian\n",
    "    #\"metric\": {\n",
    "    #    \"name\": \"val_loss\",\n",
    "    #    \"goal\": \"minimize\",\n",
    "    #},\n",
    "    \"parameters\": {\n",
    "        \"l1\": {\n",
    "            \"values\": [1e-6, 1e-4, 1e-2, 1e-1]\n",
    "        }\n",
    "    }\n",
    "}"
   ]
  },
  {
   "cell_type": "code",
   "execution_count": 15,
   "id": "7f73ef9c",
   "metadata": {},
   "outputs": [
    {
     "name": "stdout",
     "output_type": "stream",
     "text": [
      "Create sweep with ID: klh56zo4\n",
      "Sweep URL: https://wandb.ai/fabxy/41-l1-study-F00/sweeps/klh56zo4\n"
     ]
    }
   ],
   "source": [
    "# create sweep\n",
    "sweep_id = wandb.sweep(hp_study, project=wandb_project)"
   ]
  },
  {
   "cell_type": "code",
   "execution_count": 58,
   "id": "0b74b87e",
   "metadata": {},
   "outputs": [
    {
     "name": "stdout",
     "output_type": "stream",
     "text": [
      "Downloading srnet_model_F00_l1_1e-03.pkl.\n"
     ]
    }
   ],
   "source": [
    "# download data from wandb\n",
    "file_ext = \".pkl\"\n",
    "\n",
    "api = wandb.Api()\n",
    "\n",
    "runs = api.runs(wandb_project)\n",
    "for run in runs:\n",
    "    for f in run.files():\n",
    "        if f.name[-len(file_ext):] == file_ext and not os.path.isfile(f.name):\n",
    "            print(f\"Downloading {os.path.basename(f.name)}.\")\n",
    "            run.file(f.name).download()"
   ]
  },
  {
   "cell_type": "code",
   "execution_count": 59,
   "id": "27425476",
   "metadata": {},
   "outputs": [
    {
     "data": {
      "application/vnd.jupyter.widget-view+json": {
       "model_id": "50731570082a4eec9b24e6e763675587",
       "version_major": 2,
       "version_minor": 0
      },
      "text/plain": [
       "Canvas(toolbar=Toolbar(toolitems=[('Home', 'Reset original view', 'home', 'home'), ('Back', 'Back to previous …"
      ]
     },
     "metadata": {},
     "output_type": "display_data"
    }
   ],
   "source": [
    "# plot losses\n",
    "save_names = [\"F00_l1\", \"F00_conv1k\"]\n",
    "save_path = \"models\"\n",
    "ut.plot_losses(save_names, save_path=\"models\")"
   ]
  },
  {
   "cell_type": "code",
   "execution_count": 60,
   "id": "9c67dcda",
   "metadata": {},
   "outputs": [
    {
     "name": "stdout",
     "output_type": "stream",
     "text": [
      "1e-01:\t8.017e-04 1.166e-03\n",
      "1e-02:\t1.823e-04 1.749e-03\n",
      "1e-03:\t7.821e-05 4.486e-04\n",
      "1e-04:\t1.783e-04 1.232e-03\n",
      "1e-06:\t1.147e-04 3.317e-03\n",
      "conv1k:\t1.155e-04 3.428e-03\n"
     ]
    }
   ],
   "source": [
    "# print losses\n",
    "states = {}\n",
    "for save_name in save_names:\n",
    "    for file_name in sorted(os.listdir(save_path)):\n",
    "        if save_name in file_name:\n",
    "            state = joblib.load(os.path.join(save_path, file_name))\n",
    "            print(f\"{file_name.split('.')[0].split('_')[-1]}:\\t{state['total_train_loss']:.3e} {state['total_val_loss']:.3e}\")"
   ]
  },
  {
   "cell_type": "markdown",
   "id": "d1fcc1db",
   "metadata": {},
   "source": [
    "Notes:\n",
    "\n",
    "* A $L_1$ regularization parameter of `1e-3` seems to be an optimum for the validation error"
   ]
  },
  {
   "cell_type": "code",
   "execution_count": 40,
   "id": "5f5b78ba",
   "metadata": {},
   "outputs": [],
   "source": [
    "# load data\n",
    "data_path = \"data_1k\"\n",
    "\n",
    "in_var = \"X00\"\n",
    "lat_var = \"G00\"\n",
    "target_var = \"F00\"\n",
    "\n",
    "mask_ext = \".mask\"\n",
    "masks = joblib.load(os.path.join(data_path, in_var + mask_ext))     # TODO: create mask if file does not exist\n",
    "\n",
    "train_data = SRData(data_path, in_var, lat_var, target_var, masks[\"train\"])\n",
    "val_data = SRData(data_path, in_var, lat_var, target_var, masks[\"val\"])"
   ]
  },
  {
   "cell_type": "code",
   "execution_count": 61,
   "id": "cf5019e2",
   "metadata": {},
   "outputs": [
    {
     "name": "stdout",
     "output_type": "stream",
     "text": [
      "srnet_model_F00_conv1k\n",
      "[0.10614656, 0.09515473, 0.08990478, 0.08980098, 0.07525699, 0.072339885, 0.06941165, 0.06478065, 0.06317273, 0.06313105, 0.059894454, 0.056416783, 0.0487215, 0.04010966, 0.039172273, 0.031783156]\n",
      "[1, 10, 15, 0, 14, 5, 12, 8, 7, 6, 9, 3, 13, 4, 2, 11]\n",
      "\n",
      "srnet_model_F00_l1_1e-06\n",
      "[0.10398815, 0.093214676, 0.08905195, 0.08769247, 0.073902845, 0.07085094, 0.06706689, 0.06349006, 0.062067565, 0.061193217, 0.05973298, 0.05828404, 0.047263596, 0.038578775, 0.03761107, 0.030239193]\n",
      "[1, 10, 15, 0, 14, 5, 12, 8, 6, 7, 3, 9, 13, 4, 2, 11]\n",
      "\n",
      "srnet_model_F00_l1_1e-04\n",
      "[0.07022424, 0.05906304, 0.058847193, 0.056146547, 0.04448867, 0.038455795, 0.03106859, 0.028268447, 0.017816655, 0.015585285, 0.0128462305, 0.010780148, 0.009062688, 0.0036060382, 0.003577155, 0.0005865455]\n",
      "[15, 0, 10, 1, 8, 5, 14, 7, 9, 6, 3, 12, 13, 2, 11, 4]\n",
      "\n",
      "srnet_model_F00_l1_1e-03\n",
      "[0.1238546, 0.08738362, 0.01592117, 0.00017046831, 1.50748965e-05, 1.2677921e-07, 1.1294611e-07, 4.7373774e-08, 4.062948e-08, 4.3782458e-09, 4.0273433e-09, 3.2008614e-09, 2.0540378e-09, 1.9341104e-09, 9.1654095e-10, 9.0483304e-10]\n",
      "[15, 0, 8, 10, 1, 5, 14, 3, 6, 9, 12, 7, 13, 11, 4, 2]\n",
      "\n",
      "srnet_model_F00_l1_1e-02\n",
      "[0.07320803, 1.2199135e-07, 8.2355385e-08, 4.5037698e-08, 3.9451642e-08, 2.9387452e-08, 2.7652087e-08, 1.8894497e-08, 1.7425611e-08, 1.5908899e-08, 1.436257e-08, 8.704724e-09, 7.155686e-09, 4.9154742e-09, 2.958441e-09, 2.7616716e-09]\n",
      "[15, 0, 1, 8, 12, 10, 7, 6, 14, 5, 3, 2, 13, 9, 11, 4]\n",
      "\n",
      "srnet_model_F00_l1_1e-01\n",
      "[0.031483293, 2.9462964e-08, 2.2856629e-08, 1.69959e-08, 1.265246e-08, 1.1368642e-08, 1.0645516e-08, 7.997788e-09, 6.436307e-09, 6.0463434e-09, 6.026594e-09, 5.1605404e-09, 4.7681734e-09, 3.8089736e-09, 1.5979267e-09, 6.770344e-10]\n",
      "[15, 1, 14, 0, 13, 8, 7, 10, 3, 4, 12, 2, 5, 6, 9, 11]\n",
      "\n"
     ]
    }
   ],
   "source": [
    "# latent feature variance overview\n",
    "model_path = \"models\"\n",
    "model_ext = \".pkl\"\n",
    "\n",
    "models = [\n",
    "    \"srnet_model_F00_conv1k\",\n",
    "    \"srnet_model_F00_l1_1e-06\",\n",
    "    \"srnet_model_F00_l1_1e-04\",\n",
    "    \"srnet_model_F00_l1_1e-03\",\n",
    "    \"srnet_model_F00_l1_1e-02\",\n",
    "    \"srnet_model_F00_l1_1e-01\",\n",
    "]\n",
    "\n",
    "for model_name in models:\n",
    "    print(model_name)\n",
    "    model = ut.load_model(model_name + model_ext, model_path, SRNet)\n",
    "    \n",
    "    with torch.no_grad():\n",
    "        preds, acts = model(train_data.in_data, get_lat=True)\n",
    "        \n",
    "    all_nodes = ut.get_node_order(acts, show=True)\n",
    "    print(\"\")"
   ]
  },
  {
   "cell_type": "markdown",
   "id": "16ba1256",
   "metadata": {},
   "source": [
    "Notes:\n",
    "\n",
    "* A $L_1$ regularization parameter of `1e-3` yields three high variance latent features"
   ]
  },
  {
   "cell_type": "code",
   "execution_count": 62,
   "id": "f1c2544e",
   "metadata": {},
   "outputs": [
    {
     "name": "stdout",
     "output_type": "stream",
     "text": [
      "[0.1238546, 0.08738362, 0.01592117, 0.00017046831, 1.50748965e-05, 1.2677921e-07, 1.1294611e-07, 4.7373774e-08, 4.062948e-08, 4.3782458e-09, 4.0273433e-09, 3.2008614e-09, 2.0540378e-09, 1.9341104e-09, 9.1654095e-10, 9.0483304e-10]\n",
      "[15, 0, 8, 10, 1, 5, 14, 3, 6, 9, 12, 7, 13, 11, 4, 2]\n"
     ]
    }
   ],
   "source": [
    "model_name = \"srnet_model_F00_l1_1e-03\"\n",
    "\n",
    "model = ut.load_model(model_name + model_ext, model_path, SRNet)\n",
    "\n",
    "with torch.no_grad():\n",
    "    preds, acts = model(train_data.in_data, get_lat=True)\n",
    "    \n",
    "all_nodes = ut.get_node_order(acts, show=True)"
   ]
  },
  {
   "cell_type": "code",
   "execution_count": 63,
   "id": "24a352f0",
   "metadata": {},
   "outputs": [],
   "source": [
    "nodes = all_nodes[:3]"
   ]
  },
  {
   "cell_type": "code",
   "execution_count": 64,
   "id": "d8941821",
   "metadata": {},
   "outputs": [],
   "source": [
    "# select plotting data\n",
    "x_data = train_data.in_data[:,0]\n",
    "y_data = train_data.in_data[:,1]\n",
    "z_data = [\n",
    "    (\"target\", train_data.target_data),\n",
    "    #(\"x**2\", x_data**2), \n",
    "    #(\"cos(y)\", np.cos(y_data)), \n",
    "    #(\"x*y\", x_data * y_data),\n",
    "]\n",
    "plot_size = train_data.target_data.shape[0]"
   ]
  },
  {
   "cell_type": "code",
   "execution_count": 65,
   "id": "24d2295a",
   "metadata": {},
   "outputs": [
    {
     "data": {
      "application/vnd.jupyter.widget-view+json": {
       "model_id": "76a9508a2b2f420a81bbd40eb9160c93",
       "version_major": 2,
       "version_minor": 0
      },
      "text/plain": [
       "Canvas(toolbar=Toolbar(toolitems=[('Home', 'Reset original view', 'home', 'home'), ('Back', 'Back to previous …"
      ]
     },
     "metadata": {},
     "output_type": "display_data"
    }
   ],
   "source": [
    "ut.plot_acts(x_data, y_data, z_data, acts=acts, nodes=nodes, model=model, agg=False, plot_size=plot_size)"
   ]
  },
  {
   "cell_type": "code",
   "execution_count": 66,
   "id": "f4ee7502",
   "metadata": {},
   "outputs": [],
   "source": [
    "corr_data = [\n",
    "    (\"x**2\", x_data**2), \n",
    "    (\"cos(y)\", np.cos(y_data)), \n",
    "    (\"x*y\", x_data * y_data),\n",
    "]"
   ]
  },
  {
   "cell_type": "code",
   "execution_count": 67,
   "id": "98c12536",
   "metadata": {},
   "outputs": [
    {
     "name": "stdout",
     "output_type": "stream",
     "text": [
      "\n",
      "Node 15\n",
      "corr(n15, x**2): 0.8422/0.8422\n",
      "corr(n15, cos(y)): 0.1718/0.1718\n",
      "corr(n15, x*y): 0.6315/0.6315\n",
      "\n",
      "Node 0\n",
      "corr(n0, x**2): -0.8289/-0.8289\n",
      "corr(n0, cos(y)): -0.1898/-0.1898\n",
      "corr(n0, x*y): -0.6422/-0.6422\n",
      "\n",
      "Node 8\n",
      "corr(n8, x**2): -0.7825/-0.7825\n",
      "corr(n8, cos(y)): -0.2553/-0.2553\n",
      "corr(n8, x*y): -0.6632/-0.6632\n"
     ]
    }
   ],
   "source": [
    "ut.node_correlations(acts, nodes, corr_data, nonzero=True)"
   ]
  },
  {
   "cell_type": "markdown",
   "id": "11a6855b",
   "metadata": {},
   "source": [
    "Notes:\n",
    "\n",
    "* The high variance latent features do not split into the desired latent functions"
   ]
  }
 ],
 "metadata": {
  "kernelspec": {
   "display_name": "Python 3 (ipykernel)",
   "language": "python",
   "name": "python3"
  },
  "language_info": {
   "codemirror_mode": {
    "name": "ipython",
    "version": 3
   },
   "file_extension": ".py",
   "mimetype": "text/x-python",
   "name": "python",
   "nbconvert_exporter": "python",
   "pygments_lexer": "ipython3",
   "version": "3.8.3"
  },
  "toc": {
   "base_numbering": 1,
   "nav_menu": {},
   "number_sections": false,
   "sideBar": true,
   "skip_h1_title": true,
   "title_cell": "Table of Contents",
   "title_sidebar": "Contents",
   "toc_cell": false,
   "toc_position": {},
   "toc_section_display": true,
   "toc_window_display": false
  }
 },
 "nbformat": 4,
 "nbformat_minor": 5
}
