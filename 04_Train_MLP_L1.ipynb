{
 "cells": [
  {
   "cell_type": "markdown",
   "id": "895ca4be",
   "metadata": {},
   "source": [
    "# 2022 Flatiron Machine Learning x Science Summer School\n",
    "\n",
    "## Step 4: Train MLP with $L_1$ regularization on latent features"
   ]
  },
  {
   "cell_type": "markdown",
   "id": "390e36a0",
   "metadata": {},
   "source": [
    "### Step 4.1: Check $L_1$ regularization parameter"
   ]
  },
  {
   "cell_type": "code",
   "execution_count": 1,
   "id": "f72d1241",
   "metadata": {},
   "outputs": [],
   "source": [
    "%matplotlib widget\n",
    "%load_ext autoreload\n",
    "%autoreload 2\n",
    "\n",
    "import os\n",
    "import numpy as np\n",
    "import matplotlib.pyplot as plt\n",
    "import joblib\n",
    "\n",
    "import torch\n",
    "import wandb\n",
    "\n",
    "from srnet import SRNet, SRData\n",
    "import srnet_utils as ut"
   ]
  },
  {
   "cell_type": "code",
   "execution_count": 2,
   "id": "58e0538a",
   "metadata": {},
   "outputs": [],
   "source": [
    "# set wandb project\n",
    "wandb_project = \"41-l1-study-F00\""
   ]
  },
  {
   "cell_type": "code",
   "execution_count": 3,
   "id": "1595d1b9",
   "metadata": {},
   "outputs": [],
   "source": [
    "# define hyperparameters\n",
    "# hyperparams = {\n",
    "#     \"arch\": {\n",
    "#         \"in_size\": train_data.in_data.shape[1],\n",
    "#         \"out_size\": train_data.target_data.shape[1],\n",
    "#         \"hid_num\": (2,0),\n",
    "#         \"hid_size\": 32, \n",
    "#         \"hid_type\": \"MLP\",\n",
    "#         \"lat_size\": 16,\n",
    "#         },\n",
    "#     \"epochs\": 10000,\n",
    "#     \"runtime\": None,\n",
    "#     \"batch_size\": 64,\n",
    "#     \"lr\": 1e-4,\n",
    "#     \"wd\": 1e-4,\n",
    "#     \"l1\": 0.0,\n",
    "#     \"shuffle\": True,\n",
    "# }"
   ]
  },
  {
   "cell_type": "code",
   "execution_count": 11,
   "id": "74e9f069",
   "metadata": {},
   "outputs": [],
   "source": [
    "strig = \"models/srnet_model_{target_var}_l1_{l1:.0e}.pkl\""
   ]
  },
  {
   "cell_type": "code",
   "execution_count": 7,
   "id": "fe880df1",
   "metadata": {},
   "outputs": [],
   "source": [
    "dic = {\"target_var\": \"F00\", \"l1\": 1e-4}"
   ]
  },
  {
   "cell_type": "markdown",
   "id": "72048934",
   "metadata": {},
   "source": [
    "## strig.format(**dic)"
   ]
  },
  {
   "cell_type": "code",
   "execution_count": 4,
   "id": "117a8518",
   "metadata": {},
   "outputs": [],
   "source": [
    "# define hyperparameter study\n",
    "hp_study = {\n",
    "    \"method\": \"grid\", # random, bayesian\n",
    "    #\"metric\": {\n",
    "    #    \"name\": \"val_loss\",\n",
    "    #    \"goal\": \"minimize\",\n",
    "    #},\n",
    "    \"parameters\": {\n",
    "        \"l1\": {\n",
    "            \"values\": [1e-6, 1e-4, 1e-2, 1e-1]\n",
    "        }\n",
    "    }\n",
    "}"
   ]
  },
  {
   "cell_type": "code",
   "execution_count": 5,
   "id": "7f73ef9c",
   "metadata": {},
   "outputs": [
    {
     "name": "stdout",
     "output_type": "stream",
     "text": [
      "Create sweep with ID: mqkzram7\n",
      "Sweep URL: https://wandb.ai/fabxy/41-l1-study-F00/sweeps/mqkzram7\n"
     ]
    }
   ],
   "source": [
    "# create sweep\n",
    "sweep_id = wandb.sweep(hp_study, project=wandb_project)"
   ]
  },
  {
   "cell_type": "code",
   "execution_count": 4,
   "id": "0b74b87e",
   "metadata": {},
   "outputs": [
    {
     "name": "stdout",
     "output_type": "stream",
     "text": [
      "Downloading srnet_model_F01_l1_v_v.pkl.\n",
      "Downloading srnet_model_F01_l1_v.pkl.\n",
      "Downloading srnet_model_F01_l1.pkl.\n"
     ]
    }
   ],
   "source": [
    "# download data from wandb\n",
    "file_ext = \".pkl\"\n",
    "\n",
    "api = wandb.Api()\n",
    "\n",
    "runs = api.runs(wandb_project)\n",
    "for run in runs:\n",
    "    for f in run.files():\n",
    "        if f.name[-len(file_ext):] == file_ext and not os.path.isfile(f.name):\n",
    "            print(f\"Downloading {os.path.basename(f.name)}.\")\n",
    "            run.file(f.name).download()"
   ]
  },
  {
   "cell_type": "code",
   "execution_count": 17,
   "id": "27425476",
   "metadata": {},
   "outputs": [
    {
     "data": {
      "application/vnd.jupyter.widget-view+json": {
       "model_id": "e11babde8eed430f8e49ba57e9811b5e",
       "version_major": 2,
       "version_minor": 0
      },
      "text/plain": [
       "Canvas(toolbar=Toolbar(toolitems=[('Home', 'Reset original view', 'home', 'home'), ('Back', 'Back to previous …"
      ]
     },
     "metadata": {},
     "output_type": "display_data"
    }
   ],
   "source": [
    "# plot losses\n",
    "ut.plot_losses([\"l1\", \"F01_conv1k\"], save_path=\"models\")"
   ]
  },
  {
   "cell_type": "markdown",
   "id": "d1fcc1db",
   "metadata": {},
   "source": [
    "Notes:\n",
    "\n",
    "* Increasing $L_1$ regularization parameter leads to higher training errors but similar/smaller validation errors"
   ]
  },
  {
   "cell_type": "code",
   "execution_count": 18,
   "id": "5f5b78ba",
   "metadata": {},
   "outputs": [],
   "source": [
    "# load data\n",
    "data_path = \"data_1k\"\n",
    "\n",
    "in_var = \"X01\"\n",
    "lat_var = \"G01\"\n",
    "target_var = \"F01\"\n",
    "\n",
    "mask_ext = \".mask\"\n",
    "masks = joblib.load(os.path.join(data_path, in_var + mask_ext))     # TODO: create mask if file does not exist\n",
    "\n",
    "train_data = SRData(data_path, in_var, lat_var, target_var, masks[\"train\"])\n",
    "val_data = SRData(data_path, in_var, lat_var, target_var, masks[\"val\"])"
   ]
  },
  {
   "cell_type": "code",
   "execution_count": 23,
   "id": "cf5019e2",
   "metadata": {},
   "outputs": [
    {
     "name": "stdout",
     "output_type": "stream",
     "text": [
      "srnet_model_F01_conv1k\n",
      "[0.442663, 0.3568648, 0.34265625, 0.31251407, 0.30543056, 0.285317, 0.26871365, 0.25194448, 0.20889138, 0.19993809, 0.18855587, 0.17806222, 0.17064506, 0.14985456, 0.1324731, 0.13221803]\n",
      "[3, 6, 10, 4, 15, 7, 5, 8, 2, 13, 12, 1, 9, 14, 11, 0]\n",
      "\n",
      "srnet_model_F01_l1_1n6\n",
      "[0.4472595, 0.35221803, 0.3384347, 0.31435305, 0.29468605, 0.28430617, 0.26510754, 0.24103655, 0.20872487, 0.2011079, 0.19931003, 0.18311673, 0.15897202, 0.1499768, 0.14157562, 0.12980556]\n",
      "[3, 6, 10, 4, 15, 7, 5, 8, 2, 13, 12, 1, 9, 14, 0, 11]\n",
      "\n",
      "srnet_model_F01_l1_1n4\n",
      "[0.4251673, 0.35212377, 0.3484957, 0.28564206, 0.2754437, 0.22463171, 0.18807544, 0.16734438, 0.15142357, 0.15080051, 0.14650822, 0.14612693, 0.1414289, 0.13368121, 0.107792415, 0.08147589]\n",
      "[3, 6, 10, 5, 7, 4, 2, 15, 13, 1, 12, 9, 0, 8, 14, 11]\n",
      "\n",
      "srnet_model_F01_l1_1n2\n",
      "[0.053635195, 0.03521261, 0.031321988, 0.021988414, 0.007459262, 0.004458526, 0.0022832672, 0.001976531, 0.0018776564, 0.0012145492, 0.00088398193, 0.0007383683, 0.00057585625, 0.00034302214, 0.00011891858, 0.00011776732]\n",
      "[3, 6, 10, 5, 2, 7, 0, 14, 13, 1, 4, 12, 9, 15, 11, 8]\n",
      "\n",
      "srnet_model_F01_l1_1n1\n",
      "[0.006804078, 0.0035596734, 0.002826953, 0.0012592355, 1.818749e-05, 9.041964e-06, 8.198572e-06, 3.0189617e-06, 2.4254591e-06, 2.2377358e-06, 1.9476254e-06, 8.9530494e-07, 8.4494025e-07, 6.275242e-07, 7.2511575e-10, 3.3175573e-10]\n",
      "[3, 2, 6, 10, 13, 5, 7, 14, 15, 0, 12, 4, 9, 8, 1, 11]\n",
      "\n"
     ]
    }
   ],
   "source": [
    "# latent feature variance overview\n",
    "model_path = \"models\"\n",
    "model_ext = \".pkl\"\n",
    "\n",
    "models = [\n",
    "    \"srnet_model_F01_conv1k\",\n",
    "    \"srnet_model_F01_l1_1n6\",\n",
    "    \"srnet_model_F01_l1_1n4\",\n",
    "    \"srnet_model_F01_l1_1n2\",\n",
    "    \"srnet_model_F01_l1_1n1\",\n",
    "]\n",
    "\n",
    "for model_name in models:\n",
    "    print(model_name)\n",
    "    model = ut.load_model(model_name + model_ext, model_path, SRNet)\n",
    "    \n",
    "    with torch.no_grad():\n",
    "        preds, acts = model(train_data.in_data, get_lat=True)\n",
    "        \n",
    "    all_nodes = ut.get_node_order(acts, show=True)\n",
    "    print(\"\")"
   ]
  },
  {
   "cell_type": "code",
   "execution_count": 32,
   "id": "f1c2544e",
   "metadata": {},
   "outputs": [
    {
     "name": "stdout",
     "output_type": "stream",
     "text": [
      "[0.053635195, 0.03521261, 0.031321988, 0.021988414, 0.007459262, 0.004458526, 0.0022832672, 0.001976531, 0.0018776564, 0.0012145492, 0.00088398193, 0.0007383683, 0.00057585625, 0.00034302214, 0.00011891858, 0.00011776732]\n",
      "[3, 6, 10, 5, 2, 7, 0, 14, 13, 1, 4, 12, 9, 15, 11, 8]\n"
     ]
    }
   ],
   "source": [
    "model_name = \"srnet_model_F01_l1_1n2\"\n",
    "\n",
    "model = ut.load_model(model_name + model_ext, model_path, SRNet)\n",
    "\n",
    "with torch.no_grad():\n",
    "    preds, acts = model(train_data.in_data, get_lat=True)\n",
    "    \n",
    "all_nodes = ut.get_node_order(acts, show=True)\n",
    "\n",
    "nodes = all_nodes[:4]"
   ]
  },
  {
   "cell_type": "code",
   "execution_count": 40,
   "id": "d8941821",
   "metadata": {},
   "outputs": [],
   "source": [
    "# select plotting data\n",
    "x_data = train_data.in_data[:,0]\n",
    "y_data = train_data.in_data[:,1]\n",
    "z_data = [\n",
    "    # train_data.lat_data[:,0],\n",
    "    (\"x**2\", x_data**2), \n",
    "    (\"cos(y)\", np.cos(y_data)), \n",
    "    (\"x*y\", x_data * y_data),\n",
    "]\n",
    "plot_size = train_data.target_data.shape[0]"
   ]
  },
  {
   "cell_type": "code",
   "execution_count": 43,
   "id": "24d2295a",
   "metadata": {},
   "outputs": [
    {
     "data": {
      "application/vnd.jupyter.widget-view+json": {
       "model_id": "85dcc0b6989f4d668e60a8f1e8bb4df2",
       "version_major": 2,
       "version_minor": 0
      },
      "text/plain": [
       "Canvas(toolbar=Toolbar(toolitems=[('Home', 'Reset original view', 'home', 'home'), ('Back', 'Back to previous …"
      ]
     },
     "metadata": {},
     "output_type": "display_data"
    }
   ],
   "source": [
    "ut.plot_acts(x_data, y_data, z_data, model=model, acts=acts, nodes=nodes, plot_size=plot_size)"
   ]
  },
  {
   "cell_type": "code",
   "execution_count": 41,
   "id": "98c12536",
   "metadata": {},
   "outputs": [
    {
     "name": "stdout",
     "output_type": "stream",
     "text": [
      "\n",
      "Node 3\n",
      "corr(n3, x**2): 0.7875/0.7875\n",
      "corr(n3, cos(y)): 0.1547/0.1547\n",
      "corr(n3, x*y): 0.3645/0.3645\n",
      "\n",
      "Node 6\n",
      "corr(n6, x**2): 0.7902/0.7902\n",
      "corr(n6, cos(y)): 0.1306/0.1306\n",
      "corr(n6, x*y): 0.3754/0.3754\n",
      "\n",
      "Node 10\n",
      "corr(n10, x**2): 0.7879/0.7879\n",
      "corr(n10, cos(y)): 0.1083/0.1083\n",
      "corr(n10, x*y): 0.3219/0.3219\n",
      "\n",
      "Node 5\n",
      "corr(n5, x**2): -0.7810/-0.7810\n",
      "corr(n5, cos(y)): -0.1716/-0.1716\n",
      "corr(n5, x*y): -0.4075/-0.4075\n"
     ]
    }
   ],
   "source": [
    "ut.node_correlations(acts, nodes, z_data, nonzero=True)"
   ]
  }
 ],
 "metadata": {
  "kernelspec": {
   "display_name": "Python 3 (ipykernel)",
   "language": "python",
   "name": "python3"
  },
  "language_info": {
   "codemirror_mode": {
    "name": "ipython",
    "version": 3
   },
   "file_extension": ".py",
   "mimetype": "text/x-python",
   "name": "python",
   "nbconvert_exporter": "python",
   "pygments_lexer": "ipython3",
   "version": "3.8.3"
  },
  "toc": {
   "base_numbering": 1,
   "nav_menu": {},
   "number_sections": false,
   "sideBar": true,
   "skip_h1_title": true,
   "title_cell": "Table of Contents",
   "title_sidebar": "Contents",
   "toc_cell": false,
   "toc_position": {},
   "toc_section_display": true,
   "toc_window_display": false
  }
 },
 "nbformat": 4,
 "nbformat_minor": 5
}
