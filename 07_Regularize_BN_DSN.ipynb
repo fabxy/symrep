{
 "cells": [
  {
   "cell_type": "markdown",
   "id": "f89b55e7",
   "metadata": {},
   "source": [
    "# 2022 Flatiron Machine Learning x Science Summer School\n",
    "\n",
    "## Step 7: Explore regularization for bottleneck DSN\n",
    "\n",
    "What we have seen so far:\n",
    "\n",
    "* For problem `F06` without degeneracies, the latent features can be discovered perfectly using the DSN (no GhostAdam required)\n",
    "\n",
    "* For problem `F00` with degeneracies, the latent features cannot be discovered, even when:\n",
    "\n",
    "    * Using the DSN with GhostAdam\n",
    "    \n",
    "    * Training for 100k epochs\n",
    "    \n",
    "    * Increasing $a_2$\n",
    "\n",
    "* It seems that depending on as few input features as possible is not enforced enough or there is a different global minimum, e.g. collapsing into a single latent features (which happens when training for 100k epochs)\n",
    "\n",
    "* In other words, it seems that enforcing sparsity (`few_latents`) is too similar to enforcing `few_dependencies`\n",
    "\n",
    "Let's disentangle the problem by creating a bottleneck, i.e. setting the number of latent features to the correct size a-priori.\n",
    "\n",
    "Then, we can compare the following approaches:\n",
    "\n",
    "* Training DSN\n",
    "\n",
    "* Training DSN with $a_2 \\ne 0$\n",
    "\n",
    "* Training DSN with normalized $\\alpha$ and $a_2 \\ne 0$\n",
    "\n",
    "* Training DSN with normalized $\\alpha$ and minimizing entropy\n",
    "\n",
    "* Training DSN with normalized $\\alpha$ and minimizing entropy x variance\n",
    "\n",
    "Let's go!\n",
    "\n",
    "**TODO**: \n",
    "\n",
    "* Rename steps\n",
    "\n",
    "* First `few_latents`, then `few_dependencies`? Truncate? Consider two step training\n",
    "\n",
    "* Train for longer"
   ]
  },
  {
   "cell_type": "markdown",
   "id": "fb977e3d",
   "metadata": {},
   "source": [
    "### Step 6.1: Train bottleneck DSN"
   ]
  },
  {
   "cell_type": "code",
   "execution_count": 1,
   "id": "f72d1241",
   "metadata": {},
   "outputs": [],
   "source": [
    "%matplotlib widget\n",
    "%load_ext autoreload\n",
    "%autoreload 2\n",
    "\n",
    "import os\n",
    "import numpy as np\n",
    "import matplotlib.pyplot as plt\n",
    "import joblib\n",
    "\n",
    "import torch\n",
    "import wandb\n",
    "\n",
    "from srnet import SRNet, SRData\n",
    "import srnet_utils as ut"
   ]
  },
  {
   "cell_type": "code",
   "execution_count": null,
   "id": "58e0538a",
   "metadata": {},
   "outputs": [],
   "source": [
    "# set wandb project\n",
    "wandb_project = \"61-bn-DSN-F00\""
   ]
  },
  {
   "cell_type": "code",
   "execution_count": null,
   "id": "1595d1b9",
   "metadata": {},
   "outputs": [],
   "source": [
    "# hyperparams = {\n",
    "#     \"arch\": {\n",
    "#         \"in_size\": train_data.in_data.shape[1],\n",
    "#         \"out_size\": train_data.target_data.shape[1],\n",
    "#         \"hid_num\": (2,0),\n",
    "#         \"hid_size\": 32, \n",
    "#         \"hid_type\": (\"DSN\", \"MLP\"),\n",
    "#         \"lat_size\": 3,\n",
    "#         },\n",
    "#     \"epochs\": 10000,\n",
    "#     \"runtime\": None,\n",
    "#     \"batch_size\": 64,\n",
    "#     \"lr\": 1e-4,\n",
    "#     \"wd\": 1e-4,\n",
    "#     \"l1\": 0.0,\n",
    "#     \"a1\": 0.0,\n",
    "#     \"a2\": 0.0,\n",
    "#     \"gc\": 0.0,\n",
    "#     \"shuffle\": True,\n",
    "# }"
   ]
  },
  {
   "cell_type": "code",
   "execution_count": null,
   "id": "0b74b87e",
   "metadata": {},
   "outputs": [],
   "source": [
    "# download data from wandb\n",
    "file_ext = \".pkl\"\n",
    "\n",
    "api = wandb.Api()\n",
    "\n",
    "runs = api.runs(wandb_project)\n",
    "for run in runs:\n",
    "    for f in run.files():\n",
    "        if f.name[-len(file_ext):] == file_ext and not os.path.isfile(f.name):\n",
    "            print(f\"Downloading {os.path.basename(f.name)}.\")\n",
    "            run.file(f.name).download()"
   ]
  },
  {
   "cell_type": "code",
   "execution_count": null,
   "id": "422bfc70",
   "metadata": {},
   "outputs": [],
   "source": [
    "# plot losses\n",
    "save_names = [\"srnet_model_F00_bn\"]\n",
    "save_path = \"models\"\n",
    "models = ut.plot_losses(save_names, save_path=\"models\", excl_names=[\"norm\"])"
   ]
  },
  {
   "cell_type": "code",
   "execution_count": null,
   "id": "5f5b78ba",
   "metadata": {},
   "outputs": [],
   "source": [
    "# load data\n",
    "data_path = \"data_1k\"\n",
    "\n",
    "in_var = \"X00\"\n",
    "lat_var = \"G00\"\n",
    "target_var = \"F00\"\n",
    "\n",
    "mask_ext = \".mask\"\n",
    "masks = joblib.load(os.path.join(data_path, in_var + mask_ext))     # TODO: create mask if file does not exist\n",
    "\n",
    "train_data = SRData(data_path, in_var, lat_var, target_var, masks[\"train\"])\n",
    "val_data = SRData(data_path, in_var, lat_var, target_var, masks[\"val\"])"
   ]
  },
  {
   "cell_type": "code",
   "execution_count": null,
   "id": "fd793504",
   "metadata": {},
   "outputs": [],
   "source": [
    "# overview latent feature variance and alpha matrix\n",
    "model_path = \"models\"\n",
    "model_ext = \".pkl\"\n",
    "\n",
    "alpha_eps = 1e-2\n",
    "alpha_bin = False\n",
    "\n",
    "for model_name in models:\n",
    "    print(model_name)\n",
    "    model = ut.load_model(model_name + model_ext, model_path, SRNet)\n",
    "    \n",
    "    with torch.no_grad():\n",
    "        preds, acts = model(train_data.in_data, get_lat=True)\n",
    "        \n",
    "    all_nodes = ut.get_node_order(acts, show=True)\n",
    "    \n",
    "    if alpha_eps:\n",
    "        alpha = model.layers1.alpha.detach().cpu().numpy()[all_nodes]\n",
    "        \n",
    "        if alpha_bin:\n",
    "            alpha[np.abs(alpha) < alpha_eps] = 0\n",
    "            alpha[np.abs(alpha) > alpha_eps] = 1\n",
    "        \n",
    "        print(alpha[np.abs(alpha).sum(axis=1) > alpha_eps])\n",
    "    \n",
    "    print(\"\")"
   ]
  },
  {
   "cell_type": "code",
   "execution_count": null,
   "id": "755a260a",
   "metadata": {},
   "outputs": [],
   "source": [
    "model_name = \"srnet_model_F00_bn\"\n",
    "\n",
    "model = ut.load_model(model_name + model_ext, model_path, SRNet)\n",
    "\n",
    "with torch.no_grad():\n",
    "    preds, acts = model(train_data.in_data, get_lat=True)\n",
    "    \n",
    "all_nodes = ut.get_node_order(acts, show=True)"
   ]
  },
  {
   "cell_type": "code",
   "execution_count": null,
   "id": "4b47e6cd",
   "metadata": {},
   "outputs": [],
   "source": [
    "nodes = all_nodes[:3]"
   ]
  },
  {
   "cell_type": "code",
   "execution_count": null,
   "id": "d8941821",
   "metadata": {},
   "outputs": [],
   "source": [
    "# select plotting data\n",
    "x_data = train_data.in_data[:,0]\n",
    "y_data = train_data.in_data[:,1]\n",
    "z_data = [\n",
    "    (\"target\", train_data.target_data),\n",
    "    #(\"x**2\", x_data**2), \n",
    "    #(\"cos(y)\", np.cos(y_data)), \n",
    "    #(\"x*y\", x_data * y_data),\n",
    "]\n",
    "plot_size = train_data.target_data.shape[0]"
   ]
  },
  {
   "cell_type": "code",
   "execution_count": null,
   "id": "24d2295a",
   "metadata": {},
   "outputs": [],
   "source": [
    "ut.plot_acts(x_data, y_data, z_data, acts=acts, nodes=nodes, model=model, bias=True, nonzero=False, agg=False, plot_size=plot_size)"
   ]
  },
  {
   "cell_type": "code",
   "execution_count": null,
   "id": "96e14e6e",
   "metadata": {},
   "outputs": [],
   "source": [
    "corr_data = [\n",
    "    (\"x**2\", x_data**2), \n",
    "    (\"cos(y)\", np.cos(y_data)), \n",
    "    (\"x*y\", x_data * y_data),\n",
    "    (\"x\", x_data),\n",
    "    (\"y\", y_data),\n",
    "]"
   ]
  },
  {
   "cell_type": "code",
   "execution_count": null,
   "id": "43a31668",
   "metadata": {},
   "outputs": [],
   "source": [
    "ut.node_correlations(acts, nodes, corr_data, nonzero=True)"
   ]
  },
  {
   "cell_type": "markdown",
   "id": "9f9f1b1c",
   "metadata": {},
   "source": [
    "Notes:\n",
    "\n",
    "* Very interesting\n",
    "\n",
    "* One $\\alpha$ value goes to zero automatically\n",
    "\n",
    "* Latent feature shapes are quite different from previously seen"
   ]
  },
  {
   "cell_type": "markdown",
   "id": "15067fbf",
   "metadata": {},
   "source": [
    "### Step 6.2: Train bottleneck DSN with $a_2$"
   ]
  },
  {
   "cell_type": "code",
   "execution_count": null,
   "id": "0b11ec7c",
   "metadata": {},
   "outputs": [],
   "source": [
    "# set wandb project\n",
    "wandb_project = \"62-bn-DSN-a2-study-F00\""
   ]
  },
  {
   "cell_type": "code",
   "execution_count": null,
   "id": "bed94b45",
   "metadata": {},
   "outputs": [],
   "source": [
    "# hyperparams = {\n",
    "#     \"arch\": {\n",
    "#         \"in_size\": train_data.in_data.shape[1],\n",
    "#         \"out_size\": train_data.target_data.shape[1],\n",
    "#         \"hid_num\": (2,0),\n",
    "#         \"hid_size\": 32, \n",
    "#         \"hid_type\": (\"DSN\", \"MLP\"),\n",
    "#         \"lat_size\": 3,\n",
    "#         },\n",
    "#     \"epochs\": 10000,\n",
    "#     \"runtime\": None,\n",
    "#     \"batch_size\": 64,\n",
    "#     \"lr\": 1e-4,\n",
    "#     \"wd\": 1e-4,\n",
    "#     \"l1\": 0.0,\n",
    "#     \"a1\": 0.0,\n",
    "#     \"a2\": 0.0,\n",
    "#     \"gc\": 0.0,\n",
    "#     \"shuffle\": True,\n",
    "# }"
   ]
  },
  {
   "cell_type": "code",
   "execution_count": null,
   "id": "117a8518",
   "metadata": {},
   "outputs": [],
   "source": [
    "# define hyperparameter study\n",
    "hp_study = {\n",
    "    \"method\": \"grid\", # random, bayesian\n",
    "    #\"metric\": {\n",
    "    #    \"name\": \"val_loss\",\n",
    "    #    \"goal\": \"minimize\",\n",
    "    #},\n",
    "    \"parameters\": {\n",
    "        #\"l1\": {\n",
    "        #    \"values\": [1e-4, 1e-3, 1e-2]\n",
    "        #},\n",
    "        \"a2\": {\n",
    "            \"values\": [1e-3, 1e-2, 1e-1, 1e0]\n",
    "        }\n",
    "    }\n",
    "}"
   ]
  },
  {
   "cell_type": "code",
   "execution_count": null,
   "id": "7f73ef9c",
   "metadata": {},
   "outputs": [],
   "source": [
    "# create sweep\n",
    "sweep_id = wandb.sweep(hp_study, project=wandb_project)"
   ]
  },
  {
   "cell_type": "code",
   "execution_count": null,
   "id": "39dfd0b0",
   "metadata": {},
   "outputs": [],
   "source": [
    "# download data from wandb\n",
    "file_ext = \".pkl\"\n",
    "\n",
    "api = wandb.Api()\n",
    "\n",
    "runs = api.runs(wandb_project)\n",
    "for run in runs:\n",
    "    for f in run.files():\n",
    "        if f.name[-len(file_ext):] == file_ext and not os.path.isfile(f.name):\n",
    "            print(f\"Downloading {os.path.basename(f.name)}.\")\n",
    "            run.file(f.name).download()"
   ]
  },
  {
   "cell_type": "code",
   "execution_count": null,
   "id": "04525ef6",
   "metadata": {},
   "outputs": [],
   "source": [
    "# plot losses\n",
    "save_names = [\"F00_bn_a2\"]\n",
    "save_path = \"models\"\n",
    "models = ut.plot_losses(save_names, save_path=\"models\")"
   ]
  },
  {
   "cell_type": "code",
   "execution_count": null,
   "id": "0608af5b",
   "metadata": {},
   "outputs": [],
   "source": [
    "# load data\n",
    "data_path = \"data_1k\"\n",
    "\n",
    "in_var = \"X00\"\n",
    "lat_var = \"G00\"\n",
    "target_var = \"F00\"\n",
    "\n",
    "mask_ext = \".mask\"\n",
    "masks = joblib.load(os.path.join(data_path, in_var + mask_ext))     # TODO: create mask if file does not exist\n",
    "\n",
    "train_data = SRData(data_path, in_var, lat_var, target_var, masks[\"train\"])\n",
    "val_data = SRData(data_path, in_var, lat_var, target_var, masks[\"val\"])"
   ]
  },
  {
   "cell_type": "code",
   "execution_count": null,
   "id": "3e10783a",
   "metadata": {},
   "outputs": [],
   "source": [
    "# overview latent feature variance and alpha matrix\n",
    "model_path = \"models\"\n",
    "model_ext = \".pkl\"\n",
    "\n",
    "alpha_eps = 1e-2\n",
    "alpha_bin = False\n",
    "\n",
    "for model_name in models:\n",
    "    print(model_name)\n",
    "    model = ut.load_model(model_name + model_ext, model_path, SRNet)\n",
    "    \n",
    "    with torch.no_grad():\n",
    "        preds, acts = model(train_data.in_data, get_lat=True)\n",
    "        \n",
    "    all_nodes = ut.get_node_order(acts, show=True)\n",
    "    \n",
    "    if alpha_eps:\n",
    "        alpha = model.layers1.alpha.detach().cpu().numpy()[all_nodes]\n",
    "        \n",
    "        if alpha_bin:\n",
    "            alpha[np.abs(alpha) < alpha_eps] = 0\n",
    "            alpha[np.abs(alpha) > alpha_eps] = 1\n",
    "        \n",
    "        print(alpha[np.abs(alpha).sum(axis=1) > alpha_eps])\n",
    "    \n",
    "    print(\"\")"
   ]
  },
  {
   "cell_type": "code",
   "execution_count": null,
   "id": "5fc7e383",
   "metadata": {},
   "outputs": [],
   "source": [
    "model_name = \"srnet_model_F00_bn_a2_1e-01\"\n",
    "\n",
    "model = ut.load_model(model_name + model_ext, model_path, SRNet)\n",
    "\n",
    "with torch.no_grad():\n",
    "    preds, acts = model(train_data.in_data, get_lat=True)\n",
    "    \n",
    "all_nodes = ut.get_node_order(acts, show=True)"
   ]
  },
  {
   "cell_type": "code",
   "execution_count": null,
   "id": "79c0eaf8",
   "metadata": {},
   "outputs": [],
   "source": [
    "nodes = all_nodes[:2]"
   ]
  },
  {
   "cell_type": "code",
   "execution_count": null,
   "id": "96b6dbb0",
   "metadata": {},
   "outputs": [],
   "source": [
    "# select plotting data\n",
    "x_data = train_data.in_data[:,0]\n",
    "y_data = train_data.in_data[:,1]\n",
    "z_data = [\n",
    "    (\"target\", train_data.target_data),\n",
    "    #(\"x**2\", x_data**2), \n",
    "    #(\"cos(y)\", np.cos(y_data)), \n",
    "    #(\"x*y\", x_data * y_data),\n",
    "]\n",
    "plot_size = train_data.target_data.shape[0]"
   ]
  },
  {
   "cell_type": "code",
   "execution_count": null,
   "id": "c4f97000",
   "metadata": {},
   "outputs": [],
   "source": [
    "ut.plot_acts(x_data, y_data, z_data, acts=acts, nodes=nodes, model=model, bias=True, nonzero=False, agg=False, plot_size=plot_size)"
   ]
  },
  {
   "cell_type": "code",
   "execution_count": null,
   "id": "f969b196",
   "metadata": {},
   "outputs": [],
   "source": [
    "corr_data = [\n",
    "    (\"x**2\", x_data**2), \n",
    "    (\"cos(y)\", np.cos(y_data)), \n",
    "    (\"x*y\", x_data * y_data),\n",
    "    (\"x\", x_data),\n",
    "    (\"y\", y_data),\n",
    "]"
   ]
  },
  {
   "cell_type": "code",
   "execution_count": null,
   "id": "42b5ca3a",
   "metadata": {},
   "outputs": [],
   "source": [
    "ut.node_correlations(acts, nodes, corr_data, nonzero=True)"
   ]
  },
  {
   "cell_type": "markdown",
   "id": "0f937406",
   "metadata": {},
   "source": [
    "### Step 6.3: Train bottleneck DSN with $\\hat{\\alpha}$ and $a_2$"
   ]
  },
  {
   "cell_type": "code",
   "execution_count": null,
   "id": "f5813169",
   "metadata": {},
   "outputs": [],
   "source": [
    "# set wandb project\n",
    "wandb_project = \"63-bn-DSN-norm-a2-study-F00\""
   ]
  },
  {
   "cell_type": "code",
   "execution_count": null,
   "id": "1b56110d",
   "metadata": {},
   "outputs": [],
   "source": [
    "# hyperparams = {\n",
    "#     \"arch\": {\n",
    "#         \"in_size\": train_data.in_data.shape[1],\n",
    "#         \"out_size\": train_data.target_data.shape[1],\n",
    "#         \"hid_num\": (2,0),\n",
    "#         \"hid_size\": 32, \n",
    "#         \"hid_type\": (\"DSN\", \"MLP\"),\n",
    "#         \"hid_kwargs\": ({\"norm\": \"softmax\"}, {}),\n",
    "#         \"lat_size\": 3,\n",
    "#         },\n",
    "#     \"epochs\": 10000,\n",
    "#     \"runtime\": None,\n",
    "#     \"batch_size\": 64,\n",
    "#     \"lr\": 1e-4,\n",
    "#     \"wd\": 1e-4,\n",
    "#     \"l1\": 0.0,\n",
    "#     \"a1\": 0.0,\n",
    "#     \"a2\": 0.0,\n",
    "#     \"gc\": 0.0,\n",
    "#     \"shuffle\": True,\n",
    "# }"
   ]
  },
  {
   "cell_type": "code",
   "execution_count": null,
   "id": "7eb90f44",
   "metadata": {},
   "outputs": [],
   "source": [
    "# define hyperparameter study\n",
    "hp_study = {\n",
    "    \"method\": \"grid\", # random, bayesian\n",
    "    #\"metric\": {\n",
    "    #    \"name\": \"val_loss\",\n",
    "    #    \"goal\": \"minimize\",\n",
    "    #},\n",
    "    \"parameters\": {\n",
    "        #\"l1\": {\n",
    "        #    \"values\": [1e-4, 1e-3, 1e-2]\n",
    "        #},\n",
    "        \"a2\": {\n",
    "            \"values\": [0.0, 1e-3, 1e-2, 1e-1, 1e0]\n",
    "        }\n",
    "    }\n",
    "}"
   ]
  },
  {
   "cell_type": "code",
   "execution_count": null,
   "id": "4dd2d039",
   "metadata": {},
   "outputs": [],
   "source": [
    "# create sweep\n",
    "sweep_id = wandb.sweep(hp_study, project=wandb_project)"
   ]
  },
  {
   "cell_type": "code",
   "execution_count": null,
   "id": "f4f962e1",
   "metadata": {},
   "outputs": [],
   "source": [
    "# download data from wandb\n",
    "file_ext = \".pkl\"\n",
    "\n",
    "api = wandb.Api()\n",
    "\n",
    "runs = api.runs(wandb_project)\n",
    "for run in runs:\n",
    "    for f in run.files():\n",
    "        if f.name[-len(file_ext):] == file_ext and not os.path.isfile(f.name):\n",
    "            print(f\"Downloading {os.path.basename(f.name)}.\")\n",
    "            run.file(f.name).download()"
   ]
  },
  {
   "cell_type": "code",
   "execution_count": null,
   "id": "2baaa94a",
   "metadata": {},
   "outputs": [],
   "source": [
    "# plot losses\n",
    "save_names = [\"F00_bn_norm_a2\"]\n",
    "save_path = \"models\"\n",
    "models = ut.plot_losses(save_names, save_path=\"models\")"
   ]
  },
  {
   "cell_type": "code",
   "execution_count": null,
   "id": "06abffac",
   "metadata": {},
   "outputs": [],
   "source": [
    "# load data\n",
    "data_path = \"data_1k\"\n",
    "\n",
    "in_var = \"X00\"\n",
    "lat_var = \"G00\"\n",
    "target_var = \"F00\"\n",
    "\n",
    "mask_ext = \".mask\"\n",
    "masks = joblib.load(os.path.join(data_path, in_var + mask_ext))     # TODO: create mask if file does not exist\n",
    "\n",
    "train_data = SRData(data_path, in_var, lat_var, target_var, masks[\"train\"])\n",
    "val_data = SRData(data_path, in_var, lat_var, target_var, masks[\"val\"])"
   ]
  },
  {
   "cell_type": "code",
   "execution_count": null,
   "id": "9ecafdc2",
   "metadata": {},
   "outputs": [],
   "source": [
    "# overview latent feature variance and alpha matrix\n",
    "model_path = \"models\"\n",
    "model_ext = \".pkl\"\n",
    "\n",
    "alpha_eps = 1e-6\n",
    "alpha_bin = False\n",
    "\n",
    "for model_name in models:\n",
    "    print(model_name)\n",
    "    model = ut.load_model(model_name + model_ext, model_path, SRNet)\n",
    "    \n",
    "    with torch.no_grad():\n",
    "        preds, acts = model(train_data.in_data, get_lat=True)\n",
    "        \n",
    "    all_nodes = ut.get_node_order(acts, show=True)\n",
    "    \n",
    "    if alpha_eps:\n",
    "        alpha = model.layers1.alpha.detach().cpu().numpy()[all_nodes]\n",
    "        \n",
    "        if alpha_bin:\n",
    "            alpha[np.abs(alpha) < alpha_eps] = 0\n",
    "            alpha[np.abs(alpha) > alpha_eps] = 1\n",
    "        \n",
    "        print(alpha[np.abs(alpha).sum(axis=1) > alpha_eps])\n",
    "    \n",
    "    print(\"\")"
   ]
  },
  {
   "cell_type": "code",
   "execution_count": null,
   "id": "ea607ac1",
   "metadata": {},
   "outputs": [],
   "source": [
    "model_name = \"srnet_model_F00_bn\"\n",
    "\n",
    "model = ut.load_model(model_name + model_ext, model_path, SRNet)\n",
    "\n",
    "with torch.no_grad():\n",
    "    preds, acts = model(train_data.in_data, get_lat=True)\n",
    "    \n",
    "all_nodes = ut.get_node_order(acts, show=True)"
   ]
  },
  {
   "cell_type": "code",
   "execution_count": null,
   "id": "8c583720",
   "metadata": {},
   "outputs": [],
   "source": [
    "nodes = all_nodes[:3]"
   ]
  },
  {
   "cell_type": "code",
   "execution_count": null,
   "id": "372ea755",
   "metadata": {},
   "outputs": [],
   "source": [
    "# select plotting data\n",
    "x_data = train_data.in_data[:,0]\n",
    "y_data = train_data.in_data[:,1]\n",
    "z_data = [\n",
    "    (\"target\", train_data.target_data),\n",
    "    #(\"x**2\", x_data**2), \n",
    "    #(\"cos(y)\", np.cos(y_data)), \n",
    "    #(\"x*y\", x_data * y_data),\n",
    "]\n",
    "plot_size = train_data.target_data.shape[0]"
   ]
  },
  {
   "cell_type": "code",
   "execution_count": null,
   "id": "15a3ed53",
   "metadata": {},
   "outputs": [],
   "source": [
    "ut.plot_acts(x_data, y_data, z_data, acts=acts, nodes=nodes, model=model, bias=True, nonzero=False, agg=False, plot_size=plot_size)"
   ]
  },
  {
   "cell_type": "code",
   "execution_count": null,
   "id": "fcc749f2",
   "metadata": {},
   "outputs": [],
   "source": [
    "corr_data = [\n",
    "    (\"x**2\", x_data**2), \n",
    "    (\"cos(y)\", np.cos(y_data)), \n",
    "    (\"x*y\", x_data * y_data),\n",
    "    (\"x\", x_data),\n",
    "    (\"y\", y_data),\n",
    "]"
   ]
  },
  {
   "cell_type": "code",
   "execution_count": null,
   "id": "cdd05070",
   "metadata": {},
   "outputs": [],
   "source": [
    "ut.node_correlations(acts, nodes, corr_data, nonzero=True)"
   ]
  },
  {
   "cell_type": "markdown",
   "id": "24e34f82",
   "metadata": {},
   "source": [
    "### Step 6.4: Train bottleneck DSN with $\\hat{\\alpha}$ and $e_1$"
   ]
  },
  {
   "cell_type": "code",
   "execution_count": 9,
   "id": "329e720f",
   "metadata": {},
   "outputs": [],
   "source": [
    "# set wandb project\n",
    "wandb_project = \"64-bn-DSN-norm-e1-study-F00\""
   ]
  },
  {
   "cell_type": "code",
   "execution_count": 10,
   "id": "9299fc69",
   "metadata": {},
   "outputs": [],
   "source": [
    "# hyperparams = {\n",
    "#     \"arch\": {\n",
    "#         \"in_size\": train_data.in_data.shape[1],\n",
    "#         \"out_size\": train_data.target_data.shape[1],\n",
    "#         \"hid_num\": (2,0),\n",
    "#         \"hid_size\": 32, \n",
    "#         \"hid_type\": (\"DSN\", \"MLP\"),\n",
    "#         \"hid_kwargs\": ({\"norm\": \"softmax\"}, {}),\n",
    "#         \"lat_size\": 3,\n",
    "#         },\n",
    "#     \"epochs\": 10000,\n",
    "#     \"runtime\": None,\n",
    "#     \"batch_size\": 64,\n",
    "#     \"lr\": 1e-4,\n",
    "#     \"wd\": 1e-4,\n",
    "#     \"l1\": 0.0,\n",
    "#     \"a1\": 0.0,\n",
    "#     \"a2\": 0.0,\n",
    "#     \"e1\": 0.0,\n",
    "#     \"gc\": 0.0,\n",
    "#     \"shuffle\": True,\n",
    "# }"
   ]
  },
  {
   "cell_type": "code",
   "execution_count": 11,
   "id": "b6fe8c45",
   "metadata": {},
   "outputs": [],
   "source": [
    "# define hyperparameter study\n",
    "hp_study = {\n",
    "    \"method\": \"grid\", # random, bayesian\n",
    "    #\"metric\": {\n",
    "    #    \"name\": \"val_loss\",\n",
    "    #    \"goal\": \"minimize\",\n",
    "    #},\n",
    "    \"parameters\": {\n",
    "        #\"l1\": {\n",
    "        #    \"values\": [1e-4, 1e-3, 1e-2]\n",
    "        #},\n",
    "        \"e1\": {\n",
    "            \"values\": [0.0, 1e-5, 1e-3, 1e-1, 1e1]\n",
    "        }\n",
    "    }\n",
    "}"
   ]
  },
  {
   "cell_type": "code",
   "execution_count": null,
   "id": "a385bd6d",
   "metadata": {},
   "outputs": [],
   "source": [
    "# create sweep\n",
    "sweep_id = wandb.sweep(hp_study, project=wandb_project)"
   ]
  },
  {
   "cell_type": "code",
   "execution_count": 12,
   "id": "c6c44e26",
   "metadata": {},
   "outputs": [
    {
     "name": "stdout",
     "output_type": "stream",
     "text": [
      "Downloading srnet_model_F00_bn_norm_e1_1e-02.pkl.\n"
     ]
    }
   ],
   "source": [
    "# download data from wandb\n",
    "file_ext = \".pkl\"\n",
    "\n",
    "api = wandb.Api()\n",
    "\n",
    "runs = api.runs(wandb_project)\n",
    "for run in runs:\n",
    "    for f in run.files():\n",
    "        if f.name[-len(file_ext):] == file_ext and not os.path.isfile(f.name):\n",
    "            print(f\"Downloading {os.path.basename(f.name)}.\")\n",
    "            run.file(f.name).download()"
   ]
  },
  {
   "cell_type": "code",
   "execution_count": 13,
   "id": "cc4c3362",
   "metadata": {},
   "outputs": [
    {
     "data": {
      "application/vnd.jupyter.widget-view+json": {
       "model_id": "3114b3f104da4d689debf832d4cfa3a0",
       "version_major": 2,
       "version_minor": 0
      },
      "text/plain": [
       "Canvas(toolbar=Toolbar(toolitems=[('Home', 'Reset original view', 'home', 'home'), ('Back', 'Back to previous …"
      ]
     },
     "metadata": {},
     "output_type": "display_data"
    }
   ],
   "source": [
    "# plot losses\n",
    "save_names = [\"F00_bn_norm_e1\"]\n",
    "save_path = \"models\"\n",
    "models = ut.plot_losses(save_names, save_path=\"models\")"
   ]
  },
  {
   "cell_type": "code",
   "execution_count": 14,
   "id": "af27a64d",
   "metadata": {},
   "outputs": [],
   "source": [
    "# load data\n",
    "data_path = \"data_1k\"\n",
    "\n",
    "in_var = \"X00\"\n",
    "lat_var = \"G00\"\n",
    "target_var = \"F00\"\n",
    "\n",
    "mask_ext = \".mask\"\n",
    "masks = joblib.load(os.path.join(data_path, in_var + mask_ext))     # TODO: create mask if file does not exist\n",
    "\n",
    "train_data = SRData(data_path, in_var, lat_var, target_var, masks[\"train\"])\n",
    "val_data = SRData(data_path, in_var, lat_var, target_var, masks[\"val\"])"
   ]
  },
  {
   "cell_type": "code",
   "execution_count": 15,
   "id": "12d62c49",
   "metadata": {},
   "outputs": [
    {
     "name": "stdout",
     "output_type": "stream",
     "text": [
      "srnet_model_F00_bn_norm_e1_0e+00\n",
      "[0.7364508, 0.48084727, 0.23385297]\n",
      "[1, 0, 2]\n",
      "[[-1.5839932   0.51744026]\n",
      " [ 0.97438246 -0.5205308 ]\n",
      " [-0.8817944  -0.97543824]]\n",
      "\n",
      "srnet_model_F00_bn_norm_e1_1e+01\n",
      "[2.45539, 0.38972935, 0.14927715]\n",
      "[1, 0, 2]\n",
      "[[-7.5406394e+00  1.6684064e-05]\n",
      " [ 5.8884821e+00 -1.8821185e-04]\n",
      " [-2.0058741e-04 -6.3895998e+00]]\n",
      "\n",
      "srnet_model_F00_bn_norm_e1_1e-01\n",
      "[0.7481753, 0.7479166, 0.62162703]\n",
      "[2, 1, 0]\n",
      "[[ 1.4666026e-05 -4.7776794e+00]\n",
      " [-5.0577326e+00  8.3070981e-06]\n",
      " [ 3.8075233e+00 -5.9154321e-04]]\n",
      "\n",
      "srnet_model_F00_bn_norm_e1_1e-02\n",
      "[1.1345829, 0.62815154, 0.2887137]\n",
      "[1, 0, 2]\n",
      "[[-3.7636557e+00  3.5644669e-05]\n",
      " [ 2.6125922e+00  6.6711596e-05]\n",
      " [-9.8887729e-05 -3.5168018e+00]]\n",
      "\n",
      "srnet_model_F00_bn_norm_e1_1e-03\n",
      "[0.66432446, 0.51293874, 0.23554066]\n",
      "[1, 0, 2]\n",
      "[[-2.2562172e+00  9.6815296e-05]\n",
      " [ 1.2901431e+00 -1.5158442e-01]\n",
      " [-6.3947332e-01 -1.2535298e+00]]\n",
      "\n",
      "srnet_model_F00_bn_norm_e1_1e-05\n",
      "[0.7657546, 0.46918085, 0.23475884]\n",
      "[1, 0, 2]\n",
      "[[-1.5981584   0.5131855 ]\n",
      " [ 0.97823876 -0.5193625 ]\n",
      " [-0.88623065 -0.98127824]]\n",
      "\n"
     ]
    }
   ],
   "source": [
    "# overview latent feature variance and alpha matrix\n",
    "model_path = \"models\"\n",
    "model_ext = \".pkl\"\n",
    "\n",
    "alpha_eps = 1e-2\n",
    "alpha_bin = False\n",
    "\n",
    "for model_name in models:\n",
    "    print(model_name)\n",
    "    model = ut.load_model(model_name + model_ext, model_path, SRNet)\n",
    "    \n",
    "    with torch.no_grad():\n",
    "        preds, acts = model(train_data.in_data, get_lat=True)\n",
    "        \n",
    "    all_nodes = ut.get_node_order(acts, show=True)\n",
    "    \n",
    "    if alpha_eps:\n",
    "        alpha = model.layers1.alpha.detach().cpu().numpy()[all_nodes]\n",
    "        \n",
    "        if alpha_bin:\n",
    "            alpha[np.abs(alpha) < alpha_eps] = 0\n",
    "            alpha[np.abs(alpha) > alpha_eps] = 1\n",
    "        \n",
    "        print(alpha[np.abs(alpha).sum(axis=1) > alpha_eps])\n",
    "    \n",
    "    print(\"\")"
   ]
  },
  {
   "cell_type": "code",
   "execution_count": 16,
   "id": "8c139a72",
   "metadata": {},
   "outputs": [
    {
     "name": "stdout",
     "output_type": "stream",
     "text": [
      "[1.1345829, 0.62815154, 0.2887137]\n",
      "[1, 0, 2]\n"
     ]
    }
   ],
   "source": [
    "model_name = \"srnet_model_F00_bn_norm_e1_1e-02\"\n",
    "\n",
    "model = ut.load_model(model_name + model_ext, model_path, SRNet)\n",
    "\n",
    "with torch.no_grad():\n",
    "    preds, acts = model(train_data.in_data, get_lat=True)\n",
    "    \n",
    "all_nodes = ut.get_node_order(acts, show=True)"
   ]
  },
  {
   "cell_type": "code",
   "execution_count": 17,
   "id": "2ddae627",
   "metadata": {},
   "outputs": [],
   "source": [
    "nodes = all_nodes[:3]"
   ]
  },
  {
   "cell_type": "code",
   "execution_count": 18,
   "id": "cc1808a9",
   "metadata": {},
   "outputs": [],
   "source": [
    "# select plotting data\n",
    "x_data = train_data.in_data[:,0]\n",
    "y_data = train_data.in_data[:,1]\n",
    "z_data = [\n",
    "    (\"target\", train_data.target_data),\n",
    "    #(\"x**2\", x_data**2), \n",
    "    #(\"cos(y)\", np.cos(y_data)), \n",
    "    #(\"x*y\", x_data * y_data),\n",
    "]\n",
    "plot_size = train_data.target_data.shape[0]"
   ]
  },
  {
   "cell_type": "code",
   "execution_count": 19,
   "id": "5f9952ad",
   "metadata": {},
   "outputs": [
    {
     "data": {
      "application/vnd.jupyter.widget-view+json": {
       "model_id": "3f94110abd8e4c78a00866b39dd2c486",
       "version_major": 2,
       "version_minor": 0
      },
      "text/plain": [
       "Canvas(toolbar=Toolbar(toolitems=[('Home', 'Reset original view', 'home', 'home'), ('Back', 'Back to previous …"
      ]
     },
     "metadata": {},
     "output_type": "display_data"
    }
   ],
   "source": [
    "ut.plot_acts(x_data, y_data, z_data, acts=acts, nodes=nodes, model=model, bias=True, nonzero=False, agg=False, plot_size=plot_size)"
   ]
  },
  {
   "cell_type": "code",
   "execution_count": 20,
   "id": "6604a041",
   "metadata": {},
   "outputs": [],
   "source": [
    "corr_data = [\n",
    "    (\"x**2\", x_data**2), \n",
    "    (\"cos(y)\", np.cos(y_data)), \n",
    "    (\"x*y\", x_data * y_data),\n",
    "    (\"x\", x_data),\n",
    "    (\"y\", y_data),\n",
    "]"
   ]
  },
  {
   "cell_type": "code",
   "execution_count": 21,
   "id": "d2c47f90",
   "metadata": {},
   "outputs": [
    {
     "name": "stdout",
     "output_type": "stream",
     "text": [
      "\n",
      "Node 1\n",
      "corr(n1, x**2): -0.6755/-0.6755\n",
      "corr(n1, cos(y)): 0.0114/0.0114\n",
      "corr(n1, x*y): -0.1712/-0.1712\n",
      "corr(n1, x): -0.8817/-0.8817\n",
      "corr(n1, y): -0.0393/-0.0393\n",
      "\n",
      "Node 0\n",
      "corr(n0, x**2): -0.6556/-0.6556\n",
      "corr(n0, cos(y)): -0.0993/-0.0993\n",
      "corr(n0, x*y): -0.6574/-0.6574\n",
      "corr(n0, x): 0.1075/0.1075\n",
      "corr(n0, y): 0.3171/0.3171\n",
      "\n",
      "Node 2\n",
      "corr(n2, x**2): 0.0314/0.0314\n",
      "corr(n2, cos(y)): 0.3564/0.3564\n",
      "corr(n2, x*y): 0.0860/0.0860\n",
      "corr(n2, x): -0.0281/-0.0281\n",
      "corr(n2, y): 0.8895/0.8895\n"
     ]
    }
   ],
   "source": [
    "ut.node_correlations(acts, nodes, corr_data, nonzero=True)"
   ]
  },
  {
   "cell_type": "code",
   "execution_count": 22,
   "id": "9fe8f007",
   "metadata": {},
   "outputs": [
    {
     "data": {
      "application/vnd.jupyter.widget-view+json": {
       "model_id": "70e9b802bdcd48afb7d11f595609cc92",
       "version_major": 2,
       "version_minor": 0
      },
      "text/plain": [
       "Canvas(toolbar=Toolbar(toolitems=[('Home', 'Reset original view', 'home', 'home'), ('Back', 'Back to previous …"
      ]
     },
     "metadata": {},
     "output_type": "display_data"
    }
   ],
   "source": [
    "fig, ax = plt.subplots()\n",
    "\n",
    "ax.scatter(y_data, np.cos(y_data))\n",
    "ax.scatter(y_data, acts[:,2])\n",
    "\n",
    "plt.show()"
   ]
  },
  {
   "cell_type": "code",
   "execution_count": 23,
   "id": "d6928293",
   "metadata": {},
   "outputs": [
    {
     "data": {
      "application/vnd.jupyter.widget-view+json": {
       "model_id": "3ff28f70e7fb4677b7e9cc8287d04b2d",
       "version_major": 2,
       "version_minor": 0
      },
      "text/plain": [
       "Canvas(toolbar=Toolbar(toolitems=[('Home', 'Reset original view', 'home', 'home'), ('Back', 'Back to previous …"
      ]
     },
     "metadata": {},
     "output_type": "display_data"
    }
   ],
   "source": [
    "fig, ax = plt.subplots()\n",
    "\n",
    "ax.scatter(x_data, x_data**2)\n",
    "ax.scatter(x_data, acts[:,1])\n",
    "\n",
    "plt.show()"
   ]
  },
  {
   "cell_type": "code",
   "execution_count": 24,
   "id": "9b1fd7b1",
   "metadata": {},
   "outputs": [
    {
     "data": {
      "application/vnd.jupyter.widget-view+json": {
       "model_id": "a09e8bd812474786bc9d689beba43ef2",
       "version_major": 2,
       "version_minor": 0
      },
      "text/plain": [
       "Canvas(toolbar=Toolbar(toolitems=[('Home', 'Reset original view', 'home', 'home'), ('Back', 'Back to previous …"
      ]
     },
     "metadata": {},
     "output_type": "display_data"
    }
   ],
   "source": [
    "fig, ax = plt.subplots()\n",
    "\n",
    "ax.scatter(x_data, x_data**2)\n",
    "ax.scatter(x_data, acts[:,0])\n",
    "\n",
    "plt.show()"
   ]
  },
  {
   "cell_type": "code",
   "execution_count": 25,
   "id": "f8185f10",
   "metadata": {},
   "outputs": [],
   "source": [
    "# select plotting data\n",
    "x_data = train_data.in_data[:,0]\n",
    "y_data = train_data.in_data[:,1]\n",
    "z_data = [\n",
    "    #(\"target\", train_data.target_data),\n",
    "    #(\"x**2\", x_data**2), \n",
    "    #(\"cos(y)\", np.cos(y_data)), \n",
    "    (\"x*y\", x_data * y_data),\n",
    "]\n",
    "plot_size = train_data.target_data.shape[0]"
   ]
  },
  {
   "cell_type": "code",
   "execution_count": 26,
   "id": "23b4e5a8",
   "metadata": {},
   "outputs": [
    {
     "data": {
      "application/vnd.jupyter.widget-view+json": {
       "model_id": "8f1192f1aad140ad9fc9e917cd34fa6d",
       "version_major": 2,
       "version_minor": 0
      },
      "text/plain": [
       "Canvas(toolbar=Toolbar(toolitems=[('Home', 'Reset original view', 'home', 'home'), ('Back', 'Back to previous …"
      ]
     },
     "metadata": {},
     "output_type": "display_data"
    }
   ],
   "source": [
    "ut.plot_acts(x_data, y_data, z_data, acts=acts, nodes=[0], model=model, bias=True, nonzero=False, agg=False, plot_size=plot_size)"
   ]
  },
  {
   "cell_type": "code",
   "execution_count": 27,
   "id": "9bbde7bc",
   "metadata": {},
   "outputs": [],
   "source": [
    "# select plotting data\n",
    "x_data = train_data.in_data[:,0]\n",
    "y_data = train_data.in_data[:,1]\n",
    "z_data = [\n",
    "    #(\"target\", train_data.target_data),\n",
    "    (\"x**2\", x_data**2), \n",
    "    #(\"cos(y)\", np.cos(y_data)), \n",
    "    #(\"x*y\", x_data * y_data),\n",
    "]\n",
    "plot_size = train_data.target_data.shape[0]"
   ]
  },
  {
   "cell_type": "code",
   "execution_count": 28,
   "id": "aa0b40a1",
   "metadata": {},
   "outputs": [
    {
     "data": {
      "application/vnd.jupyter.widget-view+json": {
       "model_id": "3e3212066b9e403cb39ced42a9e51126",
       "version_major": 2,
       "version_minor": 0
      },
      "text/plain": [
       "Canvas(toolbar=Toolbar(toolitems=[('Home', 'Reset original view', 'home', 'home'), ('Back', 'Back to previous …"
      ]
     },
     "metadata": {},
     "output_type": "display_data"
    }
   ],
   "source": [
    "ut.plot_acts(x_data, y_data, z_data, acts=acts, nodes=[1], model=model, bias=True, nonzero=False, agg=False, plot_size=plot_size)"
   ]
  },
  {
   "cell_type": "code",
   "execution_count": 29,
   "id": "d8add867",
   "metadata": {},
   "outputs": [],
   "source": [
    "# select plotting data\n",
    "x_data = train_data.in_data[:,0]\n",
    "y_data = train_data.in_data[:,1]\n",
    "z_data = [\n",
    "    #(\"target\", train_data.target_data),\n",
    "    #(\"x**2\", x_data**2), \n",
    "    (\"cos(y)\", np.cos(y_data)), \n",
    "    #(\"x*y\", x_data * y_data),\n",
    "]\n",
    "plot_size = train_data.target_data.shape[0]"
   ]
  },
  {
   "cell_type": "code",
   "execution_count": 30,
   "id": "1f94b9eb",
   "metadata": {},
   "outputs": [
    {
     "data": {
      "application/vnd.jupyter.widget-view+json": {
       "model_id": "131c0a540ac14b7d8cca70941734bc8c",
       "version_major": 2,
       "version_minor": 0
      },
      "text/plain": [
       "Canvas(toolbar=Toolbar(toolitems=[('Home', 'Reset original view', 'home', 'home'), ('Back', 'Back to previous …"
      ]
     },
     "metadata": {},
     "output_type": "display_data"
    }
   ],
   "source": [
    "ut.plot_acts(x_data, y_data, z_data, acts=acts, nodes=[2], model=model, bias=True, nonzero=False, agg=False, plot_size=plot_size)"
   ]
  },
  {
   "cell_type": "markdown",
   "id": "637a1396",
   "metadata": {},
   "source": [
    "### Step 6.5: Train bottleneck DSN with $\\hat{\\alpha}$ and $e_2$\n",
    "\n",
    "We want to penalize `F.softmax(lat_acts.var(dim=0)) * entropy`, not `lat_acts.var(dim=0) * entropy`.\n",
    "\n",
    "However, this might be more effective for non-bottleneck DSNs."
   ]
  },
  {
   "cell_type": "code",
   "execution_count": 31,
   "id": "8345ef6e",
   "metadata": {},
   "outputs": [],
   "source": [
    "# set wandb project\n",
    "wandb_project = \"65-bn-DSN-norm-e2-study-F00\""
   ]
  },
  {
   "cell_type": "code",
   "execution_count": 32,
   "id": "b898c2d9",
   "metadata": {},
   "outputs": [],
   "source": [
    "# hyperparams = {\n",
    "#     \"arch\": {\n",
    "#         \"in_size\": train_data.in_data.shape[1],\n",
    "#         \"out_size\": train_data.target_data.shape[1],\n",
    "#         \"hid_num\": (2,0),\n",
    "#         \"hid_size\": 32, \n",
    "#         \"hid_type\": (\"DSN\", \"MLP\"),\n",
    "#         \"hid_kwargs\": ({\"norm\": \"softmax\"}, {}),\n",
    "#         \"lat_size\": 3,\n",
    "#         },\n",
    "#     \"epochs\": 10000,\n",
    "#     \"runtime\": None,\n",
    "#     \"batch_size\": 64,\n",
    "#     \"lr\": 1e-4,\n",
    "#     \"wd\": 1e-4,\n",
    "#     \"l1\": 0.0,\n",
    "#     \"a1\": 0.0,\n",
    "#     \"a2\": 0.0,\n",
    "#     \"e1\": 0.0,\n",
    "#     \"e2\": 0.0,\n",
    "#     \"gc\": 0.0,\n",
    "#     \"shuffle\": True,\n",
    "# }"
   ]
  },
  {
   "cell_type": "code",
   "execution_count": 33,
   "id": "62342aaa",
   "metadata": {},
   "outputs": [],
   "source": [
    "# define hyperparameter study\n",
    "hp_study = {\n",
    "    \"method\": \"grid\", # random, bayesian\n",
    "    #\"metric\": {\n",
    "    #    \"name\": \"val_loss\",\n",
    "    #    \"goal\": \"minimize\",\n",
    "    #},\n",
    "    \"parameters\": {\n",
    "        #\"l1\": {\n",
    "        #    \"values\": [1e-4, 1e-3, 1e-2]\n",
    "        #},\n",
    "        \"e2\": {\n",
    "            \"values\": [0.0, 1e-5, 1e-3, 1e-1, 1e1]\n",
    "        }\n",
    "    }\n",
    "}"
   ]
  },
  {
   "cell_type": "code",
   "execution_count": null,
   "id": "3c1b6d3c",
   "metadata": {},
   "outputs": [],
   "source": [
    "# create sweep\n",
    "sweep_id = wandb.sweep(hp_study, project=wandb_project)"
   ]
  },
  {
   "cell_type": "code",
   "execution_count": 34,
   "id": "2b010cf8",
   "metadata": {},
   "outputs": [
    {
     "name": "stdout",
     "output_type": "stream",
     "text": [
      "Downloading srnet_model_F00_bn_norm_e2_1e-03.pkl.\n"
     ]
    }
   ],
   "source": [
    "# download data from wandb\n",
    "file_ext = \".pkl\"\n",
    "\n",
    "api = wandb.Api()\n",
    "\n",
    "runs = api.runs(wandb_project)\n",
    "for run in runs:\n",
    "    for f in run.files():\n",
    "        if f.name[-len(file_ext):] == file_ext and not os.path.isfile(f.name):\n",
    "            print(f\"Downloading {os.path.basename(f.name)}.\")\n",
    "            run.file(f.name).download()"
   ]
  },
  {
   "cell_type": "code",
   "execution_count": 35,
   "id": "b73be69b",
   "metadata": {},
   "outputs": [
    {
     "data": {
      "application/vnd.jupyter.widget-view+json": {
       "model_id": "833543faab064f33a30a3f7ee70f6a3d",
       "version_major": 2,
       "version_minor": 0
      },
      "text/plain": [
       "Canvas(toolbar=Toolbar(toolitems=[('Home', 'Reset original view', 'home', 'home'), ('Back', 'Back to previous …"
      ]
     },
     "metadata": {},
     "output_type": "display_data"
    }
   ],
   "source": [
    "# plot losses\n",
    "save_names = [\"F00_bn_norm_e2\"]\n",
    "save_path = \"models\"\n",
    "models = ut.plot_losses(save_names, save_path=\"models\")"
   ]
  },
  {
   "cell_type": "code",
   "execution_count": 7,
   "id": "187078f3",
   "metadata": {},
   "outputs": [],
   "source": [
    "# load data\n",
    "data_path = \"data_1k\"\n",
    "\n",
    "in_var = \"X00\"\n",
    "lat_var = \"G00\"\n",
    "target_var = \"F00\"\n",
    "\n",
    "mask_ext = \".mask\"\n",
    "masks = joblib.load(os.path.join(data_path, in_var + mask_ext))     # TODO: create mask if file does not exist\n",
    "\n",
    "train_data = SRData(data_path, in_var, lat_var, target_var, masks[\"train\"])\n",
    "val_data = SRData(data_path, in_var, lat_var, target_var, masks[\"val\"])"
   ]
  },
  {
   "cell_type": "code",
   "execution_count": 8,
   "id": "c216bd2a",
   "metadata": {},
   "outputs": [
    {
     "name": "stdout",
     "output_type": "stream",
     "text": [
      "srnet_model_F00_bn_norm_e2_0e+00\n",
      "[0.7364508, 0.48084727, 0.23385297]\n",
      "[1, 0, 2]\n",
      "[[-1.5839932   0.51744026]\n",
      " [ 0.97438246 -0.5205308 ]\n",
      " [-0.8817944  -0.97543824]]\n",
      "\n",
      "srnet_model_F00_bn_norm_e2_1e+01\n",
      "[10.2357, 1.0083678, 0.6425728]\n",
      "[1, 0, 2]\n",
      "[[-7.5407500e+00 -2.0447320e-05]\n",
      " [ 1.9879901e+00  1.7829683e-01]\n",
      " [-8.0089658e-01 -1.3859421e+00]]\n",
      "\n",
      "srnet_model_F00_bn_norm_e2_1e-01\n",
      "[6.978867, 0.48938346, 0.15883532]\n",
      "[1, 0, 2]\n",
      "[[-5.0491509e+00  1.8623332e-05]\n",
      " [ 1.0000064e+00 -3.9814898e-01]\n",
      " [-8.0738872e-01 -9.3687499e-01]]\n",
      "\n",
      "srnet_model_F00_bn_norm_e2_1e-03\n",
      "[0.7005332, 0.5055884, 0.21763101]\n",
      "[1, 0, 2]\n",
      "[[-1.7058394   0.29456338]\n",
      " [ 0.999833   -0.5090959 ]\n",
      " [-0.8744926  -1.021463  ]]\n",
      "\n",
      "srnet_model_F00_bn_norm_e2_1e-05\n",
      "[0.7393068, 0.49176195, 0.22757514]\n",
      "[1, 0, 2]\n",
      "[[-1.585797    0.51597667]\n",
      " [ 0.97586644 -0.52029014]\n",
      " [-0.87763184 -0.9796664 ]]\n",
      "\n"
     ]
    }
   ],
   "source": [
    "# overview latent feature variance and alpha matrix\n",
    "model_path = \"models\"\n",
    "model_ext = \".pkl\"\n",
    "\n",
    "alpha_eps = 1e-2\n",
    "alpha_bin = False\n",
    "\n",
    "for model_name in models:\n",
    "    print(model_name)\n",
    "    model = ut.load_model(model_name + model_ext, model_path, SRNet)\n",
    "    \n",
    "    with torch.no_grad():\n",
    "        preds, acts = model(train_data.in_data, get_lat=True)\n",
    "        \n",
    "    all_nodes = ut.get_node_order(acts, show=True)\n",
    "    \n",
    "    if alpha_eps:\n",
    "        alpha = model.layers1.alpha.detach().cpu().numpy()[all_nodes]\n",
    "        \n",
    "        if alpha_bin:\n",
    "            alpha[np.abs(alpha) < alpha_eps] = 0\n",
    "            alpha[np.abs(alpha) > alpha_eps] = 1\n",
    "        \n",
    "        print(alpha[np.abs(alpha).sum(axis=1) > alpha_eps])\n",
    "    \n",
    "    print(\"\")"
   ]
  },
  {
   "cell_type": "code",
   "execution_count": null,
   "id": "2e7c543e",
   "metadata": {},
   "outputs": [],
   "source": [
    "model_name = \"srnet_model_F00_bn_norm_e2_1e+01\"\n",
    "\n",
    "model = ut.load_model(model_name + model_ext, model_path, SRNet)\n",
    "\n",
    "with torch.no_grad():\n",
    "    preds, acts = model(train_data.in_data, get_lat=True)\n",
    "    \n",
    "all_nodes = ut.get_node_order(acts, show=True)"
   ]
  },
  {
   "cell_type": "code",
   "execution_count": null,
   "id": "e6f698fd",
   "metadata": {},
   "outputs": [],
   "source": [
    "nodes = all_nodes[:3]"
   ]
  },
  {
   "cell_type": "code",
   "execution_count": null,
   "id": "02762f96",
   "metadata": {},
   "outputs": [],
   "source": [
    "# select plotting data\n",
    "x_data = train_data.in_data[:,0]\n",
    "y_data = train_data.in_data[:,1]\n",
    "z_data = [\n",
    "    (\"target\", train_data.target_data),\n",
    "    #(\"x**2\", x_data**2), \n",
    "    #(\"cos(y)\", np.cos(y_data)), \n",
    "    #(\"x*y\", x_data * y_data),\n",
    "]\n",
    "plot_size = train_data.target_data.shape[0]"
   ]
  },
  {
   "cell_type": "code",
   "execution_count": null,
   "id": "535d1c94",
   "metadata": {},
   "outputs": [],
   "source": [
    "ut.plot_acts(x_data, y_data, z_data, acts=acts, nodes=nodes, model=model, bias=True, nonzero=False, agg=False, plot_size=plot_size)"
   ]
  },
  {
   "cell_type": "code",
   "execution_count": null,
   "id": "e30d446d",
   "metadata": {},
   "outputs": [],
   "source": [
    "corr_data = [\n",
    "    (\"x**2\", x_data**2), \n",
    "    (\"cos(y)\", np.cos(y_data)), \n",
    "    (\"x*y\", x_data * y_data),\n",
    "    (\"x\", x_data),\n",
    "    (\"y\", y_data),\n",
    "]"
   ]
  },
  {
   "cell_type": "code",
   "execution_count": null,
   "id": "fe2d2ca5",
   "metadata": {},
   "outputs": [],
   "source": [
    "ut.node_correlations(acts, nodes, corr_data, nonzero=True)"
   ]
  },
  {
   "cell_type": "code",
   "execution_count": null,
   "id": "50f804bb",
   "metadata": {},
   "outputs": [],
   "source": [
    "fig, ax = plt.subplots()\n",
    "\n",
    "ax.scatter(x_data, x_data**2)\n",
    "ax.scatter(x_data, acts[:,0])\n",
    "\n",
    "plt.show()"
   ]
  },
  {
   "cell_type": "code",
   "execution_count": null,
   "id": "18389c01",
   "metadata": {},
   "outputs": [],
   "source": [
    "fig, ax = plt.subplots()\n",
    "\n",
    "ax.scatter(y_data, np.cos(y_data))\n",
    "ax.scatter(y_data, acts[:,2])\n",
    "\n",
    "plt.show()"
   ]
  },
  {
   "cell_type": "code",
   "execution_count": null,
   "id": "bf0192cf",
   "metadata": {},
   "outputs": [],
   "source": [
    "# select plotting data\n",
    "x_data = train_data.in_data[:,0]\n",
    "y_data = train_data.in_data[:,1]\n",
    "z_data = [\n",
    "    #(\"target\", train_data.target_data),\n",
    "    #(\"x**2\", x_data**2), \n",
    "    #(\"cos(y)\", np.cos(y_data)), \n",
    "    (\"x*y\", x_data * y_data),\n",
    "]\n",
    "plot_size = train_data.target_data.shape[0]"
   ]
  },
  {
   "cell_type": "code",
   "execution_count": null,
   "id": "2e3d1ae3",
   "metadata": {},
   "outputs": [],
   "source": [
    "ut.plot_acts(x_data, y_data, z_data, acts=acts, nodes=[2], model=model, bias=True, nonzero=False, agg=False, plot_size=plot_size)"
   ]
  },
  {
   "cell_type": "code",
   "execution_count": null,
   "id": "64ac5c81",
   "metadata": {},
   "outputs": [],
   "source": []
  }
 ],
 "metadata": {
  "kernelspec": {
   "display_name": "Python 3 (ipykernel)",
   "language": "python",
   "name": "python3"
  },
  "language_info": {
   "codemirror_mode": {
    "name": "ipython",
    "version": 3
   },
   "file_extension": ".py",
   "mimetype": "text/x-python",
   "name": "python",
   "nbconvert_exporter": "python",
   "pygments_lexer": "ipython3",
   "version": "3.8.3"
  },
  "toc": {
   "base_numbering": 1,
   "nav_menu": {},
   "number_sections": false,
   "sideBar": true,
   "skip_h1_title": true,
   "title_cell": "Table of Contents",
   "title_sidebar": "Contents",
   "toc_cell": false,
   "toc_position": {},
   "toc_section_display": true,
   "toc_window_display": false
  }
 },
 "nbformat": 4,
 "nbformat_minor": 5
}
