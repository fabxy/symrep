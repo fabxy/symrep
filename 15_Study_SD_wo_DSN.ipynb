{
 "cells": [
  {
   "cell_type": "markdown",
   "id": "40c9ae0f",
   "metadata": {},
   "source": [
    "# 2022 Flatiron Machine Learning x Science Summer School\n",
    "\n",
    "## Step 15: Study symbolic discriminator without generator training"
   ]
  },
  {
   "cell_type": "markdown",
   "id": "f75dcf19",
   "metadata": {},
   "source": [
    "Steps:\n",
    "\n",
    "1. Create a generator that outputs non-symbolic activations:\n",
    "\n",
    "    * GP activations\n",
    "    \n",
    "    * Untrained MLP activations\n",
    "    \n",
    "2. Define simple function library\n",
    "\n",
    "3. Monitor classification accuracy\n",
    "\n",
    "4. Increase function library until classification fails\n",
    "\n",
    "5. Provide additional information to SD\n",
    "\n",
    "6. Increase function library further\n",
    "\n",
    "7. Utilized trained SD to regularize DSN"
   ]
  },
  {
   "cell_type": "markdown",
   "id": "c9a77d7d",
   "metadata": {},
   "source": [
    "### Step 15.1: Create a generator that outputs non-symbolic activations\n",
    "\n",
    "The first idea is utilizing the activations of an untrained DSN that has the architecture of interest."
   ]
  },
  {
   "cell_type": "markdown",
   "id": "5683fe5d",
   "metadata": {},
   "source": [
    "What is the input data and its dimensionality?\n",
    "\n",
    "* We want to add more library functions over time and some of these should ideally also depend on two or more input features\n",
    "\n",
    "* However, we probably also want to start as simple as possible, so one-dimensional input would be best\n",
    "\n",
    "* However, we could also simply mask all unwanted input features via the input mask $\\alpha$\n",
    "\n",
    "Let's create two-dimensional input data `X10`"
   ]
  },
  {
   "cell_type": "code",
   "execution_count": 1,
   "id": "fd96e271",
   "metadata": {},
   "outputs": [],
   "source": [
    "%matplotlib widget\n",
    "%load_ext autoreload\n",
    "%autoreload 2\n",
    "\n",
    "import os\n",
    "import numpy as np\n",
    "import matplotlib.pyplot as plt\n",
    "import joblib\n",
    "\n",
    "import torch\n",
    "import wandb\n",
    "\n",
    "from srnet import SRNet, SRData\n",
    "from sdnet import SDNet, SDData\n",
    "import srnet_utils as ut"
   ]
  },
  {
   "cell_type": "code",
   "execution_count": 2,
   "id": "bd28beff",
   "metadata": {},
   "outputs": [],
   "source": [
    "# load data\n",
    "data_path = \"data_1k\"\n",
    "\n",
    "in_var = \"X10\"\n",
    "lat_var = None\n",
    "target_var = None\n",
    "\n",
    "mask_ext = \".mask\"\n",
    "masks = joblib.load(os.path.join(data_path, in_var + mask_ext))\n",
    "\n",
    "train_data = SRData(data_path, in_var, lat_var, target_var, masks[\"train\"])\n",
    "val_data = SRData(data_path, in_var, lat_var, target_var, masks[\"val\"])"
   ]
  },
  {
   "cell_type": "markdown",
   "id": "62703a18",
   "metadata": {},
   "source": [
    "How do the activations of an untrained DSN look like?"
   ]
  },
  {
   "cell_type": "code",
   "execution_count": 3,
   "id": "d08289f9",
   "metadata": {},
   "outputs": [],
   "source": [
    "torch.manual_seed(0);"
   ]
  },
  {
   "cell_type": "code",
   "execution_count": 4,
   "id": "87a8bb0f",
   "metadata": {},
   "outputs": [],
   "source": [
    "x_data = train_data.in_data[:,:1]"
   ]
  },
  {
   "cell_type": "code",
   "execution_count": 5,
   "id": "7769eea6",
   "metadata": {},
   "outputs": [],
   "source": [
    "n_sample = 10"
   ]
  },
  {
   "cell_type": "code",
   "execution_count": 6,
   "id": "b8fa4be5",
   "metadata": {
    "hide_input": false
   },
   "outputs": [],
   "source": [
    "hp = {\n",
    "    \"arch\": {\n",
    "        \"in_size\": 1,\n",
    "        \"out_size\": 1,\n",
    "        \"hid_num\": (2,0),\n",
    "        \"hid_size\": 32, \n",
    "        \"hid_type\": (\"DSN\", \"MLP\"),\n",
    "        \"hid_kwargs\": {\n",
    "            \"alpha\": None,\n",
    "            \"norm\": None,\n",
    "            \"prune\": None,\n",
    "            },\n",
    "        \"lat_size\": 1,\n",
    "    },\n",
    "}"
   ]
  },
  {
   "cell_type": "code",
   "execution_count": 7,
   "id": "a5bffe23",
   "metadata": {},
   "outputs": [
    {
     "data": {
      "application/vnd.jupyter.widget-view+json": {
       "model_id": "6a820ff3c8394af99409eca54df29e02",
       "version_major": 2,
       "version_minor": 0
      },
      "text/plain": [
       "Canvas(toolbar=Toolbar(toolitems=[('Home', 'Reset original view', 'home', 'home'), ('Back', 'Back to previous …"
      ]
     },
     "metadata": {},
     "output_type": "display_data"
    }
   ],
   "source": [
    "fig, ax = plt.subplots()\n",
    "\n",
    "for _ in range(n_sample):\n",
    "    \n",
    "    model = SRNet(**hp['arch'])\n",
    "\n",
    "    with torch.no_grad():\n",
    "        preds, acts = model(x_data, get_lat=True)\n",
    "        \n",
    "    ax.scatter(x_data[:,0], acts[:,0])\n",
    "\n",
    "plt.show()"
   ]
  },
  {
   "cell_type": "code",
   "execution_count": 8,
   "id": "53036da5",
   "metadata": {
    "hide_input": false
   },
   "outputs": [],
   "source": [
    "hp = {\n",
    "    \"arch\": {\n",
    "        \"in_size\": 1,\n",
    "        \"out_size\": 1,\n",
    "        \"hid_num\": (2,0),\n",
    "        \"hid_size\": 32, \n",
    "        \"hid_type\": (\"MLP\", \"MLP\"),\n",
    "        \"hid_kwargs\": {\n",
    "            \"alpha\": None,\n",
    "            \"norm\": None,\n",
    "            \"prune\": None,\n",
    "            },\n",
    "        \"lat_size\": 1,\n",
    "    },\n",
    "}"
   ]
  },
  {
   "cell_type": "code",
   "execution_count": 9,
   "id": "66352e3a",
   "metadata": {},
   "outputs": [
    {
     "data": {
      "application/vnd.jupyter.widget-view+json": {
       "model_id": "15c3e788f82442a489043fe75e82b5e6",
       "version_major": 2,
       "version_minor": 0
      },
      "text/plain": [
       "Canvas(toolbar=Toolbar(toolitems=[('Home', 'Reset original view', 'home', 'home'), ('Back', 'Back to previous …"
      ]
     },
     "metadata": {},
     "output_type": "display_data"
    }
   ],
   "source": [
    "fig, ax = plt.subplots()\n",
    "\n",
    "for _ in range(n_sample):\n",
    "    \n",
    "    model = SRNet(**hp['arch'])\n",
    "\n",
    "    with torch.no_grad():\n",
    "        preds, acts = model(x_data, get_lat=True)\n",
    "        \n",
    "    ax.scatter(x_data[:,0], acts[:,0])\n",
    "\n",
    "plt.show()"
   ]
  },
  {
   "cell_type": "markdown",
   "id": "eb2a2dad",
   "metadata": {},
   "source": [
    "Why does the untrained DSN yield linear latent feature activations?\n",
    "\n",
    "The weight initialization between MLP and DSN is different (uniform and bias vs. normal and no bias).\n",
    "\n",
    "Due to having no bias, the ReLU kink of the DSN is always at $x=0$ and all positive and negative weights are simply added up to yield the positive and negative slope, respectively.\n",
    "\n",
    "Let's use an untrained MLP."
   ]
  },
  {
   "cell_type": "markdown",
   "id": "a29808ef",
   "metadata": {},
   "source": [
    "### Step 15.2: Define simple function library\n",
    "\n",
    "The activations above look most similar to a quadratic function, so this could be the first library function:"
   ]
  },
  {
   "cell_type": "code",
   "execution_count": 10,
   "id": "e94e14c7",
   "metadata": {},
   "outputs": [],
   "source": [
    "fun_path = \"funs/F10_v1.lib\"\n",
    "in_var = \"X10\"\n",
    "shuffle = False"
   ]
  },
  {
   "cell_type": "code",
   "execution_count": 11,
   "id": "4c807563",
   "metadata": {},
   "outputs": [],
   "source": [
    "disc_data = SDData(fun_path, in_var, shuffle=shuffle)"
   ]
  },
  {
   "cell_type": "code",
   "execution_count": 12,
   "id": "c1880fcd",
   "metadata": {},
   "outputs": [
    {
     "data": {
      "text/plain": [
       "[['N0*0.05*(X10[:,0] + 0.5*N1)**2 + 0.15*N2', '2*N0*0.05*(X10[:,0] + 0.5*N1)']]"
      ]
     },
     "execution_count": 12,
     "metadata": {},
     "output_type": "execute_result"
    }
   ],
   "source": [
    "disc_data.funs"
   ]
  },
  {
   "cell_type": "code",
   "execution_count": 13,
   "id": "8a1506de",
   "metadata": {},
   "outputs": [],
   "source": [
    "colors = plt.rcParams['axes.prop_cycle'].by_key()['color']"
   ]
  },
  {
   "cell_type": "code",
   "execution_count": 14,
   "id": "edbfb373",
   "metadata": {},
   "outputs": [
    {
     "data": {
      "application/vnd.jupyter.widget-view+json": {
       "model_id": "ce07f837e3a5458f8561cd1e6092f486",
       "version_major": 2,
       "version_minor": 0
      },
      "text/plain": [
       "Canvas(toolbar=Toolbar(toolitems=[('Home', 'Reset original view', 'home', 'home'), ('Back', 'Back to previous …"
      ]
     },
     "metadata": {},
     "output_type": "display_data"
    }
   ],
   "source": [
    "fig, ax = plt.subplots()\n",
    "\n",
    "for _ in range(n_sample):\n",
    "    ax.scatter(x_data[:,0], disc_data.get(in_data=x_data)[0,0,:,0], color=colors[0], alpha=0.5)\n",
    "    \n",
    "    model = SRNet(**hp['arch'])\n",
    "    with torch.no_grad():\n",
    "        preds, acts = model(x_data, get_lat=True)\n",
    "    \n",
    "    ax.scatter(x_data[:,0], acts[:,0], color=colors[1], alpha=0.5)\n",
    "    \n",
    "plt.show()"
   ]
  },
  {
   "cell_type": "markdown",
   "id": "bd8fa636",
   "metadata": {},
   "source": [
    "That looks good, let's train this."
   ]
  },
  {
   "cell_type": "markdown",
   "id": "32320dda",
   "metadata": {},
   "source": [
    "### Step 15.3: Monitor classification accuracy"
   ]
  },
  {
   "cell_type": "code",
   "execution_count": null,
   "id": "96b1c166",
   "metadata": {},
   "outputs": [],
   "source": [
    "try:\n",
    "    if get_ipython().__class__.__name__ == \"ZMQInteractiveShell\":\n",
    "        from tqdm.notebook import trange\n",
    "    else:\n",
    "        raise RuntimeWarning()\n",
    "except:\n",
    "    from tqdm import trange\n",
    "    \n",
    "from IPython import display"
   ]
  },
  {
   "cell_type": "code",
   "execution_count": null,
   "id": "e38c3a4a",
   "metadata": {},
   "outputs": [],
   "source": [
    "hp = {\n",
    "    \"arch\": {\n",
    "        \"in_size\": 1,\n",
    "        \"out_size\": 1,\n",
    "        \"hid_num\": (2,0),\n",
    "        \"hid_size\": 32, \n",
    "        \"hid_type\": (\"MLP\", \"MLP\"),\n",
    "        \"hid_kwargs\": {\n",
    "            \"alpha\": None,\n",
    "            \"norm\": None,\n",
    "            \"prune\": None,\n",
    "            },\n",
    "        \"lat_size\": 5,\n",
    "    },\n",
    "    \"epochs\": 1000,\n",
    "    \"batch_size\": train_data.in_data.shape[0],\n",
    "    \"disc\": {\n",
    "        \"hid_num\": 6,\n",
    "        \"hid_size\": 128,\n",
    "        \"emb_size\": None,\n",
    "        \"lr\": 1e-4,\n",
    "        \"wd\": 1e-4,\n",
    "        \"betas\": (0.9,0.999),\n",
    "        \"iters\": 5,\n",
    "        \"gp\": 1e-5,\n",
    "        },\n",
    "    }"
   ]
  },
  {
   "cell_type": "code",
   "execution_count": null,
   "id": "b7b3a942",
   "metadata": {},
   "outputs": [],
   "source": [
    "avg_hor = 100\n",
    "plot_freq = 100\n",
    "colors = plt.rcParams['axes.prop_cycle'].by_key()['color']"
   ]
  },
  {
   "cell_type": "code",
   "execution_count": null,
   "id": "703016be",
   "metadata": {},
   "outputs": [],
   "source": [
    "# training loop\n",
    "\n",
    "# set seed\n",
    "torch.manual_seed(0)\n",
    "\n",
    "# create SD\n",
    "critic = SDNet(hp['batch_size'], **hp['disc'])\n",
    "critic.train()\n",
    "\n",
    "# create function library\n",
    "fun_path = \"funs/F10_v1.lib\"\n",
    "shuffle = True\n",
    "iter_sample = False\n",
    "disc_data = SDData(fun_path, in_var, shuffle=shuffle, iter_sample=iter_sample)\n",
    "\n",
    "# load data\n",
    "data_path = \"data_1k\"\n",
    "in_var = \"X10\"\n",
    "lat_var = None\n",
    "target_var = None\n",
    "\n",
    "mask_ext = \".mask\"\n",
    "masks = joblib.load(os.path.join(data_path, in_var + mask_ext))\n",
    "\n",
    "train_data = SRData(data_path, in_var, lat_var, target_var, masks[\"train\"])\n",
    "in_data = train_data.in_data[:,:1]\n",
    "\n",
    "tot_accs = []\n",
    "\n",
    "if plot_freq:\n",
    "    fig, ax = plt.subplots()\n",
    "    display.display(fig, display_id=\"fig\")\n",
    "\n",
    "t = trange(hp['epochs'], desc=\"Epoch\")\n",
    "for epoch in t:\n",
    "    \n",
    "    # get generator data\n",
    "    model = SRNet(**hp['arch'])\n",
    "    model.train()\n",
    "    \n",
    "    with torch.no_grad():\n",
    "        _, lat_acts = model(in_data, get_lat=True)\n",
    "        \n",
    "    data_fake = lat_acts.detach().T\n",
    "    \n",
    "    # get real data\n",
    "    if disc_data.iter_sample:\n",
    "        datasets_real = disc_data.get(lat_acts.shape[1], in_data, critic.iters)\n",
    "    else:\n",
    "        datasets_real = disc_data.get(lat_acts.shape[1], in_data)\n",
    "    dataset_real = datasets_real[...,0]\n",
    "                \n",
    "    if plot_freq and epoch % plot_freq == 0:\n",
    "        ax.clear()\n",
    "        for i in range(data_fake.shape[0]):\n",
    "            ax.scatter(in_data[:,0], dataset_real[0,i], color=colors[0])\n",
    "            ax.scatter(in_data[:,0], data_fake[i], color=colors[1])\n",
    "        display.update_display(fig, display_id=\"fig\")\n",
    "          \n",
    "    accs = critic.fit(dataset_real, data_fake)\n",
    "        \n",
    "    tot_accs.append(np.mean(accs))\n",
    "    \n",
    "    t_update = {\"acc\": tot_accs[-1], \"avg_acc\": np.mean(tot_accs[-avg_hor:])}\n",
    "    t.set_postfix({k: f\"{v:.2f}\" for k, v in t_update.items()})"
   ]
  },
  {
   "cell_type": "code",
   "execution_count": null,
   "id": "09bce890",
   "metadata": {},
   "outputs": [],
   "source": [
    "avg_hor = 50"
   ]
  },
  {
   "cell_type": "code",
   "execution_count": null,
   "id": "a4ce1871",
   "metadata": {},
   "outputs": [],
   "source": [
    "avg_accs = [np.mean(tot_accs[max(0,i+1-avg_hor):i+1]) for i in range(len(tot_accs))]"
   ]
  },
  {
   "cell_type": "code",
   "execution_count": null,
   "id": "846bb332",
   "metadata": {},
   "outputs": [],
   "source": [
    "fig, ax = plt.subplots()\n",
    "\n",
    "ax.plot(avg_accs)\n",
    "\n",
    "plt.show()"
   ]
  },
  {
   "cell_type": "markdown",
   "id": "0aeb77f1",
   "metadata": {},
   "source": [
    "Great, this works. Let's run a hyperparameter study."
   ]
  },
  {
   "cell_type": "code",
   "execution_count": 15,
   "id": "2a678f91",
   "metadata": {},
   "outputs": [],
   "source": [
    "# set wandb project\n",
    "wandb_project = \"153-sd-study-F10_v1\""
   ]
  },
  {
   "cell_type": "code",
   "execution_count": 16,
   "id": "27ed73d0",
   "metadata": {},
   "outputs": [],
   "source": [
    "# hyperparams = {\n",
    "#     \"arch\": {\n",
    "#         \"in_size\": train_data.in_data.shape[1],\n",
    "#         \"out_size\": 1,\n",
    "#         \"hid_num\": (2,0),\n",
    "#         \"hid_size\": 32, \n",
    "#         \"hid_type\": (\"MLP\", \"MLP\"),\n",
    "#         \"hid_kwargs\": {\n",
    "#             \"alpha\": None,\n",
    "#             \"norm\": None,\n",
    "#             \"prune\": None,\n",
    "#             },\n",
    "#         \"lat_size\": 5,\n",
    "#     },\n",
    "#     \"epochs\": 100000,\n",
    "#     \"runtime\": None,\n",
    "#     \"batch_size\": train_data.in_data.shape[0],\n",
    "#     \"disc\": {\n",
    "#         \"hid_num\": 6,\n",
    "#         \"hid_size\": 128,\n",
    "#         \"emb_size\": None,\n",
    "#         \"lr\": 1e-4,\n",
    "#         \"wd\": 1e-7,\n",
    "#         \"betas\": (0.9,0.999),\n",
    "#         \"iters\": 5,\n",
    "#         \"gp\": 1e-5,\n",
    "#     },\n",
    "# }"
   ]
  },
  {
   "cell_type": "code",
   "execution_count": 17,
   "id": "33f34f24",
   "metadata": {},
   "outputs": [],
   "source": [
    "# define hyperparameter study\n",
    "hp_study = {\n",
    "    \"method\": \"random\",\n",
    "    \"parameters\": {\n",
    "        \"arch\": {\n",
    "            \"parameters\": {\n",
    "                \"in_size\": {\n",
    "                    \"values\": [1]\n",
    "                },\n",
    "                \"out_size\": {\n",
    "                    \"values\": [1]\n",
    "                },\n",
    "                \"hid_num\": {\n",
    "                    \"values\": [(2,0)]\n",
    "                },\n",
    "                \"hid_size\": {\n",
    "                    \"values\": [32]\n",
    "                },\n",
    "                \"lat_size\": {\n",
    "                    \"values\": [1, 3, 5, 10]\n",
    "                },\n",
    "            }\n",
    "        },\n",
    "        \"disc\": {\n",
    "            \"parameters\": {\n",
    "                \"hid_num\": {\n",
    "                    \"values\": [2, 4, 6, 8]\n",
    "                },\n",
    "                \"hid_size\": {\n",
    "                    \"values\": [64, 128, 256, 512]\n",
    "                },\n",
    "                \"lr\": {\n",
    "                    \"values\": [1e-5, 1e-4, 1e-3, 1e-2]\n",
    "                },\n",
    "                \"iters\": {\n",
    "                    \"values\": [1, 3, 5, 10]\n",
    "                },\n",
    "                \"gp\": {\n",
    "                    \"values\": [0.0, 1e-6, 1e-5, 1e-4, 1e-3]\n",
    "                },\n",
    "            }\n",
    "        }\n",
    "    }\n",
    "}"
   ]
  },
  {
   "cell_type": "code",
   "execution_count": null,
   "id": "2e39c23b",
   "metadata": {},
   "outputs": [],
   "source": [
    "# create sweep\n",
    "sweep_id = wandb.sweep(hp_study, project=wandb_project)"
   ]
  },
  {
   "cell_type": "markdown",
   "id": "e0d93357",
   "metadata": {},
   "source": [
    "<img src=\"results/153-sd-study-F10_v1_conv.png\">"
   ]
  },
  {
   "cell_type": "markdown",
   "id": "6d10c739",
   "metadata": {},
   "source": [
    "Notes:\n",
    "\n",
    "* This is the SD accuracy over the respective last 500 epochs\n",
    "\n",
    "* The results are smoothed a lot\n",
    "\n",
    "* Different trends are observable:\n",
    "\n",
    "    1. Models that learn quickly and then maintain a constant performance\n",
    "    \n",
    "    2. Models that learn quickly and then drop in performance\n",
    "    \n",
    "    3. Models that learn slowly and keep improving        \n",
    "    \n",
    "    4. Models that basically don't learn anything\n",
    "    \n",
    "    \n",
    "Which hyperparameters characterize the individual trends?\n",
    "\n",
    "1. Small architecture, low `lr`:\n",
    "\n",
    "    * `time`: 0.5\n",
    "    * `lat_size`: 3\n",
    "    * `gp`: 1e-4\n",
    "    * `hid`: (2,64)\n",
    "    * `iters`: 5\n",
    "    * `lr`: 1e-5\n",
    "    \n",
    "\n",
    "2. Low `lat_size` and `iters` values:\n",
    "\n",
    "    * `time`: 0.5/0.2\n",
    "    * `lat_size`: 3/1\n",
    "    * `gp`: 1e-5/1e-4\n",
    "    * `hid`: (2,512)/(4,256)\n",
    "    * `iters`: 3/1\n",
    "    * `lr`: 1e-4/1e-5\n",
    "\n",
    "\n",
    "3. Large architecture, rather high `lat_size` or `iters` values, rather low `lr`:\n",
    "\n",
    "    * `time`: 0.75/3/2/5\n",
    "    * `lat_size`: 1/3/10/5\n",
    "    * `gp`: 1e-5/1e-6/1e-6/1e-5\n",
    "    * `hid`: (2,512)/(8,256)/(6,128)/(8,512)\n",
    "    * `iters`: 3/10/1/5\n",
    "    * `lr`: 1e-2/1e-4/1e-4/1e-4\n",
    "\n",
    "\n",
    "4. No gradient penalty, rather low `lat_size` and `iters` values:\n",
    "\n",
    "    * `time`: 2/0.2/5/0.5/3\n",
    "    * `lat_size`: 3/1/3/3/1\n",
    "    * `gp`: 0/0/0/0/1e-6\n",
    "    * `hid`: (8,512)/(2,64)/(4,128)/(4,256)/(8,512)\n",
    "    * `iters`: 5/5/3/3/3\n",
    "    * `lr`: 1e-5/1e-3/1e-4/1e-3/1e-2"
   ]
  },
  {
   "cell_type": "markdown",
   "id": "904689dc",
   "metadata": {},
   "source": [
    "Let's specifically analyze the impact of depth on the network. We start from the model of trend 1 above:\n",
    "\n",
    "* v0: `hid_num`: 2, `hid_size`: 64, `lr`: 1e-5, `wd`: 1e-7, `betas`: (0.9,0.999), `iters`: 5, `gp`: 1e-4\n",
    "\n",
    "* v1: `hid_num`: 4\n",
    "\n",
    "* v2: `hid_num`: 8\n",
    "\n",
    "* v3: `gp`: 1e-5\n",
    "\n",
    "* v4: `lr`: 1e-4\n",
    "\n",
    "* v5: `gp`: 1e-6\n",
    "\n",
    "* v6: `hid_size`: 256\n",
    "\n",
    "* v7: `hid_num`: 16, `hid_size`: 64"
   ]
  },
  {
   "cell_type": "code",
   "execution_count": 18,
   "id": "c1d5976e",
   "metadata": {},
   "outputs": [
    {
     "data": {
      "application/vnd.jupyter.widget-view+json": {
       "model_id": "5b6848942dba44199f6cc1d763dbd8ba",
       "version_major": 2,
       "version_minor": 0
      },
      "text/plain": [
       "Canvas(toolbar=Toolbar(toolitems=[('Home', 'Reset original view', 'home', 'home'), ('Back', 'Back to previous …"
      ]
     },
     "metadata": {},
     "output_type": "display_data"
    }
   ],
   "source": [
    "# plot accuracies\n",
    "avg_hor = 500\n",
    "save_names = [\"disc_model_F10_v1_depth_check\"]\n",
    "save_path = \"models\"\n",
    "\n",
    "models = ut.plot_accuracies(save_names, save_path=save_path, excl_names=[], avg_hor=avg_hor, uncertainty=False)"
   ]
  },
  {
   "cell_type": "markdown",
   "id": "2558e51f",
   "metadata": {},
   "source": [
    "### Step 15.4: Increase function library until classification fails\n",
    "\n",
    "Done."
   ]
  },
  {
   "cell_type": "markdown",
   "id": "86ea38a4",
   "metadata": {},
   "source": [
    "### Step 15.5: Provide additional information to SD\n",
    "\n",
    "Types of information:\n",
    "\n",
    "* Input data\n",
    "\n",
    "* Gradient information\n",
    "\n",
    "Methodologies:\n",
    "\n",
    "* Stacking\n",
    "\n",
    "* Embedding\n",
    "\n",
    "* <s>Convolution</s>\n",
    "\n",
    "**TODO**: \n",
    "\n",
    "* Check correct gradient calculation\n",
    "\n",
    "* Discuss computational graph for regularizing DSN\n",
    "\n",
    "* Double check that input and parameter gradients do not impact each other (check impact in both directions)"
   ]
  },
  {
   "cell_type": "markdown",
   "id": "efa24e5b",
   "metadata": {},
   "source": [
    "Let's run the hyperparameter studies:\n",
    "\n",
    "1. Embed input data\n",
    "\n",
    "2. Embed gradient data\n",
    "\n",
    "3. Stack gradient data\n",
    "\n",
    "**NOTE**: We use an arbitrary embedding network with 2 hidden layers and 64 hidden nodes."
   ]
  },
  {
   "cell_type": "markdown",
   "id": "8d0c61ca",
   "metadata": {},
   "source": [
    "#### Step 15.5.1: Embed input data"
   ]
  },
  {
   "cell_type": "code",
   "execution_count": 19,
   "id": "6d48a24f",
   "metadata": {},
   "outputs": [],
   "source": [
    "# set wandb project\n",
    "wandb_project = \"155-ext1-study-F10_v1\""
   ]
  },
  {
   "cell_type": "code",
   "execution_count": 20,
   "id": "3c3a8243",
   "metadata": {},
   "outputs": [],
   "source": [
    "# hyperparams = {\n",
    "#     \"arch\": {\n",
    "#         \"in_size\": train_data.in_data.shape[1],\n",
    "#         \"out_size\": 1,\n",
    "#         \"hid_num\": (2,0),\n",
    "#         \"hid_size\": 32, \n",
    "#         \"hid_type\": (\"MLP\", \"MLP\"),\n",
    "#         \"hid_kwargs\": {\n",
    "#             \"alpha\": None,\n",
    "#             \"norm\": None,\n",
    "#             \"prune\": None,\n",
    "#             },\n",
    "#         \"lat_size\": 3,\n",
    "#     },\n",
    "#     \"epochs\": 100000,\n",
    "#     \"runtime\": None,\n",
    "#     \"batch_size\": train_data.in_data.shape[0],\n",
    "#     \"ext\": [\"input\"],\n",
    "#     \"ext_type\": \"embed\",\n",
    "#     \"ext_size\": 1,\n",
    "#     \"disc\": {\n",
    "#         \"hid_num\": 2,\n",
    "#         \"hid_size\": 64,\n",
    "#         \"lr\": 1e-4,\n",
    "#         \"wd\": 1e-7,\n",
    "#         \"betas\": (0.9,0.999),\n",
    "#         \"iters\": 5,\n",
    "#         \"gp\": 1e-5,\n",
    "#     },\n",
    "# }"
   ]
  },
  {
   "cell_type": "code",
   "execution_count": 21,
   "id": "635b6c94",
   "metadata": {},
   "outputs": [],
   "source": [
    "# define hyperparameter study\n",
    "hp_study = {\n",
    "    \"method\": \"random\",\n",
    "    \"parameters\": {\n",
    "        \"arch\": {\n",
    "            \"parameters\": {\n",
    "                \"in_size\": {\n",
    "                    \"values\": [1]\n",
    "                },\n",
    "                \"out_size\": {\n",
    "                    \"values\": [1]\n",
    "                },\n",
    "                \"hid_num\": {\n",
    "                    \"values\": [(2,0)]\n",
    "                },\n",
    "                \"hid_size\": {\n",
    "                    \"values\": [32]\n",
    "                },\n",
    "                \"lat_size\": {\n",
    "                    \"values\": [1, 3, 5]\n",
    "                },\n",
    "            }\n",
    "        },\n",
    "        \"disc\": {\n",
    "            \"parameters\": {\n",
    "                \"hid_num\": {\n",
    "                    \"values\": [(2,2), (2,4), (2,8), (2,16)]\n",
    "                },\n",
    "                \"hid_size\": {\n",
    "                    \"values\": [(64,64), (64,128), (64,256), (64,512)]\n",
    "                },\n",
    "                \"lr\": {\n",
    "                    \"values\": [1e-5, 1e-4, 1e-3]\n",
    "                },\n",
    "                \"iters\": {\n",
    "                    \"values\": [1, 3, 5]\n",
    "                },\n",
    "                \"gp\": {\n",
    "                    \"values\": [1e-6, 1e-5, 1e-4]\n",
    "                },\n",
    "            }\n",
    "        }\n",
    "    }\n",
    "}"
   ]
  },
  {
   "cell_type": "code",
   "execution_count": null,
   "id": "bd56d95e",
   "metadata": {},
   "outputs": [],
   "source": [
    "# create sweep\n",
    "sweep_id = wandb.sweep(hp_study, project=wandb_project)"
   ]
  },
  {
   "cell_type": "markdown",
   "id": "f7e9e305",
   "metadata": {},
   "source": [
    "<img src=\"results/155-ext1-study-F10_v1_conv.png\">"
   ]
  },
  {
   "cell_type": "markdown",
   "id": "0098a5fd",
   "metadata": {},
   "source": [
    "#### Step 15.5.2: Embed gradient data"
   ]
  },
  {
   "cell_type": "code",
   "execution_count": 22,
   "id": "7679b3d1",
   "metadata": {},
   "outputs": [],
   "source": [
    "# set wandb project\n",
    "wandb_project = \"155-ext2-study-F10_v1\""
   ]
  },
  {
   "cell_type": "code",
   "execution_count": 23,
   "id": "528c299d",
   "metadata": {},
   "outputs": [],
   "source": [
    "# hyperparams = {\n",
    "#     \"arch\": {\n",
    "#         \"in_size\": train_data.in_data.shape[1],\n",
    "#         \"out_size\": 1,\n",
    "#         \"hid_num\": (2,0),\n",
    "#         \"hid_size\": 32, \n",
    "#         \"hid_type\": (\"MLP\", \"MLP\"),\n",
    "#         \"hid_kwargs\": {\n",
    "#             \"alpha\": None,\n",
    "#             \"norm\": None,\n",
    "#             \"prune\": None,\n",
    "#             },\n",
    "#         \"lat_size\": 3,\n",
    "#     },\n",
    "#     \"epochs\": 100000,\n",
    "#     \"runtime\": None,\n",
    "#     \"batch_size\": train_data.in_data.shape[0],\n",
    "#     \"ext\": [\"grad\"],\n",
    "#     \"ext_type\": \"embed\",\n",
    "#     \"ext_size\": 1,\n",
    "#     \"disc\": {\n",
    "#         \"hid_num\": 2,\n",
    "#         \"hid_size\": 64,\n",
    "#         \"lr\": 1e-4,\n",
    "#         \"wd\": 1e-7,\n",
    "#         \"betas\": (0.9,0.999),\n",
    "#         \"iters\": 5,\n",
    "#         \"gp\": 1e-5,\n",
    "#     },\n",
    "# }"
   ]
  },
  {
   "cell_type": "code",
   "execution_count": 24,
   "id": "eed17d2c",
   "metadata": {},
   "outputs": [],
   "source": [
    "# define hyperparameter study\n",
    "hp_study = {\n",
    "    \"method\": \"random\",\n",
    "    \"parameters\": {\n",
    "        \"arch\": {\n",
    "            \"parameters\": {\n",
    "                \"in_size\": {\n",
    "                    \"values\": [1]\n",
    "                },\n",
    "                \"out_size\": {\n",
    "                    \"values\": [1]\n",
    "                },\n",
    "                \"hid_num\": {\n",
    "                    \"values\": [(2,0)]\n",
    "                },\n",
    "                \"hid_size\": {\n",
    "                    \"values\": [32]\n",
    "                },\n",
    "                \"lat_size\": {\n",
    "                    \"values\": [1, 3, 5]\n",
    "                },\n",
    "            }\n",
    "        },\n",
    "        \"disc\": {\n",
    "            \"parameters\": {\n",
    "                \"hid_num\": {\n",
    "                    \"values\": [(2,2), (2,4), (2,8), (2,16)]\n",
    "                },\n",
    "                \"hid_size\": {\n",
    "                    \"values\": [(64,64), (64,128), (64,256), (64,512)]\n",
    "                },\n",
    "                \"lr\": {\n",
    "                    \"values\": [1e-5, 1e-4, 1e-3]\n",
    "                },\n",
    "                \"iters\": {\n",
    "                    \"values\": [1, 3, 5]\n",
    "                },\n",
    "                \"gp\": {\n",
    "                    \"values\": [1e-6, 1e-5, 1e-4]\n",
    "                },\n",
    "            }\n",
    "        }\n",
    "    }\n",
    "}"
   ]
  },
  {
   "cell_type": "code",
   "execution_count": null,
   "id": "91fd7bcd",
   "metadata": {},
   "outputs": [],
   "source": [
    "# create sweep\n",
    "sweep_id = wandb.sweep(hp_study, project=wandb_project)"
   ]
  },
  {
   "cell_type": "markdown",
   "id": "72d5a6f4",
   "metadata": {},
   "source": [
    "<img src=\"results/155-ext2-study-F10_v1_conv.png\">"
   ]
  },
  {
   "cell_type": "markdown",
   "id": "4745ca0c",
   "metadata": {},
   "source": [
    "#### Step 15.5.3: Stack gradient data"
   ]
  },
  {
   "cell_type": "code",
   "execution_count": 25,
   "id": "70aff86c",
   "metadata": {},
   "outputs": [],
   "source": [
    "# set wandb project\n",
    "wandb_project = \"155-ext3-study-F10_v1\""
   ]
  },
  {
   "cell_type": "code",
   "execution_count": 26,
   "id": "99073867",
   "metadata": {},
   "outputs": [],
   "source": [
    "# hyperparams = {\n",
    "#     \"arch\": {\n",
    "#         \"in_size\": train_data.in_data.shape[1],\n",
    "#         \"out_size\": 1,\n",
    "#         \"hid_num\": (2,0),\n",
    "#         \"hid_size\": 32, \n",
    "#         \"hid_type\": (\"MLP\", \"MLP\"),\n",
    "#         \"hid_kwargs\": {\n",
    "#             \"alpha\": None,\n",
    "#             \"norm\": None,\n",
    "#             \"prune\": None,\n",
    "#             },\n",
    "#         \"lat_size\": 3,\n",
    "#     },\n",
    "#     \"epochs\": 100000,\n",
    "#     \"runtime\": None,\n",
    "#     \"batch_size\": train_data.in_data.shape[0],\n",
    "#     \"ext\": [\"stack\"],\n",
    "#     \"ext_type\": \"embed\",\n",
    "#     \"ext_size\": 1,\n",
    "#     \"disc\": {\n",
    "#         \"hid_num\": 2,\n",
    "#         \"hid_size\": 64,\n",
    "#         \"lr\": 1e-4,\n",
    "#         \"wd\": 1e-7,\n",
    "#         \"betas\": (0.9,0.999),\n",
    "#         \"iters\": 5,\n",
    "#         \"gp\": 1e-5,\n",
    "#     },\n",
    "# }"
   ]
  },
  {
   "cell_type": "code",
   "execution_count": 27,
   "id": "e410b484",
   "metadata": {},
   "outputs": [],
   "source": [
    "# define hyperparameter study\n",
    "hp_study = {\n",
    "    \"method\": \"random\",\n",
    "    \"parameters\": {\n",
    "        \"arch\": {\n",
    "            \"parameters\": {\n",
    "                \"in_size\": {\n",
    "                    \"values\": [1]\n",
    "                },\n",
    "                \"out_size\": {\n",
    "                    \"values\": [1]\n",
    "                },\n",
    "                \"hid_num\": {\n",
    "                    \"values\": [(2,0)]\n",
    "                },\n",
    "                \"hid_size\": {\n",
    "                    \"values\": [32]\n",
    "                },\n",
    "                \"lat_size\": {\n",
    "                    \"values\": [1, 3, 5]\n",
    "                },\n",
    "            }\n",
    "        },\n",
    "        \"disc\": {\n",
    "            \"parameters\": {\n",
    "                \"hid_num\": {\n",
    "                    \"values\": [2, 4, 8, 16]\n",
    "                },\n",
    "                \"hid_size\": {\n",
    "                    \"values\": [64, 128, 256, 512]\n",
    "                },\n",
    "                \"lr\": {\n",
    "                    \"values\": [1e-5, 1e-4, 1e-3]\n",
    "                },\n",
    "                \"iters\": {\n",
    "                    \"values\": [1, 3, 5]\n",
    "                },\n",
    "                \"gp\": {\n",
    "                    \"values\": [1e-6, 1e-5, 1e-4]\n",
    "                },\n",
    "            }\n",
    "        }\n",
    "    }\n",
    "}"
   ]
  },
  {
   "cell_type": "code",
   "execution_count": null,
   "id": "b9322d82",
   "metadata": {},
   "outputs": [],
   "source": [
    "# create sweep\n",
    "sweep_id = wandb.sweep(hp_study, project=wandb_project)"
   ]
  },
  {
   "cell_type": "markdown",
   "id": "efed85e3",
   "metadata": {},
   "source": [
    "<img src=\"results/155-ext3-study-F10_v1_conv.png\">"
   ]
  },
  {
   "cell_type": "markdown",
   "id": "40803702",
   "metadata": {},
   "source": [
    "Let's compare the respective best results:"
   ]
  },
  {
   "cell_type": "code",
   "execution_count": 28,
   "id": "e5335988",
   "metadata": {},
   "outputs": [
    {
     "data": {
      "application/vnd.jupyter.widget-view+json": {
       "model_id": "373052c1a7b34e1f906e222896f1fc5f",
       "version_major": 2,
       "version_minor": 0
      },
      "text/plain": [
       "Canvas(toolbar=Toolbar(toolitems=[('Home', 'Reset original view', 'home', 'home'), ('Back', 'Back to previous …"
      ]
     },
     "metadata": {},
     "output_type": "display_data"
    }
   ],
   "source": [
    "# plot accuracies\n",
    "avg_hor = 500\n",
    "save_names = [\"disc_model_F10_v1_sd_study\", \"disc_model_F10_v1_ext\"]\n",
    "save_path = \"models\"\n",
    "\n",
    "models = ut.plot_accuracies(save_names, save_path=save_path, excl_names=[], avg_hor=avg_hor, uncertainty=False)"
   ]
  },
  {
   "cell_type": "markdown",
   "id": "707708f0",
   "metadata": {},
   "source": [
    "Let's load the best model:"
   ]
  },
  {
   "cell_type": "code",
   "execution_count": 29,
   "id": "c753fc71",
   "metadata": {},
   "outputs": [],
   "source": [
    "model_name = \"disc_model_F10_v1_ext2_study_v1\""
   ]
  },
  {
   "cell_type": "code",
   "execution_count": 30,
   "id": "1b57af31",
   "metadata": {},
   "outputs": [],
   "source": [
    "critic = ut.load_disc(model_name + \".pkl\", \"models\", SDNet)"
   ]
  },
  {
   "cell_type": "code",
   "execution_count": 31,
   "id": "90cf6d69",
   "metadata": {},
   "outputs": [
    {
     "data": {
      "text/plain": [
       "SDNet(\n",
       "  (layers1): Sequential(\n",
       "    (0): Linear(in_features=2, out_features=64, bias=True)\n",
       "    (1): ReLU()\n",
       "    (2): Linear(in_features=64, out_features=64, bias=True)\n",
       "    (3): ReLU()\n",
       "    (4): Linear(in_features=64, out_features=1, bias=True)\n",
       "  )\n",
       "  (layers2): Sequential(\n",
       "    (0): Linear(in_features=700, out_features=512, bias=True)\n",
       "    (1): ReLU()\n",
       "    (2): Linear(in_features=512, out_features=512, bias=True)\n",
       "    (3): ReLU()\n",
       "    (4): Linear(in_features=512, out_features=512, bias=True)\n",
       "    (5): ReLU()\n",
       "    (6): Linear(in_features=512, out_features=512, bias=True)\n",
       "    (7): ReLU()\n",
       "    (8): Linear(in_features=512, out_features=1, bias=True)\n",
       "  )\n",
       ")"
      ]
     },
     "execution_count": 31,
     "metadata": {},
     "output_type": "execute_result"
    }
   ],
   "source": [
    "critic"
   ]
  },
  {
   "cell_type": "markdown",
   "id": "22c16dcd",
   "metadata": {},
   "source": [
    "How do correct and false predictions look like?"
   ]
  },
  {
   "cell_type": "code",
   "execution_count": 32,
   "id": "a899f9e6",
   "metadata": {},
   "outputs": [],
   "source": [
    "state = joblib.load(os.path.join(\"models\", model_name + \".pkl\"))\n",
    "hp = state['hyperparams']"
   ]
  },
  {
   "cell_type": "code",
   "execution_count": 33,
   "id": "21763ba2",
   "metadata": {},
   "outputs": [],
   "source": [
    "false_num = 5\n",
    "corr_list = []\n",
    "false_list = []\n",
    "\n",
    "while len(false_list) < false_num:\n",
    "\n",
    "    # get fake data\n",
    "    model = SRNet(**hp['arch'])\n",
    "    model.train()\n",
    "\n",
    "    with torch.no_grad():\n",
    "        _, lat_acts = model(x_data, get_lat=True)\n",
    "    \n",
    "    data_fake = lat_acts.detach().T\n",
    "\n",
    "    ext_data_fake = []\n",
    "    if 'ext' in hp and hp['ext'] is not None:\n",
    "        for ext_name in hp['ext']:\n",
    "            if ext_name == \"input\":\n",
    "                ext_data_fake.append(x_data)\n",
    "            elif ext_name == \"grad\":\n",
    "                grad_data_fake = model.jacobian(x_data, get_lat=True).transpose(0,1)\n",
    "                ext_data_fake.append(grad_data_fake.detach())\n",
    "            else:\n",
    "                raise KeyError(f\"Extension {ext_name} is not defined.\")\n",
    "\n",
    "        data_fake = ut.extend(data_fake, *ext_data_fake, ext_type=hp['ext_type'])\n",
    "        \n",
    "    preds = critic(data_fake).squeeze()\n",
    "    \n",
    "    corr_pred = (preds <= 0).nonzero().reshape(-1).tolist()\n",
    "    false_pred = (preds > 0).nonzero().reshape(-1).tolist()\n",
    "    \n",
    "    for idx in corr_pred:\n",
    "        corr_list.append(data_fake[idx])\n",
    "    \n",
    "    for idx in false_pred:\n",
    "        false_list.append(data_fake[idx])"
   ]
  },
  {
   "cell_type": "code",
   "execution_count": 34,
   "id": "e4daf892",
   "metadata": {},
   "outputs": [
    {
     "name": "stdout",
     "output_type": "stream",
     "text": [
      "19\n"
     ]
    }
   ],
   "source": [
    "print(len(corr_list))"
   ]
  },
  {
   "cell_type": "code",
   "execution_count": 35,
   "id": "19a4f9bb",
   "metadata": {},
   "outputs": [
    {
     "data": {
      "application/vnd.jupyter.widget-view+json": {
       "model_id": "2fff81ecdf8b46e8aa767d708afb28d1",
       "version_major": 2,
       "version_minor": 0
      },
      "text/plain": [
       "Canvas(toolbar=Toolbar(toolitems=[('Home', 'Reset original view', 'home', 'home'), ('Back', 'Back to previous …"
      ]
     },
     "metadata": {},
     "output_type": "display_data"
    }
   ],
   "source": [
    "fig, ax = plt.subplots()\n",
    "\n",
    "for y_data in corr_list[:false_num]:\n",
    "    ax.scatter(x_data, y_data[:,0])\n",
    "    \n",
    "plt.show()"
   ]
  },
  {
   "cell_type": "code",
   "execution_count": 36,
   "id": "b70e3a60",
   "metadata": {
    "hide_input": false
   },
   "outputs": [
    {
     "data": {
      "application/vnd.jupyter.widget-view+json": {
       "model_id": "69a7e3a5987143e3879361e386ca0770",
       "version_major": 2,
       "version_minor": 0
      },
      "text/plain": [
       "Canvas(toolbar=Toolbar(toolitems=[('Home', 'Reset original view', 'home', 'home'), ('Back', 'Back to previous …"
      ]
     },
     "metadata": {},
     "output_type": "display_data"
    }
   ],
   "source": [
    "fig, ax = plt.subplots()\n",
    "\n",
    "for y_data in false_list[:false_num]:\n",
    "    if len(y_data.shape) > 1:\n",
    "        y_data = y_data[:,0]\n",
    "    ax.scatter(x_data, y_data)\n",
    "    \n",
    "plt.show()"
   ]
  },
  {
   "cell_type": "markdown",
   "id": "89c56c32",
   "metadata": {},
   "source": [
    "**TODO**: Analyze optimal hyperparameters in Step 15.5"
   ]
  }
 ],
 "metadata": {
  "kernelspec": {
   "display_name": "Python 3 (ipykernel)",
   "language": "python",
   "name": "python3"
  },
  "language_info": {
   "codemirror_mode": {
    "name": "ipython",
    "version": 3
   },
   "file_extension": ".py",
   "mimetype": "text/x-python",
   "name": "python",
   "nbconvert_exporter": "python",
   "pygments_lexer": "ipython3",
   "version": "3.8.3"
  },
  "toc": {
   "base_numbering": 1,
   "nav_menu": {},
   "number_sections": false,
   "sideBar": true,
   "skip_h1_title": true,
   "title_cell": "Table of Contents",
   "title_sidebar": "Contents",
   "toc_cell": false,
   "toc_position": {},
   "toc_section_display": true,
   "toc_window_display": false
  }
 },
 "nbformat": 4,
 "nbformat_minor": 5
}
