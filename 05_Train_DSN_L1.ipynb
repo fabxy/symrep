{
 "cells": [
  {
   "cell_type": "markdown",
   "id": "1c69c9c1",
   "metadata": {},
   "source": [
    "# 2022 Flatiron Machine Learning x Science Summer School\n",
    "\n",
    "## Step 5: Train DSN with $L_1$ regularization on latent features"
   ]
  },
  {
   "cell_type": "markdown",
   "id": "390e36a0",
   "metadata": {},
   "source": [
    "### Step 5.1: Check $a_1$ and $a_2$ parameters"
   ]
  },
  {
   "cell_type": "code",
   "execution_count": 1,
   "id": "f72d1241",
   "metadata": {},
   "outputs": [],
   "source": [
    "%matplotlib widget\n",
    "%load_ext autoreload\n",
    "%autoreload 2\n",
    "\n",
    "import os\n",
    "import numpy as np\n",
    "import matplotlib.pyplot as plt\n",
    "import joblib\n",
    "\n",
    "import torch\n",
    "import wandb\n",
    "\n",
    "from srnet import SRNet, SRData\n",
    "import srnet_utils as ut"
   ]
  },
  {
   "cell_type": "code",
   "execution_count": 2,
   "id": "58e0538a",
   "metadata": {},
   "outputs": [],
   "source": [
    "# set wandb project\n",
    "wandb_project = \"51-a1-a2-study-F00\""
   ]
  },
  {
   "cell_type": "code",
   "execution_count": 3,
   "id": "1595d1b9",
   "metadata": {},
   "outputs": [],
   "source": [
    "# define hyperparameters\n",
    "# hyperparams = {\n",
    "#     \"arch\": {\n",
    "#         \"in_size\": train_data.in_data.shape[1],\n",
    "#         \"out_size\": train_data.target_data.shape[1],\n",
    "#         \"hid_num\": (2,0),\n",
    "#         \"hid_size\": 32, \n",
    "#         \"hid_type\": (\"DSN\", \"MLP\"),\n",
    "#         \"lat_size\": 16,\n",
    "#         },\n",
    "#     \"epochs\": 10000,\n",
    "#     \"runtime\": None,\n",
    "#     \"batch_size\": 64,\n",
    "#     \"lr\": 1e-4,\n",
    "#     \"wd\": 1e-4,\n",
    "#     \"l1\": 0.0,\n",
    "#     \"a1\": 0.0,\n",
    "#     \"a2\": 0.0,\n",
    "#     \"shuffle\": True,\n",
    "# }"
   ]
  },
  {
   "cell_type": "code",
   "execution_count": 4,
   "id": "117a8518",
   "metadata": {},
   "outputs": [],
   "source": [
    "# define hyperparameter study\n",
    "hp_study = {\n",
    "    \"method\": \"grid\", # random, bayesian\n",
    "    #\"metric\": {\n",
    "    #    \"name\": \"val_loss\",\n",
    "    #    \"goal\": \"minimize\",\n",
    "    #},\n",
    "    \"parameters\": {\n",
    "        \"a1\": {\n",
    "            \"values\": [0.0, 1e-5, 1e-3, 1e-1]\n",
    "        },\n",
    "        \"a2\": {\n",
    "            \"values\": [0.0, 1e-5, 1e-3, 1e-1]\n",
    "        }\n",
    "    }\n",
    "}"
   ]
  },
  {
   "cell_type": "code",
   "execution_count": 5,
   "id": "7f73ef9c",
   "metadata": {},
   "outputs": [
    {
     "name": "stdout",
     "output_type": "stream",
     "text": [
      "Create sweep with ID: 2rtgnxtt\n",
      "Sweep URL: https://wandb.ai/fabxy/51-a1-a2-study-F00/sweeps/2rtgnxtt\n"
     ]
    }
   ],
   "source": [
    "# create sweep\n",
    "sweep_id = wandb.sweep(hp_study, project=wandb_project)"
   ]
  },
  {
   "cell_type": "code",
   "execution_count": 58,
   "id": "0b74b87e",
   "metadata": {},
   "outputs": [
    {
     "name": "stdout",
     "output_type": "stream",
     "text": [
      "Downloading srnet_model_F00_l1_1e-03.pkl.\n"
     ]
    }
   ],
   "source": [
    "# download data from wandb\n",
    "file_ext = \".pkl\"\n",
    "\n",
    "api = wandb.Api()\n",
    "\n",
    "runs = api.runs(wandb_project)\n",
    "for run in runs:\n",
    "    for f in run.files():\n",
    "        if f.name[-len(file_ext):] == file_ext and not os.path.isfile(f.name):\n",
    "            print(f\"Downloading {os.path.basename(f.name)}.\")\n",
    "            run.file(f.name).download()"
   ]
  },
  {
   "cell_type": "code",
   "execution_count": null,
   "id": "90ab95a7",
   "metadata": {},
   "outputs": [],
   "source": []
  },
  {
   "cell_type": "code",
   "execution_count": null,
   "id": "189a620f",
   "metadata": {},
   "outputs": [],
   "source": []
  },
  {
   "cell_type": "code",
   "execution_count": null,
   "id": "017352cd",
   "metadata": {},
   "outputs": [],
   "source": []
  },
  {
   "cell_type": "markdown",
   "id": "cb29df0b",
   "metadata": {},
   "source": [
    "What was actually done in the work? Let's read the repo."
   ]
  },
  {
   "cell_type": "code",
   "execution_count": null,
   "id": "c6a2a0fa",
   "metadata": {},
   "outputs": [],
   "source": [
    "model = nn.Sequential(\n",
    "    nn.Linear(n_in, hidden), nn.ReLU(),\n",
    "    nn.Linear(hidden, hidden), nn.ReLU(),\n",
    "    nn.Linear(hidden, hidden), nn.ReLU(),\n",
    "    nn.Linear(hidden, n_out))"
   ]
  },
  {
   "cell_type": "code",
   "execution_count": null,
   "id": "8a50b250",
   "metadata": {},
   "outputs": [],
   "source": [
    "from sjnn.torch import SparseJacobianNN as SJNN\n",
    "# from sjnn.haiku import SparseJacobianNN as SJNN\n",
    "model = SJNN(\n",
    "    n_in=n_in, n_out=n_out,\n",
    "    hidden=hidden, nlayers=2, act=F.relu)"
   ]
  },
  {
   "cell_type": "code",
   "execution_count": null,
   "id": "984a1c9c",
   "metadata": {},
   "outputs": [],
   "source": [
    "loss += model.sparsifying_loss(x)"
   ]
  },
  {
   "cell_type": "code",
   "execution_count": null,
   "id": "3e263c4d",
   "metadata": {},
   "outputs": [],
   "source": []
  },
  {
   "cell_type": "code",
   "execution_count": null,
   "id": "67186521",
   "metadata": {},
   "outputs": [],
   "source": [
    "a1, a2: L1 reg and sparsity reg"
   ]
  },
  {
   "cell_type": "code",
   "execution_count": null,
   "id": "d1c28ec9",
   "metadata": {},
   "outputs": [],
   "source": [
    "approx_l0, approx_max"
   ]
  },
  {
   "cell_type": "code",
   "execution_count": null,
   "id": "dc9c5e35",
   "metadata": {},
   "outputs": [],
   "source": [
    "alpha?"
   ]
  },
  {
   "cell_type": "code",
   "execution_count": null,
   "id": "550ce52a",
   "metadata": {},
   "outputs": [],
   "source": [
    "weights:\n",
    "    self.w = nn.ParameterList(\n",
    "            [init_weights_3d(n_out, n_in, hidden)]\n",
    "            + [init_weights_3d(n_out, hidden, hidden) for i in range(nlayers)]\n",
    "            + [init_weights_3d(n_out, hidden, 1)]\n",
    "        )"
   ]
  },
  {
   "cell_type": "code",
   "execution_count": null,
   "id": "5237bb01",
   "metadata": {},
   "outputs": [],
   "source": [
    "biases:\n",
    "    self.b = nn.ParameterList(\n",
    "            [init_weights_2d(n_out, hidden)]\n",
    "            + [init_weights_2d(n_out, hidden) for i in range(nlayers)]\n",
    "            + [init_weights_2d(n_out, 1)]\n",
    "        )"
   ]
  },
  {
   "cell_type": "code",
   "execution_count": null,
   "id": "0f603c7a",
   "metadata": {},
   "outputs": [],
   "source": [
    "forward:\n",
    "    get_masked_input        \n",
    "    n_layer x: apply_layer\n",
    "    out: apply_layer"
   ]
  },
  {
   "cell_type": "code",
   "execution_count": null,
   "id": "b93f85e9",
   "metadata": {},
   "outputs": [],
   "source": [
    "get_masked_input(self, x: TensorType[\"batch\", \"input\"]) -> TensorType[\"batch\", \"output\", \"input\"]:\n",
    "    tiled = E.repeat(x, \"batch n_in -> batch n_out n_in\", n_out=self.n_out)\n",
    "    return tiled * self.alpha[None]\n",
    "\n",
    "# E is from einops\n",
    "# alpha is n_out x n_in\n",
    "# "
   ]
  },
  {
   "cell_type": "code",
   "execution_count": null,
   "id": "77aec5c1",
   "metadata": {},
   "outputs": [],
   "source": [
    "importances = self.alpha  # [n_out, n_in]\n",
    "few_latents = self.l0_func(importances, dim=1).sum()\n",
    "few_dependencies = self.max_func(self.l0_func(importances, dim=0), dim=0)\n",
    "return self.a1 * few_latents + self.a2 * few_dependencies"
   ]
  },
  {
   "cell_type": "code",
   "execution_count": null,
   "id": "07b9ff7d",
   "metadata": {},
   "outputs": [],
   "source": [
    "n_out x n_in    # lat_feat x in_feat\n",
    "\n",
    "abs(alpha).sum() across n_in # lat_feat\n",
    "abs(alpha).sum() # 1\n",
    "\n",
    "abs(alpha).sum() across n_out # in_feat                    TODO: is that correct? how do the dimensions work here?\n",
    "self.max_func(self.l0_func(importances, dim=0), dim=0) "
   ]
  },
  {
   "cell_type": "markdown",
   "id": "c322844c",
   "metadata": {},
   "source": [
    "dim=0 to dim=1 -> pull request?"
   ]
  }
 ],
 "metadata": {
  "kernelspec": {
   "display_name": "Python 3 (ipykernel)",
   "language": "python",
   "name": "python3"
  },
  "language_info": {
   "codemirror_mode": {
    "name": "ipython",
    "version": 3
   },
   "file_extension": ".py",
   "mimetype": "text/x-python",
   "name": "python",
   "nbconvert_exporter": "python",
   "pygments_lexer": "ipython3",
   "version": "3.8.3"
  },
  "toc": {
   "base_numbering": 1,
   "nav_menu": {},
   "number_sections": false,
   "sideBar": true,
   "skip_h1_title": true,
   "title_cell": "Table of Contents",
   "title_sidebar": "Contents",
   "toc_cell": false,
   "toc_position": {},
   "toc_section_display": true,
   "toc_window_display": false
  }
 },
 "nbformat": 4,
 "nbformat_minor": 5
}
