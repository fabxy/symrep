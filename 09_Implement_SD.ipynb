{
 "cells": [
  {
   "cell_type": "markdown",
   "id": "521ec620",
   "metadata": {},
   "source": [
    "# 2022 Flatiron Machine Learning x Science Summer School\n",
    "\n",
    "## Step 9: Implement symbolic discriminator\n",
    "\n",
    "In this step, we train a symbolic discriminator to regularize the latent features of our `SRNet`.\n",
    "\n",
    "The aim is that the latent features are incentivized to resemble functions that are easily discoverable with symbolic regression.\n",
    "\n",
    "The plan is training a Wasserstein Generative Adversarial Network (WGAN) with gradient penalty. The advantage of a WGAN over a regular GAN is that it avoids mode collapse and vanishing gradients. The WGAN requires the discriminator to be 1-Lipschitz continuous, which is softly enforced with gradient penalty (check https://www.youtube.com/watch?v=v6y5qQ0pcg4).\n",
    "\n",
    "First, we are going to apply a WGAN to the simplest possible formulation of our problem:\n",
    "\n",
    "* Two input features\n",
    "\n",
    "* Bottleneck\n",
    "\n",
    "* Fixed $\\alpha$ mask values\n",
    "\n",
    "* Pretrained weights\n",
    "\n",
    "* Only target functions as real data\n",
    "\n",
    "Notes:\n",
    "\n",
    "* We probably do not want to shuffle the input data\n",
    "\n",
    "Questions:\n",
    "\n",
    "* Do we feed the discriminator only latent feature values or also input feature values?\n",
    "\n",
    "* Do we want different batches, i.e. the `SRNet` and real functions evaluated at different positions?\n",
    "\n",
    "**TODO**:\n",
    "\n",
    "* Try `LeakyReLU`, `BatchNorm`\n",
    "\n",
    "* Check https://github.com/aladdinpersson/Machine-Learning-Collection\n",
    "\n",
    "* Check `prior.jl`\n",
    "\n",
    "* Check Miles' code (https://colab.research.google.com/drive/1IoJh46JV8EaxWjF3kDS51MZyAdXKzBxc?usp=sharing#scrollTo=4G3ZNAUeCxMX)"
   ]
  },
  {
   "cell_type": "markdown",
   "id": "ac67614a",
   "metadata": {},
   "source": [
    "* Check preevaluation vs. online evaluation\n",
    "\n",
    "* Check batch_size\n",
    "\n",
    "* Consider input features?\n",
    "\n",
    "* Which epoch to start discriminator?"
   ]
  },
  {
   "cell_type": "code",
   "execution_count": 1,
   "id": "a2b34e0d",
   "metadata": {},
   "outputs": [],
   "source": [
    "%matplotlib widget\n",
    "%load_ext autoreload\n",
    "%autoreload 2\n",
    "\n",
    "import os\n",
    "import numpy as np\n",
    "import matplotlib.pyplot as plt\n",
    "import joblib\n",
    "\n",
    "import torch\n",
    "import wandb\n",
    "\n",
    "from srnet import SRNet, SRData\n",
    "import srnet_utils as ut"
   ]
  },
  {
   "cell_type": "code",
   "execution_count": 2,
   "id": "cc4c3362",
   "metadata": {},
   "outputs": [
    {
     "data": {
      "application/vnd.jupyter.widget-view+json": {
       "model_id": "36ff05aab6a248c99cef4992970747db",
       "version_major": 2,
       "version_minor": 0
      },
      "text/plain": [
       "Canvas(toolbar=Toolbar(toolitems=[('Home', 'Reset original view', 'home', 'home'), ('Back', 'Back to previous …"
      ]
     },
     "metadata": {},
     "output_type": "display_data"
    }
   ],
   "source": [
    "# plot losses\n",
    "save_names = [\"srnet_model_F00_bn_norm_sd_1e-04_test.pkl\"]\n",
    "save_path = \"models\"\n",
    "models = ut.plot_losses(save_names, save_path=\"models\", excl_names=[\"max\"])"
   ]
  },
  {
   "cell_type": "code",
   "execution_count": 3,
   "id": "af27a64d",
   "metadata": {},
   "outputs": [],
   "source": [
    "# load data\n",
    "data_path = \"data_1k\"\n",
    "\n",
    "in_var = \"X00\"\n",
    "lat_var = \"G00\"\n",
    "target_var = \"F00\"\n",
    "\n",
    "mask_ext = \".mask\"\n",
    "masks = joblib.load(os.path.join(data_path, in_var + mask_ext))\n",
    "\n",
    "train_data = SRData(data_path, in_var, lat_var, target_var, masks[\"train\"])\n",
    "val_data = SRData(data_path, in_var, lat_var, target_var, masks[\"val\"])"
   ]
  },
  {
   "cell_type": "code",
   "execution_count": 7,
   "id": "8c139a72",
   "metadata": {},
   "outputs": [
    {
     "name": "stdout",
     "output_type": "stream",
     "text": [
      "[1.8365434, 0.94673306, 0.1891221]\n",
      "[2, 1, 0]\n",
      "[[-1.4036835  -1.0781626 ]\n",
      " [-1.9185202   0.82522213]\n",
      " [ 1.3652941  -0.46780935]]\n",
      "[[0.58066916 0.41933084]\n",
      " [0.7490023  0.25099772]\n",
      " [0.7104324  0.28956768]]\n",
      "\n"
     ]
    }
   ],
   "source": [
    "model_name = \"srnet_model_F00_bn_norm_sd_1e-04_test\"\n",
    "model_path = \"models\"\n",
    "model_ext = \".pkl\"\n",
    "\n",
    "model = ut.load_model(model_name + model_ext, model_path, SRNet)\n",
    "\n",
    "with torch.no_grad():\n",
    "    preds, acts = model(train_data.in_data, get_lat=True)\n",
    "    \n",
    "all_nodes = ut.get_node_order(acts, show=True)\n",
    "\n",
    "print(model.layers1.alpha.detach().cpu().numpy()[all_nodes])\n",
    "print(model.layers1.norm(model.layers1.alpha).detach().cpu().numpy()[all_nodes])\n",
    "\n",
    "print(\"\")"
   ]
  },
  {
   "cell_type": "code",
   "execution_count": 8,
   "id": "2ddae627",
   "metadata": {},
   "outputs": [],
   "source": [
    "nodes = all_nodes[:3]"
   ]
  },
  {
   "cell_type": "code",
   "execution_count": 9,
   "id": "cc1808a9",
   "metadata": {},
   "outputs": [],
   "source": [
    "# select plotting data\n",
    "x_data = train_data.in_data[:,0]\n",
    "y_data = train_data.in_data[:,1]\n",
    "z_data = [\n",
    "    (\"target\", train_data.target_data),\n",
    "    #(\"x**2\", x_data**2), \n",
    "    #(\"cos(y)\", np.cos(y_data)), \n",
    "    #(\"x*y\", x_data * y_data),\n",
    "]\n",
    "plot_size = train_data.target_data.shape[0]"
   ]
  },
  {
   "cell_type": "code",
   "execution_count": 10,
   "id": "5f9952ad",
   "metadata": {},
   "outputs": [
    {
     "data": {
      "application/vnd.jupyter.widget-view+json": {
       "model_id": "c668e92b95e44c60b61066571dce098c",
       "version_major": 2,
       "version_minor": 0
      },
      "text/plain": [
       "Canvas(toolbar=Toolbar(toolitems=[('Home', 'Reset original view', 'home', 'home'), ('Back', 'Back to previous …"
      ]
     },
     "metadata": {},
     "output_type": "display_data"
    }
   ],
   "source": [
    "ut.plot_acts(x_data, y_data, z_data, acts=acts, nodes=nodes, model=model, bias=True, nonzero=False, agg=False, plot_size=plot_size)"
   ]
  },
  {
   "cell_type": "code",
   "execution_count": 18,
   "id": "6604a041",
   "metadata": {},
   "outputs": [],
   "source": [
    "corr_data = [\n",
    "    (\"x**2\", x_data**2), \n",
    "    (\"cos(y)\", np.cos(y_data)), \n",
    "    (\"x*y\", x_data * y_data),\n",
    "]"
   ]
  },
  {
   "cell_type": "code",
   "execution_count": 19,
   "id": "d2c47f90",
   "metadata": {},
   "outputs": [
    {
     "name": "stdout",
     "output_type": "stream",
     "text": [
      "\n",
      "Node 2\n",
      "corr(n2, x**2): 0.9999\n",
      "corr(n2, cos(y)): -0.0170\n",
      "corr(n2, x*y): 0.1786\n",
      "\n",
      "Node 1\n",
      "corr(n1, x**2): 0.1706\n",
      "corr(n1, cos(y)): -0.0622\n",
      "corr(n1, x*y): 0.9999\n",
      "\n",
      "Node 0\n",
      "corr(n0, x**2): -0.0153\n",
      "corr(n0, cos(y)): 0.9997\n",
      "corr(n0, x*y): -0.0672\n"
     ]
    }
   ],
   "source": [
    "ut.node_correlations(acts, nodes, corr_data)"
   ]
  },
  {
   "cell_type": "code",
   "execution_count": 13,
   "id": "d6928293",
   "metadata": {},
   "outputs": [
    {
     "data": {
      "application/vnd.jupyter.widget-view+json": {
       "model_id": "5100c10d0fa1484f94d3ed7e562cc7c1",
       "version_major": 2,
       "version_minor": 0
      },
      "text/plain": [
       "Canvas(toolbar=Toolbar(toolitems=[('Home', 'Reset original view', 'home', 'home'), ('Back', 'Back to previous …"
      ]
     },
     "metadata": {},
     "output_type": "display_data"
    }
   ],
   "source": [
    "fig, ax = plt.subplots()\n",
    "\n",
    "ax.scatter(x_data, x_data**2)\n",
    "ax.scatter(x_data, acts[:,2])\n",
    "\n",
    "plt.show()"
   ]
  },
  {
   "cell_type": "code",
   "execution_count": 14,
   "id": "f8185f10",
   "metadata": {},
   "outputs": [],
   "source": [
    "# select plotting data\n",
    "x_data = train_data.in_data[:,0]\n",
    "y_data = train_data.in_data[:,1]\n",
    "z_data = [\n",
    "    #(\"target\", train_data.target_data),\n",
    "    #(\"x**2\", x_data**2), \n",
    "    #(\"cos(y)\", np.cos(y_data)), \n",
    "    (\"x*y\", x_data * y_data),\n",
    "]\n",
    "plot_size = train_data.target_data.shape[0]"
   ]
  },
  {
   "cell_type": "code",
   "execution_count": 15,
   "id": "23b4e5a8",
   "metadata": {},
   "outputs": [
    {
     "data": {
      "application/vnd.jupyter.widget-view+json": {
       "model_id": "e27a78c857b5467d90d13afdf18dbdbc",
       "version_major": 2,
       "version_minor": 0
      },
      "text/plain": [
       "Canvas(toolbar=Toolbar(toolitems=[('Home', 'Reset original view', 'home', 'home'), ('Back', 'Back to previous …"
      ]
     },
     "metadata": {},
     "output_type": "display_data"
    }
   ],
   "source": [
    "ut.plot_acts(x_data, y_data, z_data, acts=acts, nodes=[1], model=model, bias=True, nonzero=False, agg=False, plot_size=plot_size)"
   ]
  },
  {
   "cell_type": "code",
   "execution_count": 16,
   "id": "9fe8f007",
   "metadata": {},
   "outputs": [
    {
     "data": {
      "application/vnd.jupyter.widget-view+json": {
       "model_id": "ceef6e290a57413da1bc16aa2914d6a5",
       "version_major": 2,
       "version_minor": 0
      },
      "text/plain": [
       "Canvas(toolbar=Toolbar(toolitems=[('Home', 'Reset original view', 'home', 'home'), ('Back', 'Back to previous …"
      ]
     },
     "metadata": {},
     "output_type": "display_data"
    }
   ],
   "source": [
    "fig, ax = plt.subplots()\n",
    "\n",
    "ax.scatter(y_data, np.cos(y_data))\n",
    "ax.scatter(y_data, acts[:,0])\n",
    "\n",
    "plt.show()"
   ]
  }
 ],
 "metadata": {
  "kernelspec": {
   "display_name": "Python 3 (ipykernel)",
   "language": "python",
   "name": "python3"
  },
  "language_info": {
   "codemirror_mode": {
    "name": "ipython",
    "version": 3
   },
   "file_extension": ".py",
   "mimetype": "text/x-python",
   "name": "python",
   "nbconvert_exporter": "python",
   "pygments_lexer": "ipython3",
   "version": "3.8.3"
  },
  "toc": {
   "base_numbering": 1,
   "nav_menu": {},
   "number_sections": false,
   "sideBar": true,
   "skip_h1_title": true,
   "title_cell": "Table of Contents",
   "title_sidebar": "Contents",
   "toc_cell": false,
   "toc_position": {},
   "toc_section_display": true,
   "toc_window_display": false
  }
 },
 "nbformat": 4,
 "nbformat_minor": 5
}
