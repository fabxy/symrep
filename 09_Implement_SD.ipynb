{
 "cells": [
  {
   "cell_type": "markdown",
   "id": "521ec620",
   "metadata": {},
   "source": [
    "# 2022 Flatiron Machine Learning x Science Summer School\n",
    "\n",
    "## Step 9: Implement symbolic discriminator\n",
    "\n",
    "In this step, we train a symbolic discriminator to regularize the latent features of our `SRNet`.\n",
    "\n",
    "The aim is that the latent features are incentivized to resemble functions that are easily discoverable with symbolic regression.\n",
    "\n",
    "The plan is training a Wasserstein Generative Adversarial Network (WGAN) with gradient penalty. The advantage of a WGAN over a regular GAN is that it avoids mode collapse and vanishing gradients. The WGAN requires the discriminator to be 1-Lipschitz continuous, which is softly enforced with gradient penalty (check https://www.youtube.com/watch?v=v6y5qQ0pcg4).\n",
    "\n",
    "First, we are going to apply a WGAN to the simplest possible formulation of our problem:\n",
    "\n",
    "* Two input features\n",
    "\n",
    "* Bottleneck\n",
    "\n",
    "* Fixed $\\alpha$ mask values\n",
    "\n",
    "* Pretrained weights\n",
    "\n",
    "* Only target functions as real data\n",
    "\n",
    "Notes:\n",
    "\n",
    "* We probably do not want to shuffle the input data\n",
    "\n",
    "Questions:\n",
    "\n",
    "* Do we feed the discriminator only latent feature values or also input feature values?\n",
    "\n",
    "* Do we want different batches, i.e. the `SRNet` and real functions evaluated at different positions?\n",
    "\n",
    "**TODO**:\n",
    "\n",
    "* Try `LeakyReLU`, `BatchNorm`\n",
    "\n",
    "* Check https://github.com/aladdinpersson/Machine-Learning-Collection\n",
    "\n",
    "* Check `prior.jl`\n",
    "\n",
    "* Check Miles' code (https://colab.research.google.com/drive/1IoJh46JV8EaxWjF3kDS51MZyAdXKzBxc?usp=sharing#scrollTo=4G3ZNAUeCxMX)"
   ]
  },
  {
   "cell_type": "markdown",
   "id": "6dcb2d02",
   "metadata": {},
   "source": [
    "* Check preevaluation vs. online evaluation\n",
    "\n",
    "* Check batch_size\n",
    "\n",
    "* Consider input features?\n",
    "\n",
    "* Which epoch to start discriminator?"
   ]
  }
 ],
 "metadata": {
  "kernelspec": {
   "display_name": "Python 3 (ipykernel)",
   "language": "python",
   "name": "python3"
  },
  "language_info": {
   "codemirror_mode": {
    "name": "ipython",
    "version": 3
   },
   "file_extension": ".py",
   "mimetype": "text/x-python",
   "name": "python",
   "nbconvert_exporter": "python",
   "pygments_lexer": "ipython3",
   "version": "3.8.3"
  },
  "toc": {
   "base_numbering": 1,
   "nav_menu": {},
   "number_sections": false,
   "sideBar": true,
   "skip_h1_title": true,
   "title_cell": "Table of Contents",
   "title_sidebar": "Contents",
   "toc_cell": false,
   "toc_position": {},
   "toc_section_display": true,
   "toc_window_display": false
  }
 },
 "nbformat": 4,
 "nbformat_minor": 5
}
