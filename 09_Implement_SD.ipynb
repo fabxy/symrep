{
 "cells": [
  {
   "cell_type": "markdown",
   "id": "521ec620",
   "metadata": {},
   "source": [
    "# 2022 Flatiron Machine Learning x Science Summer School\n",
    "\n",
    "## Step 9: Implement symbolic discriminator\n",
    "\n",
    "In this step, we train a symbolic discriminator to regularize the latent features of our `SRNet`.\n",
    "\n",
    "The aim is that the latent features are incentivized to resemble functions that are easily discoverable with symbolic regression.\n",
    "\n",
    "The plan is training a Wasserstein Generative Adversarial Network (WGAN) with gradient penalty. The advantage of a WGAN over a regular GAN is that it avoids mode collapse and vanishing gradients. The WGAN requires the discriminator to be 1-Lipschitz continuous, which is softly enforced with gradient penalty (check https://www.youtube.com/watch?v=v6y5qQ0pcg4).\n",
    "\n",
    "First, we are going to apply a WGAN to the simplest possible formulation of our problem:\n",
    "\n",
    "* Two input features\n",
    "\n",
    "* Bottleneck\n",
    "\n",
    "* <s>Fixed $\\alpha$ mask values</s>\n",
    "\n",
    "* <s>Pretrained weights</s>\n",
    "\n",
    "* Only target functions as real data\n",
    "\n",
    "Notes:\n",
    "\n",
    "* We probably do not want to shuffle the input data\n",
    "\n",
    "Questions:\n",
    "\n",
    "* Do we feed the discriminator only latent feature values or also input feature values?\n",
    "\n",
    "* Do we want different batches, i.e. the `SRNet` and real functions evaluated at different positions?\n",
    "\n",
    "**TODO**:\n",
    "\n",
    "* Try `LeakyReLU`, `BatchNorm`\n",
    "\n",
    "* Check https://github.com/aladdinpersson/Machine-Learning-Collection\n",
    "\n",
    "* Check `prior.jl`\n",
    "\n",
    "* Check Miles' code (https://colab.research.google.com/drive/1IoJh46JV8EaxWjF3kDS51MZyAdXKzBxc?usp=sharing#scrollTo=4G3ZNAUeCxMX)"
   ]
  },
  {
   "cell_type": "markdown",
   "id": "18519fdf",
   "metadata": {},
   "source": [
    "### Step 9.1: Check bottleneck DSN with SD regularization"
   ]
  },
  {
   "cell_type": "code",
   "execution_count": 1,
   "id": "a2b34e0d",
   "metadata": {},
   "outputs": [],
   "source": [
    "%matplotlib widget\n",
    "%load_ext autoreload\n",
    "%autoreload 2\n",
    "\n",
    "import os\n",
    "import numpy as np\n",
    "import matplotlib.pyplot as plt\n",
    "import joblib\n",
    "\n",
    "import torch\n",
    "import wandb\n",
    "\n",
    "from srnet import SRNet, SRData\n",
    "import srnet_utils as ut"
   ]
  },
  {
   "cell_type": "code",
   "execution_count": 2,
   "id": "cc4c3362",
   "metadata": {},
   "outputs": [
    {
     "data": {
      "application/vnd.jupyter.widget-view+json": {
       "model_id": "b8af710c52f24876be9e62641dbdc559",
       "version_major": 2,
       "version_minor": 0
      },
      "text/plain": [
       "Canvas(toolbar=Toolbar(toolitems=[('Home', 'Reset original view', 'home', 'home'), ('Back', 'Back to previous …"
      ]
     },
     "metadata": {},
     "output_type": "display_data"
    }
   ],
   "source": [
    "# plot losses\n",
    "save_names = [\"srnet_model_F00_v1_bn_norm_sd_1e-04_check\"]\n",
    "save_path = \"models\"\n",
    "models = ut.plot_losses(save_names, save_path=\"models\", excl_names=[\"max\"])"
   ]
  },
  {
   "cell_type": "code",
   "execution_count": 3,
   "id": "af27a64d",
   "metadata": {},
   "outputs": [],
   "source": [
    "# load data\n",
    "data_path = \"data_1k\"\n",
    "\n",
    "in_var = \"X00\"\n",
    "lat_var = \"G00\"\n",
    "target_var = \"F00\"\n",
    "\n",
    "mask_ext = \".mask\"\n",
    "masks = joblib.load(os.path.join(data_path, in_var + mask_ext))\n",
    "\n",
    "train_data = SRData(data_path, in_var, lat_var, target_var, masks[\"train\"])\n",
    "val_data = SRData(data_path, in_var, lat_var, target_var, masks[\"val\"])"
   ]
  },
  {
   "cell_type": "code",
   "execution_count": 4,
   "id": "8c139a72",
   "metadata": {},
   "outputs": [
    {
     "name": "stdout",
     "output_type": "stream",
     "text": [
      "[1.8365434, 0.94673306, 0.1891221]\n",
      "[2, 1, 0]\n",
      "[[-1.4036835  -1.0781626 ]\n",
      " [-1.9185202   0.82522213]\n",
      " [ 1.3652941  -0.46780935]]\n",
      "[[0.58066916 0.41933084]\n",
      " [0.7490023  0.25099772]\n",
      " [0.7104324  0.28956768]]\n",
      "\n"
     ]
    }
   ],
   "source": [
    "model_name = \"srnet_model_F00_v1_bn_norm_sd_1e-04_check\"\n",
    "model_path = \"models\"\n",
    "model_ext = \".pkl\"\n",
    "\n",
    "model = ut.load_model(model_name + model_ext, model_path, SRNet)\n",
    "\n",
    "with torch.no_grad():\n",
    "    preds, acts = model(train_data.in_data, get_lat=True)\n",
    "    \n",
    "all_nodes = ut.get_node_order(acts, show=True)\n",
    "\n",
    "print(model.layers1.alpha.detach().cpu().numpy()[all_nodes])\n",
    "print(model.layers1.norm(model.layers1.alpha).detach().cpu().numpy()[all_nodes])\n",
    "\n",
    "print(\"\")"
   ]
  },
  {
   "cell_type": "code",
   "execution_count": 5,
   "id": "2ddae627",
   "metadata": {},
   "outputs": [],
   "source": [
    "nodes = all_nodes[:3]"
   ]
  },
  {
   "cell_type": "code",
   "execution_count": 6,
   "id": "cc1808a9",
   "metadata": {},
   "outputs": [],
   "source": [
    "# select plotting data\n",
    "x_data = train_data.in_data[:,0]\n",
    "y_data = train_data.in_data[:,1]\n",
    "z_data = [\n",
    "    (\"target\", train_data.target_data),\n",
    "    #(\"x**2\", x_data**2), \n",
    "    #(\"cos(y)\", np.cos(y_data)), \n",
    "    #(\"x*y\", x_data * y_data),\n",
    "]\n",
    "plot_size = train_data.target_data.shape[0]"
   ]
  },
  {
   "cell_type": "code",
   "execution_count": 7,
   "id": "5f9952ad",
   "metadata": {},
   "outputs": [
    {
     "data": {
      "application/vnd.jupyter.widget-view+json": {
       "model_id": "f6c45e3ed5fa4a02a7ca7d8dbc1fb272",
       "version_major": 2,
       "version_minor": 0
      },
      "text/plain": [
       "Canvas(toolbar=Toolbar(toolitems=[('Home', 'Reset original view', 'home', 'home'), ('Back', 'Back to previous …"
      ]
     },
     "metadata": {},
     "output_type": "display_data"
    }
   ],
   "source": [
    "ut.plot_acts(x_data, y_data, z_data, acts=acts, nodes=nodes, model=model, bias=True, nonzero=False, agg=False, plot_size=plot_size)"
   ]
  },
  {
   "cell_type": "code",
   "execution_count": 8,
   "id": "6604a041",
   "metadata": {},
   "outputs": [],
   "source": [
    "corr_data = [\n",
    "    (\"x**2\", x_data**2), \n",
    "    (\"cos(y)\", np.cos(y_data)), #\n",
    "    (\"x*y\", x_data * y_data),\n",
    "]"
   ]
  },
  {
   "cell_type": "code",
   "execution_count": 9,
   "id": "d2c47f90",
   "metadata": {},
   "outputs": [
    {
     "name": "stdout",
     "output_type": "stream",
     "text": [
      "\n",
      "Node 2\n",
      "corr(n2, x**2): 0.9999\n",
      "corr(n2, cos(y)): -0.0170\n",
      "corr(n2, x*y): 0.1786\n",
      "\n",
      "Node 1\n",
      "corr(n1, x**2): 0.1706\n",
      "corr(n1, cos(y)): -0.0622\n",
      "corr(n1, x*y): 0.9999\n",
      "\n",
      "Node 0\n",
      "corr(n0, x**2): -0.0153\n",
      "corr(n0, cos(y)): 0.9997\n",
      "corr(n0, x*y): -0.0672\n"
     ]
    }
   ],
   "source": [
    "ut.node_correlations(acts, nodes, corr_data);"
   ]
  },
  {
   "cell_type": "code",
   "execution_count": 10,
   "id": "d6928293",
   "metadata": {},
   "outputs": [
    {
     "data": {
      "application/vnd.jupyter.widget-view+json": {
       "model_id": "b68b9e6bee3c4aa59d891ce3a2f8410b",
       "version_major": 2,
       "version_minor": 0
      },
      "text/plain": [
       "Canvas(toolbar=Toolbar(toolitems=[('Home', 'Reset original view', 'home', 'home'), ('Back', 'Back to previous …"
      ]
     },
     "metadata": {},
     "output_type": "display_data"
    }
   ],
   "source": [
    "fig, ax = plt.subplots()\n",
    "\n",
    "ax.scatter(x_data, x_data**2)\n",
    "ax.scatter(x_data, acts[:,2])\n",
    "\n",
    "plt.show()"
   ]
  },
  {
   "cell_type": "code",
   "execution_count": 11,
   "id": "f8185f10",
   "metadata": {},
   "outputs": [],
   "source": [
    "# select plotting data\n",
    "x_data = train_data.in_data[:,0]\n",
    "y_data = train_data.in_data[:,1]\n",
    "z_data = [\n",
    "    #(\"target\", train_data.target_data),\n",
    "    #(\"x**2\", x_data**2), \n",
    "    #(\"cos(y)\", np.cos(y_data)), \n",
    "    (\"x*y\", x_data * y_data),\n",
    "]\n",
    "plot_size = train_data.target_data.shape[0]"
   ]
  },
  {
   "cell_type": "code",
   "execution_count": 12,
   "id": "23b4e5a8",
   "metadata": {},
   "outputs": [
    {
     "data": {
      "application/vnd.jupyter.widget-view+json": {
       "model_id": "53ff27f214734078a77603aeabba936c",
       "version_major": 2,
       "version_minor": 0
      },
      "text/plain": [
       "Canvas(toolbar=Toolbar(toolitems=[('Home', 'Reset original view', 'home', 'home'), ('Back', 'Back to previous …"
      ]
     },
     "metadata": {},
     "output_type": "display_data"
    }
   ],
   "source": [
    "ut.plot_acts(x_data, y_data, z_data, acts=acts, nodes=[1], model=model, bias=True, nonzero=False, agg=False, plot_size=plot_size)"
   ]
  },
  {
   "cell_type": "code",
   "execution_count": 13,
   "id": "9fe8f007",
   "metadata": {},
   "outputs": [
    {
     "data": {
      "application/vnd.jupyter.widget-view+json": {
       "model_id": "d64f72c6fdf3404b8d7bc9a5420e63ba",
       "version_major": 2,
       "version_minor": 0
      },
      "text/plain": [
       "Canvas(toolbar=Toolbar(toolitems=[('Home', 'Reset original view', 'home', 'home'), ('Back', 'Back to previous …"
      ]
     },
     "metadata": {},
     "output_type": "display_data"
    }
   ],
   "source": [
    "fig, ax = plt.subplots()\n",
    "\n",
    "ax.scatter(y_data, np.cos(y_data))\n",
    "ax.scatter(y_data, acts[:,0])\n",
    "\n",
    "plt.show()"
   ]
  },
  {
   "cell_type": "markdown",
   "id": "72412f56",
   "metadata": {},
   "source": [
    "### Step 9.2: Explore SD hyperparameters"
   ]
  },
  {
   "cell_type": "code",
   "execution_count": 14,
   "id": "58e0538a",
   "metadata": {},
   "outputs": [],
   "source": [
    "# set wandb project\n",
    "wandb_project = \"92-bn-DSN-sd-study-F00\""
   ]
  },
  {
   "cell_type": "code",
   "execution_count": 15,
   "id": "1595d1b9",
   "metadata": {},
   "outputs": [],
   "source": [
    "# hyperparams = {\n",
    "#     \"arch\": {\n",
    "#         \"in_size\": train_data.in_data.shape[1],\n",
    "#         \"out_size\": train_data.target_data.shape[1],\n",
    "#         \"hid_num\": (2,0),\n",
    "#         \"hid_size\": 32, \n",
    "#         \"hid_type\": (\"DSN\", \"MLP\"),\n",
    "#         \"hid_kwargs\": {\n",
    "#             \"alpha\": None,\n",
    "#             \"norm\": \"softmax\",\n",
    "#             \"prune\": None,\n",
    "#             },\n",
    "#         \"lat_size\": 3,\n",
    "#         },\n",
    "#     \"epochs\": 30000,\n",
    "#     \"runtime\": None,\n",
    "#     \"batch_size\": train_data.in_data.shape[0],\n",
    "#     \"shuffle\": False,\n",
    "#     \"lr\": 1e-4,\n",
    "#     \"wd\": 1e-4,\n",
    "#     \"l1\": 0.0,\n",
    "#     \"a1\": 0.0,\n",
    "#     \"a2\": 0.0,\n",
    "#     \"e1\": 0.0,\n",
    "#     \"e2\": 0.0,\n",
    "#     \"gc\": 0.0,\n",
    "#     \"sd\": 1e-4,\n",
    "#     \"disc\": {\n",
    "#         \"hid_num\": 2,\n",
    "#         \"hid_size\": 128,\n",
    "#         \"lr\": 1e-4,\n",
    "#         \"wd\": 1e-4,\n",
    "#         \"iters\": 5,\n",
    "#         \"gp\": 1e-4,\n",
    "#     },\n",
    "# }"
   ]
  },
  {
   "cell_type": "code",
   "execution_count": 16,
   "id": "117a8518",
   "metadata": {},
   "outputs": [],
   "source": [
    "# define hyperparameter study\n",
    "hp_study = {\n",
    "    \"method\": \"random\",\n",
    "    \"parameters\": {\n",
    "        \"sd\": {\n",
    "            \"values\": [1e-6, 1e-4, 1e-2, 1e0]\n",
    "        },\n",
    "        \"disc\": {\n",
    "            \"parameters\": {\n",
    "                \"hid_num\": {\n",
    "                    \"values\": [1, 2, 4]\n",
    "                },\n",
    "                \"hid_size\": {\n",
    "                    \"values\": [32, 64, 128, 256]\n",
    "                },\n",
    "                \"lr\": {\n",
    "                    \"values\": [1e-5, 1e-4, 1e-3]\n",
    "                },\n",
    "                \"iters\": {\n",
    "                    \"values\": [1, 2, 5, 10]\n",
    "                },\n",
    "                \"gp\": {\n",
    "                    \"values\": [1e-5, 1e-4, 1e-3]\n",
    "                },\n",
    "            }\n",
    "        }\n",
    "    }\n",
    "}"
   ]
  },
  {
   "cell_type": "code",
   "execution_count": null,
   "id": "7f73ef9c",
   "metadata": {},
   "outputs": [],
   "source": [
    "# create sweep\n",
    "sweep_id = wandb.sweep(hp_study, project=wandb_project)"
   ]
  },
  {
   "cell_type": "markdown",
   "id": "f9407131",
   "metadata": {},
   "source": [
    "<img src=\"results/92-bn-DSN-sd-study-F00.png\">"
   ]
  },
  {
   "cell_type": "markdown",
   "id": "8f3f5928",
   "metadata": {},
   "source": [
    "Using only target functions in the SD library appears to be robust w.r.t. the studied hyperparameters."
   ]
  },
  {
   "cell_type": "markdown",
   "id": "16f001eb",
   "metadata": {},
   "source": [
    "### Step 9.3: Extend SD library\n",
    "\n",
    "Version 1:\n",
    "\n",
    "```\n",
    "X00[:,0]**2\n",
    "np.cos(X00[:,1])\n",
    "X00[:,0] * X00[:,1]\n",
    "```\n",
    "\n",
    "Version 2:\n",
    "\n",
    "```\n",
    "X00[:,0]**2\n",
    "X00[:,1]**2\n",
    "np.cos(X00[:,0])\n",
    "np.cos(X00[:,1])\n",
    "X00[:,0] * X00[:,1]\n",
    "```"
   ]
  },
  {
   "cell_type": "code",
   "execution_count": 17,
   "id": "43304d6a",
   "metadata": {},
   "outputs": [
    {
     "data": {
      "application/vnd.jupyter.widget-view+json": {
       "model_id": "fbe4610973a54d8784b6cd5ee07c49f8",
       "version_major": 2,
       "version_minor": 0
      },
      "text/plain": [
       "Canvas(toolbar=Toolbar(toolitems=[('Home', 'Reset original view', 'home', 'home'), ('Back', 'Back to previous …"
      ]
     },
     "metadata": {},
     "output_type": "display_data"
    }
   ],
   "source": [
    "# plot losses\n",
    "save_names = [\"F00_v2_bn_norm_sd\"]\n",
    "save_path = \"models\"\n",
    "models = ut.plot_losses(save_names, save_path=\"models\", excl_names=[\"study\"])"
   ]
  },
  {
   "cell_type": "code",
   "execution_count": 18,
   "id": "5e4198a5",
   "metadata": {},
   "outputs": [],
   "source": [
    "# load data\n",
    "data_path = \"data_1k\"\n",
    "\n",
    "in_var = \"X00\"\n",
    "lat_var = \"G00\"\n",
    "target_var = \"F00\"\n",
    "\n",
    "mask_ext = \".mask\"\n",
    "masks = joblib.load(os.path.join(data_path, in_var + mask_ext))\n",
    "\n",
    "train_data = SRData(data_path, in_var, lat_var, target_var, masks[\"train\"])\n",
    "val_data = SRData(data_path, in_var, lat_var, target_var, masks[\"val\"])"
   ]
  },
  {
   "cell_type": "code",
   "execution_count": 19,
   "id": "43edd0d8",
   "metadata": {},
   "outputs": [
    {
     "name": "stdout",
     "output_type": "stream",
     "text": [
      "[1.6364664, 0.9781076, 0.45337594]\n",
      "[2, 1, 0]\n",
      "[[-1.2925727 -1.1796976]\n",
      " [-1.8483588  0.8866545]\n",
      " [ 1.3686377 -0.4594895]]\n",
      "[[0.5281889  0.47181118]\n",
      " [0.7234629  0.2765371 ]\n",
      " [0.71282583 0.28717417]]\n",
      "\n"
     ]
    }
   ],
   "source": [
    "model_name = \"srnet_model_F00_v2_bn_norm_sd_1e-06_check\"\n",
    "model_path = \"models\"\n",
    "model_ext = \".pkl\"\n",
    "\n",
    "model = ut.load_model(model_name + model_ext, model_path, SRNet)\n",
    "\n",
    "with torch.no_grad():\n",
    "    preds, acts = model(train_data.in_data, get_lat=True)\n",
    "    \n",
    "all_nodes = ut.get_node_order(acts, show=True)\n",
    "\n",
    "print(model.layers1.alpha.detach().cpu().numpy()[all_nodes])\n",
    "print(model.layers1.norm(model.layers1.alpha).detach().cpu().numpy()[all_nodes])\n",
    "\n",
    "print(\"\")"
   ]
  },
  {
   "cell_type": "code",
   "execution_count": 20,
   "id": "43622f33",
   "metadata": {},
   "outputs": [],
   "source": [
    "nodes = all_nodes[:3]"
   ]
  },
  {
   "cell_type": "code",
   "execution_count": 21,
   "id": "c9a9d3b6",
   "metadata": {},
   "outputs": [],
   "source": [
    "# select plotting data\n",
    "x_data = train_data.in_data[:,0]\n",
    "y_data = train_data.in_data[:,1]\n",
    "z_data = [\n",
    "    (\"target\", train_data.target_data),\n",
    "    (\"pred\", preds),\n",
    "    #(\"x**2\", x_data**2), \n",
    "    #(\"cos(y)\", np.cos(y_data)), \n",
    "    #(\"x*y\", x_data * y_data),\n",
    "]\n",
    "plot_size = train_data.target_data.shape[0]"
   ]
  },
  {
   "cell_type": "code",
   "execution_count": 22,
   "id": "2747571f",
   "metadata": {},
   "outputs": [
    {
     "data": {
      "application/vnd.jupyter.widget-view+json": {
       "model_id": "ee08232262bb40939913fd5741f5df77",
       "version_major": 2,
       "version_minor": 0
      },
      "text/plain": [
       "Canvas(toolbar=Toolbar(toolitems=[('Home', 'Reset original view', 'home', 'home'), ('Back', 'Back to previous …"
      ]
     },
     "metadata": {},
     "output_type": "display_data"
    }
   ],
   "source": [
    "ut.plot_acts(x_data, y_data, z_data, plot_size=plot_size)"
   ]
  },
  {
   "cell_type": "code",
   "execution_count": 23,
   "id": "7f14f3cc",
   "metadata": {},
   "outputs": [],
   "source": [
    "# select plotting data\n",
    "x_data = train_data.in_data[:,0]\n",
    "y_data = train_data.in_data[:,1]\n",
    "z_data = [\n",
    "    (\"target\", train_data.target_data),\n",
    "    #(\"x**2\", x_data**2), \n",
    "    #(\"cos(y)\", np.cos(y_data)), \n",
    "    #(\"x*y\", x_data * y_data),\n",
    "]\n",
    "plot_size = train_data.target_data.shape[0]"
   ]
  },
  {
   "cell_type": "code",
   "execution_count": 24,
   "id": "14448546",
   "metadata": {},
   "outputs": [
    {
     "data": {
      "application/vnd.jupyter.widget-view+json": {
       "model_id": "798cbaaef3b54fb0943602f40198eb8a",
       "version_major": 2,
       "version_minor": 0
      },
      "text/plain": [
       "Canvas(toolbar=Toolbar(toolitems=[('Home', 'Reset original view', 'home', 'home'), ('Back', 'Back to previous …"
      ]
     },
     "metadata": {},
     "output_type": "display_data"
    }
   ],
   "source": [
    "ut.plot_acts(x_data, y_data, z_data, acts=acts, nodes=nodes, model=model, bias=True, nonzero=False, agg=False, plot_size=plot_size)"
   ]
  },
  {
   "cell_type": "code",
   "execution_count": 25,
   "id": "cf4460cf",
   "metadata": {},
   "outputs": [],
   "source": [
    "corr_data = [\n",
    "    (\"x**2\", x_data**2), \n",
    "    (\"y**2\", y_data**2), \n",
    "    (\"cos(x)\", np.cos(x_data)), \n",
    "    (\"cos(y)\", np.cos(y_data)), \n",
    "    (\"x*y\", x_data * y_data),\n",
    "]"
   ]
  },
  {
   "cell_type": "code",
   "execution_count": 26,
   "id": "1b8feb39",
   "metadata": {},
   "outputs": [
    {
     "name": "stdout",
     "output_type": "stream",
     "text": [
      "\n",
      "Node 2\n",
      "corr(n2, x**2): 0.8389\n",
      "corr(n2, y**2): 0.4236\n",
      "corr(n2, cos(x)): -0.8093\n",
      "corr(n2, cos(y)): -0.4279\n",
      "corr(n2, x*y): 0.4568\n",
      "\n",
      "Node 1\n",
      "corr(n1, x**2): 0.0089\n",
      "corr(n1, y**2): 0.9942\n",
      "corr(n1, cos(x)): -0.0237\n",
      "corr(n1, cos(y)): -0.9734\n",
      "corr(n1, x*y): 0.0456\n",
      "\n",
      "Node 0\n",
      "corr(n0, x**2): -0.4328\n",
      "corr(n0, y**2): -0.6815\n",
      "corr(n0, cos(x)): 0.4422\n",
      "corr(n0, cos(y)): 0.7030\n",
      "corr(n0, x*y): 0.2161\n"
     ]
    }
   ],
   "source": [
    "ut.node_correlations(acts, nodes, corr_data);"
   ]
  },
  {
   "cell_type": "code",
   "execution_count": 30,
   "id": "22c89c64",
   "metadata": {},
   "outputs": [
    {
     "data": {
      "application/vnd.jupyter.widget-view+json": {
       "model_id": "53f645391cb8406a9825c6942a075483",
       "version_major": 2,
       "version_minor": 0
      },
      "text/plain": [
       "Canvas(toolbar=Toolbar(toolitems=[('Home', 'Reset original view', 'home', 'home'), ('Back', 'Back to previous …"
      ]
     },
     "metadata": {},
     "output_type": "display_data"
    }
   ],
   "source": [
    "fig, ax = plt.subplots()\n",
    "\n",
    "ax.scatter(x_data, x_data**2)\n",
    "ax.scatter(x_data, acts[:,2])\n",
    "\n",
    "plt.show()"
   ]
  },
  {
   "cell_type": "code",
   "execution_count": 28,
   "id": "404e6b27",
   "metadata": {},
   "outputs": [
    {
     "data": {
      "application/vnd.jupyter.widget-view+json": {
       "model_id": "c5a4d342e98847359bfc7d86720704ec",
       "version_major": 2,
       "version_minor": 0
      },
      "text/plain": [
       "Canvas(toolbar=Toolbar(toolitems=[('Home', 'Reset original view', 'home', 'home'), ('Back', 'Back to previous …"
      ]
     },
     "metadata": {},
     "output_type": "display_data"
    }
   ],
   "source": [
    "fig, ax = plt.subplots()\n",
    "\n",
    "ax.scatter(y_data, np.cos(y_data))\n",
    "ax.scatter(y_data, acts[:,1])\n",
    "\n",
    "plt.show()"
   ]
  },
  {
   "cell_type": "code",
   "execution_count": 29,
   "id": "31ae12eb",
   "metadata": {},
   "outputs": [
    {
     "data": {
      "application/vnd.jupyter.widget-view+json": {
       "model_id": "92a60baa32c44aa59079e64ab7db93f5",
       "version_major": 2,
       "version_minor": 0
      },
      "text/plain": [
       "Canvas(toolbar=Toolbar(toolitems=[('Home', 'Reset original view', 'home', 'home'), ('Back', 'Back to previous …"
      ]
     },
     "metadata": {},
     "output_type": "display_data"
    }
   ],
   "source": [
    "fig, ax = plt.subplots()\n",
    "\n",
    "ax.scatter(y_data, np.cos(y_data))\n",
    "ax.scatter(y_data, acts[:,0])\n",
    "\n",
    "plt.show()"
   ]
  },
  {
   "cell_type": "markdown",
   "id": "c7a2764f",
   "metadata": {},
   "source": [
    "Using a slightly extended SD library, the target latent features are not identified clearly anymore.\n",
    "\n",
    "Let's run a hyperparameter study before rushing to conclusions."
   ]
  },
  {
   "cell_type": "code",
   "execution_count": 31,
   "id": "1a4a11c2",
   "metadata": {},
   "outputs": [],
   "source": [
    "# set wandb project\n",
    "wandb_project = \"93-bn-DSN-sd-study-F00_v2\""
   ]
  },
  {
   "cell_type": "code",
   "execution_count": 32,
   "id": "a07ece0f",
   "metadata": {},
   "outputs": [],
   "source": [
    "# hyperparams = {\n",
    "#     \"arch\": {\n",
    "#         \"in_size\": train_data.in_data.shape[1],\n",
    "#         \"out_size\": train_data.target_data.shape[1],\n",
    "#         \"hid_num\": (2,0),\n",
    "#         \"hid_size\": 32, \n",
    "#         \"hid_type\": (\"DSN\", \"MLP\"),\n",
    "#         \"hid_kwargs\": {\n",
    "#             \"alpha\": None,\n",
    "#             \"norm\": \"softmax\",\n",
    "#             \"prune\": None,\n",
    "#             },\n",
    "#         \"lat_size\": 3,\n",
    "#         },\n",
    "#     \"epochs\": 30000,\n",
    "#     \"runtime\": None,\n",
    "#     \"batch_size\": train_data.in_data.shape[0],\n",
    "#     \"shuffle\": False,\n",
    "#     \"lr\": 1e-4,\n",
    "#     \"wd\": 1e-4,\n",
    "#     \"l1\": 0.0,\n",
    "#     \"a1\": 0.0,\n",
    "#     \"a2\": 0.0,\n",
    "#     \"e1\": 0.0,\n",
    "#     \"e2\": 0.0,\n",
    "#     \"gc\": 0.0,\n",
    "#     \"sd\": 1e-4,\n",
    "#     \"disc\": {\n",
    "#         \"hid_num\": 2,\n",
    "#         \"hid_size\": 128,\n",
    "#         \"lr\": 1e-4,\n",
    "#         \"wd\": 1e-4,\n",
    "#         \"iters\": 5,\n",
    "#         \"gp\": 1e-4,\n",
    "#     },\n",
    "# }"
   ]
  },
  {
   "cell_type": "code",
   "execution_count": 33,
   "id": "266d0028",
   "metadata": {},
   "outputs": [],
   "source": [
    "# define hyperparameter study\n",
    "hp_study = {\n",
    "    \"method\": \"random\",\n",
    "    \"parameters\": {\n",
    "        \"sd\": {\n",
    "            \"values\": [1e-7, 1e-6, 1e-5, 1e-4]\n",
    "        },\n",
    "        \"disc\": {\n",
    "            \"parameters\": {\n",
    "                \"hid_num\": {\n",
    "                    \"values\": [1, 2, 4]\n",
    "                },\n",
    "                \"hid_size\": {\n",
    "                    \"values\": [32, 128, 256]\n",
    "                },\n",
    "                \"lr\": {\n",
    "                    \"values\": [1e-5, 1e-4, 1e-3]\n",
    "                },\n",
    "                \"iters\": {\n",
    "                    \"values\": [1, 5, 10]\n",
    "                },\n",
    "                \"gp\": {\n",
    "                    \"values\": [1e-5, 1e-4, 1e-3]\n",
    "                },\n",
    "            }\n",
    "        }\n",
    "    }\n",
    "}"
   ]
  },
  {
   "cell_type": "code",
   "execution_count": null,
   "id": "6a1a1d53",
   "metadata": {},
   "outputs": [],
   "source": [
    "# create sweep\n",
    "sweep_id = wandb.sweep(hp_study, project=wandb_project)"
   ]
  },
  {
   "cell_type": "markdown",
   "id": "ed466141",
   "metadata": {},
   "source": [
    "<img src=\"results/93-bn-DSN-sd-study-F00_v2.png\">"
   ]
  },
  {
   "cell_type": "markdown",
   "id": "2fab78e3",
   "metadata": {},
   "source": [
    "An `sd` value of `1e-6` or lower seems necessary to achieve low validation errors."
   ]
  },
  {
   "cell_type": "code",
   "execution_count": 34,
   "id": "1cc8188a",
   "metadata": {},
   "outputs": [
    {
     "name": "stdout",
     "output_type": "stream",
     "text": [
      "Downloading srnet_model_F00_v2_bn_norm_sd_study_v1.pkl.\n",
      "Downloading srnet_model_F00_v2_bn_norm_sd_study_v2.pkl.\n",
      "Downloading srnet_model_F00_v2_bn_norm_sd_study_v3.pkl.\n",
      "Downloading srnet_model_F00_v2_bn_norm_sd_study_v4.pkl.\n",
      "Downloading srnet_model_F00_v2_bn_norm_sd_study_v5.pkl.\n",
      "Downloading srnet_model_F00_v2_bn_norm_sd_study_v6.pkl.\n",
      "Downloading srnet_model_F00_v2_bn_norm_sd_study_v7.pkl.\n",
      "Downloading srnet_model_F00_v2_bn_norm_sd_study_v8.pkl.\n",
      "Downloading srnet_model_F00_v2_bn_norm_sd_study_v9.pkl.\n",
      "Downloading srnet_model_F00_v2_bn_norm_sd_study_v10.pkl.\n",
      "Downloading srnet_model_F00_v2_bn_norm_sd_study_v11.pkl.\n",
      "Downloading srnet_model_F00_v2_bn_norm_sd_study_v12.pkl.\n",
      "Downloading srnet_model_F00_v2_bn_norm_sd_study_v13.pkl.\n",
      "Downloading srnet_model_F00_v2_bn_norm_sd_study_v14.pkl.\n",
      "Downloading srnet_model_F00_v2_bn_norm_sd_study_v15.pkl.\n",
      "Downloading srnet_model_F00_v2_bn_norm_sd_study_v16.pkl.\n",
      "Downloading srnet_model_F00_v2_bn_norm_sd_study_v17.pkl.\n"
     ]
    }
   ],
   "source": [
    "# download data from wandb\n",
    "file_ext = \".pkl\"\n",
    "\n",
    "api = wandb.Api()\n",
    "\n",
    "runs = api.runs(wandb_project)\n",
    "for r, run in enumerate(runs):\n",
    "    for f in run.files():\n",
    "        if f.name[-len(file_ext):] == file_ext:\n",
    "            file_name = f.name.replace(file_ext, f\"_v{r+1}{file_ext}\")\n",
    "            print(f\"Downloading {os.path.basename(file_name)}.\")\n",
    "            run.file(f.name).download()\n",
    "            os.rename(f.name, file_name)"
   ]
  },
  {
   "cell_type": "code",
   "execution_count": 35,
   "id": "1beb13f3",
   "metadata": {},
   "outputs": [],
   "source": [
    "# load data\n",
    "data_path = \"data_1k\"\n",
    "\n",
    "in_var = \"X00\"\n",
    "lat_var = \"G00\"\n",
    "target_var = \"F00\"\n",
    "\n",
    "mask_ext = \".mask\"\n",
    "masks = joblib.load(os.path.join(data_path, in_var + mask_ext))\n",
    "\n",
    "train_data = SRData(data_path, in_var, lat_var, target_var, masks[\"train\"])\n",
    "val_data = SRData(data_path, in_var, lat_var, target_var, masks[\"val\"])"
   ]
  },
  {
   "cell_type": "code",
   "execution_count": 36,
   "id": "496b1f37",
   "metadata": {},
   "outputs": [],
   "source": [
    "x_data = train_data.in_data[:,0]\n",
    "y_data = train_data.in_data[:,1]"
   ]
  },
  {
   "cell_type": "code",
   "execution_count": 37,
   "id": "a7b16c98",
   "metadata": {},
   "outputs": [],
   "source": [
    "corr_data = [\n",
    "    (\"x**2\", x_data**2), \n",
    "    # (\"y**2\", y_data**2), \n",
    "    # (\"cos(x)\", np.cos(x_data)), \n",
    "    (\"cos(y)\", np.cos(y_data)), \n",
    "    (\"x*y\", x_data * y_data),\n",
    "]"
   ]
  },
  {
   "cell_type": "code",
   "execution_count": 39,
   "id": "f3c07a21",
   "metadata": {},
   "outputs": [
    {
     "name": "stdout",
     "output_type": "stream",
     "text": [
      "Loading srnet_model_F00_v2_bn_norm_sd_study_v1.pkl.\n",
      "Loading srnet_model_F00_v2_bn_norm_sd_study_v10.pkl.\n",
      "Loading srnet_model_F00_v2_bn_norm_sd_study_v11.pkl.\n",
      "Loading srnet_model_F00_v2_bn_norm_sd_study_v12.pkl.\n",
      "Loading srnet_model_F00_v2_bn_norm_sd_study_v13.pkl.\n",
      "Loading srnet_model_F00_v2_bn_norm_sd_study_v14.pkl.\n",
      "Loading srnet_model_F00_v2_bn_norm_sd_study_v15.pkl.\n",
      "Loading srnet_model_F00_v2_bn_norm_sd_study_v16.pkl.\n",
      "Loading srnet_model_F00_v2_bn_norm_sd_study_v17.pkl.\n",
      "Loading srnet_model_F00_v2_bn_norm_sd_study_v2.pkl.\n",
      "Loading srnet_model_F00_v2_bn_norm_sd_study_v3.pkl.\n",
      "Loading srnet_model_F00_v2_bn_norm_sd_study_v4.pkl.\n",
      "Loading srnet_model_F00_v2_bn_norm_sd_study_v5.pkl.\n",
      "Loading srnet_model_F00_v2_bn_norm_sd_study_v6.pkl.\n",
      "Loading srnet_model_F00_v2_bn_norm_sd_study_v7.pkl.\n",
      "Loading srnet_model_F00_v2_bn_norm_sd_study_v8.pkl.\n",
      "Loading srnet_model_F00_v2_bn_norm_sd_study_v9.pkl.\n"
     ]
    }
   ],
   "source": [
    "# get validation loss and latent feature correlations\n",
    "model_path = \"models\"\n",
    "save_name = \"F00_v2_bn_norm_sd_study\"\n",
    "\n",
    "models = [f for f in os.listdir(model_path) if save_name in f]\n",
    "\n",
    "val_corr = {}\n",
    "\n",
    "for model_name in models:\n",
    "    print(f\"Loading {model_name}.\")\n",
    "    model = ut.load_model(model_name, model_path, SRNet)\n",
    "    \n",
    "    with torch.no_grad():\n",
    "        preds, acts = model(train_data.in_data, get_lat=True)\n",
    "        \n",
    "    all_nodes = ut.get_node_order(acts, show=False)\n",
    "        \n",
    "    corr_mat = ut.node_correlations(acts, all_nodes, corr_data, show=False)\n",
    "    corr = [np.abs(c).max() for c in corr_mat]\n",
    "    \n",
    "    with torch.no_grad():\n",
    "        preds = model(val_data.in_data)\n",
    "        \n",
    "    val_loss = (preds - val_data.target_data).pow(2).mean().item()\n",
    "    val_corr[model_name] = (val_loss, corr)"
   ]
  },
  {
   "cell_type": "code",
   "execution_count": 40,
   "id": "4d2ee79d",
   "metadata": {},
   "outputs": [
    {
     "data": {
      "application/vnd.jupyter.widget-view+json": {
       "model_id": "e0af625f62984f44846dafaab0841ec3",
       "version_major": 2,
       "version_minor": 0
      },
      "text/plain": [
       "Canvas(toolbar=Toolbar(toolitems=[('Home', 'Reset original view', 'home', 'home'), ('Back', 'Back to previous …"
      ]
     },
     "metadata": {},
     "output_type": "display_data"
    }
   ],
   "source": [
    "fig, ax = plt.subplots()\n",
    "\n",
    "for v in val_corr:\n",
    "    ax.plot(val_corr[v][0], np.min(val_corr[v][1]), 'x', label=v.split('.')[0].split('_')[-1])\n",
    "\n",
    "ax.legend()\n",
    "plt.show()"
   ]
  },
  {
   "cell_type": "code",
   "execution_count": 41,
   "id": "42e81345",
   "metadata": {},
   "outputs": [
    {
     "data": {
      "application/vnd.jupyter.widget-view+json": {
       "model_id": "be3e6fa836af4b77abea4e013b601989",
       "version_major": 2,
       "version_minor": 0
      },
      "text/plain": [
       "Canvas(toolbar=Toolbar(toolitems=[('Home', 'Reset original view', 'home', 'home'), ('Back', 'Back to previous …"
      ]
     },
     "metadata": {},
     "output_type": "display_data"
    }
   ],
   "source": [
    "# plot losses\n",
    "save_names = [\n",
    "    \"srnet_model_F00_v2_bn_norm_sd_study_v3\",\n",
    "    \"srnet_model_F00_v2_bn_norm_sd_study_v7\",\n",
    "    \"srnet_model_F00_v2_bn_norm_sd_study_v11\",\n",
    "    \"srnet_model_F00_v2_bn_norm_sd_study_v13\",\n",
    "]\n",
    "save_path = \"models\"\n",
    "models = ut.plot_losses(save_names, save_path=\"models\", excl_names=[])"
   ]
  },
  {
   "cell_type": "code",
   "execution_count": 42,
   "id": "d4259432",
   "metadata": {},
   "outputs": [],
   "source": [
    "corr_data = [\n",
    "    (\"x**2\", x_data**2), \n",
    "    (\"y**2\", y_data**2), \n",
    "    (\"cos(x)\", np.cos(x_data)), \n",
    "    (\"cos(y)\", np.cos(y_data)), \n",
    "    (\"x*y\", x_data * y_data),\n",
    "]"
   ]
  },
  {
   "cell_type": "code",
   "execution_count": 44,
   "id": "db8b41f0",
   "metadata": {
    "scrolled": false
   },
   "outputs": [
    {
     "name": "stdout",
     "output_type": "stream",
     "text": [
      "srnet_model_F00_v2_bn_norm_sd_study_v3\n",
      "1e-07\n",
      "{'gp': 1e-05, 'hid_num': 4, 'hid_size': 32, 'iters': 1, 'lr': 0.001}\n",
      "[1.9866552, 0.34647146, 0.29016]\n",
      "[1, 0, 2]\n",
      "Validation error: 1.9998e-02\n",
      "\n",
      "Node 1\n",
      "corr(n1, x**2): 0.9858\n",
      "corr(n1, y**2): -0.0740\n",
      "corr(n1, cos(x)): -0.9404\n",
      "corr(n1, cos(y)): 0.0734\n",
      "corr(n1, x*y): 0.1362\n",
      "\n",
      "Node 0\n",
      "corr(n0, x**2): -0.9077\n",
      "corr(n0, y**2): 0.3623\n",
      "corr(n0, cos(x)): 0.8990\n",
      "corr(n0, cos(y)): -0.3441\n",
      "corr(n0, x*y): -0.1231\n",
      "\n",
      "Node 2\n",
      "corr(n2, x**2): 0.1456\n",
      "corr(n2, y**2): -0.0883\n",
      "corr(n2, cos(x)): -0.1178\n",
      "corr(n2, cos(y)): 0.0850\n",
      "corr(n2, x*y): 0.9768\n",
      "\n",
      "srnet_model_F00_v2_bn_norm_sd_study_v7\n",
      "1e-07\n",
      "{'gp': 1e-05, 'hid_num': 4, 'hid_size': 32, 'iters': 10, 'lr': 0.001}\n",
      "[1.3430996, 1.0023396, 0.09775755]\n",
      "[0, 2, 1]\n",
      "Validation error: 1.9630e-02\n",
      "\n",
      "Node 0\n",
      "corr(n0, x**2): 0.0254\n",
      "corr(n0, y**2): 0.9975\n",
      "corr(n0, cos(x)): -0.0362\n",
      "corr(n0, cos(y)): -0.9699\n",
      "corr(n0, x*y): -0.0050\n",
      "\n",
      "Node 2\n",
      "corr(n2, x**2): 0.8989\n",
      "corr(n2, y**2): 0.0311\n",
      "corr(n2, cos(x)): -0.8482\n",
      "corr(n2, cos(y)): -0.0263\n",
      "corr(n2, x*y): 0.5826\n",
      "\n",
      "Node 1\n",
      "corr(n1, x**2): -0.1190\n",
      "corr(n1, y**2): -0.9585\n",
      "corr(n1, cos(x)): 0.1444\n",
      "corr(n1, cos(y)): 0.9657\n",
      "corr(n1, x*y): -0.2448\n",
      "\n",
      "srnet_model_F00_v2_bn_norm_sd_study_v11\n",
      "1e-07\n",
      "{'gp': 0.001, 'hid_num': 4, 'hid_size': 128, 'iters': 5, 'lr': 0.001}\n",
      "[1.3443964, 0.9172397, 0.0592424]\n",
      "[0, 2, 1]\n",
      "Validation error: 3.1957e-03\n",
      "\n",
      "Node 0\n",
      "corr(n0, x**2): 0.0401\n",
      "corr(n0, y**2): 0.9908\n",
      "corr(n0, cos(x)): -0.0551\n",
      "corr(n0, cos(y)): -0.9849\n",
      "corr(n0, x*y): 0.0180\n",
      "\n",
      "Node 2\n",
      "corr(n2, x**2): 0.8870\n",
      "corr(n2, y**2): -0.0739\n",
      "corr(n2, cos(x)): -0.8429\n",
      "corr(n2, cos(y)): 0.0749\n",
      "corr(n2, x*y): 0.5903\n",
      "\n",
      "Node 1\n",
      "corr(n1, x**2): -0.4841\n",
      "corr(n1, y**2): -0.3467\n",
      "corr(n1, cos(x)): 0.4406\n",
      "corr(n1, cos(y)): 0.3596\n",
      "corr(n1, x*y): -0.8564\n",
      "\n",
      "srnet_model_F00_v2_bn_norm_sd_study_v13\n",
      "1e-05\n",
      "{'gp': 1e-05, 'hid_num': 4, 'hid_size': 32, 'iters': 5, 'lr': 0.001}\n",
      "[1.4492056, 1.1712595, 0.68234366]\n",
      "[1, 2, 0]\n",
      "Validation error: 4.6759e-02\n",
      "\n",
      "Node 1\n",
      "corr(n1, x**2): 0.9979\n",
      "corr(n1, y**2): -0.0344\n",
      "corr(n1, cos(x)): -0.9556\n",
      "corr(n1, cos(y)): 0.0358\n",
      "corr(n1, x*y): 0.1675\n",
      "\n",
      "Node 2\n",
      "corr(n2, x**2): -0.0542\n",
      "corr(n2, y**2): 0.9968\n",
      "corr(n2, cos(x)): 0.0438\n",
      "corr(n2, cos(y)): -0.9611\n",
      "corr(n2, x*y): 0.0357\n",
      "\n",
      "Node 0\n",
      "corr(n0, x**2): 0.2539\n",
      "corr(n0, y**2): 0.0047\n",
      "corr(n0, cos(x)): -0.2298\n",
      "corr(n0, cos(y)): -0.0204\n",
      "corr(n0, x*y): 0.9936\n",
      "\n"
     ]
    }
   ],
   "source": [
    "model_path = \"models\"\n",
    "model_ext = \".pkl\"\n",
    "\n",
    "for model_name in models:\n",
    "    print(model_name)\n",
    "    \n",
    "    state = joblib.load(os.path.join(model_path, model_name + model_ext))\n",
    "    \n",
    "    print(state['hyperparams']['sd'])\n",
    "    print(state['hyperparams']['disc'])\n",
    "    \n",
    "    model = ut.load_model(model_name + model_ext, model_path, SRNet)\n",
    "    \n",
    "    with torch.no_grad():\n",
    "        preds, acts = model(train_data.in_data, get_lat=True)\n",
    "        \n",
    "    all_nodes = ut.get_node_order(acts, show=True)\n",
    "    \n",
    "    print(f\"Validation error: {state['total_val_loss']:.4e}\")\n",
    "        \n",
    "    corr_mat = ut.node_correlations(acts, all_nodes, corr_data, show=True)\n",
    "        \n",
    "    print(\"\")"
   ]
  },
  {
   "cell_type": "markdown",
   "id": "7eef919b",
   "metadata": {},
   "source": [
    "`v3`: No correlation with $\\text{cos}(y)$\n",
    "\n",
    "`v7`: Low correlation with $x \\cdot y$\n",
    "\n",
    "`v11`: Somewhat reasonable correlations\n",
    "\n",
    "`v13`: Good correlations (due to higher `sd`?), but more strongly correlated with $y^2$ than $\\text{cos}(y)$ and rather high validation error\n",
    "\n",
    "All runs have a high learning rate and a deep architecture in common. \n",
    "\n",
    "`gp` is low for low `hid_size`, but this could be a coincidence."
   ]
  },
  {
   "cell_type": "code",
   "execution_count": 120,
   "id": "9bdb1bde",
   "metadata": {},
   "outputs": [
    {
     "name": "stdout",
     "output_type": "stream",
     "text": [
      "[1.4492056, 1.1712595, 0.68234366]\n",
      "[1, 2, 0]\n",
      "[[0.8143813  0.18561867]\n",
      " [0.36721858 0.63278145]\n",
      " [0.76156855 0.23843145]]\n",
      "\n"
     ]
    }
   ],
   "source": [
    "model_name = \"srnet_model_F00_v2_bn_norm_sd_study_v13\"\n",
    "model_path = \"models\"\n",
    "model_ext = \".pkl\"\n",
    "\n",
    "model = ut.load_model(model_name + model_ext, model_path, SRNet)\n",
    "\n",
    "with torch.no_grad():\n",
    "    preds, acts = model(train_data.in_data, get_lat=True)\n",
    "    \n",
    "all_nodes = ut.get_node_order(acts, show=True)\n",
    "\n",
    "print(model.layers1.norm(model.layers1.alpha).detach().cpu().numpy()[all_nodes])\n",
    "\n",
    "print(\"\")"
   ]
  },
  {
   "cell_type": "code",
   "execution_count": 121,
   "id": "19db9578",
   "metadata": {},
   "outputs": [],
   "source": [
    "nodes = all_nodes[:3]"
   ]
  },
  {
   "cell_type": "code",
   "execution_count": 122,
   "id": "cc3575ec",
   "metadata": {},
   "outputs": [],
   "source": [
    "# select plotting data\n",
    "x_data = train_data.in_data[:,0]\n",
    "y_data = train_data.in_data[:,1]\n",
    "z_data = [\n",
    "    (\"target\", train_data.target_data),\n",
    "    #(\"x**2\", x_data**2), \n",
    "    #(\"cos(y)\", np.cos(y_data)), \n",
    "    #(\"x*y\", x_data * y_data),\n",
    "]\n",
    "plot_size = train_data.target_data.shape[0]"
   ]
  },
  {
   "cell_type": "code",
   "execution_count": 123,
   "id": "d609cbaf",
   "metadata": {},
   "outputs": [
    {
     "data": {
      "application/vnd.jupyter.widget-view+json": {
       "model_id": "415e6d20533f4d409d3ff8578ddeaeb0",
       "version_major": 2,
       "version_minor": 0
      },
      "text/plain": [
       "Canvas(toolbar=Toolbar(toolitems=[('Home', 'Reset original view', 'home', 'home'), ('Back', 'Back to previous …"
      ]
     },
     "metadata": {},
     "output_type": "display_data"
    }
   ],
   "source": [
    "ut.plot_acts(x_data, y_data, z_data, acts=acts, nodes=nodes, model=model, bias=True, nonzero=False, agg=False, plot_size=plot_size)"
   ]
  },
  {
   "cell_type": "code",
   "execution_count": 124,
   "id": "5053bcdb",
   "metadata": {},
   "outputs": [],
   "source": [
    "corr_data = [\n",
    "    (\"x**2\", x_data**2), \n",
    "    (\"y**2\", y_data**2), \n",
    "    (\"cos(x)\", np.cos(x_data)), \n",
    "    (\"cos(y)\", np.cos(y_data)), \n",
    "    (\"x*y\", x_data * y_data),\n",
    "]"
   ]
  },
  {
   "cell_type": "code",
   "execution_count": 125,
   "id": "0de16b3d",
   "metadata": {},
   "outputs": [
    {
     "name": "stdout",
     "output_type": "stream",
     "text": [
      "\n",
      "Node 1\n",
      "corr(n1, x**2): 0.9979\n",
      "corr(n1, y**2): -0.0344\n",
      "corr(n1, cos(x)): -0.9556\n",
      "corr(n1, cos(y)): 0.0358\n",
      "corr(n1, x*y): 0.1675\n",
      "\n",
      "Node 2\n",
      "corr(n2, x**2): -0.0542\n",
      "corr(n2, y**2): 0.9968\n",
      "corr(n2, cos(x)): 0.0438\n",
      "corr(n2, cos(y)): -0.9611\n",
      "corr(n2, x*y): 0.0357\n",
      "\n",
      "Node 0\n",
      "corr(n0, x**2): 0.2539\n",
      "corr(n0, y**2): 0.0047\n",
      "corr(n0, cos(x)): -0.2298\n",
      "corr(n0, cos(y)): -0.0204\n",
      "corr(n0, x*y): 0.9936\n"
     ]
    }
   ],
   "source": [
    "ut.node_correlations(acts, nodes, corr_data);"
   ]
  },
  {
   "cell_type": "code",
   "execution_count": 126,
   "id": "b4b96025",
   "metadata": {},
   "outputs": [
    {
     "data": {
      "application/vnd.jupyter.widget-view+json": {
       "model_id": "f68cf87f1d374ec3a10ec4b83b98c38a",
       "version_major": 2,
       "version_minor": 0
      },
      "text/plain": [
       "Canvas(toolbar=Toolbar(toolitems=[('Home', 'Reset original view', 'home', 'home'), ('Back', 'Back to previous …"
      ]
     },
     "metadata": {},
     "output_type": "display_data"
    }
   ],
   "source": [
    "fig, ax = plt.subplots()\n",
    "\n",
    "n = 1\n",
    "bias = False\n",
    "\n",
    "ax.scatter(x_data, x_data**2)\n",
    "# ax.scatter(x_data, acts[:,n])\n",
    "ax.scatter(x_data, model.layers2[0].weight[0,n].item()*acts[:,n] + bias * model.layers2[0].bias.item())\n",
    "\n",
    "plt.show()"
   ]
  },
  {
   "cell_type": "code",
   "execution_count": 127,
   "id": "05134392",
   "metadata": {},
   "outputs": [
    {
     "data": {
      "application/vnd.jupyter.widget-view+json": {
       "model_id": "db84489b8f8e480399bf9d9c98b0b102",
       "version_major": 2,
       "version_minor": 0
      },
      "text/plain": [
       "Canvas(toolbar=Toolbar(toolitems=[('Home', 'Reset original view', 'home', 'home'), ('Back', 'Back to previous …"
      ]
     },
     "metadata": {},
     "output_type": "display_data"
    }
   ],
   "source": [
    "fig, ax = plt.subplots()\n",
    "\n",
    "n = 2\n",
    "bias = True\n",
    "\n",
    "ax.scatter(y_data, np.cos(y_data))\n",
    "ax.scatter(y_data, model.layers2[0].weight[0,n].item()*acts[:,n] + bias * model.layers2[0].bias.item())\n",
    "\n",
    "plt.show()"
   ]
  },
  {
   "cell_type": "code",
   "execution_count": 128,
   "id": "8e546253",
   "metadata": {},
   "outputs": [],
   "source": [
    "# select plotting data\n",
    "x_data = train_data.in_data[:,0]\n",
    "y_data = train_data.in_data[:,1]\n",
    "z_data = [\n",
    "    #(\"target\", train_data.target_data),\n",
    "    #(\"x**2\", x_data**2), \n",
    "    #(\"cos(y)\", np.cos(y_data)), \n",
    "    (\"x*y\", x_data * y_data),\n",
    "]\n",
    "plot_size = train_data.target_data.shape[0]"
   ]
  },
  {
   "cell_type": "code",
   "execution_count": 129,
   "id": "db5250f1",
   "metadata": {},
   "outputs": [
    {
     "data": {
      "application/vnd.jupyter.widget-view+json": {
       "model_id": "3418f8e77bd44a7cba7ae8629ca8fbb8",
       "version_major": 2,
       "version_minor": 0
      },
      "text/plain": [
       "Canvas(toolbar=Toolbar(toolitems=[('Home', 'Reset original view', 'home', 'home'), ('Back', 'Back to previous …"
      ]
     },
     "metadata": {},
     "output_type": "display_data"
    }
   ],
   "source": [
    "n = 0\n",
    "ut.plot_acts(x_data, y_data, z_data, acts=acts, nodes=[n], model=model, bias=False, nonzero=False, agg=False, plot_size=plot_size)"
   ]
  },
  {
   "cell_type": "markdown",
   "id": "121c147c",
   "metadata": {},
   "source": [
    "For `v13`, the target functions are matched nicely, both in terms of correlations and dependencies. Only the similarity of $y^2$ and $\\text{cos}(y)$ leads to some differences.\n",
    "\n",
    "**Note**: There is an additional bias term, which is added to node 1 and subtracted from node 0.\n",
    "\n",
    "For other runs, such as `v11`, the matches are worse."
   ]
  },
  {
   "cell_type": "markdown",
   "id": "0be4a929",
   "metadata": {},
   "source": [
    "### Step 9.4: Train bottleneck masked DSN with SD regularization"
   ]
  },
  {
   "cell_type": "code",
   "execution_count": 2,
   "id": "c5fffbf8",
   "metadata": {},
   "outputs": [],
   "source": [
    "# set wandb project\n",
    "wandb_project = \"94-bn-mask-DSN-sd-study-F00_v2\""
   ]
  },
  {
   "cell_type": "code",
   "execution_count": 3,
   "id": "119b6aab",
   "metadata": {},
   "outputs": [],
   "source": [
    "# hyperparams = {\n",
    "#     \"arch\": {\n",
    "#         \"in_size\": train_data.in_data.shape[1],\n",
    "#         \"out_size\": train_data.target_data.shape[1],\n",
    "#         \"hid_num\": (2,0),\n",
    "#         \"hid_size\": 32, \n",
    "#         \"hid_type\": (\"DSN\", \"MLP\"),\n",
    "#         \"hid_kwargs\": {\n",
    "#             \"alpha\": [[1,0],[0,1],[1,1]],\n",
    "#             \"norm\": None,\n",
    "#             \"prune\": None,\n",
    "#             },\n",
    "#         \"lat_size\": 3,\n",
    "#         },\n",
    "#     \"epochs\": 30000,\n",
    "#     \"runtime\": None,\n",
    "#     \"batch_size\": train_data.in_data.shape[0],\n",
    "#     \"shuffle\": False,\n",
    "#     \"lr\": 1e-4,\n",
    "#     \"wd\": 1e-4,\n",
    "#     \"l1\": 0.0,\n",
    "#     \"a1\": 0.0,\n",
    "#     \"a2\": 0.0,\n",
    "#     \"e1\": 0.0,\n",
    "#     \"e2\": 0.0,\n",
    "#     \"gc\": 0.0,\n",
    "#     \"sd\": 1e-4,\n",
    "#     \"disc\": {\n",
    "#         \"hid_num\": 2,\n",
    "#         \"hid_size\": 128,\n",
    "#         \"lr\": 1e-4,\n",
    "#         \"wd\": 1e-4,\n",
    "#         \"iters\": 5,\n",
    "#         \"gp\": 1e-4,\n",
    "#     },\n",
    "# }"
   ]
  },
  {
   "cell_type": "code",
   "execution_count": 4,
   "id": "843b9058",
   "metadata": {},
   "outputs": [],
   "source": [
    "# define hyperparameter study\n",
    "hp_study = {\n",
    "    \"method\": \"random\",\n",
    "    \"parameters\": {\n",
    "        \"sd\": {\n",
    "            \"values\": [1e-7, 1e-6, 1e-5, 1e-4]\n",
    "        },\n",
    "        \"disc\": {\n",
    "            \"parameters\": {\n",
    "                \"hid_num\": {\n",
    "                    \"values\": [2, 4, 6]\n",
    "                },\n",
    "                \"hid_size\": {\n",
    "                    \"values\": [32, 128, 256]\n",
    "                },\n",
    "                \"lr\": {\n",
    "                    \"values\": [1e-5, 1e-4, 1e-3, 1e-2]\n",
    "                },\n",
    "                \"iters\": {\n",
    "                    \"values\": [1, 5, 10]\n",
    "                },\n",
    "                \"gp\": {\n",
    "                    \"values\": [1e-5, 1e-4, 1e-3]\n",
    "                },\n",
    "            }\n",
    "        }\n",
    "    }\n",
    "}"
   ]
  },
  {
   "cell_type": "code",
   "execution_count": 133,
   "id": "76d481e2",
   "metadata": {},
   "outputs": [
    {
     "name": "stdout",
     "output_type": "stream",
     "text": [
      "Create sweep with ID: hvuomrrb\n",
      "Sweep URL: https://wandb.ai/fabxy/94-bn-mask-DSN-sd-study-F00_v2/sweeps/hvuomrrb\n"
     ]
    }
   ],
   "source": [
    "# create sweep\n",
    "sweep_id = wandb.sweep(hp_study, project=wandb_project)"
   ]
  },
  {
   "cell_type": "markdown",
   "id": "495c4aec",
   "metadata": {},
   "source": [
    "<img src=\"results/94-bn-mask-DSN-sd-study-F00_v2.png\">"
   ]
  },
  {
   "cell_type": "markdown",
   "id": "c13957c1",
   "metadata": {},
   "source": [
    "Quick notes:\n",
    "\n",
    "* Large `sd` values can lead to high validation errors, while a value of `1e-7` is too low\n",
    "\n",
    "* A large architecture (`hid_num` $\\times$ `hid_size`) seems beneficial\n",
    "\n",
    "* Large learning rates are not necessary, but work\n",
    "\n",
    "* A large number of discriminator iterations do not seems to be necessary"
   ]
  },
  {
   "cell_type": "code",
   "execution_count": 5,
   "id": "a935e413",
   "metadata": {},
   "outputs": [
    {
     "name": "stdout",
     "output_type": "stream",
     "text": [
      "Downloading srnet_model_F00_v2_bn_mask_sd_study_v1.pkl.\n",
      "Downloading srnet_model_F00_v2_bn_mask_sd_study_v2.pkl.\n",
      "Downloading srnet_model_F00_v2_bn_mask_sd_study_v3.pkl.\n",
      "Downloading srnet_model_F00_v2_bn_mask_sd_study_v4.pkl.\n",
      "Downloading srnet_model_F00_v2_bn_mask_sd_study_v5.pkl.\n",
      "Downloading srnet_model_F00_v2_bn_mask_sd_study_v6.pkl.\n",
      "Downloading srnet_model_F00_v2_bn_mask_sd_study_v7.pkl.\n",
      "Downloading srnet_model_F00_v2_bn_mask_sd_study_v8.pkl.\n",
      "Downloading srnet_model_F00_v2_bn_mask_sd_study_v9.pkl.\n",
      "Downloading srnet_model_F00_v2_bn_mask_sd_study_v10.pkl.\n",
      "Downloading srnet_model_F00_v2_bn_mask_sd_study_v11.pkl.\n",
      "Downloading srnet_model_F00_v2_bn_mask_sd_study_v12.pkl.\n",
      "Downloading srnet_model_F00_v2_bn_mask_sd_study_v13.pkl.\n",
      "Downloading srnet_model_F00_v2_bn_mask_sd_study_v14.pkl.\n",
      "Downloading srnet_model_F00_v2_bn_mask_sd_study_v15.pkl.\n",
      "Downloading srnet_model_F00_v2_bn_mask_sd_study_v16.pkl.\n",
      "Downloading srnet_model_F00_v2_bn_mask_sd_study_v17.pkl.\n",
      "Downloading srnet_model_F00_v2_bn_mask_sd_study_v18.pkl.\n",
      "Downloading srnet_model_F00_v2_bn_mask_sd_study_v19.pkl.\n",
      "Downloading srnet_model_F00_v2_bn_mask_sd_study_v20.pkl.\n",
      "Downloading srnet_model_F00_v2_bn_mask_sd_study_v21.pkl.\n",
      "Downloading srnet_model_F00_v2_bn_mask_sd_study_v22.pkl.\n",
      "Downloading srnet_model_F00_v2_bn_mask_sd_study_v23.pkl.\n"
     ]
    }
   ],
   "source": [
    "# download data from wandb\n",
    "file_ext = \".pkl\"\n",
    "\n",
    "api = wandb.Api()\n",
    "\n",
    "runs = api.runs(wandb_project)\n",
    "for r, run in enumerate(runs):\n",
    "    for f in run.files():\n",
    "        if f.name[-len(file_ext):] == file_ext:\n",
    "            file_name = f.name.replace(file_ext, f\"_v{r+1}{file_ext}\")\n",
    "            print(f\"Downloading {os.path.basename(file_name)}.\")\n",
    "            run.file(f.name).download()\n",
    "            os.rename(f.name, file_name)"
   ]
  },
  {
   "cell_type": "code",
   "execution_count": 6,
   "id": "7275ffea",
   "metadata": {},
   "outputs": [],
   "source": [
    "# load data\n",
    "data_path = \"data_1k\"\n",
    "\n",
    "in_var = \"X00\"\n",
    "lat_var = \"G00\"\n",
    "target_var = \"F00\"\n",
    "\n",
    "mask_ext = \".mask\"\n",
    "masks = joblib.load(os.path.join(data_path, in_var + mask_ext))\n",
    "\n",
    "train_data = SRData(data_path, in_var, lat_var, target_var, masks[\"train\"])\n",
    "val_data = SRData(data_path, in_var, lat_var, target_var, masks[\"val\"])"
   ]
  },
  {
   "cell_type": "code",
   "execution_count": 7,
   "id": "97f473c7",
   "metadata": {},
   "outputs": [],
   "source": [
    "x_data = train_data.in_data[:,0]\n",
    "y_data = train_data.in_data[:,1]"
   ]
  },
  {
   "cell_type": "code",
   "execution_count": 8,
   "id": "d7f809e9",
   "metadata": {},
   "outputs": [],
   "source": [
    "corr_data = [\n",
    "    (\"x**2\", x_data**2), \n",
    "    # (\"y**2\", y_data**2), \n",
    "    # (\"cos(x)\", np.cos(x_data)), \n",
    "    (\"cos(y)\", np.cos(y_data)), \n",
    "    (\"x*y\", x_data * y_data),\n",
    "]"
   ]
  },
  {
   "cell_type": "code",
   "execution_count": 11,
   "id": "00a0cd68",
   "metadata": {},
   "outputs": [
    {
     "name": "stdout",
     "output_type": "stream",
     "text": [
      "Loading srnet_model_F00_v2_bn_mask_sd_study_v1.pkl.\n",
      "Loading srnet_model_F00_v2_bn_mask_sd_study_v10.pkl.\n",
      "Loading srnet_model_F00_v2_bn_mask_sd_study_v11.pkl.\n",
      "Loading srnet_model_F00_v2_bn_mask_sd_study_v12.pkl.\n",
      "Loading srnet_model_F00_v2_bn_mask_sd_study_v13.pkl.\n",
      "Loading srnet_model_F00_v2_bn_mask_sd_study_v14.pkl.\n",
      "Loading srnet_model_F00_v2_bn_mask_sd_study_v15.pkl.\n",
      "Loading srnet_model_F00_v2_bn_mask_sd_study_v16.pkl.\n",
      "Loading srnet_model_F00_v2_bn_mask_sd_study_v17.pkl.\n",
      "Loading srnet_model_F00_v2_bn_mask_sd_study_v18.pkl.\n",
      "Loading srnet_model_F00_v2_bn_mask_sd_study_v19.pkl.\n",
      "Loading srnet_model_F00_v2_bn_mask_sd_study_v2.pkl.\n",
      "Loading srnet_model_F00_v2_bn_mask_sd_study_v20.pkl.\n",
      "Loading srnet_model_F00_v2_bn_mask_sd_study_v21.pkl.\n",
      "Loading srnet_model_F00_v2_bn_mask_sd_study_v22.pkl.\n",
      "Loading srnet_model_F00_v2_bn_mask_sd_study_v23.pkl.\n",
      "Loading srnet_model_F00_v2_bn_mask_sd_study_v3.pkl.\n",
      "Loading srnet_model_F00_v2_bn_mask_sd_study_v4.pkl.\n",
      "Loading srnet_model_F00_v2_bn_mask_sd_study_v5.pkl.\n",
      "Loading srnet_model_F00_v2_bn_mask_sd_study_v6.pkl.\n",
      "Loading srnet_model_F00_v2_bn_mask_sd_study_v7.pkl.\n",
      "Loading srnet_model_F00_v2_bn_mask_sd_study_v8.pkl.\n",
      "Loading srnet_model_F00_v2_bn_mask_sd_study_v9.pkl.\n"
     ]
    }
   ],
   "source": [
    "# get validation loss and latent feature correlations\n",
    "model_path = \"models\"\n",
    "save_name = \"F00_v2_bn_mask_sd_study\"\n",
    "\n",
    "models = [f for f in os.listdir(model_path) if save_name in f]\n",
    "\n",
    "val_corr = {}\n",
    "\n",
    "for model_name in models:\n",
    "    print(f\"Loading {model_name}.\")\n",
    "    model = ut.load_model(model_name, model_path, SRNet)\n",
    "    \n",
    "    with torch.no_grad():\n",
    "        preds, acts = model(train_data.in_data, get_lat=True)\n",
    "        \n",
    "    all_nodes = ut.get_node_order(acts, show=False)\n",
    "        \n",
    "    corr_mat = ut.node_correlations(acts, all_nodes, corr_data, show=False)\n",
    "    corr = [np.abs(c).max() for c in corr_mat]\n",
    "    \n",
    "    with torch.no_grad():\n",
    "        preds = model(val_data.in_data)\n",
    "        \n",
    "    val_loss = (preds - val_data.target_data).pow(2).mean().item()\n",
    "    val_corr[model_name] = (val_loss, corr)"
   ]
  },
  {
   "cell_type": "code",
   "execution_count": 12,
   "id": "f93c1392",
   "metadata": {},
   "outputs": [
    {
     "data": {
      "application/vnd.jupyter.widget-view+json": {
       "model_id": "b3b89d0d0bd34a85849b2961ba3a6cad",
       "version_major": 2,
       "version_minor": 0
      },
      "text/plain": [
       "Canvas(toolbar=Toolbar(toolitems=[('Home', 'Reset original view', 'home', 'home'), ('Back', 'Back to previous …"
      ]
     },
     "metadata": {},
     "output_type": "display_data"
    }
   ],
   "source": [
    "fig, ax = plt.subplots()\n",
    "\n",
    "for v in val_corr:\n",
    "    ax.plot(val_corr[v][0], np.min(val_corr[v][1]), 'x', label=v.split('.')[0].split('_')[-1])\n",
    "\n",
    "ax.legend()\n",
    "plt.show()"
   ]
  },
  {
   "cell_type": "code",
   "execution_count": 48,
   "id": "14e180f2",
   "metadata": {},
   "outputs": [],
   "source": [
    "save_names = [s for s in val_corr if val_corr[s][0] < 0.03 and min(val_corr[s][1]) > 0.95]"
   ]
  },
  {
   "cell_type": "code",
   "execution_count": 49,
   "id": "1aa01cea",
   "metadata": {},
   "outputs": [
    {
     "data": {
      "application/vnd.jupyter.widget-view+json": {
       "model_id": "c0b8a1e5219e4a098e31ef7deeb00f05",
       "version_major": 2,
       "version_minor": 0
      },
      "text/plain": [
       "Canvas(toolbar=Toolbar(toolitems=[('Home', 'Reset original view', 'home', 'home'), ('Back', 'Back to previous …"
      ]
     },
     "metadata": {},
     "output_type": "display_data"
    }
   ],
   "source": [
    "# plot losses\n",
    "# save_names = [\"srnet_model_F00_v2_bn_mask_sd_study_v3\"]\n",
    "save_path = \"models\"\n",
    "models = ut.plot_losses(save_names, save_path=\"models\", excl_names=[])"
   ]
  },
  {
   "cell_type": "code",
   "execution_count": 50,
   "id": "bb296af7",
   "metadata": {},
   "outputs": [],
   "source": [
    "corr_data = [\n",
    "    (\"x**2\", x_data**2), \n",
    "    (\"y**2\", y_data**2), \n",
    "    (\"cos(x)\", np.cos(x_data)), \n",
    "    (\"cos(y)\", np.cos(y_data)), \n",
    "    (\"x*y\", x_data * y_data),\n",
    "]"
   ]
  },
  {
   "cell_type": "code",
   "execution_count": 51,
   "id": "c88455f5",
   "metadata": {
    "scrolled": false
   },
   "outputs": [
    {
     "name": "stdout",
     "output_type": "stream",
     "text": [
      "srnet_model_F00_v2_bn_mask_sd_study_v11\n",
      "0.0001\n",
      "{'gp': 1e-05, 'hid_num': 6, 'hid_size': 32, 'iters': 5, 'lr': 0.01}\n",
      "[1.3792901, 1.2907324, 0.71521765]\n",
      "[0, 1, 2]\n",
      "Validation error: 2.2615e-02\n",
      "\n",
      "Node 0\n",
      "corr(n0, x**2): 0.9997\n",
      "corr(n0, y**2): 0.0161\n",
      "corr(n0, cos(x)): -0.9573\n",
      "corr(n0, cos(y)): -0.0175\n",
      "corr(n0, x*y): 0.1751\n",
      "\n",
      "Node 1\n",
      "corr(n1, x**2): 0.0138\n",
      "corr(n1, y**2): 0.9988\n",
      "corr(n1, cos(x)): -0.0280\n",
      "corr(n1, cos(y)): -0.9688\n",
      "corr(n1, x*y): 0.0449\n",
      "\n",
      "Node 2\n",
      "corr(n2, x**2): 0.1615\n",
      "corr(n2, y**2): -0.0026\n",
      "corr(n2, cos(x)): -0.1379\n",
      "corr(n2, cos(y)): -0.0149\n",
      "corr(n2, x*y): 0.9976\n",
      "\n",
      "srnet_model_F00_v2_bn_mask_sd_study_v12\n",
      "1e-05\n",
      "{'gp': 0.001, 'hid_num': 6, 'hid_size': 256, 'iters': 5, 'lr': 1e-05}\n",
      "[1.6085913, 0.96095127, 0.13078906]\n",
      "[1, 0, 2]\n",
      "Validation error: 7.2420e-03\n",
      "\n",
      "Node 1\n",
      "corr(n1, x**2): 0.0155\n",
      "corr(n1, y**2): 0.9958\n",
      "corr(n1, cos(x)): -0.0304\n",
      "corr(n1, cos(y)): -0.9670\n",
      "corr(n1, x*y): 0.0503\n",
      "\n",
      "Node 0\n",
      "corr(n0, x**2): 0.9980\n",
      "corr(n0, y**2): 0.0160\n",
      "corr(n0, cos(x)): -0.9604\n",
      "corr(n0, cos(y)): -0.0162\n",
      "corr(n0, x*y): 0.1694\n",
      "\n",
      "Node 2\n",
      "corr(n2, x**2): -0.0566\n",
      "corr(n2, y**2): -0.2700\n",
      "corr(n2, cos(x)): 0.0344\n",
      "corr(n2, cos(y)): 0.2590\n",
      "corr(n2, x*y): -0.9566\n",
      "\n",
      "srnet_model_F00_v2_bn_mask_sd_study_v17\n",
      "1e-06\n",
      "{'gp': 0.001, 'hid_num': 4, 'hid_size': 256, 'iters': 1, 'lr': 0.0001}\n",
      "[1.0957407, 0.9598987, 0.14358228]\n",
      "[1, 0, 2]\n",
      "Validation error: 2.1251e-03\n",
      "\n",
      "Node 1\n",
      "corr(n1, x**2): 0.0172\n",
      "corr(n1, y**2): 0.9970\n",
      "corr(n1, cos(x)): -0.0307\n",
      "corr(n1, cos(y)): -0.9693\n",
      "corr(n1, x*y): 0.0450\n",
      "\n",
      "Node 0\n",
      "corr(n0, x**2): 0.9966\n",
      "corr(n0, y**2): 0.0181\n",
      "corr(n0, cos(x)): -0.9538\n",
      "corr(n0, cos(y)): -0.0183\n",
      "corr(n0, x*y): 0.1711\n",
      "\n",
      "Node 2\n",
      "corr(n2, x**2): -0.3923\n",
      "corr(n2, y**2): 0.0226\n",
      "corr(n2, cos(x)): 0.3593\n",
      "corr(n2, cos(y)): -0.0280\n",
      "corr(n2, x*y): -0.9618\n",
      "\n",
      "srnet_model_F00_v2_bn_mask_sd_study_v23\n",
      "1e-05\n",
      "{'gp': 1e-05, 'hid_num': 6, 'hid_size': 128, 'iters': 5, 'lr': 0.001}\n",
      "[1.5360366, 1.2354493, 0.6622999]\n",
      "[1, 0, 2]\n",
      "Validation error: 2.5827e-02\n",
      "\n",
      "Node 1\n",
      "corr(n1, x**2): 0.0159\n",
      "corr(n1, y**2): 0.9991\n",
      "corr(n1, cos(x)): -0.0301\n",
      "corr(n1, cos(y)): -0.9688\n",
      "corr(n1, x*y): 0.0493\n",
      "\n",
      "Node 0\n",
      "corr(n0, x**2): 0.9997\n",
      "corr(n0, y**2): 0.0162\n",
      "corr(n0, cos(x)): -0.9566\n",
      "corr(n0, cos(y)): -0.0173\n",
      "corr(n0, x*y): 0.1739\n",
      "\n",
      "Node 2\n",
      "corr(n2, x**2): 0.1291\n",
      "corr(n2, y**2): 0.0000\n",
      "corr(n2, cos(x)): -0.1048\n",
      "corr(n2, cos(y)): -0.0173\n",
      "corr(n2, x*y): 0.9969\n",
      "\n",
      "srnet_model_F00_v2_bn_mask_sd_study_v3\n",
      "1e-06\n",
      "{'gp': 0.001, 'hid_num': 2, 'hid_size': 256, 'iters': 5, 'lr': 0.001}\n",
      "[1.4469135, 1.2598801, 0.13963567]\n",
      "[1, 0, 2]\n",
      "Validation error: 3.0945e-03\n",
      "\n",
      "Node 1\n",
      "corr(n1, x**2): 0.0168\n",
      "corr(n1, y**2): 0.9979\n",
      "corr(n1, cos(x)): -0.0306\n",
      "corr(n1, cos(y)): -0.9754\n",
      "corr(n1, x*y): 0.0531\n",
      "\n",
      "Node 0\n",
      "corr(n0, x**2): 0.9991\n",
      "corr(n0, y**2): 0.0163\n",
      "corr(n0, cos(x)): -0.9536\n",
      "corr(n0, cos(y)): -0.0178\n",
      "corr(n0, x*y): 0.1788\n",
      "\n",
      "Node 2\n",
      "corr(n2, x**2): -0.3547\n",
      "corr(n2, y**2): 0.1709\n",
      "corr(n2, cos(x)): 0.3249\n",
      "corr(n2, cos(y)): -0.1721\n",
      "corr(n2, x*y): -0.9509\n",
      "\n",
      "srnet_model_F00_v2_bn_mask_sd_study_v7\n",
      "1e-05\n",
      "{'gp': 1e-05, 'hid_num': 6, 'hid_size': 256, 'iters': 5, 'lr': 0.01}\n",
      "[1.4544828, 1.2752091, 0.6358797]\n",
      "[0, 1, 2]\n",
      "Validation error: 2.3825e-02\n",
      "\n",
      "Node 0\n",
      "corr(n0, x**2): 0.9994\n",
      "corr(n0, y**2): 0.0162\n",
      "corr(n0, cos(x)): -0.9598\n",
      "corr(n0, cos(y)): -0.0176\n",
      "corr(n0, x*y): 0.1743\n",
      "\n",
      "Node 1\n",
      "corr(n1, x**2): 0.0146\n",
      "corr(n1, y**2): 0.9990\n",
      "corr(n1, cos(x)): -0.0289\n",
      "corr(n1, cos(y)): -0.9685\n",
      "corr(n1, x*y): 0.0491\n",
      "\n",
      "Node 2\n",
      "corr(n2, x**2): 0.1266\n",
      "corr(n2, y**2): -0.0109\n",
      "corr(n2, cos(x)): -0.1032\n",
      "corr(n2, cos(y)): -0.0066\n",
      "corr(n2, x*y): 0.9961\n",
      "\n"
     ]
    }
   ],
   "source": [
    "model_path = \"models\"\n",
    "model_ext = \".pkl\"\n",
    "\n",
    "for model_name in models:\n",
    "    print(model_name)\n",
    "    \n",
    "    state = joblib.load(os.path.join(model_path, model_name + model_ext))\n",
    "    \n",
    "    print(state['hyperparams']['sd'])\n",
    "    print(state['hyperparams']['disc'])\n",
    "    \n",
    "    model = ut.load_model(model_name + model_ext, model_path, SRNet)\n",
    "    \n",
    "    with torch.no_grad():\n",
    "        preds, acts = model(train_data.in_data, get_lat=True)\n",
    "        \n",
    "    all_nodes = ut.get_node_order(acts, show=True)\n",
    "    \n",
    "    print(f\"Validation error: {state['total_val_loss']:.4e}\")\n",
    "        \n",
    "    corr_mat = ut.node_correlations(acts, all_nodes, corr_data, show=True)\n",
    "        \n",
    "    print(\"\")"
   ]
  },
  {
   "cell_type": "markdown",
   "id": "90648d22",
   "metadata": {},
   "source": [
    "Generally, having a fixed $\\alpha$ mask, which can be determined with entropy regularization, improves the results. Instead of **1/17** training runs achieving good correlations without the mask, **6/23** training runs achieve good correlations with a fixed $\\alpha$ mask.\n",
    "\n",
    "Nevertheless, the issue of converging to $y^2$ instead of $\\text{cos}(y)$ due to their similarity remains.\n",
    "\n",
    "Furthermore, there seems to be trade-off between precision and correlation (due to not converging to $\\text{cos}(y)$).\n",
    "\n",
    "```\n",
    "v7: 0.9961, 2.3825e-02     1e-05,  {'gp': 1e-05, 'hid_num': 6, 'hid_size': 256, 'iters': 5, 'lr': 0.01}\n",
    "v11: 0.9976, 2.2615e-02    0.0001, {'gp': 1e-05, 'hid_num': 6, 'hid_size': 32,  'iters': 5, 'lr': 0.01}\n",
    "v23: 0.9969, 2.5827e-02    1e-05,  {'gp': 1e-05, 'hid_num': 6, 'hid_size': 128, 'iters': 5, 'lr': 0.001}\n",
    "\n",
    "v3: 0.9509, 3.0945e-03     1e-06,  {'gp': 0.001, 'hid_num': 2, 'hid_size': 256, 'iters': 5, 'lr': 0.001}\n",
    "v17: 0.9618, 2.1251e-03    1e-06,  {'gp': 0.001, 'hid_num': 4, 'hid_size': 256, 'iters': 1, 'lr': 0.0001}\n",
    "v12: 0.9566, 7.2420e-03    1e-05,  {'gp': 0.001, 'hid_num': 6, 'hid_size': 256, 'iters': 5, 'lr': 1e-05}\n",
    "```\n",
    "\n",
    "Okay, for improved correlations (and worse precision), a larger `sd` value, a lower `gp` value, a larger architecture and a higher learning rate are required."
   ]
  },
  {
   "cell_type": "code",
   "execution_count": 53,
   "id": "c029b2f1",
   "metadata": {},
   "outputs": [
    {
     "name": "stdout",
     "output_type": "stream",
     "text": [
      "[1.3792901, 1.2907324, 0.71521765]\n",
      "[0, 1, 2]\n",
      "[[1. 0.]\n",
      " [0. 1.]\n",
      " [1. 1.]]\n",
      "\n"
     ]
    }
   ],
   "source": [
    "model_name = \"srnet_model_F00_v2_bn_mask_sd_study_v11\"\n",
    "model_path = \"models\"\n",
    "model_ext = \".pkl\"\n",
    "\n",
    "model = ut.load_model(model_name + model_ext, model_path, SRNet)\n",
    "\n",
    "with torch.no_grad():\n",
    "    preds, acts = model(train_data.in_data, get_lat=True)\n",
    "    \n",
    "all_nodes = ut.get_node_order(acts, show=True)\n",
    "\n",
    "print(model.layers1.norm(model.layers1.alpha).detach().cpu().numpy()[all_nodes])\n",
    "\n",
    "print(\"\")"
   ]
  },
  {
   "cell_type": "code",
   "execution_count": 54,
   "id": "98facf1a",
   "metadata": {},
   "outputs": [],
   "source": [
    "nodes = all_nodes[:3]"
   ]
  },
  {
   "cell_type": "code",
   "execution_count": 55,
   "id": "4ff5f63e",
   "metadata": {},
   "outputs": [],
   "source": [
    "# select plotting data\n",
    "x_data = train_data.in_data[:,0]\n",
    "y_data = train_data.in_data[:,1]\n",
    "z_data = [\n",
    "    (\"target\", train_data.target_data),\n",
    "    #(\"x**2\", x_data**2), \n",
    "    #(\"cos(y)\", np.cos(y_data)), \n",
    "    #(\"x*y\", x_data * y_data),\n",
    "]\n",
    "plot_size = train_data.target_data.shape[0]"
   ]
  },
  {
   "cell_type": "code",
   "execution_count": 56,
   "id": "e4647788",
   "metadata": {},
   "outputs": [
    {
     "data": {
      "application/vnd.jupyter.widget-view+json": {
       "model_id": "11f460987293444c81ae803abcad16ec",
       "version_major": 2,
       "version_minor": 0
      },
      "text/plain": [
       "Canvas(toolbar=Toolbar(toolitems=[('Home', 'Reset original view', 'home', 'home'), ('Back', 'Back to previous …"
      ]
     },
     "metadata": {},
     "output_type": "display_data"
    }
   ],
   "source": [
    "ut.plot_acts(x_data, y_data, z_data, acts=acts, nodes=nodes, model=model, bias=True, nonzero=False, agg=False, plot_size=plot_size)"
   ]
  },
  {
   "cell_type": "code",
   "execution_count": 57,
   "id": "66cd5f73",
   "metadata": {},
   "outputs": [],
   "source": [
    "corr_data = [\n",
    "    (\"x**2\", x_data**2), \n",
    "    (\"y**2\", y_data**2), \n",
    "    (\"cos(x)\", np.cos(x_data)), \n",
    "    (\"cos(y)\", np.cos(y_data)), \n",
    "    (\"x*y\", x_data * y_data),\n",
    "]"
   ]
  },
  {
   "cell_type": "code",
   "execution_count": 58,
   "id": "d05a3644",
   "metadata": {},
   "outputs": [
    {
     "name": "stdout",
     "output_type": "stream",
     "text": [
      "\n",
      "Node 0\n",
      "corr(n0, x**2): 0.9997\n",
      "corr(n0, y**2): 0.0161\n",
      "corr(n0, cos(x)): -0.9573\n",
      "corr(n0, cos(y)): -0.0175\n",
      "corr(n0, x*y): 0.1751\n",
      "\n",
      "Node 1\n",
      "corr(n1, x**2): 0.0138\n",
      "corr(n1, y**2): 0.9988\n",
      "corr(n1, cos(x)): -0.0280\n",
      "corr(n1, cos(y)): -0.9688\n",
      "corr(n1, x*y): 0.0449\n",
      "\n",
      "Node 2\n",
      "corr(n2, x**2): 0.1615\n",
      "corr(n2, y**2): -0.0026\n",
      "corr(n2, cos(x)): -0.1379\n",
      "corr(n2, cos(y)): -0.0149\n",
      "corr(n2, x*y): 0.9976\n"
     ]
    }
   ],
   "source": [
    "ut.node_correlations(acts, nodes, corr_data);"
   ]
  },
  {
   "cell_type": "code",
   "execution_count": 59,
   "id": "5f83a74b",
   "metadata": {},
   "outputs": [
    {
     "data": {
      "application/vnd.jupyter.widget-view+json": {
       "model_id": "a9d70c3da3324f84988f7fe912c3cb2b",
       "version_major": 2,
       "version_minor": 0
      },
      "text/plain": [
       "Canvas(toolbar=Toolbar(toolitems=[('Home', 'Reset original view', 'home', 'home'), ('Back', 'Back to previous …"
      ]
     },
     "metadata": {},
     "output_type": "display_data"
    }
   ],
   "source": [
    "fig, ax = plt.subplots()\n",
    "\n",
    "n = 0\n",
    "bias = False\n",
    "\n",
    "ax.scatter(x_data, x_data**2)\n",
    "# ax.scatter(x_data, acts[:,n])\n",
    "ax.scatter(x_data, model.layers2[0].weight[0,n].item()*acts[:,n] + bias * model.layers2[0].bias.item())\n",
    "\n",
    "plt.show()"
   ]
  },
  {
   "cell_type": "code",
   "execution_count": 60,
   "id": "33400f98",
   "metadata": {},
   "outputs": [
    {
     "data": {
      "application/vnd.jupyter.widget-view+json": {
       "model_id": "3aef505a1ac5400fa69afa5d4bc9afcd",
       "version_major": 2,
       "version_minor": 0
      },
      "text/plain": [
       "Canvas(toolbar=Toolbar(toolitems=[('Home', 'Reset original view', 'home', 'home'), ('Back', 'Back to previous …"
      ]
     },
     "metadata": {},
     "output_type": "display_data"
    }
   ],
   "source": [
    "fig, ax = plt.subplots()\n",
    "\n",
    "n = 1\n",
    "bias = True\n",
    "\n",
    "ax.scatter(y_data, np.cos(y_data))\n",
    "ax.scatter(y_data, model.layers2[0].weight[0,n].item()*acts[:,n] + bias * model.layers2[0].bias.item())\n",
    "\n",
    "plt.show()"
   ]
  },
  {
   "cell_type": "code",
   "execution_count": 61,
   "id": "0f01174b",
   "metadata": {},
   "outputs": [],
   "source": [
    "# select plotting data\n",
    "x_data = train_data.in_data[:,0]\n",
    "y_data = train_data.in_data[:,1]\n",
    "z_data = [\n",
    "    #(\"target\", train_data.target_data),\n",
    "    #(\"x**2\", x_data**2), \n",
    "    #(\"cos(y)\", np.cos(y_data)), \n",
    "    (\"x*y\", x_data * y_data),\n",
    "]\n",
    "plot_size = train_data.target_data.shape[0]"
   ]
  },
  {
   "cell_type": "code",
   "execution_count": 62,
   "id": "5202e446",
   "metadata": {},
   "outputs": [
    {
     "data": {
      "application/vnd.jupyter.widget-view+json": {
       "model_id": "1c82dc29532c4056a298a33f833c8e59",
       "version_major": 2,
       "version_minor": 0
      },
      "text/plain": [
       "Canvas(toolbar=Toolbar(toolitems=[('Home', 'Reset original view', 'home', 'home'), ('Back', 'Back to previous …"
      ]
     },
     "metadata": {},
     "output_type": "display_data"
    }
   ],
   "source": [
    "n = 2\n",
    "ut.plot_acts(x_data, y_data, z_data, acts=acts, nodes=[n], model=model, bias=False, nonzero=False, agg=False, plot_size=plot_size)"
   ]
  },
  {
   "cell_type": "markdown",
   "id": "a2deb74f",
   "metadata": {},
   "source": [
    "Again, the target functions are matched nicely, both in terms of correlations and dependencies. Only the similarity of $y^2$ and $\\text{cos}(y)$ leads to some differences."
   ]
  }
 ],
 "metadata": {
  "kernelspec": {
   "display_name": "Python 3 (ipykernel)",
   "language": "python",
   "name": "python3"
  },
  "language_info": {
   "codemirror_mode": {
    "name": "ipython",
    "version": 3
   },
   "file_extension": ".py",
   "mimetype": "text/x-python",
   "name": "python",
   "nbconvert_exporter": "python",
   "pygments_lexer": "ipython3",
   "version": "3.8.3"
  },
  "toc": {
   "base_numbering": 1,
   "nav_menu": {},
   "number_sections": false,
   "sideBar": true,
   "skip_h1_title": true,
   "title_cell": "Table of Contents",
   "title_sidebar": "Contents",
   "toc_cell": false,
   "toc_position": {},
   "toc_section_display": true,
   "toc_window_display": false
  }
 },
 "nbformat": 4,
 "nbformat_minor": 5
}
