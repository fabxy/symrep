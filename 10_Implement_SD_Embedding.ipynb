{
 "cells": [
  {
   "cell_type": "markdown",
   "id": "d12fd825",
   "metadata": {},
   "source": [
    "# 2022 Flatiron Machine Learning x Science Summer School\n",
    "\n",
    "## Step 10: Train symbolic discriminator with embedded information\n",
    "\n",
    "Is the information provided to the symbolic discriminator (SD) sufficient? Intuition suggests that input feature information is important.\n",
    "\n",
    "How could we provide additional information to the SD? Currently, the SD input size corresponds to the number of training data points.\n",
    "\n",
    "In order to not only provide the $g(x)$ data, but also the $x$ data, we see three options:\n",
    "\n",
    "* Embed $x^{(i)}$ and $g(x^{(i)})$ using an additional network that outputs a scalar value\n",
    "\n",
    "* Assuming that $x$ is low-dimensional (and has a grid structure), use a convolutional neural network\n",
    "\n",
    "* If $x$ is higher dimensional, consider a (convolutional?) graph neural network\n",
    "\n",
    "Furthermore, consider adding more information, e.g. about derivatives or curvature."
   ]
  },
  {
   "cell_type": "markdown",
   "id": "dfda3cac",
   "metadata": {},
   "source": [
    "### Step 10.1: Analyze information available to symbolic discriminator"
   ]
  },
  {
   "cell_type": "code",
   "execution_count": 1,
   "id": "fd96e271",
   "metadata": {},
   "outputs": [],
   "source": [
    "%matplotlib widget\n",
    "%load_ext autoreload\n",
    "%autoreload 2\n",
    "\n",
    "import os\n",
    "import numpy as np\n",
    "import matplotlib.pyplot as plt\n",
    "import joblib\n",
    "\n",
    "import torch\n",
    "import wandb\n",
    "\n",
    "from srnet import SRNet, SRData\n",
    "from sdnet import SDData\n",
    "import srnet_utils as ut"
   ]
  },
  {
   "cell_type": "code",
   "execution_count": 2,
   "id": "bd28beff",
   "metadata": {},
   "outputs": [],
   "source": [
    "# load data\n",
    "data_path = \"data_1k\"\n",
    "\n",
    "in_var = \"X00\"\n",
    "lat_var = \"G00\"\n",
    "target_var = \"F00\"\n",
    "\n",
    "mask_ext = \".mask\"\n",
    "masks = joblib.load(os.path.join(data_path, in_var + mask_ext))\n",
    "\n",
    "train_data = SRData(data_path, in_var, lat_var, target_var, masks[\"train\"])\n",
    "val_data = SRData(data_path, in_var, lat_var, target_var, masks[\"val\"])"
   ]
  },
  {
   "cell_type": "code",
   "execution_count": 3,
   "id": "2c103b15",
   "metadata": {},
   "outputs": [],
   "source": [
    "fun_path = \"funs/F00_v2.lib\"\n",
    "disc_data = SDData(fun_path, in_var, train_data.in_data)"
   ]
  },
  {
   "cell_type": "code",
   "execution_count": 4,
   "id": "8e466f60",
   "metadata": {},
   "outputs": [
    {
     "data": {
      "application/vnd.jupyter.widget-view+json": {
       "model_id": "1205887308274158bc14d1d81f9fc1ae",
       "version_major": 2,
       "version_minor": 0
      },
      "text/plain": [
       "Canvas(toolbar=Toolbar(toolitems=[('Home', 'Reset original view', 'home', 'home'), ('Back', 'Back to previous …"
      ]
     },
     "metadata": {},
     "output_type": "display_data"
    }
   ],
   "source": [
    "fig, ax = plt.subplots()\n",
    "\n",
    "for i in range(disc_data.fun_data.shape[0]):\n",
    "    ax.plot(disc_data.fun_data[i,:], label=disc_data.funs[i])\n",
    "    \n",
    "ax.legend()\n",
    "plt.show()"
   ]
  },
  {
   "cell_type": "markdown",
   "id": "39c2dfc7",
   "metadata": {},
   "source": [
    "How do latent feature activations look in comparison?"
   ]
  },
  {
   "cell_type": "code",
   "execution_count": 5,
   "id": "a88f1236",
   "metadata": {},
   "outputs": [],
   "source": [
    "model_name = \"srnet_model_F00_v2_bn_mask_sd_study_v21\"\n",
    "model_path = \"models\"\n",
    "model_ext = \".pkl\"\n",
    "\n",
    "model = ut.load_model(model_name + model_ext, model_path, SRNet)\n",
    "\n",
    "with torch.no_grad():\n",
    "    preds, acts = model(train_data.in_data, get_lat=True)\n",
    "    \n",
    "all_nodes = ut.get_node_order(acts, show=False)"
   ]
  },
  {
   "cell_type": "code",
   "execution_count": 6,
   "id": "3ec0a453",
   "metadata": {},
   "outputs": [],
   "source": [
    "x_data = train_data.in_data[:,0]\n",
    "y_data = train_data.in_data[:,1]\n",
    "\n",
    "corr_data = [\n",
    "    (\"x**2\", x_data**2), \n",
    "    (\"y**2\", y_data**2), \n",
    "    (\"cos(x)\", np.cos(x_data)), \n",
    "    (\"cos(y)\", np.cos(y_data)), \n",
    "    (\"x*y\", x_data * y_data),\n",
    "]"
   ]
  },
  {
   "cell_type": "code",
   "execution_count": 7,
   "id": "03cb8fe1",
   "metadata": {},
   "outputs": [
    {
     "name": "stdout",
     "output_type": "stream",
     "text": [
      "\n",
      "Node 0\n",
      "corr(n0, x**2): 0.9997\n",
      "corr(n0, y**2): 0.0161\n",
      "corr(n0, cos(x)): -0.9573\n",
      "corr(n0, cos(y)): -0.0175\n",
      "corr(n0, x*y): 0.1751\n",
      "\n",
      "Node 1\n",
      "corr(n1, x**2): 0.0138\n",
      "corr(n1, y**2): 0.9988\n",
      "corr(n1, cos(x)): -0.0280\n",
      "corr(n1, cos(y)): -0.9688\n",
      "corr(n1, x*y): 0.0449\n",
      "\n",
      "Node 2\n",
      "corr(n2, x**2): 0.1615\n",
      "corr(n2, y**2): -0.0026\n",
      "corr(n2, cos(x)): -0.1379\n",
      "corr(n2, cos(y)): -0.0149\n",
      "corr(n2, x*y): 0.9976\n"
     ]
    }
   ],
   "source": [
    "ut.node_correlations(acts, all_nodes, corr_data);"
   ]
  },
  {
   "cell_type": "code",
   "execution_count": 8,
   "id": "b119d025",
   "metadata": {},
   "outputs": [
    {
     "data": {
      "application/vnd.jupyter.widget-view+json": {
       "model_id": "73fc6e7a610c4f258583160d42461c8b",
       "version_major": 2,
       "version_minor": 0
      },
      "text/plain": [
       "Canvas(toolbar=Toolbar(toolitems=[('Home', 'Reset original view', 'home', 'home'), ('Back', 'Back to previous …"
      ]
     },
     "metadata": {},
     "output_type": "display_data"
    }
   ],
   "source": [
    "fig, ax = plt.subplots()\n",
    "\n",
    "i = 3\n",
    "ax.plot(disc_data.fun_data[i,:], label=disc_data.funs[i])\n",
    "\n",
    "i = 1\n",
    "ax.plot(disc_data.fun_data[i,:], label=disc_data.funs[i])\n",
    "    \n",
    "j = 1\n",
    "ax.plot(acts[:,j], label=j)\n",
    "    \n",
    "ax.legend()\n",
    "plt.show()"
   ]
  },
  {
   "cell_type": "code",
   "execution_count": 9,
   "id": "a9358bb7",
   "metadata": {},
   "outputs": [
    {
     "data": {
      "application/vnd.jupyter.widget-view+json": {
       "model_id": "d6679a83e7c24b33a310ec0740c5b5b5",
       "version_major": 2,
       "version_minor": 0
      },
      "text/plain": [
       "Canvas(toolbar=Toolbar(toolitems=[('Home', 'Reset original view', 'home', 'home'), ('Back', 'Back to previous …"
      ]
     },
     "metadata": {},
     "output_type": "display_data"
    }
   ],
   "source": [
    "fig, ax = plt.subplots()\n",
    "\n",
    "i = 0\n",
    "ax.plot(disc_data.fun_data[i,:], label=disc_data.funs[i])\n",
    "    \n",
    "j = 0\n",
    "ax.plot(acts[:,j], label=j)\n",
    "    \n",
    "ax.legend()\n",
    "plt.show()"
   ]
  },
  {
   "cell_type": "markdown",
   "id": "9103217c",
   "metadata": {},
   "source": [
    "Let's sort the 1D input:"
   ]
  },
  {
   "cell_type": "code",
   "execution_count": 10,
   "id": "ab668a92",
   "metadata": {},
   "outputs": [
    {
     "data": {
      "application/vnd.jupyter.widget-view+json": {
       "model_id": "43217a08262d460ea4ded464a40f9e64",
       "version_major": 2,
       "version_minor": 0
      },
      "text/plain": [
       "Canvas(toolbar=Toolbar(toolitems=[('Home', 'Reset original view', 'home', 'home'), ('Back', 'Back to previous …"
      ]
     },
     "metadata": {},
     "output_type": "display_data"
    }
   ],
   "source": [
    "fig, ax = plt.subplots()\n",
    "\n",
    "p_data = np.sort(y_data)\n",
    "\n",
    "ax.plot(p_data**2)\n",
    "    \n",
    "ax.plot(-np.cos(p_data))\n",
    "    \n",
    "plt.show()"
   ]
  },
  {
   "cell_type": "markdown",
   "id": "4e12a3a2",
   "metadata": {},
   "source": [
    "And let's plot over the input data:"
   ]
  },
  {
   "cell_type": "code",
   "execution_count": 11,
   "id": "89dcb5ac",
   "metadata": {},
   "outputs": [
    {
     "data": {
      "application/vnd.jupyter.widget-view+json": {
       "model_id": "44570611566f4224b2522eaaf65c49ab",
       "version_major": 2,
       "version_minor": 0
      },
      "text/plain": [
       "Canvas(toolbar=Toolbar(toolitems=[('Home', 'Reset original view', 'home', 'home'), ('Back', 'Back to previous …"
      ]
     },
     "metadata": {},
     "output_type": "display_data"
    }
   ],
   "source": [
    "fig, ax = plt.subplots()\n",
    "\n",
    "p_data = np.sort(y_data)\n",
    "\n",
    "ax.scatter(p_data, p_data**2)\n",
    "ax.scatter(p_data, -np.cos(p_data))\n",
    "    \n",
    "plt.show()"
   ]
  },
  {
   "cell_type": "markdown",
   "id": "e79074d5",
   "metadata": {},
   "source": [
    "### Step 10.2: Check SD training with embedded input feature information"
   ]
  },
  {
   "cell_type": "markdown",
   "id": "d4987ea9",
   "metadata": {},
   "source": [
    "How to set up gradient penalty correctly with additional embedded information?\n",
    "\n",
    "* Calculate the gradients with respect to all SD inputs, e.g. $g(x)$ and $x$, and get the difference between the gradients' 2-norm and 1. Calculate the mean of the squared differences of the individual latent features."
   ]
  },
  {
   "cell_type": "markdown",
   "id": "22ce3b16",
   "metadata": {},
   "source": [
    "#### There are some reproducibility issues:\n",
    "\n",
    "```\n",
    "local, old head:\n",
    "\n",
    "00:18<00:00, 53.09it/s, train_loss=7.44, val_loss=18.11, min_corr=0.70]\n",
    "Total training loss: 1.660e+01\n",
    "Total validation loss: 1.770e+01\n",
    "\n",
    "00:18<00:00, 53.49it/s, train_loss=7.44, val_loss=18.11, min_corr=0.70]\n",
    "Total training loss: 1.660e+01\n",
    "Total validation loss: 1.770e+01\n",
    "\n",
    "local, new srnet.py:\n",
    "00:21<00:00, 45.65it/s, train_loss=8.12, val_loss=17.70, min_corr=0.71]\n",
    "Total training loss: 1.660e+01\n",
    "Total validation loss: 1.770e+01\n",
    "\n",
    "local, new srnet.py with extension commented out:\n",
    "00:21<00:00, 45.65it/s, train_loss=8.12, val_loss=17.70, min_corr=0.71]\n",
    "Total training loss: 1.660e+01\n",
    "Total validation loss: 1.770e+01\n",
    "\n",
    "local, new srnet.py and srnet_utils.py with write statement commented out:\n",
    "00:20<00:00, 49.26it/s, train_loss=7.44, val_loss=18.11, min_corr=0.70]\n",
    "Total training loss: 1.660e+01\n",
    "Total validation loss: 1.770e+01\n",
    "\n",
    "new normal:\n",
    "00:20<00:00, 47.70it/s, train_loss=8.12, val_loss=17.70, min_corr=0.71]\n",
    "Total training loss: 1.660e+01\n",
    "Total validation loss: 1.770e+01\n",
    "\n",
    "new sdnet.py:\n",
    "00:20<00:00, 47.70it/s, train_loss=0.96, val_loss=0.80, min_corr=0.63]\n",
    "Total training loss: 8.387e-01\n",
    "Total validation loss: 8.008e-01\n",
    "\n",
    "fixed sdnet.py:\n",
    "00:21<00:00, 46.95it/s, train_loss=8.12, val_loss=17.70, min_corr=0.71]\n",
    "Total training loss: 1.660e+01\n",
    "Total validation loss: 1.770e+01\n",
    "\n",
    "\n",
    "local py38, torch11, numpy18, fixed sdnet.py, v23:\n",
    "1001/1001 [00:44<00:00, 22.30it/s, train_loss=-2.35e+01, val_loss=10.54, min_corr=0.95]\n",
    "Total training loss: 9.924e+00\n",
    "Total validation loss: 1.054e+01\n",
    "\n",
    "\n",
    "local py37, torch11, numpy17, fixed sdnet.py, v23:\n",
    "1001/1001 [00:51<00:00, 19.47it/s, train_loss=-1.86e+01, val_loss=10.56, min_corr=0.95]\n",
    "Total training loss: 9.949e+00\n",
    "Total validation loss: 1.056e+01\n",
    "\n",
    "local py37, torch11, numpy18, fixed sdnet.py, v23:\n",
    "1001/1001 [00:47<00:00, 21.02it/s, train_loss=-1.86e+01, val_loss=10.56, min_corr=0.95]\n",
    "Total training loss: 9.949e+00\n",
    "Total validation loss: 1.056e+01\n",
    "\n",
    "local py37, torch11, numpy21, fixed sdnet.py, v23:\n",
    "1001/1001 [00:46<00:00, 21.61it/s, train_loss=-2.35e+01, val_loss=10.54, min_corr=0.95]\n",
    "Total training loss: 9.924e+00\n",
    "Total validation loss: 1.054e+01\n",
    "\n",
    "local py37.13 torch12, numpy21, fixed sdnet.py, v23:\n",
    "1001/1001 [00:48<00:00, 20.76it/s, train_loss=-2.15e+01, val_loss=10.53, min_corr=0.95]\n",
    "Total training loss: 9.922e+00\n",
    "Total validation loss: 1.053e+01\n",
    "\n",
    "spartan local copy py37.4, torch11, numpy17, fixed sdnet.py, v23:\n",
    "1001/1001 [00:49<00:00, 20.25it/s, train_loss=-1.86e+01, val_loss=10.56, min_corr=0.95]\n",
    "Total training loss: 9.949e+00\n",
    "Total validation loss: 1.056e+01\n",
    "\n",
    "cluster py37.4, torch11, numpy17, fixed sdnet.py, v23:\n",
    "1001/1001 [00:36<00:00, 27.52it/s, train_loss=-2.19e+01, val_loss=10.49, min_corr=0.95]\n",
    "Total training loss: 9.882e+00\n",
    "Total validation loss: 1.049e+01\n",
    "```\n",
    "\n",
    "The results can vary between `torch` and `numpy` versions."
   ]
  },
  {
   "cell_type": "code",
   "execution_count": 12,
   "id": "11ed5615",
   "metadata": {},
   "outputs": [],
   "source": [
    "# set wandb project\n",
    "wandb_project = \"102-bn-mask-DSN-emb-study-F00_v2\""
   ]
  },
  {
   "cell_type": "code",
   "execution_count": 13,
   "id": "9e2d1cd5",
   "metadata": {},
   "outputs": [],
   "source": [
    "# hyperparams = {\n",
    "#     \"arch\": {\n",
    "#         \"in_size\": train_data.in_data.shape[1],\n",
    "#         \"out_size\": train_data.target_data.shape[1],\n",
    "#         \"hid_num\": (2,0),\n",
    "#         \"hid_size\": 32, \n",
    "#         \"hid_type\": (\"DSN\", \"MLP\"),\n",
    "#         \"hid_kwargs\": {\n",
    "#             \"alpha\": [[1,0],[0,1],[1,1]],\n",
    "#             \"norm\": None,\n",
    "#             \"prune\": None,\n",
    "#             },\n",
    "#         \"lat_size\": 3,\n",
    "#         },\n",
    "#     \"epochs\": 30000,\n",
    "#     \"runtime\": None,\n",
    "#     \"batch_size\": train_data.in_data.shape[0],\n",
    "#     \"shuffle\": False,\n",
    "#     \"lr\": 1e-4,\n",
    "#     \"wd\": 1e-4,\n",
    "#     \"l1\": 0.0,\n",
    "#     \"a1\": 0.0,\n",
    "#     \"a2\": 0.0,\n",
    "#     \"e1\": 0.0,\n",
    "#     \"e2\": 0.0,\n",
    "#     \"gc\": 0.0,\n",
    "#     \"sd\": 1e-7,\n",
    "#     \"disc\": {\n",
    "#         \"hid_num\": (1,3),\n",
    "#         \"hid_size\": (32,128),\n",
    "#         \"emb_size\": train_data.in_data.shape[1] + 1,\n",
    "#         \"lr\": 1e-3,\n",
    "#         \"wd\": 1e-4,\n",
    "#         \"iters\": 5,\n",
    "#         \"gp\": 1e-5,\n",
    "#     },\n",
    "# }"
   ]
  },
  {
   "cell_type": "code",
   "execution_count": 14,
   "id": "9ce8dfc8",
   "metadata": {},
   "outputs": [],
   "source": [
    "# define hyperparameter study\n",
    "hp_study = {\n",
    "    \"method\": \"random\",\n",
    "    \"parameters\": {\n",
    "        \"sd\": {\n",
    "            \"values\": [1e-8, 1e-7, 1e-6, 1e-5]\n",
    "        },\n",
    "        \"disc\": {\n",
    "            \"parameters\": {\n",
    "                \"hid_num\": {\n",
    "                    \"values\": [(1,4), (2,4), (1,6), (2,6)]\n",
    "                },\n",
    "                \"hid_size\": {\n",
    "                    \"values\": [(32,128), (64,128), (32,256), (64,256)]\n",
    "                },\n",
    "                \"emb_size\": {\n",
    "                    \"values\": [3]\n",
    "                },\n",
    "                \"lr\": {\n",
    "                    \"values\": [1e-5, 1e-4, 1e-3, 1e-2]\n",
    "                },\n",
    "                \"wd\": {\n",
    "                    \"values\": [1e-6]\n",
    "                },\n",
    "                \"iters\": {\n",
    "                    \"values\": [5]\n",
    "                },\n",
    "                \"gp\": {\n",
    "                    \"values\": [1e-5, 1e-4, 1e-3]\n",
    "                },\n",
    "            }\n",
    "        }\n",
    "    }\n",
    "}"
   ]
  },
  {
   "cell_type": "code",
   "execution_count": null,
   "id": "aafce32b",
   "metadata": {},
   "outputs": [],
   "source": [
    "# create sweep\n",
    "sweep_id = wandb.sweep(hp_study, project=wandb_project)"
   ]
  },
  {
   "cell_type": "markdown",
   "id": "95df5973",
   "metadata": {},
   "source": [
    "<img src=\"results/102-bn-mask-DSN-emb-study-F00_v2.png\">"
   ]
  },
  {
   "cell_type": "code",
   "execution_count": 39,
   "id": "3e867647",
   "metadata": {},
   "outputs": [
    {
     "name": "stdout",
     "output_type": "stream",
     "text": [
      "Downloading srnet_model_F00_v2_bn_mask_emb_study_v2.pkl.\n",
      "Downloading srnet_model_F00_v2_bn_mask_emb_study_v13.pkl.\n",
      "Downloading srnet_model_F00_v2_bn_mask_emb_study_v14.pkl.\n",
      "Downloading srnet_model_F00_v2_bn_mask_emb_study_v17.pkl.\n",
      "Downloading srnet_model_F00_v2_bn_mask_emb_study_v20.pkl.\n"
     ]
    }
   ],
   "source": [
    "# download data from wandb\n",
    "file_ext = \".pkl\"\n",
    "\n",
    "api = wandb.Api()\n",
    "\n",
    "runs = api.runs(wandb_project)\n",
    "for r, run in enumerate(runs):\n",
    "    if run.summaryMetrics['min_corr'] > 0.9:\n",
    "        for f in run.files():\n",
    "            if f.name[-len(file_ext):] == file_ext:\n",
    "                file_name = f.name.replace(file_ext, f\"_v{r+1}{file_ext}\")\n",
    "                print(f\"Downloading {os.path.basename(file_name)}.\")\n",
    "                run.file(f.name).download()\n",
    "                os.rename(f.name, file_name)"
   ]
  },
  {
   "cell_type": "code",
   "execution_count": 15,
   "id": "ac2b1896",
   "metadata": {},
   "outputs": [],
   "source": [
    "# load data\n",
    "data_path = \"data_1k\"\n",
    "\n",
    "in_var = \"X00\"\n",
    "lat_var = \"G00\"\n",
    "target_var = \"F00\"\n",
    "\n",
    "mask_ext = \".mask\"\n",
    "masks = joblib.load(os.path.join(data_path, in_var + mask_ext))\n",
    "\n",
    "train_data = SRData(data_path, in_var, lat_var, target_var, masks[\"train\"])\n",
    "val_data = SRData(data_path, in_var, lat_var, target_var, masks[\"val\"])"
   ]
  },
  {
   "cell_type": "code",
   "execution_count": 16,
   "id": "496b1f37",
   "metadata": {},
   "outputs": [],
   "source": [
    "x_data = train_data.in_data[:,0]\n",
    "y_data = train_data.in_data[:,1]"
   ]
  },
  {
   "cell_type": "code",
   "execution_count": 17,
   "id": "a7b16c98",
   "metadata": {},
   "outputs": [],
   "source": [
    "corr_data = [\n",
    "    (\"x**2\", x_data**2), \n",
    "    # (\"y**2\", y_data**2), \n",
    "    # (\"cos(x)\", np.cos(x_data)), \n",
    "    (\"cos(y)\", np.cos(y_data)), \n",
    "    (\"x*y\", x_data * y_data),\n",
    "]"
   ]
  },
  {
   "cell_type": "code",
   "execution_count": 18,
   "id": "f3c07a21",
   "metadata": {},
   "outputs": [
    {
     "name": "stdout",
     "output_type": "stream",
     "text": [
      "Loading srnet_model_F00_v2_bn_mask_emb_study_v13.pkl.\n",
      "Loading srnet_model_F00_v2_bn_mask_emb_study_v14.pkl.\n",
      "Loading srnet_model_F00_v2_bn_mask_emb_study_v17.pkl.\n",
      "Loading srnet_model_F00_v2_bn_mask_emb_study_v2.pkl.\n",
      "Loading srnet_model_F00_v2_bn_mask_emb_study_v20.pkl.\n"
     ]
    }
   ],
   "source": [
    "# get validation loss and latent feature correlations\n",
    "model_path = \"models\"\n",
    "save_name = \"F00_v2_bn_mask_emb_study\"\n",
    "\n",
    "models = [f for f in os.listdir(model_path) if save_name in f]\n",
    "\n",
    "val_corr = {}\n",
    "\n",
    "for model_name in models:\n",
    "    print(f\"Loading {model_name}.\")\n",
    "    model = ut.load_model(model_name, model_path, SRNet)\n",
    "    \n",
    "    with torch.no_grad():\n",
    "        preds, acts = model(train_data.in_data, get_lat=True)\n",
    "        \n",
    "    all_nodes = ut.get_node_order(acts, show=False)\n",
    "        \n",
    "    corr_mat = ut.node_correlations(acts, all_nodes, corr_data, show=False)\n",
    "    corr = [np.abs(c).max() for c in corr_mat]\n",
    "    \n",
    "    with torch.no_grad():\n",
    "        preds = model(val_data.in_data)\n",
    "        \n",
    "    val_loss = (preds - val_data.target_data).pow(2).mean().item()\n",
    "    val_corr[model_name] = (val_loss, corr)"
   ]
  },
  {
   "cell_type": "code",
   "execution_count": 19,
   "id": "36e44af7",
   "metadata": {},
   "outputs": [
    {
     "data": {
      "application/vnd.jupyter.widget-view+json": {
       "model_id": "383ffff5d0f94684823cd1ebe71e5c45",
       "version_major": 2,
       "version_minor": 0
      },
      "text/plain": [
       "Canvas(toolbar=Toolbar(toolitems=[('Home', 'Reset original view', 'home', 'home'), ('Back', 'Back to previous …"
      ]
     },
     "metadata": {},
     "output_type": "display_data"
    }
   ],
   "source": [
    "fig, ax = plt.subplots()\n",
    "\n",
    "for v in val_corr:\n",
    "    ax.plot(val_corr[v][0], np.min(val_corr[v][1]), 'x', label=v.split('.')[0].split('_')[-1])\n",
    "\n",
    "ax.legend()\n",
    "plt.show()"
   ]
  },
  {
   "cell_type": "code",
   "execution_count": 20,
   "id": "42e81345",
   "metadata": {},
   "outputs": [
    {
     "data": {
      "application/vnd.jupyter.widget-view+json": {
       "model_id": "26f5690235764b0c979ecbd574cb1bcd",
       "version_major": 2,
       "version_minor": 0
      },
      "text/plain": [
       "Canvas(toolbar=Toolbar(toolitems=[('Home', 'Reset original view', 'home', 'home'), ('Back', 'Back to previous …"
      ]
     },
     "metadata": {},
     "output_type": "display_data"
    }
   ],
   "source": [
    "# plot losses\n",
    "save_names = [\n",
    "    \"srnet_model_F00_v2_bn_mask_emb_study_v13\",\n",
    "    \"srnet_model_F00_v2_bn_mask_emb_study_v20\",\n",
    "    \"srnet_model_F00_v2_bn_mask_emb_study_v17\",\n",
    "    \"srnet_model_F00_v2_bn_mask_emb_study_v2\",\n",
    "]\n",
    "save_path = \"models\"\n",
    "models = ut.plot_losses(save_names, save_path=\"models\", excl_names=[])"
   ]
  },
  {
   "cell_type": "code",
   "execution_count": 21,
   "id": "413bf8fd",
   "metadata": {},
   "outputs": [],
   "source": [
    "corr_data = [\n",
    "    (\"x**2\", x_data**2), \n",
    "    (\"y**2\", y_data**2), \n",
    "    (\"cos(x)\", np.cos(x_data)), \n",
    "    (\"cos(y)\", np.cos(y_data)), \n",
    "    (\"x*y\", x_data * y_data),\n",
    "]"
   ]
  },
  {
   "cell_type": "code",
   "execution_count": 22,
   "id": "3c8b1149",
   "metadata": {
    "scrolled": false
   },
   "outputs": [
    {
     "name": "stdout",
     "output_type": "stream",
     "text": [
      "srnet_model_F00_v2_bn_mask_emb_study_v13\n",
      "1e-06\n",
      "{'emb_size': 3, 'gp': 0.0001, 'hid_num': [1, 4], 'hid_size': [32, 256], 'iters': 5, 'lr': 0.001, 'wd': 1e-06}\n",
      "[1.5251404, 1.3298478, 0.102596655]\n",
      "[1, 0, 2]\n",
      "Validation error: 2.1712e-02\n",
      "\n",
      "Node 1\n",
      "corr(n1, x**2): 0.0173\n",
      "corr(n1, y**2): 0.9985\n",
      "corr(n1, cos(x)): -0.0313\n",
      "corr(n1, cos(y)): -0.9737\n",
      "corr(n1, x*y): 0.0506\n",
      "\n",
      "Node 0\n",
      "corr(n0, x**2): 0.9990\n",
      "corr(n0, y**2): 0.0150\n",
      "corr(n0, cos(x)): -0.9493\n",
      "corr(n0, cos(y)): -0.0165\n",
      "corr(n0, x*y): 0.1809\n",
      "\n",
      "Node 2\n",
      "corr(n2, x**2): -0.1650\n",
      "corr(n2, y**2): -0.3646\n",
      "corr(n2, cos(x)): 0.1613\n",
      "corr(n2, cos(y)): 0.3529\n",
      "corr(n2, x*y): -0.9401\n",
      "\n",
      "srnet_model_F00_v2_bn_mask_emb_study_v20\n",
      "1e-08\n",
      "{'emb_size': 3, 'gp': 1e-05, 'hid_num': [2, 4], 'hid_size': [64, 256], 'iters': 5, 'lr': 0.0001, 'wd': 1e-06}\n",
      "[1.8680242, 1.2094715, 0.14276965]\n",
      "[1, 0, 2]\n",
      "Validation error: 2.5851e-03\n",
      "\n",
      "Node 1\n",
      "corr(n1, x**2): 0.0139\n",
      "corr(n1, y**2): 0.9908\n",
      "corr(n1, cos(x)): -0.0287\n",
      "corr(n1, cos(y)): -0.9785\n",
      "corr(n1, x*y): 0.0477\n",
      "\n",
      "Node 0\n",
      "corr(n0, x**2): 0.9973\n",
      "corr(n0, y**2): 0.0144\n",
      "corr(n0, cos(x)): -0.9498\n",
      "corr(n0, cos(y)): -0.0161\n",
      "corr(n0, x*y): 0.1841\n",
      "\n",
      "Node 2\n",
      "corr(n2, x**2): -0.2663\n",
      "corr(n2, y**2): -0.2894\n",
      "corr(n2, cos(x)): 0.2493\n",
      "corr(n2, cos(y)): 0.2830\n",
      "corr(n2, x*y): -0.9549\n",
      "\n",
      "srnet_model_F00_v2_bn_mask_emb_study_v17\n",
      "1e-07\n",
      "{'emb_size': 3, 'gp': 1e-05, 'hid_num': [1, 6], 'hid_size': [32, 256], 'iters': 5, 'lr': 0.0001, 'wd': 1e-06}\n",
      "[1.452747, 1.441018, 0.112165876]\n",
      "[0, 1, 2]\n",
      "Validation error: 2.1088e-02\n",
      "\n",
      "Node 0\n",
      "corr(n0, x**2): 0.9987\n",
      "corr(n0, y**2): 0.0152\n",
      "corr(n0, cos(x)): -0.9499\n",
      "corr(n0, cos(y)): -0.0174\n",
      "corr(n0, x*y): 0.1817\n",
      "\n",
      "Node 1\n",
      "corr(n1, x**2): 0.0182\n",
      "corr(n1, y**2): 0.9960\n",
      "corr(n1, cos(x)): -0.0322\n",
      "corr(n1, cos(y)): -0.9797\n",
      "corr(n1, x*y): 0.0490\n",
      "\n",
      "Node 2\n",
      "corr(n2, x**2): -0.0955\n",
      "corr(n2, y**2): -0.3078\n",
      "corr(n2, cos(x)): 0.0904\n",
      "corr(n2, cos(y)): 0.3043\n",
      "corr(n2, x*y): -0.9553\n",
      "\n",
      "srnet_model_F00_v2_bn_mask_emb_study_v2\n",
      "1e-05\n",
      "{'emb_size': 3, 'gp': 1e-05, 'hid_num': [1, 4], 'hid_size': [32, 256], 'iters': 5, 'lr': 0.001, 'wd': 1e-06}\n",
      "[1.3996812, 1.0809922, 0.45018354]\n",
      "[0, 1, 2]\n",
      "Validation error: 1.5173e-02\n",
      "\n",
      "Node 0\n",
      "corr(n0, x**2): 0.9988\n",
      "corr(n0, y**2): 0.0144\n",
      "corr(n0, cos(x)): -0.9482\n",
      "corr(n0, cos(y)): -0.0148\n",
      "corr(n0, x*y): 0.1703\n",
      "\n",
      "Node 1\n",
      "corr(n1, x**2): 0.0163\n",
      "corr(n1, y**2): 0.9934\n",
      "corr(n1, cos(x)): -0.0302\n",
      "corr(n1, cos(y)): -0.9805\n",
      "corr(n1, x*y): 0.0600\n",
      "\n",
      "Node 2\n",
      "corr(n2, x**2): 0.1124\n",
      "corr(n2, y**2): -0.0850\n",
      "corr(n2, cos(x)): -0.0855\n",
      "corr(n2, cos(y)): 0.0702\n",
      "corr(n2, x*y): 0.9874\n",
      "\n",
      "srnet_model_F00_v2_bn_mask_emb_study_v20\n",
      "1e-08\n",
      "{'emb_size': 3, 'gp': 1e-05, 'hid_num': [2, 4], 'hid_size': [64, 256], 'iters': 5, 'lr': 0.0001, 'wd': 1e-06}\n",
      "[1.8680242, 1.2094715, 0.14276965]\n",
      "[1, 0, 2]\n",
      "Validation error: 2.5851e-03\n",
      "\n",
      "Node 1\n",
      "corr(n1, x**2): 0.0139\n",
      "corr(n1, y**2): 0.9908\n",
      "corr(n1, cos(x)): -0.0287\n",
      "corr(n1, cos(y)): -0.9785\n",
      "corr(n1, x*y): 0.0477\n",
      "\n",
      "Node 0\n",
      "corr(n0, x**2): 0.9973\n",
      "corr(n0, y**2): 0.0144\n",
      "corr(n0, cos(x)): -0.9498\n",
      "corr(n0, cos(y)): -0.0161\n",
      "corr(n0, x*y): 0.1841\n",
      "\n",
      "Node 2\n",
      "corr(n2, x**2): -0.2663\n",
      "corr(n2, y**2): -0.2894\n",
      "corr(n2, cos(x)): 0.2493\n",
      "corr(n2, cos(y)): 0.2830\n",
      "corr(n2, x*y): -0.9549\n",
      "\n"
     ]
    }
   ],
   "source": [
    "model_path = \"models\"\n",
    "model_ext = \".pkl\"\n",
    "\n",
    "for model_name in models:\n",
    "    print(model_name)\n",
    "    \n",
    "    state = joblib.load(os.path.join(model_path, model_name + model_ext))\n",
    "    \n",
    "    print(state['hyperparams']['sd'])\n",
    "    print(state['hyperparams']['disc'])\n",
    "    \n",
    "    model = ut.load_model(model_name + model_ext, model_path, SRNet)\n",
    "    \n",
    "    with torch.no_grad():\n",
    "        preds, acts = model(train_data.in_data, get_lat=True)\n",
    "        \n",
    "    all_nodes = ut.get_node_order(acts, show=True)\n",
    "    \n",
    "    print(f\"Validation error: {state['total_val_loss']:.4e}\")\n",
    "        \n",
    "    corr_mat = ut.node_correlations(acts, all_nodes, corr_data, show=True)\n",
    "        \n",
    "    print(\"\")"
   ]
  },
  {
   "cell_type": "markdown",
   "id": "664a79b7",
   "metadata": {},
   "source": [
    "These results are good, but very similar to the results without embedding. The issue of converging to $y^2$ instead of $\\text{cos}(y)$ remains.\n",
    "\n",
    "What are possible reasons?\n",
    "\n",
    "* The signal $\\text{cos}(y)$ is small compared to $x^2$ and $x \\cdot y$ and thus, predictions errors are also small.\n",
    "\n",
    "* The input data is constant. Does it not provide additional information to the discriminator?"
   ]
  },
  {
   "cell_type": "code",
   "execution_count": 23,
   "id": "1230e6cf",
   "metadata": {},
   "outputs": [
    {
     "name": "stdout",
     "output_type": "stream",
     "text": [
      "[1.3996812, 1.0809922, 0.45018354]\n",
      "[0, 1, 2]\n",
      "[[1. 0.]\n",
      " [0. 1.]\n",
      " [1. 1.]]\n",
      "\n"
     ]
    }
   ],
   "source": [
    "model_name = \"srnet_model_F00_v2_bn_mask_emb_study_v2\"\n",
    "model_path = \"models\"\n",
    "model_ext = \".pkl\"\n",
    "\n",
    "model = ut.load_model(model_name + model_ext, model_path, SRNet)\n",
    "\n",
    "with torch.no_grad():\n",
    "    preds, acts = model(train_data.in_data, get_lat=True)\n",
    "    \n",
    "all_nodes = ut.get_node_order(acts, show=True)\n",
    "\n",
    "print(model.layers1.norm(model.layers1.alpha).detach().cpu().numpy()[all_nodes])\n",
    "\n",
    "print(\"\")"
   ]
  },
  {
   "cell_type": "code",
   "execution_count": 24,
   "id": "b1bad9c4",
   "metadata": {},
   "outputs": [],
   "source": [
    "nodes = all_nodes[:3]"
   ]
  },
  {
   "cell_type": "code",
   "execution_count": 25,
   "id": "ed7a7949",
   "metadata": {},
   "outputs": [
    {
     "data": {
      "application/vnd.jupyter.widget-view+json": {
       "model_id": "bf94196a5aae4f10a594aab60ac3d70a",
       "version_major": 2,
       "version_minor": 0
      },
      "text/plain": [
       "Canvas(toolbar=Toolbar(toolitems=[('Home', 'Reset original view', 'home', 'home'), ('Back', 'Back to previous …"
      ]
     },
     "metadata": {},
     "output_type": "display_data"
    }
   ],
   "source": [
    "fig, ax = plt.subplots()\n",
    "\n",
    "n = 0\n",
    "bias = True\n",
    "\n",
    "ax.scatter(x_data, x_data**2)\n",
    "# ax.scatter(x_data, acts[:,n])\n",
    "ax.scatter(x_data, model.layers2[0].weight[0,n].item()*acts[:,n] + bias * model.layers2[0].bias.item())\n",
    "\n",
    "plt.show()"
   ]
  },
  {
   "cell_type": "code",
   "execution_count": 26,
   "id": "c20c2e7c",
   "metadata": {},
   "outputs": [
    {
     "data": {
      "application/vnd.jupyter.widget-view+json": {
       "model_id": "00248372618348fd936b747de6a2993e",
       "version_major": 2,
       "version_minor": 0
      },
      "text/plain": [
       "Canvas(toolbar=Toolbar(toolitems=[('Home', 'Reset original view', 'home', 'home'), ('Back', 'Back to previous …"
      ]
     },
     "metadata": {},
     "output_type": "display_data"
    }
   ],
   "source": [
    "fig, ax = plt.subplots()\n",
    "\n",
    "n = 1\n",
    "bias = True\n",
    "\n",
    "ax.scatter(y_data, np.cos(y_data))\n",
    "ax.scatter(y_data, model.layers2[0].weight[0,n].item()*acts[:,n] + bias * model.layers2[0].bias.item())\n",
    "\n",
    "plt.show()"
   ]
  },
  {
   "cell_type": "code",
   "execution_count": 27,
   "id": "9bd4304c",
   "metadata": {},
   "outputs": [],
   "source": [
    "# select plotting data\n",
    "x_data = train_data.in_data[:,0]\n",
    "y_data = train_data.in_data[:,1]\n",
    "z_data = [\n",
    "    #(\"target\", train_data.target_data),\n",
    "    #(\"x**2\", x_data**2), \n",
    "    #(\"cos(y)\", np.cos(y_data)), \n",
    "    (\"x*y\", x_data * y_data),\n",
    "]\n",
    "plot_size = train_data.target_data.shape[0]"
   ]
  },
  {
   "cell_type": "code",
   "execution_count": 28,
   "id": "9279acc2",
   "metadata": {},
   "outputs": [
    {
     "data": {
      "application/vnd.jupyter.widget-view+json": {
       "model_id": "730d9043307a4ce1911181a05813f274",
       "version_major": 2,
       "version_minor": 0
      },
      "text/plain": [
       "Canvas(toolbar=Toolbar(toolitems=[('Home', 'Reset original view', 'home', 'home'), ('Back', 'Back to previous …"
      ]
     },
     "metadata": {},
     "output_type": "display_data"
    }
   ],
   "source": [
    "n = 2\n",
    "ut.plot_acts(x_data, y_data, z_data, acts=acts, nodes=[n], model=model, bias=False, nonzero=False, agg=False, plot_size=plot_size)"
   ]
  },
  {
   "cell_type": "markdown",
   "id": "778cb856",
   "metadata": {},
   "source": [
    "**TODO**: Plot embedding"
   ]
  }
 ],
 "metadata": {
  "kernelspec": {
   "display_name": "Python 3 (ipykernel)",
   "language": "python",
   "name": "python3"
  },
  "language_info": {
   "codemirror_mode": {
    "name": "ipython",
    "version": 3
   },
   "file_extension": ".py",
   "mimetype": "text/x-python",
   "name": "python",
   "nbconvert_exporter": "python",
   "pygments_lexer": "ipython3",
   "version": "3.8.3"
  },
  "toc": {
   "base_numbering": 1,
   "nav_menu": {},
   "number_sections": false,
   "sideBar": true,
   "skip_h1_title": true,
   "title_cell": "Table of Contents",
   "title_sidebar": "Contents",
   "toc_cell": false,
   "toc_position": {},
   "toc_section_display": true,
   "toc_window_display": false
  }
 },
 "nbformat": 4,
 "nbformat_minor": 5
}
