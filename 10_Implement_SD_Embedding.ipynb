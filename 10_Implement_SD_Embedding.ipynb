{
 "cells": [
  {
   "cell_type": "markdown",
   "id": "dd3f39d2",
   "metadata": {},
   "source": [
    "# 2022 Flatiron Machine Learning x Science Summer School\n",
    "\n",
    "## Step 10: Train symbolic discriminator with embedded information\n",
    "\n",
    "What if the information provided to the symbolic discriminator (SD) is not sufficient? Intuition might suggest that input feature information is important.\n",
    "\n",
    "How could additional information be provided to the SD? Currently, the SD input size corresponds to the number of training data points.\n",
    "\n",
    "In order to not only provide the $g(x)$ data, but also the $x$ data, we see three options:\n",
    "\n",
    "* Embed $x^{(i)}$ and $g(x^{(i)})$ using an additional network that outputs a scalar value\n",
    "\n",
    "* Assuming that $x$ is low-dimensional (and has a grid structure), use a convolutional neural network\n",
    "\n",
    "* If $x$ is higher dimensional, consider a (convolutional?) graph neural network\n",
    "\n",
    "Furthermore, consider adding more information, e.g. about derivatives or curvature."
   ]
  },
  {
   "cell_type": "markdown",
   "id": "8b7b2793",
   "metadata": {},
   "source": [
    "### Step 10.1: Analyze information available to symbolic discriminator"
   ]
  },
  {
   "cell_type": "code",
   "execution_count": 2,
   "id": "792b9267",
   "metadata": {},
   "outputs": [
    {
     "name": "stdout",
     "output_type": "stream",
     "text": [
      "The autoreload extension is already loaded. To reload it, use:\n",
      "  %reload_ext autoreload\n"
     ]
    }
   ],
   "source": [
    "%matplotlib widget\n",
    "%load_ext autoreload\n",
    "%autoreload 2\n",
    "\n",
    "import os\n",
    "import numpy as np\n",
    "import matplotlib.pyplot as plt\n",
    "import joblib\n",
    "\n",
    "import torch\n",
    "import wandb\n",
    "\n",
    "from srnet import SRNet, SRData\n",
    "from sdnet import SDData\n",
    "import srnet_utils as ut"
   ]
  },
  {
   "cell_type": "code",
   "execution_count": 3,
   "id": "bd28beff",
   "metadata": {},
   "outputs": [],
   "source": [
    "# load data\n",
    "data_path = \"data_1k\"\n",
    "\n",
    "in_var = \"X00\"\n",
    "lat_var = \"G00\"\n",
    "target_var = \"F00\"\n",
    "\n",
    "mask_ext = \".mask\"\n",
    "masks = joblib.load(os.path.join(data_path, in_var + mask_ext))\n",
    "\n",
    "train_data = SRData(data_path, in_var, lat_var, target_var, masks[\"train\"])\n",
    "val_data = SRData(data_path, in_var, lat_var, target_var, masks[\"val\"])"
   ]
  },
  {
   "cell_type": "code",
   "execution_count": 4,
   "id": "2c103b15",
   "metadata": {},
   "outputs": [],
   "source": [
    "fun_path = \"funs/F00_v2.lib\"\n",
    "disc_data = SDData(fun_path, in_var, train_data.in_data)"
   ]
  },
  {
   "cell_type": "code",
   "execution_count": 5,
   "id": "8e466f60",
   "metadata": {},
   "outputs": [
    {
     "data": {
      "application/vnd.jupyter.widget-view+json": {
       "model_id": "b9cec5ca8a3c4e6a9a342aa1462ce6dc",
       "version_major": 2,
       "version_minor": 0
      },
      "text/plain": [
       "Canvas(toolbar=Toolbar(toolitems=[('Home', 'Reset original view', 'home', 'home'), ('Back', 'Back to previous …"
      ]
     },
     "metadata": {},
     "output_type": "display_data"
    }
   ],
   "source": [
    "fig, ax = plt.subplots()\n",
    "\n",
    "for i in range(disc_data.fun_data.shape[0]):\n",
    "    ax.plot(disc_data.fun_data[i,:], label=disc_data.funs[i])\n",
    "    \n",
    "ax.legend()\n",
    "plt.show()"
   ]
  },
  {
   "cell_type": "markdown",
   "id": "39c2dfc7",
   "metadata": {},
   "source": [
    "How do latent feature activations look in comparison?"
   ]
  },
  {
   "cell_type": "code",
   "execution_count": 13,
   "id": "fa083fcc",
   "metadata": {},
   "outputs": [],
   "source": [
    "model_name = \"srnet_model_F00_v2_bn_mask_sd_study_v11\"\n",
    "model_path = \"models\"\n",
    "model_ext = \".pkl\"\n",
    "\n",
    "model = ut.load_model(model_name + model_ext, model_path, SRNet)\n",
    "\n",
    "with torch.no_grad():\n",
    "    preds, acts = model(train_data.in_data, get_lat=True)\n",
    "    \n",
    "all_nodes = ut.get_node_order(acts, show=False)"
   ]
  },
  {
   "cell_type": "code",
   "execution_count": 10,
   "id": "81ce966a",
   "metadata": {},
   "outputs": [],
   "source": [
    "x_data = train_data.in_data[:,0]\n",
    "y_data = train_data.in_data[:,1]\n",
    "\n",
    "corr_data = [\n",
    "    (\"x**2\", x_data**2), \n",
    "    (\"y**2\", y_data**2), \n",
    "    (\"cos(x)\", np.cos(x_data)), \n",
    "    (\"cos(y)\", np.cos(y_data)), \n",
    "    (\"x*y\", x_data * y_data),\n",
    "]"
   ]
  },
  {
   "cell_type": "code",
   "execution_count": 11,
   "id": "88342119",
   "metadata": {},
   "outputs": [
    {
     "name": "stdout",
     "output_type": "stream",
     "text": [
      "\n",
      "Node 0\n",
      "corr(n0, x**2): 0.9997\n",
      "corr(n0, y**2): 0.0161\n",
      "corr(n0, cos(x)): -0.9573\n",
      "corr(n0, cos(y)): -0.0175\n",
      "corr(n0, x*y): 0.1751\n",
      "\n",
      "Node 1\n",
      "corr(n1, x**2): 0.0138\n",
      "corr(n1, y**2): 0.9988\n",
      "corr(n1, cos(x)): -0.0280\n",
      "corr(n1, cos(y)): -0.9688\n",
      "corr(n1, x*y): 0.0449\n",
      "\n",
      "Node 2\n",
      "corr(n2, x**2): 0.1615\n",
      "corr(n2, y**2): -0.0026\n",
      "corr(n2, cos(x)): -0.1379\n",
      "corr(n2, cos(y)): -0.0149\n",
      "corr(n2, x*y): 0.9976\n"
     ]
    }
   ],
   "source": [
    "ut.node_correlations(acts, all_nodes, corr_data);"
   ]
  },
  {
   "cell_type": "code",
   "execution_count": 15,
   "id": "b119d025",
   "metadata": {},
   "outputs": [
    {
     "data": {
      "application/vnd.jupyter.widget-view+json": {
       "model_id": "fc9c0d77d5624fc2832a092f2fb9559f",
       "version_major": 2,
       "version_minor": 0
      },
      "text/plain": [
       "Canvas(toolbar=Toolbar(toolitems=[('Home', 'Reset original view', 'home', 'home'), ('Back', 'Back to previous …"
      ]
     },
     "metadata": {},
     "output_type": "display_data"
    }
   ],
   "source": [
    "fig, ax = plt.subplots()\n",
    "\n",
    "i = 3\n",
    "ax.plot(disc_data.fun_data[i,:], label=disc_data.funs[i])\n",
    "\n",
    "i = 1\n",
    "ax.plot(disc_data.fun_data[i,:], label=disc_data.funs[i])\n",
    "    \n",
    "j = 1\n",
    "ax.plot(acts[:,j], label=j)\n",
    "    \n",
    "ax.legend()\n",
    "plt.show()"
   ]
  },
  {
   "cell_type": "code",
   "execution_count": 17,
   "id": "a9358bb7",
   "metadata": {},
   "outputs": [
    {
     "data": {
      "application/vnd.jupyter.widget-view+json": {
       "model_id": "16fb04b041f04a069851d7cc8209bed8",
       "version_major": 2,
       "version_minor": 0
      },
      "text/plain": [
       "Canvas(toolbar=Toolbar(toolitems=[('Home', 'Reset original view', 'home', 'home'), ('Back', 'Back to previous …"
      ]
     },
     "metadata": {},
     "output_type": "display_data"
    }
   ],
   "source": [
    "fig, ax = plt.subplots()\n",
    "\n",
    "i = 0\n",
    "ax.plot(disc_data.fun_data[i,:], label=disc_data.funs[i])\n",
    "    \n",
    "j = 0\n",
    "ax.plot(acts[:,j], label=j)\n",
    "    \n",
    "ax.legend()\n",
    "plt.show()"
   ]
  },
  {
   "cell_type": "markdown",
   "id": "fed3b9f9",
   "metadata": {},
   "source": [
    "If we sort the 1D input:"
   ]
  },
  {
   "cell_type": "code",
   "execution_count": 19,
   "id": "ab668a92",
   "metadata": {},
   "outputs": [
    {
     "data": {
      "application/vnd.jupyter.widget-view+json": {
       "model_id": "156a8beee2e1405685c1bd28c8898392",
       "version_major": 2,
       "version_minor": 0
      },
      "text/plain": [
       "Canvas(toolbar=Toolbar(toolitems=[('Home', 'Reset original view', 'home', 'home'), ('Back', 'Back to previous …"
      ]
     },
     "metadata": {},
     "output_type": "display_data"
    }
   ],
   "source": [
    "fig, ax = plt.subplots()\n",
    "\n",
    "p_data = np.sort(y_data)\n",
    "\n",
    "ax.plot(p_data**2)\n",
    "    \n",
    "ax.plot(-np.cos(p_data))\n",
    "    \n",
    "plt.show()"
   ]
  },
  {
   "cell_type": "markdown",
   "id": "5c7cf75b",
   "metadata": {},
   "source": [
    "If we plot over the input data:"
   ]
  },
  {
   "cell_type": "code",
   "execution_count": 20,
   "id": "89dcb5ac",
   "metadata": {},
   "outputs": [
    {
     "data": {
      "application/vnd.jupyter.widget-view+json": {
       "model_id": "69786699483e4f71a4ddded09d66a528",
       "version_major": 2,
       "version_minor": 0
      },
      "text/plain": [
       "Canvas(toolbar=Toolbar(toolitems=[('Home', 'Reset original view', 'home', 'home'), ('Back', 'Back to previous …"
      ]
     },
     "metadata": {},
     "output_type": "display_data"
    }
   ],
   "source": [
    "fig, ax = plt.subplots()\n",
    "\n",
    "p_data = np.sort(y_data)\n",
    "\n",
    "ax.scatter(p_data, p_data**2)\n",
    "    \n",
    "ax.scatter(p_data, -np.cos(p_data))\n",
    "    \n",
    "plt.show()"
   ]
  },
  {
   "cell_type": "markdown",
   "id": "c96423db",
   "metadata": {},
   "source": [
    "### Step 10.2: Check SD training with embedded input feature information"
   ]
  },
  {
   "cell_type": "markdown",
   "id": "4b0519f0",
   "metadata": {},
   "source": [
    "How to set up gradient penalty correctly with additional embedded information?"
   ]
  },
  {
   "cell_type": "markdown",
   "id": "6eab865b",
   "metadata": {},
   "source": [
    "data_real.shape\n",
    "torch.Size([3, 700])\n",
    "data_fake.shape\n",
    "torch.Size([3, 700])\n",
    "gradients.shape\n",
    "Traceback (most recent call last):\n",
    "  File \"<string>\", line 1, in <module>\n",
    "NameError: name 'gradients' is not defined\n",
    "gradient.shape\n",
    "torch.Size([3, 700])\n",
    "pred.shape\n",
    "torch.Size([3, 1])\n",
    "interp.shape\n",
    "torch.Size([3, 700])\n",
    "alpha.shape\n",
    "torch.Size([3, 1])\n",
    "(gradient.norm(2, dim=1) - 1).pow(2).mean()\n",
    "tensor(0.7922, grad_fn=<MeanBackward0>)\n",
    "(gradient.norm(2, dim=1) - 1).pow(2).mean().item()\n",
    "0.7922002673149109\n",
    "    \n",
    "0.7922002673149109"
   ]
  },
  {
   "cell_type": "markdown",
   "id": "0434eaae",
   "metadata": {},
   "source": [
    "This should work now, what are the runtimes?\n",
    "\n",
    "No embedding, no loop:\n",
    "00:28<00:00, 34.93it/s, train_loss=1.87, val_loss=3.02\n",
    "Total training loss: 2.774e+00\n",
    "Total validation loss: 3.018e+00\n",
    "\n",
    "No embedding, squeeze:\n",
    "00:26<00:00, 37.40it/s, train_loss=1.87, val_loss=3.02\n",
    "Total training loss: 2.774e+00\n",
    "Total validation loss: 3.018e+00\n",
    "\n",
    "No embedding, reshape:\n",
    "00:26<00:00, 37.14it/s, train_loss=1.87, val_loss=3.02\n",
    "Total training loss: 2.774e+00\n",
    "Total validation loss: 3.018e+00\n",
    "\n",
    "No embedding, loop:\n",
    "00:30<00:00, 32.38it/s, train_loss=1.87, val_loss=3.02\n",
    "Total training loss: 2.775e+00\n",
    "Total validation loss: 3.020e+00\n",
    "\n",
    "\n",
    "---\n",
    "\n",
    "No embedding, no loop, 0 * gp:\n",
    "00:27<00:00, 36.85it/s, train_loss=1.74, val_loss=3.11\n",
    "Total training loss: 2.851e+00\n",
    "Total validation loss: 3.112e+00\n",
    "\n",
    "No embedding, squeeze, 0 * gp:\n",
    "00:29<00:00, 34.26it/s, train_loss=1.74, val_loss=3.11\n",
    "Total training loss: 2.851e+00\n",
    "Total validation loss: 3.112e+00\n",
    "\n",
    "\n",
    "No embedding, loop, 0 * gp:\n",
    "00:33<00:00, 30.01it/s, train_loss=1.79, val_loss=3.13\n",
    "Total training loss: 2.861e+00\n",
    "Total validation loss: 3.126e+00\n",
    "\n",
    "---\n",
    "\n",
    "No embedding, no loop, no gp:\n",
    "00:19<00:00, 50.06it/s, train_loss=3.15, val_loss=2.93\n",
    "Total training loss: 2.713e+00\n",
    "Total validation loss: 2.926e+00\n",
    "\n",
    "No embedding, squeeze, no gp:\n",
    "00:21<00:00, 46.37it/s, train_loss=3.15, val_loss=2.93\n",
    "Total training loss: 2.713e+00\n",
    "Total validation loss: 2.926e+00\n",
    "\n",
    "No embedding, loop, no gp:\n",
    "00:21<00:00, 47.30it/s, train_loss=3.15, val_loss=2.93\n",
    "Total training loss: 2.712e+00\n",
    "Total validation loss: 2.926e+00\n",
    "\n",
    "---\n",
    "\n",
    "No embedding, reshape:\n",
    "01:54<00:00,  8.77it/s, train_loss=1.00, val_loss=5.17\n",
    "Total training loss: 4.114e+00\n",
    "Total validation loss: 5.170e+00\n",
    "\n",
    "No embedding, loop:\n",
    "02:13<00:00,  7.48it/s, train_loss=2.02, val_loss=5.18\n",
    "Total training loss: 4.118e+00\n",
    "Total validation loss: 5.178e+00"
   ]
  },
  {
   "cell_type": "code",
   "execution_count": null,
   "id": "86fe0531",
   "metadata": {},
   "outputs": [],
   "source": []
  },
  {
   "cell_type": "markdown",
   "id": "cdfc05a2",
   "metadata": {},
   "source": [
    "run for longer\n",
    "\n",
    "increase library:\n",
    "\n",
    "* Resample `F00_v2` coefficients\n",
    "\n",
    "* All simple two input functions\n",
    "\n",
    "(Train restarting from trained DSN)\n",
    "\n",
    "Train with GhostAdam"
   ]
  },
  {
   "cell_type": "markdown",
   "id": "5c26021c",
   "metadata": {},
   "source": [
    "* Resample input data\n",
    "\n",
    "* Resample coefficients of library functions\n",
    "\n",
    "* Ensure long epoch convergence\n",
    "\n",
    "* **Input data \"noise\"**\n",
    "\n",
    "* Resolve bottleneck\n",
    "\n",
    "* Input data dimension\n",
    "\n",
    "* Change complexity of $g(x)$\n",
    "\n",
    "* Change $f(x)$"
   ]
  }
 ],
 "metadata": {
  "kernelspec": {
   "display_name": "Python 3 (ipykernel)",
   "language": "python",
   "name": "python3"
  },
  "language_info": {
   "codemirror_mode": {
    "name": "ipython",
    "version": 3
   },
   "file_extension": ".py",
   "mimetype": "text/x-python",
   "name": "python",
   "nbconvert_exporter": "python",
   "pygments_lexer": "ipython3",
   "version": "3.8.3"
  },
  "toc": {
   "base_numbering": 1,
   "nav_menu": {},
   "number_sections": false,
   "sideBar": true,
   "skip_h1_title": true,
   "title_cell": "Table of Contents",
   "title_sidebar": "Contents",
   "toc_cell": false,
   "toc_position": {},
   "toc_section_display": true,
   "toc_window_display": false
  }
 },
 "nbformat": 4,
 "nbformat_minor": 5
}
