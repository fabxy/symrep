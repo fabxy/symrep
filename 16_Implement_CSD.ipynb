{
 "cells": [
  {
   "cell_type": "markdown",
   "id": "8cc127b3",
   "metadata": {},
   "source": [
    "# 2022 Flatiron Machine Learning x Science Summer School\n",
    "\n",
    "## Step 16: Implement convolutional symbolic discriminator"
   ]
  },
  {
   "cell_type": "markdown",
   "id": "3c2543a4",
   "metadata": {},
   "source": [
    "* Define input data on a grid `X11`\n",
    "\n",
    "* Function library `F11_v1`\n",
    "\n",
    "* Implement CNN SD (check https://production-media.paperswithcode.com/methods/vgg_7mT4DML.png)"
   ]
  },
  {
   "cell_type": "code",
   "execution_count": 1,
   "id": "6f2c2a16",
   "metadata": {},
   "outputs": [],
   "source": [
    "%matplotlib widget\n",
    "%load_ext autoreload\n",
    "%autoreload 2\n",
    "\n",
    "import os\n",
    "import numpy as np\n",
    "import matplotlib.pyplot as plt\n",
    "import joblib\n",
    "\n",
    "import torch\n",
    "import torch.nn as nn\n",
    "import wandb\n",
    "\n",
    "from srnet import SRNet, SRData\n",
    "from sdnet import SDNet, SDData\n",
    "from csdnet import CSDNet\n",
    "import srnet_utils as ut"
   ]
  },
  {
   "cell_type": "markdown",
   "id": "69fff6f0",
   "metadata": {},
   "source": [
    "### Step 16.1: Define input data on grid\n",
    "\n",
    "* Input data range: -3 to 3 is similar to N(0,1) samples\n",
    "\n",
    "* No mask as grid structure is required\n",
    "\n",
    "* Create `F11_v1.lib`"
   ]
  },
  {
   "cell_type": "code",
   "execution_count": 2,
   "id": "cd636d5f",
   "metadata": {},
   "outputs": [],
   "source": [
    "np.random.seed(0)"
   ]
  },
  {
   "cell_type": "code",
   "execution_count": 3,
   "id": "f7110b85",
   "metadata": {},
   "outputs": [],
   "source": [
    "x_min = -3\n",
    "x_max = 3\n",
    "\n",
    "data_size = 700\n",
    "data_name = \"X11\"\n",
    "\n",
    "data = np.linspace(x_min, x_max, data_size, endpoint=False)"
   ]
  },
  {
   "cell_type": "code",
   "execution_count": 4,
   "id": "4b581861",
   "metadata": {},
   "outputs": [],
   "source": [
    "data_path = \"data_1k\"\n",
    "data_ext = \".gz\"\n",
    "update = False\n",
    "\n",
    "# create data folder\n",
    "os.makedirs(data_path, exist_ok=True)\n",
    "\n",
    "# save input data\n",
    "if update or data_name + data_ext not in os.listdir(data_path):\n",
    "    np.savetxt(os.path.join(data_path, data_name + data_ext), data)\n",
    "    print(f\"Saved {data_name} data.\")"
   ]
  },
  {
   "cell_type": "code",
   "execution_count": 5,
   "id": "2503fa89",
   "metadata": {},
   "outputs": [],
   "source": [
    "# load data\n",
    "data_path = \"data_1k\"\n",
    "in_var = \"X11\"\n",
    "lat_var = None\n",
    "target_var = None\n",
    "\n",
    "# mask_ext = \".mask\"\n",
    "# masks = joblib.load(os.path.join(data_path, in_var + mask_ext))\n",
    "\n",
    "train_data = SRData(data_path, in_var, data_mask=None)"
   ]
  },
  {
   "cell_type": "code",
   "execution_count": 6,
   "id": "4ef250fe",
   "metadata": {},
   "outputs": [],
   "source": [
    "# load function library\n",
    "fun_path = \"funs/F11_v1.lib\"\n",
    "shuffle = True\n",
    "iter_sample = False\n",
    "disc_data = SDData(fun_path, in_var, shuffle=shuffle, iter_sample=iter_sample)"
   ]
  },
  {
   "cell_type": "code",
   "execution_count": 7,
   "id": "6681979d",
   "metadata": {},
   "outputs": [],
   "source": [
    "hp = {\n",
    "    \"arch\": {\n",
    "        \"in_size\": 1,\n",
    "        \"out_size\": 1,\n",
    "        \"hid_num\": (2,0),\n",
    "        \"hid_size\": 32, \n",
    "        \"hid_type\": (\"MLP\", \"MLP\"),\n",
    "        \"hid_kwargs\": {\n",
    "            \"alpha\": None,\n",
    "            \"norm\": None,\n",
    "            \"prune\": None,\n",
    "            },\n",
    "        \"lat_size\": 1,\n",
    "    },\n",
    "}"
   ]
  },
  {
   "cell_type": "code",
   "execution_count": 8,
   "id": "1a4dd725",
   "metadata": {},
   "outputs": [
    {
     "data": {
      "application/vnd.jupyter.widget-view+json": {
       "model_id": "92f8d43561834c7bb4fa639e5575c35a",
       "version_major": 2,
       "version_minor": 0
      },
      "text/plain": [
       "Canvas(toolbar=Toolbar(toolitems=[('Home', 'Reset original view', 'home', 'home'), ('Back', 'Back to previous …"
      ]
     },
     "metadata": {},
     "output_type": "display_data"
    }
   ],
   "source": [
    "fig, ax = plt.subplots()\n",
    "\n",
    "num_samp = 10\n",
    "colors = plt.rcParams['axes.prop_cycle'].by_key()['color']\n",
    "\n",
    "for _ in range(num_samp):\n",
    "        \n",
    "    ax.plot(disc_data.get(1, train_data.in_data)[0,0,:,0], color=colors[0], alpha=0.5)\n",
    "    \n",
    "    model = SRNet(**hp['arch'])\n",
    "    with torch.no_grad():\n",
    "        preds, acts = model(train_data.in_data, get_lat=True)\n",
    "    \n",
    "    ax.plot(acts[:,0], color=colors[1], alpha=0.5)\n",
    "    \n",
    "plt.show()"
   ]
  },
  {
   "cell_type": "code",
   "execution_count": 9,
   "id": "b5d69b9f",
   "metadata": {},
   "outputs": [
    {
     "data": {
      "application/vnd.jupyter.widget-view+json": {
       "model_id": "80ba0ee579404741b92b6eafbc2eced4",
       "version_major": 2,
       "version_minor": 0
      },
      "text/plain": [
       "Canvas(toolbar=Toolbar(toolitems=[('Home', 'Reset original view', 'home', 'home'), ('Back', 'Back to previous …"
      ]
     },
     "metadata": {},
     "output_type": "display_data"
    }
   ],
   "source": [
    "fig, ax = plt.subplots()\n",
    "\n",
    "num_samp = 10\n",
    "colors = plt.rcParams['axes.prop_cycle'].by_key()['color']\n",
    "\n",
    "for _ in range(num_samp):\n",
    "    \n",
    "    ax.scatter(train_data.in_data[:,0], disc_data.get(1, train_data.in_data)[0,0,:,0], color=colors[0], alpha=0.5)\n",
    "    \n",
    "    model = SRNet(**hp['arch'])\n",
    "    with torch.no_grad():\n",
    "        preds, acts = model(train_data.in_data, get_lat=True)\n",
    "    \n",
    "    ax.scatter(train_data.in_data[:,0], acts[:,0], color=colors[1], alpha=0.5)\n",
    "    \n",
    "plt.show()"
   ]
  },
  {
   "cell_type": "markdown",
   "id": "d6f3c24d",
   "metadata": {},
   "source": [
    "Comparison to `X10`:"
   ]
  },
  {
   "cell_type": "code",
   "execution_count": 10,
   "id": "0e60240f",
   "metadata": {},
   "outputs": [],
   "source": [
    "# load data\n",
    "data_path = \"data_1k\"\n",
    "in_var = \"X10\"\n",
    "lat_var = None\n",
    "target_var = None\n",
    "\n",
    "mask_ext = \".mask\"\n",
    "masks = joblib.load(os.path.join(data_path, in_var + mask_ext))\n",
    "\n",
    "train_data10 = SRData(data_path, in_var, data_mask=masks['train'])"
   ]
  },
  {
   "cell_type": "code",
   "execution_count": 11,
   "id": "4d8b1ff8",
   "metadata": {},
   "outputs": [],
   "source": [
    "train_data10.in_data = train_data10.in_data[:,:1]"
   ]
  },
  {
   "cell_type": "code",
   "execution_count": 12,
   "id": "bd87edd2",
   "metadata": {},
   "outputs": [
    {
     "data": {
      "text/plain": [
       "torch.Size([700, 1])"
      ]
     },
     "execution_count": 12,
     "metadata": {},
     "output_type": "execute_result"
    }
   ],
   "source": [
    "train_data10.in_data.shape"
   ]
  },
  {
   "cell_type": "code",
   "execution_count": 13,
   "id": "74cd9fa2",
   "metadata": {},
   "outputs": [
    {
     "data": {
      "text/plain": [
       "tensor(-3.3096)"
      ]
     },
     "execution_count": 13,
     "metadata": {},
     "output_type": "execute_result"
    }
   ],
   "source": [
    "train_data10.in_data.min()"
   ]
  },
  {
   "cell_type": "code",
   "execution_count": 14,
   "id": "ceb27a3d",
   "metadata": {},
   "outputs": [
    {
     "data": {
      "text/plain": [
       "tensor(2.9148)"
      ]
     },
     "execution_count": 14,
     "metadata": {},
     "output_type": "execute_result"
    }
   ],
   "source": [
    "train_data10.in_data.max()"
   ]
  },
  {
   "cell_type": "code",
   "execution_count": 15,
   "id": "3d73a51e",
   "metadata": {},
   "outputs": [
    {
     "data": {
      "text/plain": [
       "tensor(0.0395)"
      ]
     },
     "execution_count": 15,
     "metadata": {},
     "output_type": "execute_result"
    }
   ],
   "source": [
    "train_data10.in_data.mean()"
   ]
  },
  {
   "cell_type": "code",
   "execution_count": 16,
   "id": "736bf726",
   "metadata": {},
   "outputs": [
    {
     "data": {
      "text/plain": [
       "tensor(0.9967)"
      ]
     },
     "execution_count": 16,
     "metadata": {},
     "output_type": "execute_result"
    }
   ],
   "source": [
    "train_data10.in_data.std()"
   ]
  },
  {
   "cell_type": "code",
   "execution_count": 17,
   "id": "a3261278",
   "metadata": {},
   "outputs": [
    {
     "data": {
      "text/plain": [
       "torch.Size([700, 1])"
      ]
     },
     "execution_count": 17,
     "metadata": {},
     "output_type": "execute_result"
    }
   ],
   "source": [
    "train_data.in_data.shape"
   ]
  },
  {
   "cell_type": "code",
   "execution_count": 18,
   "id": "5398e5ad",
   "metadata": {},
   "outputs": [
    {
     "data": {
      "text/plain": [
       "tensor(-3.)"
      ]
     },
     "execution_count": 18,
     "metadata": {},
     "output_type": "execute_result"
    }
   ],
   "source": [
    "train_data.in_data.min()"
   ]
  },
  {
   "cell_type": "code",
   "execution_count": 19,
   "id": "d03b4015",
   "metadata": {},
   "outputs": [
    {
     "data": {
      "text/plain": [
       "tensor(2.9914)"
      ]
     },
     "execution_count": 19,
     "metadata": {},
     "output_type": "execute_result"
    }
   ],
   "source": [
    "train_data.in_data.max()"
   ]
  },
  {
   "cell_type": "code",
   "execution_count": 20,
   "id": "0d8422bf",
   "metadata": {},
   "outputs": [
    {
     "data": {
      "text/plain": [
       "tensor(-0.0043)"
      ]
     },
     "execution_count": 20,
     "metadata": {},
     "output_type": "execute_result"
    }
   ],
   "source": [
    "train_data.in_data.mean()"
   ]
  },
  {
   "cell_type": "code",
   "execution_count": 21,
   "id": "27e47930",
   "metadata": {},
   "outputs": [
    {
     "data": {
      "text/plain": [
       "tensor(1.7333)"
      ]
     },
     "execution_count": 21,
     "metadata": {},
     "output_type": "execute_result"
    }
   ],
   "source": [
    "train_data.in_data.std()"
   ]
  },
  {
   "cell_type": "code",
   "execution_count": 22,
   "id": "70cb8723",
   "metadata": {},
   "outputs": [],
   "source": [
    "in_var = \"X11\""
   ]
  },
  {
   "cell_type": "code",
   "execution_count": 23,
   "id": "b89cd968",
   "metadata": {},
   "outputs": [
    {
     "data": {
      "application/vnd.jupyter.widget-view+json": {
       "model_id": "4a1e5b38e3d34313baafe7d185dfe71b",
       "version_major": 2,
       "version_minor": 0
      },
      "text/plain": [
       "Canvas(toolbar=Toolbar(toolitems=[('Home', 'Reset original view', 'home', 'home'), ('Back', 'Back to previous …"
      ]
     },
     "metadata": {},
     "output_type": "display_data"
    }
   ],
   "source": [
    "fig, ax = plt.subplots()\n",
    "\n",
    "num_samp = 5\n",
    "colors = plt.rcParams['axes.prop_cycle'].by_key()['color']\n",
    "\n",
    "for _ in range(num_samp):\n",
    "    \n",
    "    x_data = train_data10.in_data\n",
    "    ax.scatter(x_data[:,0], disc_data.get(1, x_data)[0,0,:,0], color=colors[0], alpha=0.5)\n",
    "    \n",
    "    model = SRNet(**hp['arch'])\n",
    "    with torch.no_grad():\n",
    "        preds, acts = model(x_data, get_lat=True)\n",
    "    \n",
    "    ax.scatter(x_data[:,0], acts[:,0], color=colors[1], alpha=0.5)\n",
    "    \n",
    "    x_data = train_data.in_data\n",
    "    ax.scatter(x_data[:,0], disc_data.get(1, x_data)[0,0,:,0], color=colors[2], alpha=0.5)\n",
    "    \n",
    "    model = SRNet(**hp['arch'])\n",
    "    with torch.no_grad():\n",
    "        preds, acts = model(x_data, get_lat=True)\n",
    "    \n",
    "    ax.scatter(x_data[:,0], acts[:,0], color=colors[3], alpha=0.5)\n",
    "    \n",
    "plt.show()"
   ]
  },
  {
   "cell_type": "code",
   "execution_count": 24,
   "id": "dd7be1cb",
   "metadata": {},
   "outputs": [
    {
     "data": {
      "application/vnd.jupyter.widget-view+json": {
       "model_id": "f96f9bf8d0194ef69ff8cd8d11882557",
       "version_major": 2,
       "version_minor": 0
      },
      "text/plain": [
       "Canvas(toolbar=Toolbar(toolitems=[('Home', 'Reset original view', 'home', 'home'), ('Back', 'Back to previous …"
      ]
     },
     "metadata": {},
     "output_type": "display_data"
    }
   ],
   "source": [
    "fig, ax = plt.subplots()\n",
    "\n",
    "ax.hist(train_data10.in_data[:,0].numpy(), 50, density=True, facecolor='g', alpha=0.5)\n",
    "ax.hist(train_data.in_data[:,0].numpy(), 50, density=True, facecolor='y', alpha=0.5)\n",
    "\n",
    "plt.show()"
   ]
  },
  {
   "cell_type": "markdown",
   "id": "76c3164b",
   "metadata": {},
   "source": [
    "Check gradient calculation:"
   ]
  },
  {
   "cell_type": "code",
   "execution_count": 25,
   "id": "f71d04a7",
   "metadata": {},
   "outputs": [],
   "source": [
    "x_data = train_data.in_data"
   ]
  },
  {
   "cell_type": "code",
   "execution_count": 26,
   "id": "7c259208",
   "metadata": {},
   "outputs": [],
   "source": [
    "model = SRNet(**hp['arch'])\n",
    "with torch.no_grad():\n",
    "    preds, acts = model(x_data, get_lat=True)"
   ]
  },
  {
   "cell_type": "code",
   "execution_count": 27,
   "id": "bf1e3a6a",
   "metadata": {},
   "outputs": [],
   "source": [
    "grads = model.jacobian(x_data, get_lat=True).transpose(0,1)"
   ]
  },
  {
   "cell_type": "code",
   "execution_count": 28,
   "id": "912c8129",
   "metadata": {
    "scrolled": false
   },
   "outputs": [
    {
     "data": {
      "application/vnd.jupyter.widget-view+json": {
       "model_id": "324d727bcbcb48639cc1a5f8f046a26b",
       "version_major": 2,
       "version_minor": 0
      },
      "text/plain": [
       "Canvas(toolbar=Toolbar(toolitems=[('Home', 'Reset original view', 'home', 'home'), ('Back', 'Back to previous …"
      ]
     },
     "metadata": {},
     "output_type": "display_data"
    }
   ],
   "source": [
    "fig, ax = plt.subplots()\n",
    "\n",
    "dx = 0.1\n",
    "grad_idx = [100, 200, 300, 400, 500, 600]\n",
    "\n",
    "ax.scatter(x_data[:,0], acts[:,0])\n",
    "\n",
    "for idx in grad_idx:\n",
    "    xl = x_data[idx,0] - dx\n",
    "    xh = x_data[idx,0] + dx\n",
    "    yl = acts[idx,0] - dx * grads[0,idx,0]\n",
    "    yh = acts[idx,0] + dx * grads[0,idx,0]\n",
    "\n",
    "    ax.scatter([x_data[idx,0].item()], [acts[idx,0].item()], color='k')\n",
    "    ax.plot([xl, xh], [yl, yh], 'k')\n",
    "\n",
    "plt.show()"
   ]
  },
  {
   "cell_type": "markdown",
   "id": "0098a5fd",
   "metadata": {},
   "source": [
    "### Step 16.2: Embed gradient data in SD\n",
    "\n",
    "Note: Here, input data is still 1000 (instead of 700) data points uniformly spaced between -3 and 3."
   ]
  },
  {
   "cell_type": "code",
   "execution_count": 29,
   "id": "7679b3d1",
   "metadata": {},
   "outputs": [],
   "source": [
    "# set wandb project\n",
    "wandb_project = \"162-ext2-study-F11_v1\""
   ]
  },
  {
   "cell_type": "code",
   "execution_count": 30,
   "id": "528c299d",
   "metadata": {},
   "outputs": [],
   "source": [
    "# hyperparams = {\n",
    "#     \"arch\": {\n",
    "#         \"in_size\": train_data.in_data.shape[1],\n",
    "#         \"out_size\": 1,\n",
    "#         \"hid_num\": (2,0),\n",
    "#         \"hid_size\": 32, \n",
    "#         \"hid_type\": (\"MLP\", \"MLP\"),\n",
    "#         \"hid_kwargs\": {\n",
    "#             \"alpha\": None,\n",
    "#             \"norm\": None,\n",
    "#             \"prune\": None,\n",
    "#             },\n",
    "#         \"lat_size\": 3,\n",
    "#     },\n",
    "#     \"epochs\": 100000,\n",
    "#     \"runtime\": None,\n",
    "#     \"batch_size\": train_data.in_data.shape[0],\n",
    "#     \"ext\": [\"grad\"],\n",
    "#     \"ext_type\": \"embed\",\n",
    "#     \"ext_size\": 1,\n",
    "#     \"disc\": {\n",
    "#         \"hid_num\": 2,\n",
    "#         \"hid_size\": 64,\n",
    "#         \"lr\": 1e-4,\n",
    "#         \"wd\": 1e-7,\n",
    "#         \"betas\": (0.9,0.999),\n",
    "#         \"iters\": 5,\n",
    "#         \"gp\": 1e-5,\n",
    "#     },\n",
    "# }"
   ]
  },
  {
   "cell_type": "code",
   "execution_count": 31,
   "id": "eed17d2c",
   "metadata": {},
   "outputs": [],
   "source": [
    "# define hyperparameter study\n",
    "hp_study = {\n",
    "    \"method\": \"random\",\n",
    "    \"parameters\": {\n",
    "        \"arch\": {\n",
    "            \"parameters\": {\n",
    "                \"in_size\": {\n",
    "                    \"values\": [1]\n",
    "                },\n",
    "                \"out_size\": {\n",
    "                    \"values\": [1]\n",
    "                },\n",
    "                \"hid_num\": {\n",
    "                    \"values\": [(2,0)]\n",
    "                },\n",
    "                \"hid_size\": {\n",
    "                    \"values\": [32]\n",
    "                },\n",
    "                \"lat_size\": {\n",
    "                    \"values\": [1, 3, 5]\n",
    "                },\n",
    "            }\n",
    "        },\n",
    "        \"disc\": {\n",
    "            \"parameters\": {\n",
    "                \"hid_num\": {\n",
    "                    \"values\": [(2,2), (2,4), (2,8)]\n",
    "                },\n",
    "                \"hid_size\": {\n",
    "                    \"values\": [(64,64), (64,128), (64,256), (64,512)]\n",
    "                },\n",
    "                \"lr\": {\n",
    "                    \"values\": [1e-5, 1e-4, 1e-3]\n",
    "                },\n",
    "                \"iters\": {\n",
    "                    \"values\": [1, 3, 5]\n",
    "                },\n",
    "                \"gp\": {\n",
    "                    \"values\": [1e-6, 1e-5, 1e-4]\n",
    "                },\n",
    "            }\n",
    "        }\n",
    "    }\n",
    "}"
   ]
  },
  {
   "cell_type": "code",
   "execution_count": null,
   "id": "91fd7bcd",
   "metadata": {},
   "outputs": [],
   "source": [
    "# create sweep\n",
    "sweep_id = wandb.sweep(hp_study, project=wandb_project)"
   ]
  },
  {
   "cell_type": "markdown",
   "id": "72d5a6f4",
   "metadata": {},
   "source": [
    "<img src=\"results/162-ext2-study-F11_v1_conv.png\">"
   ]
  },
  {
   "cell_type": "markdown",
   "id": "c51d8670",
   "metadata": {},
   "source": [
    "**Sanity check**:\n",
    "\n",
    "Let's select the hyperparameters of the best `155-ext2-study-F10_v1` run:\n",
    "\n",
    "* 700 N(0,1) data points works\n",
    "\n",
    "\n",
    "* 700 N(0,1) sorted data points works\n",
    "\n",
    "\n",
    "* 1000 N(0,1) unmasked data points works\n",
    "\n",
    "\n",
    "* 100 N(0,1) unmasked data points works\n",
    "\n",
    "\n",
    "* 1000 \\[-3,3) grid points not working\n",
    "\n",
    "\n",
    "* 700 \\[-3,3) grid points not working\n",
    "\n",
    "\n",
    "* 100 \\[-3,3) grid points not working\n",
    "\n",
    "\n",
    "* 10000 \\[-3,3) grid points not working\n",
    "\n",
    "\n",
    "* 700 \\[-1,1) grid points not working\n",
    "\n",
    "\n",
    "* 100 \\[-2,2) grid points saved as `X10` not working"
   ]
  },
  {
   "cell_type": "markdown",
   "id": "f0c3558a",
   "metadata": {},
   "source": [
    "### Step 16.3: Compare input data distributions"
   ]
  },
  {
   "cell_type": "markdown",
   "id": "bfafc410",
   "metadata": {},
   "source": [
    "At what point between normally distributed and uniformly spaced input data does the previous approach of embedding gradients starts failing?"
   ]
  },
  {
   "cell_type": "code",
   "execution_count": 32,
   "id": "ad5c606c",
   "metadata": {},
   "outputs": [],
   "source": [
    "sample_size = 1000000\n",
    "data_size = 700\n",
    "\n",
    "in_min = -3\n",
    "in_max = 3\n",
    "\n",
    "stds = [1, 1.25, 2, 3, 10]"
   ]
  },
  {
   "cell_type": "code",
   "execution_count": 33,
   "id": "98c36cc3",
   "metadata": {},
   "outputs": [
    {
     "name": "stdout",
     "output_type": "stream",
     "text": [
      "Standard deviation: 1\n",
      "  Number of points in -3 to 3 range: 997331\n",
      "  Number of selected points: 700\n",
      "Standard deviation: 1.25\n",
      "  Number of points in -3 to 3 range: 983847\n",
      "  Number of selected points: 700\n",
      "Standard deviation: 2\n",
      "  Number of points in -3 to 3 range: 865855\n",
      "  Number of selected points: 700\n",
      "Standard deviation: 3\n",
      "  Number of points in -3 to 3 range: 682837\n",
      "  Number of selected points: 700\n",
      "Standard deviation: 10\n",
      "  Number of points in -3 to 3 range: 236018\n",
      "  Number of selected points: 700\n"
     ]
    }
   ],
   "source": [
    "in_dict = {}\n",
    "\n",
    "for std in stds:\n",
    "    print(f\"Standard deviation: {std}\")\n",
    "    \n",
    "    # sample points\n",
    "    in_data = np.random.normal(loc=0, scale=std, size=(sample_size))\n",
    "    print(f\"  Number of points in {in_min} to {in_max} range: {in_data[(in_min <= in_data) & (in_data <= in_max)].shape[0]}\")\n",
    "    \n",
    "    # select range\n",
    "    in_dict[std] = in_data[(in_min <= in_data) & (in_data <= in_max)]\n",
    "    \n",
    "    # reduce size\n",
    "    in_dict[std] = np.sort(in_dict[std])[::(len(in_dict[std])//data_size)][:data_size]\n",
    "    print(f\"  Number of selected points: {in_dict[std].shape[0]}\")"
   ]
  },
  {
   "cell_type": "code",
   "execution_count": 34,
   "id": "63a01724",
   "metadata": {},
   "outputs": [
    {
     "data": {
      "application/vnd.jupyter.widget-view+json": {
       "model_id": "9240f0bf24574118a825e83e59f775a9",
       "version_major": 2,
       "version_minor": 0
      },
      "text/plain": [
       "Canvas(toolbar=Toolbar(toolitems=[('Home', 'Reset original view', 'home', 'home'), ('Back', 'Back to previous …"
      ]
     },
     "metadata": {},
     "output_type": "display_data"
    }
   ],
   "source": [
    "fig, ax = plt.subplots()\n",
    "\n",
    "for std in in_dict:\n",
    "    \n",
    "    in_data = in_dict[std]\n",
    "    \n",
    "    ax.hist(in_data, 50, density=True, alpha=0.5)\n",
    "\n",
    "plt.show()"
   ]
  },
  {
   "cell_type": "code",
   "execution_count": 35,
   "id": "0f4e4105",
   "metadata": {},
   "outputs": [],
   "source": [
    "data_path = \"data_1k\"\n",
    "data_ext = \".gz\"\n",
    "update = False\n",
    "\n",
    "# create data folder\n",
    "os.makedirs(data_path, exist_ok=True)\n",
    "\n",
    "# save input data\n",
    "for std in in_dict:\n",
    "    data_name = f\"X11_std{int(std*100):04d}\"\n",
    "    if update or data_name + data_ext not in os.listdir(data_path):\n",
    "        np.savetxt(os.path.join(data_path, data_name + data_ext), in_dict[std])\n",
    "        print(f\"Saved {data_name} data.\")"
   ]
  },
  {
   "cell_type": "markdown",
   "id": "44ce7685",
   "metadata": {},
   "source": [
    "<img src=\"results/163-input-check-F11_v1_conv.png\">"
   ]
  },
  {
   "cell_type": "markdown",
   "id": "8332dfc6",
   "metadata": {},
   "source": [
    "### 16.4: Compare standard classifiers\n",
    "\n",
    "Training on 10 different instantiations of a fixed dataset of size 1000 using 100 N(0,1) input data:\n",
    "\n",
    "```\n",
    "SD : 0.616+-0.054\n",
    "MLP: 0.933+-0.008\n",
    "KNN: 0.823+-0.006\n",
    "SVC: 0.708+-0.015\n",
    "GP : 0.746+-0.012\n",
    "DT : 1.000+-0.000\n",
    "RF : 1.000+-0.000\n",
    "ADA: 0.693+-0.012\n",
    "GNB: 0.526+-0.014\n",
    "QDA: 0.888+-0.011\n",
    "```\n",
    "\n",
    "The performance of the `SD` in comparison to standard `sklearn` classifiers is terrible.\n",
    "\n",
    "How does changing from N(0,1) to \\[-3,3) impact the results?\n",
    "\n",
    "Training on 10 different instantiations of a fixed dataset of size 1000 using 100 \\[-3,3) input data:\n",
    "\n",
    "```\n",
    "SD: 0.707+-0.033\n",
    "MLP: 0.960+-0.007\n",
    "KNN: 0.865+-0.004\n",
    "SVC: 0.792+-0.010\n",
    "GP : 0.837+-0.008\n",
    "DT : 1.000+-0.000\n",
    "RF : 1.000+-0.000\n",
    "ADA: 0.754+-0.013\n",
    "GNB: 0.571+-0.009\n",
    "QDA: 0.996+-0.003\n",
    "```\n",
    "\n",
    "In this setting (fixed dataset, input size 100), training on uniformly distributed input data seems to be beneficial."
   ]
  },
  {
   "cell_type": "markdown",
   "id": "3ecb9dd2",
   "metadata": {},
   "source": [
    "### 16.5: Analyze loss components and gradients\n",
    "\n",
    "Anyway, more importantly, how is there such a big difference in performance between `SD` and `MLP`?\n",
    "\n",
    "`SD`:\n",
    "\n",
    "* 1000 epochs with 5 iterations per epoch\n",
    "\n",
    "* 2 hidden layers with 64 nodes\n",
    "\n",
    "* Adam optimizer with `1e-3` learning rate (no weight decay)\n",
    "\n",
    "* Batch size: 1000\n",
    "\n",
    "* WGANs objective: minimizing fake data, maximizing real data\n",
    "\n",
    "* No gradient penalty\n",
    "\n",
    "`MLP`: (`sklearn` default settings)\n",
    "\n",
    "* 200 epochs\n",
    "\n",
    "* 1 hidden layer with 100 nodes\n",
    "\n",
    "* Adam optimizer with `1e-3` learning rate (with 1e-4 weight decay)\n",
    "\n",
    "* Batch size: 200 with shuffling\n",
    "\n",
    "* Log-loss objective\n",
    "\n",
    "Well, the difference can only really result from the objective function, right?\n",
    "\n",
    "Let's try changing the `SD` to a log-loss objective:\n",
    "\n",
    "`X10_100`: Epoch: 100%|█████| 10000/10000 [01:17<00:00, 129.23it/s, acc=0.90, avg_acc=0.95]\n",
    "\n",
    "`X11_100`: Epoch: 100%|█████| 10000/10000 [01:18<00:00, 126.96it/s, acc=0.90, avg_acc=0.98]\n",
    "\n",
    "What's the reason that the WGAN objective is not working?\n",
    "\n",
    "Let's analyze the propagated gradients on `X10_100`:"
   ]
  },
  {
   "cell_type": "code",
   "execution_count": 36,
   "id": "6c612581",
   "metadata": {},
   "outputs": [
    {
     "data": {
      "application/vnd.jupyter.widget-view+json": {
       "model_id": "4e505f164d184068a87830e58c7d6998",
       "version_major": 2,
       "version_minor": 0
      },
      "text/plain": [
       "Canvas(toolbar=Toolbar(toolitems=[('Home', 'Reset original view', 'home', 'home'), ('Back', 'Back to previous …"
      ]
     },
     "metadata": {},
     "output_type": "display_data"
    }
   ],
   "source": [
    "ut.plot_disc_accuracies(\"disc_model_F11_v1_grad_check_\", \"models\", excl_names=[], avg_hor=500, uncertainty=False);"
   ]
  },
  {
   "cell_type": "markdown",
   "id": "7a3ee3ad",
   "metadata": {},
   "source": [
    "Low `gp` values:"
   ]
  },
  {
   "cell_type": "code",
   "execution_count": 37,
   "id": "01a91b3a",
   "metadata": {},
   "outputs": [
    {
     "data": {
      "application/vnd.jupyter.widget-view+json": {
       "model_id": "b83333cab5594127a2e94be4ea610922",
       "version_major": 2,
       "version_minor": 0
      },
      "text/plain": [
       "Canvas(toolbar=Toolbar(toolitems=[('Home', 'Reset original view', 'home', 'home'), ('Back', 'Back to previous …"
      ]
     },
     "metadata": {},
     "output_type": "display_data"
    }
   ],
   "source": [
    "ut.plot_disc_losses(\"disc_model_F11_v1_grad_check_\", \"models\", excl_names=[\"1e0\", \"1e1\", \"1e2\"], avg_hor=50, uncertainty=False, summation=False);"
   ]
  },
  {
   "cell_type": "code",
   "execution_count": 38,
   "id": "c4e4732d",
   "metadata": {},
   "outputs": [
    {
     "data": {
      "application/vnd.jupyter.widget-view+json": {
       "model_id": "7f96d0d7d11f4d2eaba6cdc9abda3c5c",
       "version_major": 2,
       "version_minor": 0
      },
      "text/plain": [
       "Canvas(toolbar=Toolbar(toolitems=[('Home', 'Reset original view', 'home', 'home'), ('Back', 'Back to previous …"
      ]
     },
     "metadata": {},
     "output_type": "display_data"
    }
   ],
   "source": [
    "ut.plot_disc_gradients(\"disc_model_F11_v1_grad_check_\", \"models\", excl_names=[\"1e0\", \"1e1\", \"1e2\"], avg_hor=50, uncertainty=False);"
   ]
  },
  {
   "cell_type": "markdown",
   "id": "e65d0ff2",
   "metadata": {},
   "source": [
    "High `gp` values:"
   ]
  },
  {
   "cell_type": "code",
   "execution_count": 39,
   "id": "148faba1",
   "metadata": {},
   "outputs": [
    {
     "data": {
      "application/vnd.jupyter.widget-view+json": {
       "model_id": "593218e53a204db2b642e5351a4cf72f",
       "version_major": 2,
       "version_minor": 0
      },
      "text/plain": [
       "Canvas(toolbar=Toolbar(toolitems=[('Home', 'Reset original view', 'home', 'home'), ('Back', 'Back to previous …"
      ]
     },
     "metadata": {},
     "output_type": "display_data"
    }
   ],
   "source": [
    "ut.plot_disc_losses(\"disc_model_F11_v1_grad_check_\", \"models\", excl_names=[\"0e0\", \"1e-2\", \"1e-4\"], avg_hor=50, uncertainty=False, summation=False);"
   ]
  },
  {
   "cell_type": "code",
   "execution_count": 40,
   "id": "8e822e8b",
   "metadata": {},
   "outputs": [
    {
     "data": {
      "application/vnd.jupyter.widget-view+json": {
       "model_id": "d62952d4d5984ab298bef0f2dd60aedc",
       "version_major": 2,
       "version_minor": 0
      },
      "text/plain": [
       "Canvas(toolbar=Toolbar(toolitems=[('Home', 'Reset original view', 'home', 'home'), ('Back', 'Back to previous …"
      ]
     },
     "metadata": {},
     "output_type": "display_data"
    }
   ],
   "source": [
    "ut.plot_disc_gradients(\"disc_model_F11_v1_grad_check_\", \"models\", excl_names=[\"0e0\", \"1e-2\", \"1e-4\"], avg_hor=50, uncertainty=False);"
   ]
  },
  {
   "cell_type": "markdown",
   "id": "1f9594d6",
   "metadata": {},
   "source": [
    "No WGANs please!\n",
    "\n",
    "What is the performance when including gradients or convolution on `X11`?\n",
    "\n",
    "`none`: Epoch: 100%|██████| 10000/10000 \\[02:00<00:00, 83.16it/s, acc=1.00, avg_acc=0.99\\]\n",
    "\n",
    "`stack`: Epoch: 100%|██████| 10000/10000 \\[02:32<00:00, 65.58it/s, acc=1.00, avg_acc=1.00\\]\n",
    "\n",
    "`embed`: Epoch: 100%|██████| 10000/10000 \\[08:12<00:00, 20.32it/s, acc=1.00, avg_acc=1.00\\]\n",
    "\n",
    "`conv`: Epoch: 100%|██████| 10000/10000 \\[09:33<00:00, 17.42it/s, acc=1.00, avg_acc=0.97\\]"
   ]
  },
  {
   "cell_type": "code",
   "execution_count": 41,
   "id": "a08597b6",
   "metadata": {},
   "outputs": [
    {
     "data": {
      "application/vnd.jupyter.widget-view+json": {
       "model_id": "a3c118348d5e472b9121ba428c110b74",
       "version_major": 2,
       "version_minor": 0
      },
      "text/plain": [
       "Canvas(toolbar=Toolbar(toolitems=[('Home', 'Reset original view', 'home', 'home'), ('Back', 'Back to previous …"
      ]
     },
     "metadata": {},
     "output_type": "display_data"
    }
   ],
   "source": [
    "ut.plot_disc_accuracies(\"disc_model_F11_v1_grad_check2\", \"models\", excl_names=[], avg_hor=50, uncertainty=False);"
   ]
  },
  {
   "cell_type": "markdown",
   "id": "1c769f8b",
   "metadata": {},
   "source": [
    "* All approaches trained on `X11` with an infinite function library `F11_v1` achieve nearly 100% accuracy with the binary cross entropy loss (actually `BCEWithLogitsLoss`, i.e. sigmoid and `BCELoss`)\n",
    "\n",
    "* Including gradient information to the discriminator speeds up convergence significantly and embedding appears to be slightly more effective than stacking (although stacking trains at 4x epochs per second)\n",
    "\n",
    "* The convolutional symbolic discriminator (CSD) appears to not be more effective than the regular SD. However, we literally tested a single architecture and set of hyperparameters\n",
    "\n",
    "* Identifying a better CSD architecture and set of hyperparameters might be more insightful on a more difficult use case\n",
    "\n",
    "Let's train the standard SD until convergence and utilize it to regularize `DSN`."
   ]
  },
  {
   "cell_type": "code",
   "execution_count": 42,
   "id": "367bf02b",
   "metadata": {},
   "outputs": [
    {
     "data": {
      "application/vnd.jupyter.widget-view+json": {
       "model_id": "b785c6d641134e078de570e9fe2797dc",
       "version_major": 2,
       "version_minor": 0
      },
      "text/plain": [
       "Canvas(toolbar=Toolbar(toolitems=[('Home', 'Reset original view', 'home', 'home'), ('Back', 'Back to previous …"
      ]
     },
     "metadata": {},
     "output_type": "display_data"
    }
   ],
   "source": [
    "ut.plot_disc_accuracies(\"disc_model_F11_v1_fixed_BCE\", \"models\", excl_names=[], avg_hor=50, uncertainty=True);"
   ]
  }
 ],
 "metadata": {
  "kernelspec": {
   "display_name": "Python 3 (ipykernel)",
   "language": "python",
   "name": "python3"
  },
  "language_info": {
   "codemirror_mode": {
    "name": "ipython",
    "version": 3
   },
   "file_extension": ".py",
   "mimetype": "text/x-python",
   "name": "python",
   "nbconvert_exporter": "python",
   "pygments_lexer": "ipython3",
   "version": "3.8.3"
  },
  "toc": {
   "base_numbering": 1,
   "nav_menu": {},
   "number_sections": false,
   "sideBar": true,
   "skip_h1_title": true,
   "title_cell": "Table of Contents",
   "title_sidebar": "Contents",
   "toc_cell": false,
   "toc_position": {},
   "toc_section_display": true,
   "toc_window_display": false
  }
 },
 "nbformat": 4,
 "nbformat_minor": 5
}
