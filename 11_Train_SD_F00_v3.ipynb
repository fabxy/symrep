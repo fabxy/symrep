{
 "cells": [
  {
   "cell_type": "markdown",
   "id": "9e64ff52",
   "metadata": {},
   "source": [
    "# 2022 Flatiron Machine Learning x Science Summer School\n",
    "\n",
    "## Step 11: Train symbolic discriminator with extended library"
   ]
  },
  {
   "cell_type": "markdown",
   "id": "cfcba11e",
   "metadata": {},
   "source": [
    "Symbol pool:\n",
    "\n",
    "* Input symbols: $x_0$, $x_1$\n",
    "\n",
    "* Mathematical operators: $\\times$, $\\text{sin}$, $\\text{cos}$\n",
    "\n",
    "Let's explore some possible real functions."
   ]
  },
  {
   "cell_type": "code",
   "execution_count": 2,
   "id": "fd96e271",
   "metadata": {},
   "outputs": [
    {
     "name": "stdout",
     "output_type": "stream",
     "text": [
      "The autoreload extension is already loaded. To reload it, use:\n",
      "  %reload_ext autoreload\n"
     ]
    }
   ],
   "source": [
    "%matplotlib widget\n",
    "%load_ext autoreload\n",
    "%autoreload 2\n",
    "\n",
    "import os\n",
    "import numpy as np\n",
    "import matplotlib.pyplot as plt\n",
    "import joblib\n",
    "\n",
    "import torch\n",
    "import wandb\n",
    "\n",
    "from srnet import SRNet, SRData\n",
    "from sdnet import SDData\n",
    "import srnet_utils as ut"
   ]
  },
  {
   "cell_type": "code",
   "execution_count": 3,
   "id": "bd28beff",
   "metadata": {},
   "outputs": [],
   "source": [
    "# load data\n",
    "data_path = \"data_1k\"\n",
    "\n",
    "in_var = \"X00\"\n",
    "lat_var = \"G00\"\n",
    "target_var = \"F00\"\n",
    "\n",
    "mask_ext = \".mask\"\n",
    "masks = joblib.load(os.path.join(data_path, in_var + mask_ext))\n",
    "\n",
    "train_data = SRData(data_path, in_var, lat_var, target_var, masks[\"train\"])\n",
    "val_data = SRData(data_path, in_var, lat_var, target_var, masks[\"val\"])"
   ]
  },
  {
   "cell_type": "code",
   "execution_count": 4,
   "id": "7fd62e02",
   "metadata": {},
   "outputs": [],
   "source": [
    "x_data = train_data.in_data[:,0]\n",
    "y_data = train_data.in_data[:,1]"
   ]
  },
  {
   "cell_type": "code",
   "execution_count": 5,
   "id": "7c32e173",
   "metadata": {},
   "outputs": [
    {
     "data": {
      "application/vnd.jupyter.widget-view+json": {
       "model_id": "2d9e8723f98b4fb7bc12bd8b7831ffbc",
       "version_major": 2,
       "version_minor": 0
      },
      "text/plain": [
       "Canvas(toolbar=Toolbar(toolitems=[('Home', 'Reset original view', 'home', 'home'), ('Back', 'Back to previous …"
      ]
     },
     "metadata": {},
     "output_type": "display_data"
    }
   ],
   "source": [
    "fig, ax = plt.subplots()\n",
    "\n",
    "ax.scatter(x_data, x_data**2)\n",
    "ax.scatter(x_data, x_data**3)\n",
    "ax.scatter(x_data, x_data**4)\n",
    "ax.scatter(x_data, x_data**5)\n",
    "\n",
    "plt.show()"
   ]
  },
  {
   "cell_type": "code",
   "execution_count": 6,
   "id": "17c670a0",
   "metadata": {},
   "outputs": [
    {
     "data": {
      "application/vnd.jupyter.widget-view+json": {
       "model_id": "eeca908362e845adb5c435ffa6987f9b",
       "version_major": 2,
       "version_minor": 0
      },
      "text/plain": [
       "Canvas(toolbar=Toolbar(toolitems=[('Home', 'Reset original view', 'home', 'home'), ('Back', 'Back to previous …"
      ]
     },
     "metadata": {},
     "output_type": "display_data"
    }
   ],
   "source": [
    "fig, ax = plt.subplots()\n",
    "\n",
    "ax.scatter(x_data, np.sin(x_data))\n",
    "#ax.scatter(x_data, np.sin(x_data**2))\n",
    "ax.scatter(x_data, np.cos(x_data))\n",
    "#ax.scatter(x_data, np.cos(x_data**2))\n",
    "\n",
    "plt.show()"
   ]
  },
  {
   "cell_type": "code",
   "execution_count": 7,
   "id": "ed17a447",
   "metadata": {},
   "outputs": [
    {
     "data": {
      "application/vnd.jupyter.widget-view+json": {
       "model_id": "656d2773bb02439ea092ab5bd884976c",
       "version_major": 2,
       "version_minor": 0
      },
      "text/plain": [
       "Canvas(toolbar=Toolbar(toolitems=[('Home', 'Reset original view', 'home', 'home'), ('Back', 'Back to previous …"
      ]
     },
     "metadata": {},
     "output_type": "display_data"
    }
   ],
   "source": [
    "fig, ax = plt.subplots()\n",
    "\n",
    "ax.scatter(x_data, x_data * np.sin(x_data))\n",
    "ax.scatter(x_data, x_data * np.cos(x_data))\n",
    "ax.scatter(x_data, x_data**3)\n",
    "\n",
    "plt.show()"
   ]
  },
  {
   "cell_type": "code",
   "execution_count": 8,
   "id": "2c61abaa",
   "metadata": {},
   "outputs": [
    {
     "data": {
      "application/vnd.jupyter.widget-view+json": {
       "model_id": "058deccb46d747df91377bb50ccec4bb",
       "version_major": 2,
       "version_minor": 0
      },
      "text/plain": [
       "Canvas(toolbar=Toolbar(toolitems=[('Home', 'Reset original view', 'home', 'home'), ('Back', 'Back to previous …"
      ]
     },
     "metadata": {},
     "output_type": "display_data"
    }
   ],
   "source": [
    "_ = plt.figure()\n",
    "ax = plt.axes(projection='3d')\n",
    "\n",
    "ax.scatter3D(x_data, y_data, x_data*y_data)\n",
    "ax.scatter3D(x_data, y_data, x_data**2*y_data)\n",
    "# ax.scatter3D(x_data, y_data, x_data*np.cos(y_data))\n",
    "\n",
    "plt.show()"
   ]
  },
  {
   "cell_type": "markdown",
   "id": "0be4a929",
   "metadata": {},
   "source": [
    "### Step 11.2: Train bottleneck masked DSN with SD regularization on `F00_v3`\n",
    "\n",
    "Extension of the SD library to version 3:\n",
    "\n",
    "```\n",
    "X00[:,0]**2\n",
    "X00[:,1]**2\n",
    "X00[:,0]**3\n",
    "X00[:,1]**3\n",
    "np.sin(X00[:,0])\n",
    "np.sin(X00[:,1])\n",
    "np.cos(X00[:,0])\n",
    "np.cos(X00[:,1])\n",
    "X00[:,0] * X00[:,1]\n",
    "```"
   ]
  },
  {
   "cell_type": "code",
   "execution_count": 9,
   "id": "11ed5615",
   "metadata": {},
   "outputs": [],
   "source": [
    "# set wandb project\n",
    "wandb_project = \"112-bn-mask-DSN-sd-study-F00_v3\""
   ]
  },
  {
   "cell_type": "code",
   "execution_count": 10,
   "id": "9e2d1cd5",
   "metadata": {},
   "outputs": [],
   "source": [
    "# hyperparams = {\n",
    "#     \"arch\": {\n",
    "#         \"in_size\": train_data.in_data.shape[1],\n",
    "#         \"out_size\": train_data.target_data.shape[1],\n",
    "#         \"hid_num\": (2,0),\n",
    "#         \"hid_size\": 32, \n",
    "#         \"hid_type\": (\"DSN\", \"MLP\"),\n",
    "#         \"hid_kwargs\": {\n",
    "#             \"alpha\": [[1,0],[0,1],[1,1]],\n",
    "#             \"norm\": None,\n",
    "#             \"prune\": None,\n",
    "#             },\n",
    "#         \"lat_size\": 3,\n",
    "#         },\n",
    "#     \"epochs\": 30000,\n",
    "#     \"runtime\": None,\n",
    "#     \"batch_size\": train_data.in_data.shape[0],\n",
    "#     \"shuffle\": False,\n",
    "#     \"lr\": 1e-4,\n",
    "#     \"wd\": 1e-4,\n",
    "#     \"l1\": 0.0,\n",
    "#     \"a1\": 0.0,\n",
    "#     \"a2\": 0.0,\n",
    "#     \"e1\": 0.0,\n",
    "#     \"e2\": 0.0,\n",
    "#     \"gc\": 0.0,\n",
    "#     \"sd\": 1e-4,\n",
    "#     \"disc\": {\n",
    "#         \"hid_num\": 2,\n",
    "#         \"hid_size\": 128,\n",
    "#         \"lr\": 1e-4,\n",
    "#         \"wd\": 1e-4,\n",
    "#         \"iters\": 5,\n",
    "#         \"gp\": 1e-4,\n",
    "#     },\n",
    "# }"
   ]
  },
  {
   "cell_type": "code",
   "execution_count": 11,
   "id": "9ce8dfc8",
   "metadata": {},
   "outputs": [],
   "source": [
    "# define hyperparameter study\n",
    "hp_study = {\n",
    "    \"method\": \"random\",\n",
    "    \"parameters\": {\n",
    "        \"sd\": {\n",
    "            \"values\": [1e-7, 1e-6, 1e-5, 1e-4]\n",
    "        },\n",
    "        \"disc\": {\n",
    "            \"parameters\": {\n",
    "                \"hid_num\": {\n",
    "                    \"values\": [4, 6, 8]\n",
    "                },\n",
    "                \"hid_size\": {\n",
    "                    \"values\": [128, 256, 512]\n",
    "                },\n",
    "                \"lr\": {\n",
    "                    \"values\": [1e-5, 1e-4, 1e-3, 1e-2]\n",
    "                },\n",
    "                \"iters\": {\n",
    "                    \"values\": [1, 5, 10]\n",
    "                },\n",
    "                \"gp\": {\n",
    "                    \"values\": [1e-5, 1e-4, 1e-3]\n",
    "                },\n",
    "            }\n",
    "        }\n",
    "    }\n",
    "}"
   ]
  },
  {
   "cell_type": "code",
   "execution_count": null,
   "id": "aafce32b",
   "metadata": {},
   "outputs": [],
   "source": [
    "# create sweep\n",
    "sweep_id = wandb.sweep(hp_study, project=wandb_project)"
   ]
  },
  {
   "cell_type": "markdown",
   "id": "945b9845",
   "metadata": {},
   "source": [
    "<img src=\"results/112-bn-mask-DSN-sd-study-F00_v3.png\">"
   ]
  },
  {
   "cell_type": "markdown",
   "id": "242c97da",
   "metadata": {},
   "source": [
    "With the increased real function library we are not able to learn high correlation latent features.\n",
    "\n",
    "What are possible options to progress?\n",
    "\n",
    "* Embed additional information (input data, derivative, curvature)\n",
    "\n",
    "* Train for more epochs\n",
    "\n",
    "* Increase input data range\n",
    "\n",
    "* Resample input data\n",
    "\n",
    "* Resample coefficients of library functions\n",
    "\n",
    "* Restart from trained DSN\n",
    "\n",
    "* Activate SD regularization only after X epochs\n",
    "\n",
    "* Select library functions depending on the number of input features\n",
    "\n",
    "* Train with GhostAdam"
   ]
  },
  {
   "cell_type": "markdown",
   "id": "fe7c3b54",
   "metadata": {},
   "source": [
    "General next steps:\n",
    "\n",
    "* Input data \"noise\"\n",
    "\n",
    "* Resolve bottleneck\n",
    "\n",
    "* Input data dimension\n",
    "\n",
    "* Change complexity of $f(x)$"
   ]
  }
 ],
 "metadata": {
  "kernelspec": {
   "display_name": "Python 3 (ipykernel)",
   "language": "python",
   "name": "python3"
  },
  "language_info": {
   "codemirror_mode": {
    "name": "ipython",
    "version": 3
   },
   "file_extension": ".py",
   "mimetype": "text/x-python",
   "name": "python",
   "nbconvert_exporter": "python",
   "pygments_lexer": "ipython3",
   "version": "3.8.3"
  },
  "toc": {
   "base_numbering": 1,
   "nav_menu": {},
   "number_sections": false,
   "sideBar": true,
   "skip_h1_title": true,
   "title_cell": "Table of Contents",
   "title_sidebar": "Contents",
   "toc_cell": false,
   "toc_position": {},
   "toc_section_display": true,
   "toc_window_display": false
  }
 },
 "nbformat": 4,
 "nbformat_minor": 5
}
