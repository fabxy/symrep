{
 "cells": [
  {
   "cell_type": "markdown",
   "metadata": {},
   "source": [
    "# 2022 Flatiron Machine Learning x Science Summer School\n",
    "\n",
    "## Step 3: Train plain MLP\n",
    "\n",
    "In this step, we train plain multilayer perceptrons (MLP) to approximate the generic data of the various functions $f \\circ g$ created in Step 1.\n",
    "\n",
    "We set up the training pipeline and explore hyperparameters."
   ]
  },
  {
   "cell_type": "markdown",
   "metadata": {},
   "source": [
    "### Step 3.1: Check convergence\n",
    "\n",
    "First, we define baseline hyperparameters and inspect the convergence of the resulting baseline models on the (so far) five datasets of generic data."
   ]
  },
  {
   "cell_type": "code",
   "execution_count": 57,
   "metadata": {},
   "outputs": [
    {
     "name": "stdout",
     "output_type": "stream",
     "text": [
      "The autoreload extension is already loaded. To reload it, use:\n",
      "  %reload_ext autoreload\n"
     ]
    }
   ],
   "source": [
    "%matplotlib widget\n",
    "%load_ext autoreload\n",
    "%autoreload 2\n",
    "\n",
    "import os\n",
    "import numpy as np\n",
    "import matplotlib.pyplot as plt\n",
    "import joblib\n",
    "\n",
    "import torch\n",
    "import wandb\n",
    "\n",
    "from srnet import SRNet, SRData\n",
    "import srnet_utils as ut"
   ]
  },
  {
   "cell_type": "code",
   "execution_count": 2,
   "metadata": {},
   "outputs": [],
   "source": [
    "# set wandb project\n",
    "wandb_project = \"31-check-convergence\""
   ]
  },
  {
   "cell_type": "code",
   "execution_count": 3,
   "metadata": {},
   "outputs": [],
   "source": [
    "# define hyperparameters\n",
    "# hyperparams = {\n",
    "#     \"arch\": {\n",
    "#         \"in_size\": train_data.in_data.shape[1],\n",
    "#         \"out_size\": train_data.target_data.shape[1],\n",
    "#         \"hid_num\": 2,\n",
    "#         \"hid_size\": 32, \n",
    "#         \"hid_type\": \"MLP\",\n",
    "#         \"lat_size\": 16,\n",
    "#         },\n",
    "#     \"epochs\": 10000,\n",
    "#     \"runtime\": None,\n",
    "#     \"batch_size\": 64,\n",
    "#     \"lr\": 1e-4,\n",
    "#     \"wd\": 1e-4,\n",
    "#     # \"l1\": 1e-4,\n",
    "#     \"shuffle\": True,\n",
    "# }"
   ]
  },
  {
   "cell_type": "code",
   "execution_count": 22,
   "metadata": {},
   "outputs": [
    {
     "name": "stdout",
     "output_type": "stream",
     "text": [
      "Downloading srnet_model_F04_conv.pkl.\n",
      "Downloading srnet_model_F02_conv.pkl.\n"
     ]
    }
   ],
   "source": [
    "# download data from wandb\n",
    "file_ext = \".pkl\"\n",
    "\n",
    "api = wandb.Api()\n",
    "\n",
    "runs = api.runs(wandb_project)\n",
    "for run in runs:\n",
    "    for f in run.files():\n",
    "        if f.name[-len(file_ext):] == file_ext and not os.path.isfile(f.name):\n",
    "            print(f\"Downloading {os.path.basename(f.name)}.\")\n",
    "            run.file(f.name).download()"
   ]
  },
  {
   "cell_type": "code",
   "execution_count": 24,
   "metadata": {},
   "outputs": [
    {
     "data": {
      "application/vnd.jupyter.widget-view+json": {
       "model_id": "083e880a8c7444a58af1cb50c05424d0",
       "version_major": 2,
       "version_minor": 0
      },
      "text/plain": [
       "Canvas(toolbar=Toolbar(toolitems=[('Home', 'Reset original view', 'home', 'home'), ('Back', 'Back to previous …"
      ]
     },
     "metadata": {},
     "output_type": "display_data"
    }
   ],
   "source": [
    "# plot losses\n",
    "ut.plot_losses(\"conv\", save_path=\"models\")"
   ]
  },
  {
   "cell_type": "markdown",
   "metadata": {},
   "source": [
    "Notes:\n",
    "\n",
    "* `F01` and `F05` seem well converged with a reasonable validation loss\n",
    "\n",
    "* `F02` has a significantly higher validation loss than `F01`, despite having the same underlying target function (however, `X01` and `X02` are different)\n",
    "\n",
    "* `F04` also has a significant validation loss that oscillates\n",
    "\n",
    "* `F03` shows a massive validation loss\n",
    "\n",
    "Analyzing the models for all datasets and optimizing their hyperparameters might be difficult. Let's start with `F01`.\n",
    "\n",
    "### Step 3.2: Analyze `F01` model\n",
    "\n",
    "Let's check how well the current model for `F01` performs."
   ]
  },
  {
   "cell_type": "code",
   "execution_count": 38,
   "metadata": {},
   "outputs": [],
   "source": [
    "# load data\n",
    "data_path = \"data\"\n",
    "\n",
    "in_var = \"X01\"\n",
    "lat_var = \"G01\"\n",
    "target_var = \"F01\"\n",
    "\n",
    "mask_ext = \".mask\"\n",
    "masks = joblib.load(os.path.join(data_path, in_var + mask_ext))     # TODO: create mask if file does not exist\n",
    "\n",
    "train_data = SRData(data_path, in_var, lat_var, target_var, masks[\"train\"])\n",
    "val_data = SRData(data_path, in_var, lat_var, target_var, masks[\"val\"])"
   ]
  },
  {
   "cell_type": "code",
   "execution_count": 30,
   "metadata": {},
   "outputs": [],
   "source": [
    "# load model\n",
    "model_name = \"srnet_model_F01_conv.pkl\"\n",
    "model_path = \"models\"\n",
    "\n",
    "model = ut.load_model(model_name, model_path, SRNet)"
   ]
  },
  {
   "cell_type": "code",
   "execution_count": 44,
   "metadata": {},
   "outputs": [],
   "source": [
    "# get predictions\n",
    "with torch.no_grad():\n",
    "    preds = model(train_data.in_data)"
   ]
  },
  {
   "cell_type": "code",
   "execution_count": 45,
   "metadata": {},
   "outputs": [],
   "source": [
    "# select plotting data\n",
    "x_data = train_data.in_data[:,0]\n",
    "y_data = train_data.in_data[:,1]\n",
    "z_data = [train_data.target_data, preds]\n",
    "plot_size = train_data.target_data.shape[0]"
   ]
  },
  {
   "cell_type": "code",
   "execution_count": 46,
   "metadata": {},
   "outputs": [
    {
     "data": {
      "application/vnd.jupyter.widget-view+json": {
       "model_id": "3d77a218a24c4194b68d8cbe938355f2",
       "version_major": 2,
       "version_minor": 0
      },
      "text/plain": [
       "Canvas(toolbar=Toolbar(toolitems=[('Home', 'Reset original view', 'home', 'home'), ('Back', 'Back to previous …"
      ]
     },
     "metadata": {},
     "output_type": "display_data"
    }
   ],
   "source": [
    "ut.plot_acts(x_data, y_data, z_data, plot_size=plot_size)"
   ]
  },
  {
   "cell_type": "markdown",
   "metadata": {},
   "source": [
    "The predictions on the training data seem to be good enough. What about the validation data?"
   ]
  },
  {
   "cell_type": "code",
   "execution_count": 47,
   "metadata": {},
   "outputs": [],
   "source": [
    "# get predictions\n",
    "with torch.no_grad():\n",
    "    preds = model(val_data.in_data)"
   ]
  },
  {
   "cell_type": "code",
   "execution_count": 48,
   "metadata": {},
   "outputs": [],
   "source": [
    "# select plotting data\n",
    "x_data = val_data.in_data[:,0]\n",
    "y_data = val_data.in_data[:,1]\n",
    "z_data = [val_data.target_data, preds]\n",
    "plot_size = val_data.target_data.shape[0]"
   ]
  },
  {
   "cell_type": "code",
   "execution_count": 49,
   "metadata": {},
   "outputs": [
    {
     "data": {
      "application/vnd.jupyter.widget-view+json": {
       "model_id": "afdb14f2d58a414ba049add1b10c5487",
       "version_major": 2,
       "version_minor": 0
      },
      "text/plain": [
       "Canvas(toolbar=Toolbar(toolitems=[('Home', 'Reset original view', 'home', 'home'), ('Back', 'Back to previous …"
      ]
     },
     "metadata": {},
     "output_type": "display_data"
    }
   ],
   "source": [
    "ut.plot_acts(x_data, y_data, z_data, plot_size=plot_size)"
   ]
  },
  {
   "cell_type": "markdown",
   "metadata": {},
   "source": [
    "Except for a few outliers at the edges, the validation data is also approximated accurately.\n",
    "\n",
    "**TODO**: Rerun the pipeline with a dataset size of 10,000.\n",
    "\n",
    "What do the **latent features** look like?"
   ]
  },
  {
   "cell_type": "code",
   "execution_count": 50,
   "metadata": {},
   "outputs": [],
   "source": [
    "# get predictions\n",
    "with torch.no_grad():\n",
    "    preds, acts = model(train_data.in_data, get_lat=True)"
   ]
  },
  {
   "cell_type": "code",
   "execution_count": 64,
   "metadata": {},
   "outputs": [
    {
     "name": "stdout",
     "output_type": "stream",
     "text": [
      "[0.442663, 0.3568648, 0.34265625, 0.31251407, 0.30543056, 0.285317, 0.26871365, 0.25194448, 0.20889138, 0.19993809, 0.18855587, 0.17806222, 0.17064506, 0.14985456, 0.1324731, 0.13221803]\n",
      "[3, 6, 10, 4, 15, 7, 5, 8, 2, 13, 12, 1, 9, 14, 11, 0]\n"
     ]
    }
   ],
   "source": [
    "# get latent feature variance\n",
    "all_nodes = ut.get_node_order(acts, show=True)"
   ]
  },
  {
   "cell_type": "code",
   "execution_count": 70,
   "metadata": {},
   "outputs": [],
   "source": [
    "nodes = all_nodes[:8]"
   ]
  },
  {
   "cell_type": "code",
   "execution_count": 71,
   "metadata": {},
   "outputs": [],
   "source": [
    "# select plotting data\n",
    "x_data = train_data.in_data[:,0]\n",
    "y_data = train_data.in_data[:,1]\n",
    "z_data = [\n",
    "    train_data.lat_data[:,0], \n",
    "    # x_data**2, \n",
    "    # np.cos(y_data), \n",
    "    # x_data * y_data,\n",
    "]\n",
    "plot_size = train_data.target_data.shape[0]"
   ]
  },
  {
   "cell_type": "code",
   "execution_count": 72,
   "metadata": {},
   "outputs": [
    {
     "data": {
      "application/vnd.jupyter.widget-view+json": {
       "model_id": "45f5192a85d0426db11f08529c51f32a",
       "version_major": 2,
       "version_minor": 0
      },
      "text/plain": [
       "Canvas(toolbar=Toolbar(toolitems=[('Home', 'Reset original view', 'home', 'home'), ('Back', 'Back to previous …"
      ]
     },
     "metadata": {},
     "output_type": "display_data"
    }
   ],
   "source": [
    "ut.plot_acts(x_data, y_data, z_data, model=model, acts=acts, nodes=nodes, plot_size=plot_size)"
   ]
  },
  {
   "cell_type": "markdown",
   "metadata": {},
   "source": [
    "How do we know that g is approximated by the first part and f by the second part of the network?"
   ]
  },
  {
   "cell_type": "markdown",
   "metadata": {},
   "source": [
    "### Step 3.X: Optimize hyperparameters for `F01`\n",
    "\n",
    "We investigate the effects of the following hyperparameters:\n",
    "\n",
    "* Architecture (`hid_num`, `hid_size`, `lat_size`)\n",
    "\n",
    "* Dataset size\n",
    "\n",
    "* Batch size\n",
    "\n",
    "* Learning rate\n",
    "\n",
    "* Weight decay"
   ]
  },
  {
   "cell_type": "markdown",
   "metadata": {},
   "source": [
    "Sweeps:\n",
    "```\n",
    "sweep_config = {\n",
    "    \"method\": \"random\"  # or grid or bayesian\n",
    "}\n",
    "\n",
    "metric = {\n",
    "    \"name\": \"loss\",\n",
    "    \"goal\": \"minimize\",\n",
    "}\n",
    "\n",
    "sweep_config[\"metric\"] = metric\n",
    "\n",
    "parameters_dict = {\n",
    "    \n",
    "    \"layer_size\": {\n",
    "        \"values\": [128, 256, 512],\n",
    "    }\n",
    "\n",
    "    \"learning_rate\": {\n",
    "        'distribution': 'uniform',      # q_log_uniform\n",
    "        'min': 0,\n",
    "        'max': 0.1,\n",
    "    }\n",
    "}\n",
    "\n",
    "sweep_config[\"parameters\"] = parameters_dict\n",
    "\n",
    "sweep_id = wandb.sweep(sweep_config, project=\"name\")\n",
    "\n",
    "wandb.agent(sweep_id, train, count=5)\n",
    "``` \n",
    "\n",
    "Are the results on `F04(X04)` accurate enough for reconstruction?"
   ]
  },
  {
   "cell_type": "markdown",
   "metadata": {},
   "source": [
    "Sweep:\n",
    "\n",
    "Initialize sweep via this notebook.\n",
    "\n",
    "Run sweep via this PC and Colab\n",
    "\n",
    "Analyze on wandb and here?"
   ]
  },
  {
   "cell_type": "code",
   "execution_count": null,
   "metadata": {},
   "outputs": [],
   "source": [
    "%matplotlib widget\n",
    "%load_ext autoreload\n",
    "%autoreload 2\n",
    "\n",
    "import os\n",
    "import numpy as np\n",
    "import joblib\n",
    "import matplotlib.pyplot as plt\n",
    "\n",
    "import torch\n",
    "from srnet import SRNet, SRData, run_training"
   ]
  },
  {
   "cell_type": "code",
   "execution_count": null,
   "metadata": {},
   "outputs": [],
   "source": [
    "hyperparams = {\n",
    "    \"arch\": {\n",
    "        \"in_size\": train_data.in_data.shape[1],\n",
    "        \"out_size\": train_data.target_data.shape[1],\n",
    "        \"hid_num\": 3,\n",
    "        \"hid_size\": 25, \n",
    "        \"hid_type\": \"MLP\",\n",
    "        \"lat_size\": 10,\n",
    "        },\n",
    "    \"epochs\": 10000,\n",
    "    \"runtime\": None,\n",
    "    \"batch_size\": 50,\n",
    "    \"lr\": 1e-4,                                                     # TODO: adaptive learning rate?\n",
    "    \"wd\": 1e-4,\n",
    "    # \"l1\": 1e-4,\n",
    "    \"shuffle\": True,\n",
    "}"
   ]
  },
  {
   "cell_type": "code",
   "execution_count": null,
   "metadata": {},
   "outputs": [],
   "source": [
    "sweep_config = {\n",
    "    \"method\": \"random\", # grid, bayesian\n",
    "    \"metric\": {\n",
    "        \"name\": \"val_loss\",\n",
    "        \"goal\": \"minimize\",\n",
    "    },\n",
    "    \"lr\": {\n",
    "        \"values\": [1e-3, 5e-4, 1e-4]\n",
    "    },\n",
    "    \"batch_size\": {\n",
    "        \"values\": [16, 32, 64]\n",
    "    },\n",
    "    \"hid_num1\": {\n",
    "        \"values\": [2, 4, 8]\n",
    "    },\n",
    "    \"hid_num2\": {\n",
    "        \"values\": [1, 2, 4]\n",
    "    },\n",
    "    \"hid_size\": {\n",
    "        \"values\": [32, 64, 128]\n",
    "    },\n",
    "}\n",
    "\n",
    "sweep_config[\"parameters\"] = parameters_dict\n",
    "\n",
    "sweep_id = wandb.sweep(sweep_config, project=\"name\")"
   ]
  },
  {
   "cell_type": "code",
   "execution_count": null,
   "metadata": {},
   "outputs": [],
   "source": [
    "# set device\n",
    "device = torch.device(\"cuda:0\" if torch.cuda.is_available() else \"cpu\")\n",
    "\n",
    "# load data\n",
    "data_path = \"data\"\n",
    "\n",
    "in_var = \"X04\"\n",
    "lat_var = None\n",
    "target_var = \"F04\"\n",
    "\n",
    "mask_ext = \".mask\"\n",
    "masks = joblib.load(os.path.join(data_path, in_var + mask_ext))     # TODO: create mask if file does not exist\n",
    "\n",
    "train_data = SRData(data_path, in_var, lat_var, target_var, masks[\"train\"], device=device)\n",
    "val_data = SRData(data_path, in_var, lat_var, target_var, masks[\"val\"], device=device)\n",
    "\n",
    "# define hyperparameters\n",
    "hyperparams = {\n",
    "    \"arch\": {\n",
    "        \"in_size\": train_data.in_data.shape[1],\n",
    "        \"out_size\": train_data.target_data.shape[1],\n",
    "        \"hid_num\": 3,\n",
    "        \"hid_size\": 25, \n",
    "        \"hid_type\": \"MLP\",\n",
    "        \"lat_size\": 10,\n",
    "        },\n",
    "    \"epochs\": 5000,\n",
    "    \"runtime\": None,\n",
    "    \"batch_size\": 50,\n",
    "    \"lr\": 1e-4,                                                     # TODO: adaptive learning rate?\n",
    "    \"wd\": 1e-4,\n",
    "    # \"l1\": 1e-4,\n",
    "    \"shuffle\": True,\n",
    "}\n",
    "\n",
    "res = run_training(SRNet, hyperparams, train_data, val_data, device=device)"
   ]
  },
  {
   "cell_type": "code",
   "execution_count": null,
   "metadata": {},
   "outputs": [],
   "source": [
    "_, ax = plt.subplots()\n",
    "\n",
    "# plot training loss\n",
    "lines = ax.plot(res['train_loss'])\n",
    "\n",
    "# plot validation loss\n",
    "ax.plot(res['val_loss'], '--', color=lines[-1].get_color())\n",
    "\n",
    "ax.set_xlabel(\"Epoch\")\n",
    "ax.set_ylabel(\"Loss\")\n",
    "plt.show()"
   ]
  },
  {
   "cell_type": "markdown",
   "metadata": {},
   "source": [
    "Running the training on a GPU is actually slower than on a CPU. (19.26it/s vs. 31.04it/s)\n",
    "\n",
    "`wandb.watch` slows down the training process\n",
    "\n",
    "`num_workers` also slows down the training process (7.38it/s vs. 17.88it/s for `num_workers=2`)\n",
    "\n",
    "Check:\n",
    "\n",
    "* `torch.backends.cudnn.benchmark` (for constant batch sizes)\n",
    "\n",
    "* `accelerate`\n",
    "\n",
    "* `lighting`"
   ]
  }
 ],
 "metadata": {
  "kernelspec": {
   "display_name": "Python 3 (ipykernel)",
   "language": "python",
   "name": "python3"
  },
  "language_info": {
   "codemirror_mode": {
    "name": "ipython",
    "version": 3
   },
   "file_extension": ".py",
   "mimetype": "text/x-python",
   "name": "python",
   "nbconvert_exporter": "python",
   "pygments_lexer": "ipython3",
   "version": "3.8.3"
  },
  "toc": {
   "base_numbering": 1,
   "nav_menu": {},
   "number_sections": false,
   "sideBar": true,
   "skip_h1_title": true,
   "title_cell": "Table of Contents",
   "title_sidebar": "Contents",
   "toc_cell": false,
   "toc_position": {},
   "toc_section_display": true,
   "toc_window_display": false
  },
  "vscode": {
   "interpreter": {
    "hash": "540f5367292c701f747780e6da702d3852f1c7c25c6067d18f36ab6562a2dcf2"
   }
  }
 },
 "nbformat": 4,
 "nbformat_minor": 2
}
