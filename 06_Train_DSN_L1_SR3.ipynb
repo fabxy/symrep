{
 "cells": [
  {
   "cell_type": "markdown",
   "id": "6c5e28e2",
   "metadata": {},
   "source": [
    "# 2022 Flatiron Machine Learning x Science Summer School\n",
    "\n",
    "## Step 6: Train DSN with $L_1$ regularization on latent features using GhostAdam"
   ]
  },
  {
   "cell_type": "markdown",
   "id": "ed9ea49d",
   "metadata": {},
   "source": [
    "Based on Sparse Relaxed Regularized Regression ([SR3](https://arxiv.org/abs/1807.05411)).\n",
    "\n",
    "[GhostAdam](https://github.com/MilesCranmer/sr3_sjnn) attempts to minimize prediction errors and regularization penalties separately. \n",
    "\n",
    "Questions:\n",
    "\n",
    "* For the DSN, do we consider $a_1$ and $a_2$ as one regularization penalty?\n",
    "\n",
    "Let's explore GhostAdam with simple sweeps."
   ]
  },
  {
   "cell_type": "markdown",
   "id": "6f30901e",
   "metadata": {},
   "source": [
    "READ GhostWrapper and GhostAdam!\n",
    "\n",
    "Sanity check: set requires grad to 0 \n",
    "\n",
    "Do we make sure that unregularized parameters are not effected by our trick?\n",
    "\n",
    "\n",
    "\n",
    "\n",
    "We need to make sure that ghost parameters change with live parameters:\n",
    "    Set differences to 0 and set p.ghost to p.live?\n",
    "    \n",
    "necessary?\n",
    "all_p.append(p.live.sum() * 0.0 + p.ghost.sum() * 0.0)\n",
    "\n",
    "\n",
    "is hack slowing us down?\n",
    "\n",
    "ghost L1 activation:\n",
    "13:28<00:00, 12.36it/s, train_loss=2.09e-06, val_loss=1.20e-03\n",
    "\n",
    "vs. regular L1 loss:\n",
    "09:43<00:00, 17.15it/s, train_loss=3.34e-04, val_loss=1.83e-03\n",
    "\n",
    "vs. no ghost L1 activation:\n",
    "09:08<00:00, 18.23it/s, train_loss=1.90e-03, val_loss=1.92e-03\n",
    "\n",
    "vs. ghost L1 activation via 0 loss:\n",
    "13:12<00:00, 12.63it/s, train_loss=2.09e-06, val_loss=1.20e-03\n",
    "\n",
    "\n",
    "Do we even want to create new GhostTuples all the time?\n",
    "\n",
    "py37: ghost_class\n",
    "01:36<00:00, 10.38it/s, train_loss=2.36e-04, val_loss=3.72e-03\n",
    "\n",
    "py38: ghost_class\n",
    "01:23<00:00, 11.92it/s, train_loss=2.36e-04, val_loss=3.72e-03\n",
    "\n",
    "py38: ghost_tuple\n",
    "01:25<00:00, 11.67it/s, train_loss=2.36e-04, val_loss=3.72e-03"
   ]
  },
  {
   "cell_type": "markdown",
   "id": "fb977e3d",
   "metadata": {},
   "source": [
    "### Step 6.1: Determine optimal ghost coefficient $g_c$"
   ]
  },
  {
   "cell_type": "code",
   "execution_count": 1,
   "id": "f72d1241",
   "metadata": {},
   "outputs": [],
   "source": [
    "%matplotlib widget\n",
    "%load_ext autoreload\n",
    "%autoreload 2\n",
    "\n",
    "import os\n",
    "import numpy as np\n",
    "import matplotlib.pyplot as plt\n",
    "import joblib\n",
    "\n",
    "import torch\n",
    "import wandb\n",
    "\n",
    "from srnet import SRNet, SRData\n",
    "import srnet_utils as ut"
   ]
  },
  {
   "cell_type": "code",
   "execution_count": 2,
   "id": "58e0538a",
   "metadata": {},
   "outputs": [],
   "source": [
    "# set wandb project\n",
    "wandb_project = \"61-l1-gc-study-F00\""
   ]
  },
  {
   "cell_type": "code",
   "execution_count": 3,
   "id": "1595d1b9",
   "metadata": {},
   "outputs": [],
   "source": [
    "# hyperparams = {\n",
    "#     \"arch\": {\n",
    "#         \"in_size\": train_data.in_data.shape[1],\n",
    "#         \"out_size\": train_data.target_data.shape[1],\n",
    "#         \"hid_num\": (2,0),\n",
    "#         \"hid_size\": 32, \n",
    "#         \"hid_type\": (\"DSN\", \"MLP\"),\n",
    "#         \"lat_size\": 16,\n",
    "#         },\n",
    "#     \"epochs\": 10000,\n",
    "#     \"runtime\": None,\n",
    "#     \"batch_size\": 64,\n",
    "#     \"lr\": 1e-4,\n",
    "#     \"wd\": 1e-4,\n",
    "#     \"l1\": 0.0,\n",
    "#     \"a1\": 0.0,\n",
    "#     \"a2\": 0.0,\n",
    "#     \"gc\": 0.0,\n",
    "#     \"shuffle\": True,\n",
    "# }\n",
    "\n",
    "# define hyperparameters\n",
    "# hyperparams = {\n",
    "#     \"arch\": {\n",
    "#         \"in_size\": train_data.in_data.shape[1],\n",
    "#         \"out_size\": train_data.target_data.shape[1],\n",
    "#         \"hid_num\": (2,0),\n",
    "#         \"hid_size\": 32, \n",
    "#         \"hid_type\": \"MLP\",\n",
    "#         \"lat_size\": 16,\n",
    "#         },\n",
    "#     \"epochs\": 10000,\n",
    "#     \"runtime\": None,\n",
    "#     \"batch_size\": 64,\n",
    "#     \"lr\": 1e-4,\n",
    "#     \"wd\": 1e-4,\n",
    "#     \"l1\": 0.0,\n",
    "#     \"shuffle\": True,\n",
    "# }"
   ]
  },
  {
   "cell_type": "code",
   "execution_count": 4,
   "id": "117a8518",
   "metadata": {},
   "outputs": [],
   "source": [
    "# define hyperparameter study\n",
    "hp_study = {\n",
    "    \"method\": \"grid\", # random, bayesian\n",
    "    #\"metric\": {\n",
    "    #    \"name\": \"val_loss\",\n",
    "    #    \"goal\": \"minimize\",\n",
    "    #},\n",
    "    \"parameters\": {\n",
    "        #\"l1\": {\n",
    "        #    \"values\": [1e-4, 1e-3, 1e-2]\n",
    "        #},\n",
    "        \"gc\": {\n",
    "            \"values\": [1e3, 1e2, 1e1, 1e0, 1e-1, 1e-2, 1e-3, 1e-4, 1e-5]\n",
    "        }\n",
    "    }\n",
    "}"
   ]
  },
  {
   "cell_type": "code",
   "execution_count": null,
   "id": "7f73ef9c",
   "metadata": {},
   "outputs": [],
   "source": [
    "# create sweep\n",
    "sweep_id = wandb.sweep(hp_study, project=wandb_project)"
   ]
  },
  {
   "cell_type": "code",
   "execution_count": null,
   "id": "0b74b87e",
   "metadata": {},
   "outputs": [],
   "source": [
    "# download data from wandb\n",
    "file_ext = \".pkl\"\n",
    "\n",
    "api = wandb.Api()\n",
    "\n",
    "runs = api.runs(wandb_project)\n",
    "for run in runs:\n",
    "    for f in run.files():\n",
    "        if f.name[-len(file_ext):] == file_ext and not os.path.isfile(f.name):\n",
    "            print(f\"Downloading {os.path.basename(f.name)}.\")\n",
    "            run.file(f.name).download()"
   ]
  },
  {
   "cell_type": "code",
   "execution_count": 6,
   "id": "422bfc70",
   "metadata": {},
   "outputs": [
    {
     "data": {
      "application/vnd.jupyter.widget-view+json": {
       "model_id": "7abe1a31e81449f9b4ada84cc9d307c6",
       "version_major": 2,
       "version_minor": 0
      },
      "text/plain": [
       "Canvas(toolbar=Toolbar(toolitems=[('Home', 'Reset original view', 'home', 'home'), ('Back', 'Back to previous …"
      ]
     },
     "metadata": {},
     "output_type": "display_data"
    }
   ],
   "source": [
    "# plot losses\n",
    "save_names = [\"F00_l1_1e-03_gc_1e\"]\n",
    "save_path = \"models\"\n",
    "model_names = ut.plot_losses(save_names, save_path=\"models\")"
   ]
  },
  {
   "cell_type": "code",
   "execution_count": 7,
   "id": "387c0fe2",
   "metadata": {},
   "outputs": [
    {
     "name": "stdout",
     "output_type": "stream",
     "text": [
      "1e-05:\t1.518e-04 2.118e-03\n",
      "1e-04:\t1.155e-04 4.540e-03\n",
      "1e-03:\t1.402e-04 1.522e-03\n",
      "1e-02:\t1.272e-04 2.846e-03\n",
      "1e-01:\t1.295e-04 7.527e-04\n",
      "1e+00:\t1.486e-04 6.193e-04\n",
      "1e+01:\t1.184e-04 3.138e-04\n",
      "1e+02:\t9.637e-05 5.301e-04\n",
      "1e+03:\t2.427e-04 1.153e-03\n"
     ]
    }
   ],
   "source": [
    "# print losses\n",
    "save_file = \"models/srnet_model_F00_l1_1e-03_gc_{gc:.0e}.pkl\"\n",
    "for gc in hp_study['parameters']['gc']['values'][::-1]:\n",
    "    file_name = save_file.format(gc=gc)\n",
    "    state = joblib.load(os.path.join(file_name))\n",
    "    print(f\"{file_name.split('.')[0].split('_')[-1]}:\\t{state['total_train_loss']:.3e} {state['total_val_loss']:.3e}\")"
   ]
  },
  {
   "cell_type": "markdown",
   "id": "4fc40f46",
   "metadata": {},
   "source": [
    "Notes:\n",
    "    \n",
    "* Validation errors are lowest between `1e-1` and `1e+2`"
   ]
  },
  {
   "cell_type": "code",
   "execution_count": 8,
   "id": "5f5b78ba",
   "metadata": {},
   "outputs": [],
   "source": [
    "# load data\n",
    "data_path = \"data_1k\"\n",
    "\n",
    "in_var = \"X00\"\n",
    "lat_var = \"G00\"\n",
    "target_var = \"F00\"\n",
    "\n",
    "mask_ext = \".mask\"\n",
    "masks = joblib.load(os.path.join(data_path, in_var + mask_ext))     # TODO: create mask if file does not exist\n",
    "\n",
    "train_data = SRData(data_path, in_var, lat_var, target_var, masks[\"train\"])\n",
    "val_data = SRData(data_path, in_var, lat_var, target_var, masks[\"val\"])"
   ]
  },
  {
   "cell_type": "code",
   "execution_count": 9,
   "id": "cf5019e2",
   "metadata": {},
   "outputs": [
    {
     "name": "stdout",
     "output_type": "stream",
     "text": [
      "srnet_model_F00_l1_1e-03\n",
      "[0.1238546, 0.08738362, 0.01592117, 0.00017046831, 1.50748965e-05, 1.2677921e-07, 1.1294611e-07, 4.7373774e-08, 4.062948e-08, 4.3782458e-09, 4.0273433e-09, 3.2008614e-09, 2.0540378e-09, 1.9341104e-09, 9.1654095e-10, 9.0483304e-10]\n",
      "[15, 0, 8, 10, 1, 5, 14, 3, 6, 9, 12, 7, 13, 11, 4, 2]\n",
      "0.0\n",
      "\n",
      "srnet_model_F00_l1_1e-03_gc_1e-05\n",
      "[0.40937722, 0.3279128, 0.2996628, 0.25111094, 0.24648619, 0.24086009, 0.19747312, 0.19093783, 0.17695394, 0.15664122, 0.14782391, 0.14141595, 0.13983782, 0.13594861, 0.121987805, 0.09133091]\n",
      "[10, 1, 12, 7, 0, 11, 5, 14, 4, 9, 15, 8, 6, 13, 2, 3]\n",
      "0.13792159669562234\n",
      "\n",
      "srnet_model_F00_l1_1e-03_gc_1e-04\n",
      "[0.3860327, 0.3000263, 0.2857832, 0.23882972, 0.23224738, 0.22723271, 0.18922329, 0.18449567, 0.15582484, 0.14754942, 0.1405187, 0.13627873, 0.1342742, 0.12352268, 0.11439613, 0.090995476]\n",
      "[10, 1, 12, 0, 7, 11, 5, 14, 4, 9, 15, 8, 6, 13, 2, 3]\n",
      "0.13385708226822865\n",
      "\n",
      "srnet_model_F00_l1_1e-03_gc_1e-03\n",
      "[0.293643, 0.25060013, 0.21002333, 0.20667155, 0.17543891, 0.16442399, 0.16174634, 0.12952262, 0.12866078, 0.122347824, 0.11830824, 0.11400774, 0.090277806, 0.08570382, 0.079386175, 0.07814573]\n",
      "[10, 1, 12, 0, 7, 5, 14, 15, 11, 9, 8, 6, 13, 2, 4, 3]\n",
      "0.11421841615015223\n",
      "\n",
      "srnet_model_F00_l1_1e-03_gc_1e-02\n",
      "[0.0848883, 0.08291994, 0.07589873, 0.067303, 0.061372466, 0.06030428, 0.05857185, 0.056207784, 0.05260239, 0.052107364, 0.051856562, 0.05158914, 0.042206954, 0.03467886, 0.033467166, 0.027101675]\n",
      "[1, 10, 15, 0, 5, 12, 14, 8, 7, 6, 3, 9, 13, 4, 2, 11]\n",
      "0.012348181856208923\n",
      "\n",
      "srnet_model_F00_l1_1e-03_gc_1e-01\n",
      "[0.04190171, 0.040092345, 0.03648028, 0.035955615, 0.030891825, 0.027843915, 0.027154952, 0.027149312, 0.024886657, 0.024645086, 0.024576383, 0.023890194, 0.023218755, 0.019049725, 0.017957985, 0.01591949]\n",
      "[15, 1, 10, 0, 5, 7, 8, 3, 6, 12, 14, 9, 13, 11, 2, 4]\n",
      "0.0031106654800470254\n",
      "\n",
      "srnet_model_F00_l1_1e-03_gc_1e+00\n",
      "[0.022168973, 0.021368364, 0.02006733, 0.019505858, 0.019371625, 0.019155027, 0.015191113, 0.01514199, 0.013966966, 0.013346157, 0.01322584, 0.012558905, 0.009574902, 0.008569602, 0.005817965, 0.0049817744]\n",
      "[10, 15, 8, 5, 14, 0, 1, 7, 3, 6, 9, 12, 13, 2, 4, 11]\n",
      "0.000868159306219696\n",
      "\n",
      "srnet_model_F00_l1_1e-03_gc_1e+01\n",
      "[0.08634564, 0.058795314, 0.038922984, 0.020726526, 0.00030581624, 0.00019587048, 5.736426e-05, 3.7754784e-05, 1.5103056e-05, 1.2718417e-05, 1.2337633e-05, 8.834836e-06, 6.554821e-06, 2.0294024e-06, 1.588438e-06, 8.923789e-07]\n",
      "[15, 0, 1, 10, 8, 5, 7, 14, 3, 9, 12, 6, 13, 2, 4, 11]\n",
      "2.652448257645422e-05\n",
      "\n",
      "srnet_model_F00_l1_1e-03_gc_1e+02\n",
      "[0.13555992, 0.057435412, 0.056506697, 0.03167984, 0.002888258, 0.0005915941, 0.00052686513, 0.00032984256, 0.00032602804, 0.00014167641, 0.000117857155, 8.344431e-05, 4.042661e-05, 3.998519e-05, 3.487144e-05, 2.332196e-05]\n",
      "[15, 10, 0, 1, 5, 8, 7, 14, 12, 6, 3, 13, 4, 9, 11, 2]\n",
      "7.814925156301025e-06\n",
      "\n",
      "srnet_model_F00_l1_1e-03_gc_1e+03\n",
      "[0.113880955, 0.10544756, 0.08282871, 0.08081172, 0.042837437, 0.036871728, 0.024892667, 0.01093952, 0.010409505, 0.009345476, 0.009060992, 0.006203827, 0.0023380606, 0.002332086, 0.00043852537, 0.000109682]\n",
      "[10, 15, 1, 0, 5, 7, 8, 12, 14, 13, 9, 3, 2, 6, 4, 11]\n",
      "4.209948943886175e-06\n",
      "\n"
     ]
    }
   ],
   "source": [
    "# overview latent feature variance and alpha matrix\n",
    "model_path = \"models\"\n",
    "model_ext = \".pkl\"\n",
    "\n",
    "models = [\n",
    "    \"srnet_model_F00_l1_1e-03\",\n",
    "    \"srnet_model_F00_l1_1e-03_gc_1e-05\",\n",
    "    \"srnet_model_F00_l1_1e-03_gc_1e-04\",\n",
    "    \"srnet_model_F00_l1_1e-03_gc_1e-03\",\n",
    "    \"srnet_model_F00_l1_1e-03_gc_1e-02\",\n",
    "    \"srnet_model_F00_l1_1e-03_gc_1e-01\",\n",
    "    \"srnet_model_F00_l1_1e-03_gc_1e+00\",\n",
    "    \"srnet_model_F00_l1_1e-03_gc_1e+01\",\n",
    "    \"srnet_model_F00_l1_1e-03_gc_1e+02\",\n",
    "    \"srnet_model_F00_l1_1e-03_gc_1e+03\",\n",
    "]\n",
    "\n",
    "for model_name in models:\n",
    "    print(model_name)\n",
    "    model = ut.load_model(model_name + model_ext, model_path, SRNet, model_type=\"live\")\n",
    "    \n",
    "    with torch.no_grad():\n",
    "        preds, acts = model(train_data.in_data, get_lat=True)\n",
    "        \n",
    "    ut.get_node_order(acts, show=True)\n",
    "     \n",
    "    ut.get_param_diff(model_name + model_ext, model_path, show=True)\n",
    "    \n",
    "    print(\"\")"
   ]
  },
  {
   "cell_type": "markdown",
   "id": "af5f9da0",
   "metadata": {},
   "source": [
    "Notes:\n",
    "\n",
    "* Below a $g_c$ value of `1e+01` the parameters between `live` and `ghost` are too different and no regularization occurs"
   ]
  },
  {
   "cell_type": "code",
   "execution_count": 10,
   "id": "f1c2544e",
   "metadata": {},
   "outputs": [
    {
     "name": "stdout",
     "output_type": "stream",
     "text": [
      "[0.1355422, 0.05743135, 0.056502942, 0.03167708, 0.002887015, 0.00059130846, 0.0005267492, 0.0003297159, 0.00032601, 0.00014168238, 0.00011782035, 8.344469e-05, 4.0464194e-05, 3.9992006e-05, 3.485184e-05, 2.331977e-05]\n",
      "[15, 10, 0, 1, 5, 8, 7, 14, 12, 6, 3, 13, 4, 9, 11, 2]\n"
     ]
    }
   ],
   "source": [
    "model_name = \"srnet_model_F00_l1_1e-03_gc_1e+02\"\n",
    "\n",
    "model = ut.load_model(model_name + model_ext, model_path, SRNet)\n",
    "\n",
    "with torch.no_grad():\n",
    "    preds, acts = model(train_data.in_data, get_lat=True)\n",
    "    \n",
    "all_nodes = ut.get_node_order(acts, show=True)"
   ]
  },
  {
   "cell_type": "code",
   "execution_count": 11,
   "id": "7bf3da1d",
   "metadata": {},
   "outputs": [],
   "source": [
    "nodes = all_nodes[:4]"
   ]
  },
  {
   "cell_type": "code",
   "execution_count": 12,
   "id": "d8941821",
   "metadata": {},
   "outputs": [],
   "source": [
    "# select plotting data\n",
    "x_data = train_data.in_data[:,0]\n",
    "y_data = train_data.in_data[:,1]\n",
    "z_data = [\n",
    "    (\"target\", train_data.target_data),\n",
    "    #(\"x**2\", x_data**2), \n",
    "    #(\"cos(y)\", np.cos(y_data)), \n",
    "    #(\"x*y\", x_data * y_data),\n",
    "]\n",
    "plot_size = train_data.target_data.shape[0]"
   ]
  },
  {
   "cell_type": "code",
   "execution_count": 13,
   "id": "24d2295a",
   "metadata": {},
   "outputs": [
    {
     "data": {
      "application/vnd.jupyter.widget-view+json": {
       "model_id": "a6286a284a0141b58591c25c749f72a5",
       "version_major": 2,
       "version_minor": 0
      },
      "text/plain": [
       "Canvas(toolbar=Toolbar(toolitems=[('Home', 'Reset original view', 'home', 'home'), ('Back', 'Back to previous …"
      ]
     },
     "metadata": {},
     "output_type": "display_data"
    }
   ],
   "source": [
    "ut.plot_acts(x_data, y_data, z_data, acts=acts, nodes=nodes, model=model, bias=True, nonzero=False, agg=False, plot_size=plot_size)"
   ]
  },
  {
   "cell_type": "code",
   "execution_count": 15,
   "id": "aae029e5",
   "metadata": {},
   "outputs": [],
   "source": [
    "corr_data = [\n",
    "    (\"x**2\", x_data**2), \n",
    "    (\"cos(y)\", np.cos(y_data)), \n",
    "    (\"x*y\", x_data * y_data),\n",
    "    (\"x\", x_data),\n",
    "    (\"y\", y_data),\n",
    "]"
   ]
  },
  {
   "cell_type": "code",
   "execution_count": 16,
   "id": "98c12536",
   "metadata": {},
   "outputs": [
    {
     "name": "stdout",
     "output_type": "stream",
     "text": [
      "\n",
      "Node 15\n",
      "corr(n15, x**2): 0.8429/0.8429\n",
      "corr(n15, cos(y)): 0.1551/0.1551\n",
      "corr(n15, x*y): 0.6328/0.6328\n",
      "corr(n15, x): 0.2401/0.2401\n",
      "corr(n15, y): 0.0414/0.0414\n",
      "\n",
      "Node 10\n",
      "corr(n10, x**2): 0.8424/0.8424\n",
      "corr(n10, cos(y)): 0.1972/0.1972\n",
      "corr(n10, x*y): 0.6142/0.6142\n",
      "corr(n10, x): 0.3282/0.3282\n",
      "corr(n10, y): 0.0358/0.0358\n",
      "\n",
      "Node 0\n",
      "corr(n0, x**2): -0.8306/-0.8306\n",
      "corr(n0, cos(y)): -0.1962/-0.1962\n",
      "corr(n0, x*y): -0.6365/-0.6365\n",
      "corr(n0, x): -0.2645/-0.2645\n",
      "corr(n0, y): -0.0246/-0.0246\n",
      "\n",
      "Node 1\n",
      "corr(n1, x**2): 0.7807/0.7807\n",
      "corr(n1, cos(y)): 0.2097/0.2097\n",
      "corr(n1, x*y): 0.6917/0.6917\n",
      "corr(n1, x): 0.2753/0.2753\n",
      "corr(n1, y): 0.0683/0.0683\n"
     ]
    }
   ],
   "source": [
    "ut.node_correlations(acts, nodes, corr_data, nonzero=True)"
   ]
  },
  {
   "cell_type": "markdown",
   "id": "75437a24",
   "metadata": {},
   "source": [
    "Notes:\n",
    "\n",
    "* The high variance latent features still do not split into the desired latent functions"
   ]
  },
  {
   "cell_type": "markdown",
   "id": "fdfc452d",
   "metadata": {},
   "source": [
    "### Step 6.2: Check $a_1$, $a_2$ and $g_c$ parameters"
   ]
  },
  {
   "cell_type": "code",
   "execution_count": 17,
   "id": "58acdfa0",
   "metadata": {},
   "outputs": [],
   "source": [
    "# set wandb project\n",
    "wandb_project = \"62-a1-a2-gc-study-F00\""
   ]
  },
  {
   "cell_type": "code",
   "execution_count": 18,
   "id": "d7db3e67",
   "metadata": {},
   "outputs": [],
   "source": [
    "# define hyperparameters\n",
    "# hyperparams = {\n",
    "#     \"arch\": {\n",
    "#         \"in_size\": train_data.in_data.shape[1],\n",
    "#         \"out_size\": train_data.target_data.shape[1],\n",
    "#         \"hid_num\": (2,0),\n",
    "#         \"hid_size\": 32, \n",
    "#         \"hid_type\": (\"DSN\", \"MLP\"),\n",
    "#         \"lat_size\": 16,\n",
    "#         },\n",
    "#     \"epochs\": 10000,\n",
    "#     \"runtime\": None,\n",
    "#     \"batch_size\": 64,\n",
    "#     \"lr\": 1e-4,\n",
    "#     \"wd\": 1e-4,\n",
    "#     \"l1\": 0.0,\n",
    "#     \"a1\": 0.0,\n",
    "#     \"a2\": 0.0,\n",
    "#     \"gc\": 0.0,\n",
    "#     \"shuffle\": True,\n",
    "# }"
   ]
  },
  {
   "cell_type": "code",
   "execution_count": 19,
   "id": "d1129d31",
   "metadata": {},
   "outputs": [],
   "source": [
    "# define hyperparameter study\n",
    "hp_study = {\n",
    "    \"method\": \"grid\", # random, bayesian\n",
    "    #\"metric\": {\n",
    "    #    \"name\": \"val_loss\",\n",
    "    #    \"goal\": \"minimize\",\n",
    "    #},\n",
    "    \"parameters\": {\n",
    "        \"a1\": {\n",
    "            \"values\": [1e-5, 1e-3]\n",
    "        },\n",
    "        \"a2\": {\n",
    "            \"values\": [1e-5, 1e-3]\n",
    "        },\n",
    "        \"gc\": {\n",
    "            \"values\": [1e0, 1e+1, 1e+2]\n",
    "        }\n",
    "    }\n",
    "}"
   ]
  },
  {
   "cell_type": "code",
   "execution_count": null,
   "id": "141a740b",
   "metadata": {},
   "outputs": [],
   "source": [
    "# create sweep\n",
    "sweep_id = wandb.sweep(hp_study, project=wandb_project)"
   ]
  },
  {
   "cell_type": "code",
   "execution_count": null,
   "id": "62daf607",
   "metadata": {},
   "outputs": [],
   "source": [
    "# download data from wandb\n",
    "file_ext = \".pkl\"\n",
    "\n",
    "api = wandb.Api()\n",
    "\n",
    "runs = api.runs(wandb_project)\n",
    "for run in runs:\n",
    "    for f in run.files():\n",
    "        if f.name[-len(file_ext):] == file_ext and not os.path.isfile(f.name):\n",
    "            print(f\"Downloading {os.path.basename(f.name)}.\")\n",
    "            run.file(f.name).download()"
   ]
  },
  {
   "cell_type": "code",
   "execution_count": 20,
   "id": "3aece821",
   "metadata": {},
   "outputs": [
    {
     "data": {
      "application/vnd.jupyter.widget-view+json": {
       "model_id": "6ec9398fa57942e2966e0072418de425",
       "version_major": 2,
       "version_minor": 0
      },
      "text/plain": [
       "Canvas(toolbar=Toolbar(toolitems=[('Home', 'Reset original view', 'home', 'home'), ('Back', 'Back to previous …"
      ]
     },
     "metadata": {},
     "output_type": "display_data"
    }
   ],
   "source": [
    "# plot losses\n",
    "save_names = [\"a2_1e-03_gc\", \"a2_1e-05_gc\"]\n",
    "save_path = \"models\"\n",
    "models = ut.plot_losses(save_names, save_path=\"models\")"
   ]
  },
  {
   "cell_type": "code",
   "execution_count": 21,
   "id": "2aedc6bf",
   "metadata": {
    "scrolled": false
   },
   "outputs": [
    {
     "name": "stdout",
     "output_type": "stream",
     "text": [
      "srnet_model_F00_a1_1e-03_a2_1e-03_gc_1e+00\n",
      "[1.7262817e-09, 7.0760814e-10, 5.343229e-10, 2.220446e-16, 5.551115e-17, 5.551115e-17, 5.551115e-17, 5.551115e-17, 1.3877788e-17, 1.3877788e-17, 1.3877788e-17, 8.271806e-25, 1.2924697e-26, 0.0, 0.0, 0.0]\n",
      "[15, 1, 0, 9, 4, 8, 10, 11, 2, 5, 12, 6, 3, 7, 13, 14]\n",
      "0.00013756640482292357\n",
      "[]\n",
      "\n",
      "srnet_model_F00_a1_1e-03_a2_1e-03_gc_1e+01\n",
      "[0.5570939, 0.10172816, 0.060101792, 0.0026873527, 5.1735126e-14, 5.551115e-17, 5.551115e-17, 1.3877788e-17, 1.3877788e-17, 1.3877788e-17, 1.3877788e-17, 1.3877788e-17, 1.3877788e-17, 3.3881318e-21, 0.0, 0.0]\n",
      "[15, 0, 1, 9, 7, 2, 8, 4, 5, 10, 11, 12, 14, 3, 6, 13]\n",
      "8.396129152650397e-06\n",
      "[[ 3.9434361e-01 -2.4572837e-01]\n",
      " [-2.6216727e-01 -1.6837510e-01]\n",
      " [-2.2929659e-01 -1.4543431e-01]\n",
      " [ 1.9853187e-01  2.5451674e-05]]\n",
      "\n",
      "srnet_model_F00_a1_1e-03_a2_1e-03_gc_1e+02\n",
      "[0.54178536, 0.078142114, 0.027209772, 8.022135e-15, 5.435781e-16, 1.5042531e-17, 3.469447e-18, 3.469447e-18, 8.6736174e-19, 8.6736174e-19, 5.421011e-20, 4.9563527e-21, 8.4703295e-22, 0.0, 0.0, 0.0]\n",
      "[9, 15, 0, 1, 7, 8, 12, 13, 11, 14, 6, 10, 3, 2, 4, 5]\n",
      "8.101385025152912e-06\n",
      "[[ 0.37957558  0.2431932 ]\n",
      " [ 0.2355116  -0.15405047]\n",
      " [-0.144331   -0.1059952 ]]\n",
      "\n",
      "srnet_model_F00_a1_1e-05_a2_1e-03_gc_1e+00\n",
      "[0.28294033, 0.11886116, 0.04029412, 0.008869079, 0.002969558, 2.220446e-16, 5.551115e-17, 5.551115e-17, 5.551115e-17, 5.551115e-17, 5.551115e-17, 1.3877788e-17, 1.3877788e-17, 1.3877788e-17, 0.0, 0.0]\n",
      "[0, 15, 1, 7, 9, 13, 4, 5, 8, 10, 12, 2, 11, 14, 3, 6]\n",
      "6.30965778941521e-05\n",
      "[[-5.1636773e-01 -4.1243848e-01]\n",
      " [ 5.5826813e-01 -3.6484969e-01]\n",
      " [-2.3462237e-01 -3.8237101e-01]\n",
      " [ 4.5905295e-01 -2.1459517e-05]\n",
      " [ 4.3915063e-01  1.4637595e-05]]\n",
      "\n",
      "srnet_model_F00_a1_1e-05_a2_1e-03_gc_1e+01\n",
      "[0.4082632, 0.17396106, 0.13043776, 0.06588038, 0.04357978, 5.551115e-17, 5.551115e-17, 5.551115e-17, 1.3877788e-17, 1.3877788e-17, 1.3877788e-17, 1.3838137e-17, 0.0, 0.0, 0.0, 0.0]\n",
      "[0, 15, 1, 9, 7, 8, 13, 14, 5, 10, 12, 11, 2, 3, 4, 6]\n",
      "3.3472989348217383e-06\n",
      "[[-6.2688631e-01 -4.2270833e-01]\n",
      " [ 6.2272424e-01 -3.9406011e-01]\n",
      " [-4.3352306e-01 -3.8879725e-01]\n",
      " [ 5.0968128e-01  2.7833527e-01]\n",
      " [ 5.4697257e-01 -1.1993701e-05]]\n",
      "\n",
      "srnet_model_F00_a1_1e-05_a2_1e-03_gc_1e+02\n",
      "[0.5582586, 0.24114838, 0.046428714, 0.0074348287, 0.0018925304, 3.469447e-18, 3.469447e-18, 3.469447e-18, 8.6736174e-19, 2.1684043e-19, 1.9329776e-19, 1.2762608e-19, 8.4703295e-22, 0.0, 0.0, 0.0]\n",
      "[9, 0, 15, 1, 7, 4, 8, 12, 11, 6, 10, 2, 3, 5, 13, 14]\n",
      "5.816761144608913e-06\n",
      "[[ 6.0596597e-01  5.3436482e-01]\n",
      " [-5.3508484e-01 -3.1324849e-01]\n",
      " [ 4.8008907e-01 -2.5823513e-01]\n",
      " [-3.1236210e-01 -1.7143577e-01]\n",
      " [ 2.7618879e-01  3.0353140e-06]]\n",
      "\n",
      "srnet_model_F00_a1_1e-03_a2_1e-05_gc_1e+00\n",
      "[0.03370417, 0.0075390055, 2.1171045e-05, 5.551115e-17, 5.551115e-17, 5.551115e-17, 5.551115e-17, 1.3877788e-17, 1.3877788e-17, 1.2924697e-26, 0.0, 0.0, 0.0, 0.0, 0.0, 0.0]\n",
      "[15, 0, 1, 7, 8, 10, 13, 2, 12, 6, 3, 4, 5, 9, 11, 14]\n",
      "0.00010910600940109215\n",
      "[[ 1.8215063e-01 -1.8684174e-01]\n",
      " [-4.2765260e-02 -1.9863971e-01]\n",
      " [-6.6632449e-05 -1.4737188e-02]]\n",
      "\n",
      "srnet_model_F00_a1_1e-03_a2_1e-05_gc_1e+01\n",
      "[0.47209367, 0.29460657, 0.042899564, 0.004746877, 9.885634e-14, 5.551115e-17, 5.551115e-17, 5.551115e-17, 5.551115e-17, 1.3877788e-17, 1.3877788e-17, 1.3877788e-17, 2.1684043e-19, 1.3552527e-20, 0.0, 0.0]\n",
      "[15, 0, 1, 9, 7, 4, 10, 11, 13, 2, 5, 14, 6, 3, 8, 12]\n",
      "4.167891234834408e-06\n",
      "[[ 5.1277488e-01 -3.2836941e-01]\n",
      " [-4.3251282e-01 -2.9360121e-01]\n",
      " [-2.5096467e-01 -1.3843530e-01]\n",
      " [ 2.6293176e-01  4.2423417e-06]]\n",
      "\n",
      "srnet_model_F00_a1_1e-03_a2_1e-05_gc_1e+02\n",
      "[0.5027543, 0.16230325, 0.068257, 4.5598447e-17, 4.0541727e-17, 1.3877788e-17, 4.6143646e-18, 3.469447e-18, 3.469447e-18, 8.6736174e-19, 5.421011e-20, 0.0, 0.0, 0.0, 0.0, 0.0]\n",
      "[9, 15, 0, 1, 7, 13, 11, 10, 12, 14, 6, 2, 3, 4, 5, 8]\n",
      "5.726129092819241e-06\n",
      "[[ 0.46308982  0.32089636]\n",
      " [ 0.3756553  -0.23151933]\n",
      " [-0.26027727 -0.16656898]]\n",
      "\n",
      "srnet_model_F00_a1_1e-05_a2_1e-05_gc_1e+00\n",
      "[0.60616875, 0.32554257, 0.2809438, 0.08882818, 0.05620282, 0.0012840341, 2.220446e-16, 5.551115e-17, 5.551115e-17, 5.551115e-17, 5.551115e-17, 1.3877788e-17, 1.3877788e-17, 1.3877788e-17, 0.0, 0.0]\n",
      "[0, 15, 7, 1, 9, 13, 4, 2, 8, 10, 11, 5, 12, 14, 3, 6]\n",
      "3.328948841263227e-05\n",
      "[[-1.1325066  -1.0957624 ]\n",
      " [ 1.0835073  -0.9502515 ]\n",
      " [ 1.1416813  -0.38558385]\n",
      " [-0.5309866  -0.7126993 ]\n",
      " [ 0.74429256  0.6484939 ]\n",
      " [-0.53220594  0.39805204]]\n",
      "\n",
      "srnet_model_F00_a1_1e-05_a2_1e-05_gc_1e+01\n",
      "[0.46165267, 0.26516247, 0.2509306, 0.118412495, 0.087182626, 3.7555095e-05, 3.485086e-05, 3.401796e-05, 4.5449764e-07, 3.7388935e-07, 9.023618e-08, 5.928776e-10, 5.551115e-17, 8.6736174e-19, 1.3552527e-20, 0.0]\n",
      "[0, 7, 15, 9, 1, 8, 14, 13, 10, 11, 2, 12, 4, 6, 3, 5]\n",
      "5.390026736550836e-06\n",
      "[[-1.12918568e+00 -1.04909599e+00]\n",
      " [ 1.14097798e+00 -4.49485719e-01]\n",
      " [ 1.08280241e+00 -9.16058004e-01]\n",
      " [ 7.54475713e-01  9.11703289e-01]\n",
      " [-5.47940850e-01 -7.29217947e-01]\n",
      " [-5.35384893e-01 -1.36362359e-01]\n",
      " [ 3.74116331e-01 -1.10787187e-06]\n",
      " [-4.78023529e-01  1.83436692e-01]\n",
      " [ 2.00366452e-01 -7.69583434e-02]\n",
      " [-1.02553945e-02  1.69547051e-01]\n",
      " [ 1.33564666e-01 -4.49188883e-06]\n",
      " [ 3.59062962e-02 -5.63718095e-06]]\n",
      "\n",
      "srnet_model_F00_a1_1e-05_a2_1e-05_gc_1e+02\n",
      "[0.4256357, 0.40892813, 0.14857888, 0.10746657, 0.009641719, 1.4376063e-05, 3.7403794e-08, 1.6153366e-09, 8.374829e-11, 2.4324553e-11, 7.571169e-12, 1.3877788e-17, 3.469447e-18, 2.1684043e-19, 3.3881318e-21, 0.0]\n",
      "[0, 9, 15, 7, 1, 8, 14, 13, 10, 11, 2, 5, 4, 6, 3, 12]\n",
      "5.128463087099304e-06\n",
      "[[-1.1069863e+00 -9.7911161e-01]\n",
      " [ 7.9671818e-01  9.9341476e-01]\n",
      " [ 1.0217526e+00 -8.1252736e-01]\n",
      " [ 1.0675592e+00 -3.0734298e-01]\n",
      " [-5.2765125e-01 -5.6174397e-01]\n",
      " [-4.4567212e-01 -9.5134541e-02]\n",
      " [ 1.3513793e-01  2.0921261e-06]\n",
      " [-7.7974103e-02  5.6830568e-06]\n",
      " [ 3.0462027e-02 -3.0609722e-06]\n",
      " [ 9.1323773e-07  2.0512609e-02]\n",
      " [ 2.8230123e-02 -7.9288902e-06]]\n",
      "\n"
     ]
    }
   ],
   "source": [
    "# overview latent feature variance and alpha matrix\n",
    "model_path = \"models\"\n",
    "model_ext = \".pkl\"\n",
    "\n",
    "alpha_eps = 1e-4\n",
    "\n",
    "for model_name in models:\n",
    "    print(model_name)\n",
    "    model = ut.load_model(model_name + model_ext, model_path, SRNet)\n",
    "    \n",
    "    with torch.no_grad():\n",
    "        preds, acts = model(train_data.in_data, get_lat=True)\n",
    "        \n",
    "    all_nodes = ut.get_node_order(acts, show=True)\n",
    "    \n",
    "    ut.get_param_diff(model_name + model_ext, model_path, show=True)\n",
    "    \n",
    "    if alpha_eps:\n",
    "        alpha = model.layers1.alpha.detach().cpu().numpy()[all_nodes]\n",
    "        print(alpha[np.abs(alpha).sum(axis=1) > alpha_eps])\n",
    "    \n",
    "    print(\"\")"
   ]
  },
  {
   "cell_type": "markdown",
   "id": "2fd56a61",
   "metadata": {},
   "source": [
    "Notes:\n",
    "\n",
    "* It seems that, even when using GhostAdam, sparsity w.r.t. the input features is not achieved"
   ]
  },
  {
   "cell_type": "code",
   "execution_count": 22,
   "id": "acbaa259",
   "metadata": {},
   "outputs": [
    {
     "name": "stdout",
     "output_type": "stream",
     "text": [
      "[0.47209367, 0.29460657, 0.042899564, 0.004746877, 9.885634e-14, 5.551115e-17, 5.551115e-17, 5.551115e-17, 5.551115e-17, 1.3877788e-17, 1.3877788e-17, 1.3877788e-17, 2.1684043e-19, 1.3552527e-20, 0.0, 0.0]\n",
      "[15, 0, 1, 9, 7, 4, 10, 11, 13, 2, 5, 14, 6, 3, 8, 12]\n"
     ]
    }
   ],
   "source": [
    "model_name = \"srnet_model_F00_a1_1e-03_a2_1e-05_gc_1e+01\"\n",
    "\n",
    "model = ut.load_model(model_name + model_ext, model_path, SRNet)\n",
    "\n",
    "with torch.no_grad():\n",
    "    preds, acts = model(train_data.in_data, get_lat=True)\n",
    "    \n",
    "all_nodes = ut.get_node_order(acts, show=True)"
   ]
  },
  {
   "cell_type": "code",
   "execution_count": 23,
   "id": "38c62b20",
   "metadata": {},
   "outputs": [],
   "source": [
    "nodes = all_nodes[:4]"
   ]
  },
  {
   "cell_type": "code",
   "execution_count": 24,
   "id": "fc35792f",
   "metadata": {},
   "outputs": [],
   "source": [
    "# select plotting data\n",
    "x_data = train_data.in_data[:,0]\n",
    "y_data = train_data.in_data[:,1]\n",
    "z_data = [\n",
    "    (\"target\", train_data.target_data),\n",
    "    #(\"x**2\", x_data**2), \n",
    "    #(\"cos(y)\", np.cos(y_data)), \n",
    "    #(\"x*y\", x_data * y_data),\n",
    "]\n",
    "plot_size = train_data.target_data.shape[0]"
   ]
  },
  {
   "cell_type": "code",
   "execution_count": 25,
   "id": "360ae09c",
   "metadata": {},
   "outputs": [
    {
     "data": {
      "application/vnd.jupyter.widget-view+json": {
       "model_id": "ac7d8b3664604b0f8342e63b0de3a391",
       "version_major": 2,
       "version_minor": 0
      },
      "text/plain": [
       "Canvas(toolbar=Toolbar(toolitems=[('Home', 'Reset original view', 'home', 'home'), ('Back', 'Back to previous …"
      ]
     },
     "metadata": {},
     "output_type": "display_data"
    }
   ],
   "source": [
    "ut.plot_acts(x_data, y_data, z_data, acts=acts, nodes=nodes, model=model, bias=True, nonzero=False, agg=False, plot_size=plot_size)"
   ]
  },
  {
   "cell_type": "code",
   "execution_count": 26,
   "id": "c10bb608",
   "metadata": {},
   "outputs": [],
   "source": [
    "corr_data = [\n",
    "    (\"x**2\", x_data**2), \n",
    "    (\"cos(y)\", np.cos(y_data)), \n",
    "    (\"x*y\", x_data * y_data),\n",
    "    (\"x\", x_data),\n",
    "    (\"y\", y_data),\n",
    "]"
   ]
  },
  {
   "cell_type": "code",
   "execution_count": 27,
   "id": "0c247eb4",
   "metadata": {},
   "outputs": [
    {
     "name": "stdout",
     "output_type": "stream",
     "text": [
      "\n",
      "Node 15\n",
      "corr(n15, x**2): 0.7102/0.7102\n",
      "corr(n15, cos(y)): 0.3716/0.3716\n",
      "corr(n15, x*y): 0.6367/0.6367\n",
      "corr(n15, x): 0.2395/0.2395\n",
      "corr(n15, y): -0.1341/-0.1341\n",
      "\n",
      "Node 0\n",
      "corr(n0, x**2): -0.7903/-0.7903\n",
      "corr(n0, cos(y)): -0.0722/-0.0722\n",
      "corr(n0, x*y): -0.6560/-0.6560\n",
      "corr(n0, x): -0.4129/-0.4129\n",
      "corr(n0, y): -0.2661/-0.2661\n",
      "\n",
      "Node 1\n",
      "corr(n1, x**2): -0.7922/-0.7922\n",
      "corr(n1, cos(y)): -0.0190/-0.0190\n",
      "corr(n1, x*y): -0.4364/-0.4364\n",
      "corr(n1, x): 0.0874/0.0874\n",
      "corr(n1, y): 0.1378/0.1378\n",
      "\n",
      "Node 9\n",
      "corr(n9, x**2): -0.7686/-0.7686\n",
      "corr(n9, cos(y)): -0.0127/-0.0127\n",
      "corr(n9, x*y): -0.1170/-0.1170\n",
      "corr(n9, x): 0.1052/0.1052\n",
      "corr(n9, y): -0.0324/-0.0324\n"
     ]
    }
   ],
   "source": [
    "ut.node_correlations(acts, nodes, corr_data, nonzero=True)"
   ]
  },
  {
   "cell_type": "markdown",
   "id": "2978b80c",
   "metadata": {},
   "source": [
    "### Step 6.3: Train DSN for longer\n",
    "\n",
    "Models:\n",
    "\n",
    "* <s>`srnet_model_F00_a1_1e-05_a2_1e-03_gc_1e+01_max`</s> (training very slowly)\n",
    "    \n",
    "* `srnet_model_F00_a1_1e-03_a2_1e-05_gc_1e+01_max`\n",
    "    \n",
    "* `srnet_model_F00_a1_1e-03_a2_1e-03_gc_1e+01_max`\n",
    "\n",
    "* `srnet_model_F00_a1_1e-05_a2_1e-05_gc_1e+01_max`"
   ]
  },
  {
   "cell_type": "code",
   "execution_count": 79,
   "id": "6ff8b2ba",
   "metadata": {},
   "outputs": [],
   "source": [
    "# set wandb project\n",
    "wandb_project = \"62-a1-a2-gc-study-F00\""
   ]
  },
  {
   "cell_type": "code",
   "execution_count": 80,
   "id": "f34fe8b4",
   "metadata": {},
   "outputs": [],
   "source": [
    "# define hyperparameters\n",
    "# hyperparams = {\n",
    "#     \"arch\": {\n",
    "#         \"in_size\": train_data.in_data.shape[1],\n",
    "#         \"out_size\": train_data.target_data.shape[1],\n",
    "#         \"hid_num\": (2,0),\n",
    "#         \"hid_size\": 32, \n",
    "#         \"hid_type\": (\"DSN\", \"MLP\"),\n",
    "#         \"lat_size\": 16,\n",
    "#         },\n",
    "#     \"epochs\": 100000,\n",
    "#     \"runtime\": None,\n",
    "#     \"batch_size\": 64,\n",
    "#     \"lr\": 1e-4,\n",
    "#     \"wd\": 1e-4,\n",
    "#     \"l1\": 0.0,\n",
    "#     \"a1\": 0.0,\n",
    "#     \"a2\": 0.0,\n",
    "#     \"gc\": 10.0,\n",
    "#     \"shuffle\": True,\n",
    "# }"
   ]
  },
  {
   "cell_type": "code",
   "execution_count": 81,
   "id": "d7b856da",
   "metadata": {},
   "outputs": [
    {
     "name": "stdout",
     "output_type": "stream",
     "text": [
      "Downloading srnet_model_F00_a1_1e-05_a2_1e-05_gc_1e+01_max.pkl.\n"
     ]
    }
   ],
   "source": [
    "# download data from wandb\n",
    "file_ext = \".pkl\"\n",
    "\n",
    "api = wandb.Api()\n",
    "\n",
    "runs = api.runs(wandb_project)\n",
    "for run in runs:\n",
    "    for f in run.files():\n",
    "        if f.name[-len(file_ext):] == file_ext and not os.path.isfile(f.name):\n",
    "            print(f\"Downloading {os.path.basename(f.name)}.\")\n",
    "            run.file(f.name).download()"
   ]
  },
  {
   "cell_type": "code",
   "execution_count": 82,
   "id": "4c3c986f",
   "metadata": {},
   "outputs": [
    {
     "data": {
      "application/vnd.jupyter.widget-view+json": {
       "model_id": "a2f0ecf9062743c2916fcbdf5ce1b33a",
       "version_major": 2,
       "version_minor": 0
      },
      "text/plain": [
       "Canvas(toolbar=Toolbar(toolitems=[('Home', 'Reset original view', 'home', 'home'), ('Back', 'Back to previous …"
      ]
     },
     "metadata": {},
     "output_type": "display_data"
    }
   ],
   "source": [
    "# plot losses\n",
    "save_names = [\"gc_1e+01_max\"]\n",
    "save_path = \"models\"\n",
    "models = ut.plot_losses(save_names, save_path=\"models\")"
   ]
  },
  {
   "cell_type": "code",
   "execution_count": 83,
   "id": "42bddfd8",
   "metadata": {
    "scrolled": false
   },
   "outputs": [
    {
     "name": "stdout",
     "output_type": "stream",
     "text": [
      "srnet_model_F00_a1_1e-03_a2_1e-03_gc_1e+01_max\n",
      "[0.20942572, 8.271806e-25, 2.0679515e-25, 2.0679515e-25, 5.169879e-26, 5.169879e-26, 5.169879e-26, 1.2924697e-26, 1.2924697e-26, 8.077936e-28, 8.077936e-28, 8.077936e-28, 5.04871e-29, 0.0, 0.0, 0.0]\n",
      "[15, 8, 10, 13, 1, 2, 3, 7, 11, 0, 6, 9, 14, 4, 5, 12]\n",
      "9.46639256872379e-06\n",
      "[[ 0.21940252 -0.16427106]]\n",
      "\n",
      "srnet_model_F00_a1_1e-03_a2_1e-05_gc_1e+01_max\n",
      "[0.3616124, 2.1175824e-22, 2.0679515e-25, 1.2924697e-26, 3.2311743e-27, 3.2311743e-27, 8.077936e-28, 2.019484e-28, 2.019484e-28, 5.04871e-29, 1.2621775e-29, 0.0, 0.0, 0.0, 0.0, 0.0]\n",
      "[15, 0, 7, 2, 5, 6, 9, 12, 14, 11, 8, 1, 3, 4, 10, 13]\n",
      "2.8323291445613374e-06\n",
      "[[ 0.3638257  -0.26250717]]\n",
      "\n",
      "srnet_model_F00_a1_1e-05_a2_1e-05_gc_1e+01_max\n",
      "[0.59949, 7.270142e-27, 3.2311743e-27, 3.2311743e-27, 8.077936e-28, 2.019484e-28, 2.019484e-28, 5.04871e-29, 5.04871e-29, 5.04871e-29, 0.0, 0.0, 0.0, 0.0, 0.0, 0.0]\n",
      "[9, 4, 2, 10, 13, 0, 1, 3, 5, 8, 6, 7, 11, 12, 14, 15]\n",
      "1.1918593743582121e-06\n",
      "[[1.1544445 1.0789212]]\n",
      "\n"
     ]
    }
   ],
   "source": [
    "# overview latent feature variance and alpha matrix\n",
    "model_path = \"models\"\n",
    "model_ext = \".pkl\"\n",
    "\n",
    "alpha_eps = 1e-4\n",
    "\n",
    "for model_name in models:\n",
    "    print(model_name)\n",
    "    model = ut.load_model(model_name + model_ext, model_path, SRNet)\n",
    "    \n",
    "    with torch.no_grad():\n",
    "        preds, acts = model(train_data.in_data, get_lat=True)\n",
    "        \n",
    "    all_nodes = ut.get_node_order(acts, show=True)\n",
    "    \n",
    "    ut.get_param_diff(model_name + model_ext, model_path, show=True)\n",
    "    \n",
    "    if alpha_eps:\n",
    "        alpha = model.layers1.alpha.detach().cpu().numpy()[all_nodes]\n",
    "        print(alpha[np.abs(alpha).sum(axis=1) > alpha_eps])\n",
    "    \n",
    "    print(\"\")"
   ]
  },
  {
   "cell_type": "markdown",
   "id": "2e3ddb94",
   "metadata": {},
   "source": [
    "Notes:\n",
    "\n",
    "* When training for 100000 epochs, the applied regularization seems to be too strong, as all information is pushed into one node\n",
    "\n",
    "**TODO**:\n",
    "\n",
    "* Train `max` with less regularization?\n",
    "\n",
    "* Determine ratios from hardcoded network?"
   ]
  },
  {
   "cell_type": "markdown",
   "id": "f326c40d",
   "metadata": {},
   "source": [
    "### Step 6.4: Increase $a_2$ further\n",
    "\n",
    "Models:\n",
    "\n",
    "* `srnet_model_F00_a1_1e-05_a2_1e-02_gc_1e+01`\n",
    "    \n",
    "* `srnet_model_F00_a1_1e-05_a2_1e-01_gc_1e+01`\n",
    "\n",
    "* `srnet_model_F00_a1_1e-05_a2_1e+00_gc_1e+01`"
   ]
  },
  {
   "cell_type": "code",
   "execution_count": 32,
   "id": "164fa842",
   "metadata": {},
   "outputs": [],
   "source": [
    "# set wandb project\n",
    "wandb_project = \"62-a1-a2-gc-study-F00\""
   ]
  },
  {
   "cell_type": "code",
   "execution_count": 33,
   "id": "2dae7b4c",
   "metadata": {},
   "outputs": [],
   "source": [
    "# define hyperparameters\n",
    "# hyperparams = {\n",
    "#     \"arch\": {\n",
    "#         \"in_size\": train_data.in_data.shape[1],\n",
    "#         \"out_size\": train_data.target_data.shape[1],\n",
    "#         \"hid_num\": (2,0),\n",
    "#         \"hid_size\": 32, \n",
    "#         \"hid_type\": (\"DSN\", \"MLP\"),\n",
    "#         \"lat_size\": 16,\n",
    "#         },\n",
    "#     \"epochs\": 10000,\n",
    "#     \"runtime\": None,\n",
    "#     \"batch_size\": 64,\n",
    "#     \"lr\": 1e-4,\n",
    "#     \"wd\": 1e-4,\n",
    "#     \"l1\": 0.0,\n",
    "#     \"a1\": 0.0,\n",
    "#     \"a2\": 0.0,\n",
    "#     \"gc\": 10.0,\n",
    "#     \"shuffle\": True,\n",
    "# }"
   ]
  },
  {
   "cell_type": "code",
   "execution_count": 34,
   "id": "37610865",
   "metadata": {},
   "outputs": [],
   "source": [
    "# download data from wandb\n",
    "file_ext = \".pkl\"\n",
    "\n",
    "api = wandb.Api()\n",
    "\n",
    "runs = api.runs(wandb_project)\n",
    "for run in runs:\n",
    "    for f in run.files():\n",
    "        if f.name[-len(file_ext):] == file_ext and not os.path.isfile(f.name):\n",
    "            print(f\"Downloading {os.path.basename(f.name)}.\")\n",
    "            run.file(f.name).download()"
   ]
  },
  {
   "cell_type": "code",
   "execution_count": 36,
   "id": "1f4f361f",
   "metadata": {},
   "outputs": [
    {
     "data": {
      "application/vnd.jupyter.widget-view+json": {
       "model_id": "88241cfb69384e0c927b6b561f1532dd",
       "version_major": 2,
       "version_minor": 0
      },
      "text/plain": [
       "Canvas(toolbar=Toolbar(toolitems=[('Home', 'Reset original view', 'home', 'home'), ('Back', 'Back to previous …"
      ]
     },
     "metadata": {},
     "output_type": "display_data"
    }
   ],
   "source": [
    "# plot losses\n",
    "save_names = [\"a2_1e-02_gc_1e+01\", \"a2_1e-01_gc_1e+01\", \"a2_1e+00_gc_1e+01\"]\n",
    "save_path = \"models\"\n",
    "models = ut.plot_losses(save_names, save_path=\"models\")"
   ]
  },
  {
   "cell_type": "code",
   "execution_count": 39,
   "id": "fcbf038e",
   "metadata": {
    "scrolled": false
   },
   "outputs": [
    {
     "name": "stdout",
     "output_type": "stream",
     "text": [
      "srnet_model_F00_a1_1e-05_a2_1e-02_gc_1e+01\n",
      "[3.1589572e-08, 3.8916146e-09, 1.2906931e-09, 2.750616e-12, 3.469447e-18, 3.469447e-18, 8.6736174e-19, 8.6736174e-19, 4.6713624e-19, 2.1684043e-19, 1.323489e-23, 0.0, 0.0, 0.0, 0.0, 0.0]\n",
      "[1, 9, 0, 15, 10, 13, 2, 12, 7, 4, 3, 5, 6, 8, 11, 14]\n",
      "2.496143645252759e-05\n",
      "[[-6.1761035e-05 -2.4773335e-04]\n",
      " [ 1.7401895e-04 -6.8831014e-06]\n",
      " [-1.7340572e-05 -6.0306789e-05]\n",
      " [ 4.3078588e-05  1.5295534e-05]\n",
      " [-1.2220856e-06 -1.3482542e-06]\n",
      " [ 3.5727801e-06 -1.6661281e-05]\n",
      " [-5.0514473e-07  1.3857356e-06]\n",
      " [ 3.8097505e-06  2.4295218e-06]\n",
      " [ 2.5103918e-06 -1.5627547e-06]\n",
      " [ 4.9164951e-06  3.3473179e-06]\n",
      " [-3.8375717e-07  1.4726976e-07]\n",
      " [-6.4794472e-06  1.2070394e-06]\n",
      " [ 7.2593241e-07 -1.1647048e-06]\n",
      " [-1.0579968e-06 -5.6599947e-07]\n",
      " [ 5.0744279e-07 -5.8805830e-07]\n",
      " [-4.9762889e-08  8.6289265e-07]]\n",
      "\n",
      "srnet_model_F00_a1_1e-05_a2_1e-01_gc_1e+01\n",
      "[1.1470445e-10, 1.4095036e-12, 1.2422269e-12, 7.92382e-16, 7.5970974e-17, 5.551115e-17, 1.3877788e-17, 1.3877788e-17, 7.414704e-18, 3.469447e-18, 3.469447e-18, 3.469447e-18, 8.6736174e-19, 5.421011e-20, 2.1175824e-22, 0.0]\n",
      "[1, 0, 15, 9, 11, 8, 2, 13, 10, 4, 5, 14, 7, 6, 3, 12]\n",
      "2.9925960567841572e-05\n",
      "[[-7.4127729e-06 -2.2370587e-06]\n",
      " [-1.3440044e-06 -4.8655806e-06]\n",
      " [ 2.4469773e-07 -1.4340455e-06]\n",
      " [ 7.5780658e-06  7.6550111e-07]\n",
      " [ 2.1231267e-07  3.8452254e-06]\n",
      " [-2.6022076e-07  3.6233985e-07]\n",
      " [ 3.2460754e-05  1.1843208e-05]\n",
      " [ 2.2770087e-06  1.2078668e-05]\n",
      " [-1.2208299e-05  1.0617810e-05]\n",
      " [-6.1777214e-06  8.1678627e-07]\n",
      " [-2.6879983e-09  3.2119633e-08]\n",
      " [ 2.3338529e-08  9.7112931e-08]\n",
      " [-5.1546145e-09 -6.8829848e-09]\n",
      " [ 7.5885737e-07 -2.1356877e-06]\n",
      " [-8.9138248e-06 -3.5729890e-06]\n",
      " [ 5.5684413e-06  3.4343579e-05]]\n",
      "\n",
      "srnet_model_F00_a1_1e-05_a2_1e+00_gc_1e+01\n",
      "[1.3755537e-10, 5.6411893e-11, 1.6901121e-11, 9.594653e-13, 8.806416e-14, 1.6888276e-15, 2.220446e-16, 3.469447e-18, 3.469447e-18, 2.810252e-18, 5.421011e-20, 8.4703295e-22, 0.0, 0.0, 0.0, 0.0]\n",
      "[15, 0, 1, 10, 9, 8, 11, 2, 12, 7, 6, 3, 4, 5, 13, 14]\n",
      "6.74206037231475e-05\n",
      "[[-5.21395759e-06 -5.93238428e-06]\n",
      " [-2.17130582e-05 -1.61782791e-05]\n",
      " [ 1.48987401e-05 -1.00212110e-05]\n",
      " [-1.88364465e-05 -7.79651600e-07]\n",
      " [-1.74864704e-06  1.49492257e-06]\n",
      " [ 2.28927206e-07 -4.73880118e-06]\n",
      " [ 8.18560153e-09 -1.14551796e-07]\n",
      " [ 5.60794774e-07  1.18804201e-06]\n",
      " [ 1.04397432e-05 -9.47774970e-06]\n",
      " [ 8.24469382e-08  1.52401498e-07]\n",
      " [-1.86261741e-06 -4.10254597e-06]\n",
      " [-5.03813089e-06 -1.76005460e-06]\n",
      " [ 7.43865576e-06 -5.16957789e-06]\n",
      " [ 7.89375736e-06 -1.95433722e-06]\n",
      " [ 7.55757355e-07  6.23999949e-06]\n",
      " [-5.85658206e-08  6.57441319e-08]]\n",
      "\n"
     ]
    }
   ],
   "source": [
    "# overview latent feature variance and alpha matrix\n",
    "model_path = \"models\"\n",
    "model_ext = \".pkl\"\n",
    "\n",
    "alpha_eps = 1e-17\n",
    "\n",
    "for model_name in models:\n",
    "    print(model_name)\n",
    "    model = ut.load_model(model_name + model_ext, model_path, SRNet)\n",
    "    \n",
    "    with torch.no_grad():\n",
    "        preds, acts = model(train_data.in_data, get_lat=True)\n",
    "        \n",
    "    all_nodes = ut.get_node_order(acts, show=True)\n",
    "    \n",
    "    ut.get_param_diff(model_name + model_ext, model_path, show=True)\n",
    "    \n",
    "    if alpha_eps:\n",
    "        alpha = model.layers1.alpha.detach().cpu().numpy()[all_nodes]\n",
    "        print(alpha[np.abs(alpha).sum(axis=1) > alpha_eps])\n",
    "    \n",
    "    print(\"\")"
   ]
  },
  {
   "cell_type": "markdown",
   "id": "9a1fe838",
   "metadata": {},
   "source": [
    "Notes:\n",
    "\n",
    "* There is still no clear dependence on only one input feature"
   ]
  },
  {
   "cell_type": "markdown",
   "id": "dbb6b0d2",
   "metadata": {},
   "source": [
    "### Step 6.5: Apply hardcoded $\\alpha$ mask"
   ]
  },
  {
   "cell_type": "code",
   "execution_count": 40,
   "id": "3a87bead",
   "metadata": {},
   "outputs": [],
   "source": [
    "from srnet_hard import SRNet as SRNetH"
   ]
  },
  {
   "cell_type": "code",
   "execution_count": 85,
   "id": "34b37769",
   "metadata": {},
   "outputs": [
    {
     "name": "stdout",
     "output_type": "stream",
     "text": [
      "[1.6012026, 1.4713281, 0.00053509773, 0.0]\n",
      "[0, 2, 1, 3]\n"
     ]
    }
   ],
   "source": [
    "model_name = \"srnet_model_F00_hard\"\n",
    "\n",
    "model = ut.load_model(model_name + model_ext, model_path, SRNetH)\n",
    "\n",
    "with torch.no_grad():\n",
    "    preds, acts = model(train_data.in_data, get_lat=True)\n",
    "    \n",
    "all_nodes = ut.get_node_order(acts, show=True)"
   ]
  },
  {
   "cell_type": "code",
   "execution_count": 86,
   "id": "85d0f2c8",
   "metadata": {},
   "outputs": [],
   "source": [
    "nodes = all_nodes[:3]"
   ]
  },
  {
   "cell_type": "code",
   "execution_count": 87,
   "id": "c8889a90",
   "metadata": {},
   "outputs": [],
   "source": [
    "# select plotting data\n",
    "x_data = train_data.in_data[:,0]\n",
    "y_data = train_data.in_data[:,1]\n",
    "z_data = [\n",
    "    (\"target\", train_data.target_data),\n",
    "    #(\"x**2\", x_data**2), \n",
    "    #(\"cos(y)\", np.cos(y_data)), \n",
    "    #(\"x*y\", x_data * y_data),\n",
    "]\n",
    "plot_size = train_data.target_data.shape[0]"
   ]
  },
  {
   "cell_type": "code",
   "execution_count": 88,
   "id": "b22a3fc5",
   "metadata": {},
   "outputs": [
    {
     "data": {
      "application/vnd.jupyter.widget-view+json": {
       "model_id": "83143d41626b414ba8409dedf3b7c865",
       "version_major": 2,
       "version_minor": 0
      },
      "text/plain": [
       "Canvas(toolbar=Toolbar(toolitems=[('Home', 'Reset original view', 'home', 'home'), ('Back', 'Back to previous …"
      ]
     },
     "metadata": {},
     "output_type": "display_data"
    }
   ],
   "source": [
    "ut.plot_acts(x_data, y_data, z_data, acts=acts, nodes=nodes, model=model, bias=True, nonzero=False, agg=False, plot_size=plot_size)"
   ]
  },
  {
   "cell_type": "code",
   "execution_count": 119,
   "id": "9fe8f007",
   "metadata": {},
   "outputs": [
    {
     "data": {
      "application/vnd.jupyter.widget-view+json": {
       "model_id": "eca35451d26243e0b8a76e9e7884a748",
       "version_major": 2,
       "version_minor": 0
      },
      "text/plain": [
       "Canvas(toolbar=Toolbar(toolitems=[('Home', 'Reset original view', 'home', 'home'), ('Back', 'Back to previous …"
      ]
     },
     "metadata": {},
     "output_type": "display_data"
    }
   ],
   "source": [
    "fig, ax = plt.subplots()\n",
    "\n",
    "ax.scatter(x_data, x_data**2)\n",
    "ax.scatter(x_data, acts[:,0])\n",
    "# ax.scatter(x_data, -1.1*acts[:,0] - 5)\n",
    "\n",
    "plt.show()"
   ]
  },
  {
   "cell_type": "code",
   "execution_count": 109,
   "id": "ab1f1425",
   "metadata": {},
   "outputs": [
    {
     "data": {
      "application/vnd.jupyter.widget-view+json": {
       "model_id": "e5293afbd04343abb7c1c9e3dae43857",
       "version_major": 2,
       "version_minor": 0
      },
      "text/plain": [
       "Canvas(toolbar=Toolbar(toolitems=[('Home', 'Reset original view', 'home', 'home'), ('Back', 'Back to previous …"
      ]
     },
     "metadata": {},
     "output_type": "display_data"
    }
   ],
   "source": [
    "fig, ax = plt.subplots()\n",
    "\n",
    "ax.scatter(y_data, np.cos(y_data))\n",
    "ax.scatter(y_data, acts[:,1])\n",
    "\n",
    "plt.show()"
   ]
  },
  {
   "cell_type": "code",
   "execution_count": 43,
   "id": "c5f8a24f",
   "metadata": {},
   "outputs": [],
   "source": [
    "# select plotting data\n",
    "x_data = train_data.in_data[:,0]\n",
    "y_data = train_data.in_data[:,1]\n",
    "z_data = [\n",
    "    #(\"target\", train_data.target_data),\n",
    "    #(\"x**2\", x_data**2), \n",
    "    #(\"cos(y)\", np.cos(y_data)), \n",
    "    (\"x*y\", x_data * y_data),\n",
    "]\n",
    "plot_size = train_data.target_data.shape[0]"
   ]
  },
  {
   "cell_type": "code",
   "execution_count": 52,
   "id": "eee992da",
   "metadata": {},
   "outputs": [
    {
     "data": {
      "application/vnd.jupyter.widget-view+json": {
       "model_id": "19ea965c1fcc4a63a9b482a954a1ad87",
       "version_major": 2,
       "version_minor": 0
      },
      "text/plain": [
       "Canvas(toolbar=Toolbar(toolitems=[('Home', 'Reset original view', 'home', 'home'), ('Back', 'Back to previous …"
      ]
     },
     "metadata": {},
     "output_type": "display_data"
    }
   ],
   "source": [
    "ut.plot_acts(x_data, y_data, z_data, acts=acts, nodes=[2], model=model, bias=True, nonzero=False, agg=False, plot_size=plot_size)"
   ]
  },
  {
   "cell_type": "code",
   "execution_count": 47,
   "id": "14ec4fbb",
   "metadata": {},
   "outputs": [],
   "source": [
    "corr_data = [\n",
    "    (\"x**2\", x_data**2), \n",
    "    (\"cos(y)\", np.cos(y_data)), \n",
    "    (\"x*y\", x_data * y_data),\n",
    "    (\"x\", x_data),\n",
    "    (\"y\", y_data),\n",
    "]"
   ]
  },
  {
   "cell_type": "code",
   "execution_count": 48,
   "id": "cad6a4d7",
   "metadata": {},
   "outputs": [
    {
     "name": "stdout",
     "output_type": "stream",
     "text": [
      "\n",
      "Node 0\n",
      "corr(n0, x**2): -0.9974/-0.9974\n",
      "corr(n0, cos(y)): 0.0179/0.0179\n",
      "corr(n0, x*y): -0.1693/-0.1693\n",
      "corr(n0, x): -0.2781/-0.2781\n",
      "corr(n0, y): -0.0388/-0.0388\n",
      "\n",
      "Node 2\n",
      "corr(n2, x**2): 0.5474/0.5474\n",
      "corr(n2, cos(y)): 0.3007/0.3007\n",
      "corr(n2, x*y): 0.8389/0.8389\n",
      "corr(n2, x): 0.1973/0.1973\n",
      "corr(n2, y): 0.0243/0.0243\n",
      "\n",
      "Node 1\n",
      "corr(n1, x**2): 0.0225/0.0225\n",
      "corr(n1, cos(y)): -0.9074/-0.9074\n",
      "corr(n1, x*y): 0.0765/0.0765\n",
      "corr(n1, x): 0.0105/0.0105\n",
      "corr(n1, y): 0.4290/0.4290\n"
     ]
    }
   ],
   "source": [
    "ut.node_correlations(acts, nodes, corr_data, nonzero=True)"
   ]
  },
  {
   "cell_type": "markdown",
   "id": "f7e7c359",
   "metadata": {},
   "source": [
    "What are the individual error terms?"
   ]
  },
  {
   "cell_type": "code",
   "execution_count": 53,
   "id": "00db0d4f",
   "metadata": {},
   "outputs": [
    {
     "data": {
      "text/plain": [
       "SRNet(\n",
       "  (layers1): SparseJacobianNN(\n",
       "    (w): ParameterList(\n",
       "        (0): Parameter containing: [torch.FloatTensor of size 4x2x32]\n",
       "        (1): Parameter containing: [torch.FloatTensor of size 4x32x32]\n",
       "        (2): Parameter containing: [torch.FloatTensor of size 4x32x1]\n",
       "    )\n",
       "    (b): ParameterList(\n",
       "        (0): Parameter containing: [torch.FloatTensor of size 4x32]\n",
       "        (1): Parameter containing: [torch.FloatTensor of size 4x32]\n",
       "        (2): Parameter containing: [torch.FloatTensor of size 4x1]\n",
       "    )\n",
       "  )\n",
       "  (layers2): Sequential(\n",
       "    (0): Linear(in_features=4, out_features=1, bias=True)\n",
       "  )\n",
       ")"
      ]
     },
     "execution_count": 53,
     "metadata": {},
     "output_type": "execute_result"
    }
   ],
   "source": [
    "model"
   ]
  },
  {
   "cell_type": "code",
   "execution_count": 59,
   "id": "fa9df3fe",
   "metadata": {},
   "outputs": [
    {
     "data": {
      "text/plain": [
       "0.0002780820650514215"
      ]
     },
     "execution_count": 59,
     "metadata": {},
     "output_type": "execute_result"
    }
   ],
   "source": [
    "(preds - train_data.target_data).pow(2).mean().item()"
   ]
  },
  {
   "cell_type": "code",
   "execution_count": 61,
   "id": "1e4c7e05",
   "metadata": {},
   "outputs": [
    {
     "data": {
      "text/plain": [
       "Parameter containing:\n",
       "tensor([[1., 0.],\n",
       "        [0., 1.],\n",
       "        [1., 1.],\n",
       "        [0., 0.]], requires_grad=True)"
      ]
     },
     "execution_count": 61,
     "metadata": {},
     "output_type": "execute_result"
    }
   ],
   "source": [
    "model.layers1.alpha"
   ]
  },
  {
   "cell_type": "code",
   "execution_count": 64,
   "id": "095d16bc",
   "metadata": {},
   "outputs": [],
   "source": [
    "model.layers1.alpha.requires_grad = False"
   ]
  },
  {
   "cell_type": "code",
   "execution_count": 66,
   "id": "c077ee5c",
   "metadata": {},
   "outputs": [],
   "source": [
    "a = model.layers1.alpha"
   ]
  },
  {
   "cell_type": "code",
   "execution_count": 68,
   "id": "97f7ca9c",
   "metadata": {},
   "outputs": [
    {
     "data": {
      "text/plain": [
       "4.0"
      ]
     },
     "execution_count": 68,
     "metadata": {},
     "output_type": "execute_result"
    }
   ],
   "source": [
    "a.abs().sum().item()"
   ]
  },
  {
   "cell_type": "code",
   "execution_count": 70,
   "id": "788647db",
   "metadata": {},
   "outputs": [
    {
     "data": {
      "text/plain": [
       "tensor(6.)"
      ]
     },
     "execution_count": 70,
     "metadata": {},
     "output_type": "execute_result"
    }
   ],
   "source": [
    "a.abs().sum(dim=1).pow(2).sum()"
   ]
  },
  {
   "cell_type": "markdown",
   "id": "26339749",
   "metadata": {},
   "source": [
    "Is this helpful? Not really.\n",
    "\n",
    "One concern is that `few_latents` and `few_dependencies` are too similar, so that before reducing `few_dependencies` significantly, there is rather a collapse into one node.\n",
    "\n",
    "Takeaways from discussion with Roy:\n",
    "\n",
    "* We probably want to row-wise normalize $\\alpha$, e.g. via `softmax`\n",
    "\n",
    "* Regularization via $L_1$ can be done before normalization, regularization via entropy can be done after normalization\n",
    "\n",
    "* Check Gumbel transformation\n",
    "\n",
    "* Fix target latent space size and try to enforce `few_dependencies`\n",
    "\n",
    "$L_1$: sparsity (see https://scikit-learn.org/stable/modules/linear_model.html#lasso)\n",
    "\n",
    "<img src=\"https://scikit-learn.org/stable/_images/sphx_glr_plot_lasso_lars_001.png\" width=\"500\">\n",
    "\n",
    "$L_2$: low magnitudes (see https://scikit-learn.org/stable/modules/linear_model.html#ridge-regression-and-classification)\n",
    "\n",
    "<img src=\"https://scikit-learn.org/stable/_images/sphx_glr_plot_ridge_path_001.png\" width=\"500\">"
   ]
  },
  {
   "cell_type": "markdown",
   "id": "dda1b894",
   "metadata": {},
   "source": [
    "Notes:\n",
    "\n",
    "* Adaptive regularization, e.g. an $a_2$ ramp?\n",
    "\n",
    "* Do we want to apply $L_1$ to the latent features or $\\alpha$?\n",
    "\n",
    "    * $\\alpha$ basically determines how much input is let through to the output\n",
    "\n",
    "    * By reducing $\\alpha$, not much of the input is getting to the outputs\n",
    "\n",
    "    * However, the network could still amplify the signal again\n",
    "\n",
    "    * What we really want is no activations in the output, so why not regularize that?\n",
    "\n",
    "alpha:\n",
    "\n",
    "```\n",
    " In1ToOut1 In2ToOut1\n",
    " In1ToOut2 In2ToOut2\n",
    " In1ToOut3 In2ToOut3\n",
    " In1ToOut4 In2ToOut4\n",
    " In1ToOut5 In2ToOut5\n",
    " ...\n",
    "```"
   ]
  },
  {
   "cell_type": "code",
   "execution_count": 71,
   "id": "901076fa",
   "metadata": {},
   "outputs": [],
   "source": [
    "alpha1 = np.array([\n",
    "    [0.5, 0.5], \n",
    "    [0.4, 0.6], \n",
    "    [0.45, 0.55]\n",
    "])\n",
    "\n",
    "alpha2 = np.array([\n",
    "    [0.9, 0.1], \n",
    "    [0.85, 0.15], \n",
    "    [0.8, 0.2]\n",
    "])\n",
    "\n",
    "alpha3 = np.array([\n",
    "    [0.95, 0.05], \n",
    "    [0.1, 0.9], \n",
    "    [0.3, 0.7]])"
   ]
  },
  {
   "cell_type": "code",
   "execution_count": 73,
   "id": "8cd582c3",
   "metadata": {},
   "outputs": [
    {
     "name": "stdout",
     "output_type": "stream",
     "text": [
      "3.0\n",
      "3.0\n",
      "3.0\n"
     ]
    }
   ],
   "source": [
    "# sparsity across all values\n",
    "print(np.sum(np.abs(alpha1)))\n",
    "print(np.sum(np.abs(alpha2)))\n",
    "print(np.sum(np.abs(alpha3)))"
   ]
  },
  {
   "cell_type": "code",
   "execution_count": 74,
   "id": "18a06996",
   "metadata": {},
   "outputs": [
    {
     "name": "stdout",
     "output_type": "stream",
     "text": [
      "[1. 1. 1.]\n",
      "[1. 1. 1.]\n",
      "[1. 1. 1.]\n"
     ]
    }
   ],
   "source": [
    "# sparsity across rows (full: np.sum(np.sum(np.abs(alpha), axis=1)^2)^0.5)\n",
    "print(np.sum(np.abs(alpha1), axis=1))\n",
    "print(np.sum(np.abs(alpha2), axis=1))\n",
    "print(np.sum(np.abs(alpha3), axis=1))"
   ]
  },
  {
   "cell_type": "code",
   "execution_count": 77,
   "id": "b8fc871d",
   "metadata": {},
   "outputs": [
    {
     "name": "stdout",
     "output_type": "stream",
     "text": [
      "[1.35 1.65]\n",
      "[2.55 0.45]\n",
      "[1.35 1.65]\n"
     ]
    }
   ],
   "source": [
    "# sparsity across columns (full: np.sum(np.sum(np.abs(alpha), axis=0)^2)^0.5)\n",
    "print(np.sum(np.abs(alpha1), axis=0))\n",
    "print(np.sum(np.abs(alpha2), axis=0))\n",
    "print(np.sum(np.abs(alpha3), axis=0))"
   ]
  },
  {
   "cell_type": "code",
   "execution_count": 120,
   "id": "f83082bb",
   "metadata": {},
   "outputs": [
    {
     "name": "stdout",
     "output_type": "stream",
     "text": [
      "1.5250000000000001\n",
      "2.245\n",
      "2.305\n"
     ]
    }
   ],
   "source": [
    "# new objective\n",
    "print(np.sum(alpha1**2)**-1)\n",
    "print(np.sum(alpha2**2)**-1)\n",
    "print(np.sum(alpha3**2)**-1)"
   ]
  }
 ],
 "metadata": {
  "kernelspec": {
   "display_name": "Python 3 (ipykernel)",
   "language": "python",
   "name": "python3"
  },
  "language_info": {
   "codemirror_mode": {
    "name": "ipython",
    "version": 3
   },
   "file_extension": ".py",
   "mimetype": "text/x-python",
   "name": "python",
   "nbconvert_exporter": "python",
   "pygments_lexer": "ipython3",
   "version": "3.8.3"
  },
  "toc": {
   "base_numbering": 1,
   "nav_menu": {},
   "number_sections": false,
   "sideBar": true,
   "skip_h1_title": true,
   "title_cell": "Table of Contents",
   "title_sidebar": "Contents",
   "toc_cell": false,
   "toc_position": {},
   "toc_section_display": true,
   "toc_window_display": false
  }
 },
 "nbformat": 4,
 "nbformat_minor": 5
}
