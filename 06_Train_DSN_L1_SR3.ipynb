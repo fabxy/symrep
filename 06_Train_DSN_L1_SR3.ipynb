{
 "cells": [
  {
   "cell_type": "markdown",
   "id": "629a4fe5",
   "metadata": {},
   "source": [
    "# 2022 Flatiron Machine Learning x Science Summer School\n",
    "\n",
    "## Step 6: Train DSN with $L_1$ regularization on latent features using GhostAdam"
   ]
  },
  {
   "cell_type": "markdown",
   "id": "af52fcb5",
   "metadata": {},
   "source": [
    "Based on [SR3](https://arxiv.org/abs/1807.05411)\n",
    "\n",
    "This is an approach to minimize prediction accuracy and regularization separately\n",
    "\n",
    "With the DSN, do we still have $a_1$ and $a_2$ combined?\n",
    "\n",
    "Let's explore this with a simple sweep"
   ]
  },
  {
   "cell_type": "code",
   "execution_count": null,
   "id": "503c5932",
   "metadata": {},
   "outputs": [],
   "source": [
    "from ghost import GhostWrapper, GhostAdam\n",
    "\n",
    "model = GhostWrapper(model)\n",
    "\n",
    "# model.live is the normal model,\n",
    "# model.ghost is the model to use for regularization.\n",
    "\n",
    "opt = GhostAdam(model, ghost_coeff=1e-4)  # (or, can do `GhostAdam(model.live.parameters(), model.ghost.parameters())`)\n",
    "\n",
    "pred_y = model(X)\n",
    "loss = (y - pred_y).pow(2).mean()\n",
    "\n",
    "#################################################\n",
    "# Compute any regularization, *using the ghost model*:\n",
    "# (This example is L1)\n",
    "regularization = 1e-5 * sum(p.norm(p=1) for p in model.ghost.parameters())\n",
    "#################################################\n",
    "#################################################\n",
    "\n",
    "loss += regularization\n",
    "\n",
    "# Can view the ghost loss used inside the optimizer, which indicates\n",
    "# how far model.live and model.ghost are from eachother.\n",
    "print(loss, opt.ghost_loss)"
   ]
  },
  {
   "cell_type": "markdown",
   "id": "c61d8588",
   "metadata": {},
   "source": [
    "Stuff is not working\n",
    "\n",
    "ghost_loss_backward:\n",
    "\n",
    "* get_param_differences_and_scales:\n",
    "\n",
    "    * get param_groups: dict per live/ghost\n",
    "    \n",
    "    * betas (Tuple[float, float], optional): coefficients used for computing running averages of gradient and its square default: (0.9, 0.999))\n",
    "    \n",
    "    * go through parameters\n",
    "    \n",
    "    * \n",
    "    \n",
    "    \n",
    "    \n",
    "Sanity check: set requires grad to 0 \n",
    "\n",
    "Do we make sure that unregularized parameters are not effected by our trick?\n",
    "\n",
    "\n",
    "\n",
    "\n",
    "We need to make sure that ghost parameters change with live parameters:\n",
    "    Set differences to 0 and set p.ghost to p.live?\n",
    "    \n",
    "necessary?\n",
    "all_p.append(p.live.sum() * 0.0 + p.ghost.sum() * 0.0)\n",
    "\n",
    "\n",
    "is hack slowing us down?\n",
    "\n",
    "ghost L1 activation:\n",
    "13:28<00:00, 12.36it/s, train_loss=2.09e-06, val_loss=1.20e-03\n",
    "\n",
    "vs. regular L1 loss:\n",
    "09:43<00:00, 17.15it/s, train_loss=3.34e-04, val_loss=1.83e-03\n",
    "\n",
    "vs. no ghost L1 activation:\n",
    "09:08<00:00, 18.23it/s, train_loss=1.90e-03, val_loss=1.92e-03\n",
    "\n",
    "vs. ghost L1 activation via 0 loss:\n",
    "13:12<00:00, 12.63it/s, train_loss=2.09e-06, val_loss=1.20e-03"
   ]
  },
  {
   "cell_type": "code",
   "execution_count": null,
   "id": "4b94cc35",
   "metadata": {},
   "outputs": [],
   "source": [
    "# NOTE: the exp_avg_sq does matter\n",
    "v_t = state[\"exp_avg_sq\"]  # In Adam paper, this is v_t\n",
    "hat_v_t = v_t / bias_correction2\n",
    "\n",
    "combined_hat_v_t = hat_v_t.live + hat_v_t.ghost"
   ]
  },
  {
   "cell_type": "code",
   "execution_count": null,
   "id": "f7468f11",
   "metadata": {},
   "outputs": [],
   "source": []
  },
  {
   "cell_type": "code",
   "execution_count": null,
   "id": "9edea72e",
   "metadata": {},
   "outputs": [],
   "source": []
  },
  {
   "cell_type": "markdown",
   "id": "fb977e3d",
   "metadata": {},
   "source": [
    "## 6.1 L1"
   ]
  },
  {
   "cell_type": "code",
   "execution_count": 1,
   "id": "f72d1241",
   "metadata": {},
   "outputs": [],
   "source": [
    "%matplotlib widget\n",
    "%load_ext autoreload\n",
    "%autoreload 2\n",
    "\n",
    "import os\n",
    "import numpy as np\n",
    "import matplotlib.pyplot as plt\n",
    "import joblib\n",
    "\n",
    "import torch\n",
    "import wandb\n",
    "\n",
    "from srnet import SRNet, SRData\n",
    "import srnet_utils as ut"
   ]
  },
  {
   "cell_type": "code",
   "execution_count": 2,
   "id": "58e0538a",
   "metadata": {},
   "outputs": [],
   "source": [
    "# set wandb project\n",
    "wandb_project = \"61-l1-gc-study-F00\""
   ]
  },
  {
   "cell_type": "code",
   "execution_count": 3,
   "id": "1595d1b9",
   "metadata": {},
   "outputs": [],
   "source": [
    "# hyperparams = {\n",
    "#     \"arch\": {\n",
    "#         \"in_size\": train_data.in_data.shape[1],\n",
    "#         \"out_size\": train_data.target_data.shape[1],\n",
    "#         \"hid_num\": (2,0),\n",
    "#         \"hid_size\": 32, \n",
    "#         \"hid_type\": (\"DSN\", \"MLP\"),\n",
    "#         \"lat_size\": 16,\n",
    "#         },\n",
    "#     \"epochs\": 10000,\n",
    "#     \"runtime\": None,\n",
    "#     \"batch_size\": 64,\n",
    "#     \"lr\": 1e-4,\n",
    "#     \"wd\": 1e-4,\n",
    "#     \"l1\": 0.0,\n",
    "#     \"a1\": 0.0,\n",
    "#     \"a2\": 0.0,\n",
    "#     \"gc\": 0.0,\n",
    "#     \"shuffle\": True,\n",
    "# }"
   ]
  },
  {
   "cell_type": "code",
   "execution_count": 4,
   "id": "117a8518",
   "metadata": {},
   "outputs": [],
   "source": [
    "# define hyperparameter study\n",
    "hp_study = {\n",
    "    \"method\": \"grid\", # random, bayesian\n",
    "    #\"metric\": {\n",
    "    #    \"name\": \"val_loss\",\n",
    "    #    \"goal\": \"minimize\",\n",
    "    #},\n",
    "    \"parameters\": {\n",
    "        \"l1\": {\n",
    "            \"values\": [1e-4, 1e-3, 1e-2]\n",
    "        },\n",
    "        \"gc\": {\n",
    "            \"values\": [1e-5, 1e-4, 1e-3]\n",
    "        }\n",
    "    }\n",
    "}"
   ]
  },
  {
   "cell_type": "code",
   "execution_count": 5,
   "id": "7f73ef9c",
   "metadata": {},
   "outputs": [
    {
     "name": "stdout",
     "output_type": "stream",
     "text": [
      "Create sweep with ID: ozbk555b\n",
      "Sweep URL: https://wandb.ai/fabxy/61-l1-gc-study-F00/sweeps/ozbk555b\n"
     ]
    }
   ],
   "source": [
    "# create sweep\n",
    "sweep_id = wandb.sweep(hp_study, project=wandb_project)"
   ]
  },
  {
   "cell_type": "code",
   "execution_count": 5,
   "id": "0b74b87e",
   "metadata": {},
   "outputs": [
    {
     "name": "stdout",
     "output_type": "stream",
     "text": [
      "Downloading srnet_model_F00_a1_1e-05_a2_1e-03_max.pkl.\n"
     ]
    }
   ],
   "source": [
    "# download data from wandb\n",
    "file_ext = \".pkl\"\n",
    "\n",
    "api = wandb.Api()\n",
    "\n",
    "runs = api.runs(wandb_project)\n",
    "for run in runs:\n",
    "    for f in run.files():\n",
    "        if f.name[-len(file_ext):] == file_ext and not os.path.isfile(f.name):\n",
    "            print(f\"Downloading {os.path.basename(f.name)}.\")\n",
    "            run.file(f.name).download()"
   ]
  },
  {
   "cell_type": "code",
   "execution_count": null,
   "id": "3e59b6b9",
   "metadata": {},
   "outputs": [],
   "source": []
  },
  {
   "cell_type": "markdown",
   "id": "fdfc452d",
   "metadata": {},
   "source": [
    "## 6.2 DSN"
   ]
  },
  {
   "cell_type": "code",
   "execution_count": 6,
   "id": "58acdfa0",
   "metadata": {},
   "outputs": [],
   "source": [
    "# set wandb project\n",
    "wandb_project = \"62-a1-a2-gc-study-F00\""
   ]
  },
  {
   "cell_type": "code",
   "execution_count": 7,
   "id": "d7db3e67",
   "metadata": {},
   "outputs": [],
   "source": [
    "# define hyperparameters\n",
    "# hyperparams = {\n",
    "#     \"arch\": {\n",
    "#         \"in_size\": train_data.in_data.shape[1],\n",
    "#         \"out_size\": train_data.target_data.shape[1],\n",
    "#         \"hid_num\": (2,0),\n",
    "#         \"hid_size\": 32, \n",
    "#         \"hid_type\": (\"DSN\", \"MLP\"),\n",
    "#         \"lat_size\": 16,\n",
    "#         },\n",
    "#     \"epochs\": 10000,\n",
    "#     \"runtime\": None,\n",
    "#     \"batch_size\": 64,\n",
    "#     \"lr\": 1e-4,\n",
    "#     \"wd\": 1e-4,\n",
    "#     \"l1\": 0.0,\n",
    "#     \"a1\": 0.0,\n",
    "#     \"a2\": 0.0,\n",
    "#     \"gc\": 0.0,\n",
    "#     \"shuffle\": True,\n",
    "# }"
   ]
  },
  {
   "cell_type": "code",
   "execution_count": 8,
   "id": "d1129d31",
   "metadata": {},
   "outputs": [],
   "source": [
    "# define hyperparameter study\n",
    "hp_study = {\n",
    "    \"method\": \"grid\", # random, bayesian\n",
    "    #\"metric\": {\n",
    "    #    \"name\": \"val_loss\",\n",
    "    #    \"goal\": \"minimize\",\n",
    "    #},\n",
    "    \"parameters\": {\n",
    "        \"a1\": {\n",
    "            \"values\": [1e-5, 1e-3]\n",
    "        },\n",
    "        \"a2\": {\n",
    "            \"values\": [1e-5, 1e-3]\n",
    "        },\n",
    "        \"gc\": {\n",
    "            \"values\": [1e-5, 1e-4, 1e-3]\n",
    "        }\n",
    "    }\n",
    "}"
   ]
  },
  {
   "cell_type": "code",
   "execution_count": 9,
   "id": "7f73ef9c",
   "metadata": {},
   "outputs": [
    {
     "name": "stdout",
     "output_type": "stream",
     "text": [
      "Create sweep with ID: 634o4yk1\n",
      "Sweep URL: https://wandb.ai/fabxy/62-a1-a2-gc-study-F00/sweeps/634o4yk1\n"
     ]
    }
   ],
   "source": [
    "# create sweep\n",
    "sweep_id = wandb.sweep(hp_study, project=wandb_project)"
   ]
  },
  {
   "cell_type": "code",
   "execution_count": 5,
   "id": "0b74b87e",
   "metadata": {},
   "outputs": [
    {
     "name": "stdout",
     "output_type": "stream",
     "text": [
      "Downloading srnet_model_F00_a1_1e-05_a2_1e-03_max.pkl.\n"
     ]
    }
   ],
   "source": [
    "# download data from wandb\n",
    "file_ext = \".pkl\"\n",
    "\n",
    "api = wandb.Api()\n",
    "\n",
    "runs = api.runs(wandb_project)\n",
    "for run in runs:\n",
    "    for f in run.files():\n",
    "        if f.name[-len(file_ext):] == file_ext and not os.path.isfile(f.name):\n",
    "            print(f\"Downloading {os.path.basename(f.name)}.\")\n",
    "            run.file(f.name).download()"
   ]
  },
  {
   "cell_type": "code",
   "execution_count": null,
   "id": "00bcb790",
   "metadata": {},
   "outputs": [],
   "source": []
  },
  {
   "cell_type": "code",
   "execution_count": null,
   "id": "ca196190",
   "metadata": {},
   "outputs": [],
   "source": []
  },
  {
   "cell_type": "code",
   "execution_count": null,
   "id": "a2d7117d",
   "metadata": {},
   "outputs": [],
   "source": []
  }
 ],
 "metadata": {
  "kernelspec": {
   "display_name": "Python 3 (ipykernel)",
   "language": "python",
   "name": "python3"
  },
  "language_info": {
   "codemirror_mode": {
    "name": "ipython",
    "version": 3
   },
   "file_extension": ".py",
   "mimetype": "text/x-python",
   "name": "python",
   "nbconvert_exporter": "python",
   "pygments_lexer": "ipython3",
   "version": "3.8.3"
  },
  "toc": {
   "base_numbering": 1,
   "nav_menu": {},
   "number_sections": false,
   "sideBar": true,
   "skip_h1_title": true,
   "title_cell": "Table of Contents",
   "title_sidebar": "Contents",
   "toc_cell": false,
   "toc_position": {},
   "toc_section_display": true,
   "toc_window_display": false
  }
 },
 "nbformat": 4,
 "nbformat_minor": 5
}
