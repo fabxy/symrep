{
 "cells": [
  {
   "cell_type": "markdown",
   "id": "40c9ae0f",
   "metadata": {},
   "source": [
    "# 2022 Flatiron Machine Learning x Science Summer School\n",
    "\n",
    "## Step 14: Apply symbolic discriminator to advanced problems"
   ]
  },
  {
   "cell_type": "markdown",
   "id": "daa7264c",
   "metadata": {},
   "source": [
    "Next steps:\n",
    "\n",
    "* Define `F09` with larger latent dimensions\n",
    "\n",
    "* <s>Define `F10` with nonlinear function $f(x)$</s>\n",
    "\n",
    "* <s>Define `F11` with larger input and latent dimensions</s>\n",
    "\n",
    "* Define suitable function libraries `F09_v1` <s>and `F10_v1`</s>\n",
    "\n",
    "* Run hyperparameter studies"
   ]
  },
  {
   "cell_type": "markdown",
   "id": "89d2e0d9",
   "metadata": {},
   "source": [
    "### Step 14.1: Create data with larger latent dimensions"
   ]
  },
  {
   "cell_type": "code",
   "execution_count": 1,
   "id": "b3d73ac1",
   "metadata": {},
   "outputs": [],
   "source": [
    "%matplotlib widget\n",
    "%load_ext autoreload\n",
    "%autoreload 2\n",
    "\n",
    "import os\n",
    "import numpy as np\n",
    "import matplotlib.pyplot as plt\n",
    "import joblib\n",
    "\n",
    "import torch\n",
    "import wandb\n",
    "\n",
    "from srnet import SRNet, SRData\n",
    "from sdnet import SDData\n",
    "import srnet_utils as ut"
   ]
  },
  {
   "cell_type": "markdown",
   "id": "4688c9fa",
   "metadata": {},
   "source": [
    "What would be a suitable extension?\n",
    "\n",
    "Currently, we have a latent dimension of 3. Let's define a more complex problem with a latent dimension of 5:"
   ]
  },
  {
   "cell_type": "code",
   "execution_count": 2,
   "id": "6e250ca4",
   "metadata": {},
   "outputs": [],
   "source": [
    "data_size = int(1e3)"
   ]
  },
  {
   "cell_type": "code",
   "execution_count": 3,
   "id": "a4405693",
   "metadata": {},
   "outputs": [],
   "source": [
    "x_data = torch.randn(size=(data_size, 2))"
   ]
  },
  {
   "cell_type": "code",
   "execution_count": 4,
   "id": "88ccefe0",
   "metadata": {},
   "outputs": [
    {
     "data": {
      "application/vnd.jupyter.widget-view+json": {
       "model_id": "53eb6f206b084645bf2c8236d65bb17d",
       "version_major": 2,
       "version_minor": 0
      },
      "text/plain": [
       "Canvas(toolbar=Toolbar(toolitems=[('Home', 'Reset original view', 'home', 'home'), ('Back', 'Back to previous …"
      ]
     },
     "metadata": {},
     "output_type": "display_data"
    }
   ],
   "source": [
    "z_data = [\n",
    "    (\"1.5*x*x\", 1.5 * x_data[:,0] * x_data[:,0]),\n",
    "    (\"3.5*sin(2.5*y)\", 3.5 * torch.sin(2.5 * x_data[:,1])),\n",
    "    (\"3.0*x*cos(0.5*x)\", 3.0 * x_data[:,0] * torch.cos(0.5*x_data[:,0])),\n",
    "    (\"x*y\", x_data[:,0] * x_data[:,1]),\n",
    "    (\"0.5*y*exp(x)\", 0.5 * x_data[:,1] * torch.exp(x_data[:,0])),\n",
    "]\n",
    "\n",
    "ut.plot_acts(x_data[:,0], x_data[:,1], z_data)"
   ]
  },
  {
   "cell_type": "markdown",
   "id": "bdf22fd8",
   "metadata": {},
   "source": [
    "Create function library `F09_v1`:"
   ]
  },
  {
   "cell_type": "code",
   "execution_count": 5,
   "id": "0b49b244",
   "metadata": {},
   "outputs": [],
   "source": [
    "fun_path = \"funs/F09_v1.lib\"\n",
    "in_var = \"X09\"\n",
    "shuffle = False"
   ]
  },
  {
   "cell_type": "code",
   "execution_count": 6,
   "id": "4c807563",
   "metadata": {},
   "outputs": [],
   "source": [
    "disc_data = SDData(fun_path, in_var, shuffle=shuffle)"
   ]
  },
  {
   "cell_type": "code",
   "execution_count": 7,
   "id": "c1880fcd",
   "metadata": {},
   "outputs": [
    {
     "data": {
      "text/plain": [
       "['N*1.5*X09[:,0]**2',\n",
       " 'N*1.5*X09[:,1]**2',\n",
       " 'N*0.25*X09[:,0]**3',\n",
       " 'N*0.25*X09[:,1]**3',\n",
       " 'N*3.5*np.sin(2*U*2.5*X09[:,0])',\n",
       " 'N*3.5*np.sin(2*U*2.5*X09[:,1])',\n",
       " 'N*3.5*np.cos(2*U*2.5*X09[:,0])',\n",
       " 'N*3.5*np.cos(2*U*2.5*X09[:,1])',\n",
       " 'N*3.0*X09[:,0]*np.sin(2*U*0.5*X09[:,0])',\n",
       " 'N*3.0*X09[:,1]*np.sin(2*U*0.5*X09[:,1])',\n",
       " 'N*3.0*X09[:,0]*np.cos(2*U*0.5*X09[:,0])',\n",
       " 'N*3.0*X09[:,1]*np.cos(2*U*0.5*X09[:,1])',\n",
       " 'N*X09[:,0]*X09[:,1]',\n",
       " 'N*X09[:,1]*X09[:,0]',\n",
       " 'N*0.5*X09[:,0]*np.exp(U*X09[:,1])',\n",
       " 'N*0.5*X09[:,1]*np.exp(U*X09[:,0])']"
      ]
     },
     "execution_count": 7,
     "metadata": {},
     "output_type": "execute_result"
    }
   ],
   "source": [
    "disc_data.funs"
   ]
  },
  {
   "cell_type": "code",
   "execution_count": 8,
   "id": "8a1506de",
   "metadata": {},
   "outputs": [],
   "source": [
    "n_samp = 10\n",
    "colors = plt.rcParams['axes.prop_cycle'].by_key()['color']"
   ]
  },
  {
   "cell_type": "code",
   "execution_count": 9,
   "id": "edbfb373",
   "metadata": {},
   "outputs": [
    {
     "data": {
      "application/vnd.jupyter.widget-view+json": {
       "model_id": "3e4f98e084fb4275a4ed741200a9daa7",
       "version_major": 2,
       "version_minor": 0
      },
      "text/plain": [
       "Canvas(toolbar=Toolbar(toolitems=[('Home', 'Reset original view', 'home', 'home'), ('Back', 'Back to previous …"
      ]
     },
     "metadata": {},
     "output_type": "display_data"
    }
   ],
   "source": [
    "fig, ax = plt.subplots()\n",
    "\n",
    "for _ in range(n_samp):\n",
    "    ax.scatter(x_data[:,0], disc_data.get(in_data=x_data)[0,0,:], color=colors[0], alpha=0.5)\n",
    "    ax.scatter(x_data[:,0], disc_data.get(in_data=x_data)[0,2,:], color=colors[1], alpha=0.5)\n",
    "    ax.scatter(x_data[:,0], disc_data.get(in_data=x_data)[0,4,:], color=colors[2], alpha=0.5)\n",
    "    ax.scatter(x_data[:,0], disc_data.get(in_data=x_data)[0,6,:], color=colors[3], alpha=0.5)\n",
    "    ax.scatter(x_data[:,0], disc_data.get(in_data=x_data)[0,8,:], color=colors[4], alpha=0.5)\n",
    "    ax.scatter(x_data[:,0], disc_data.get(in_data=x_data)[0,10,:], color=colors[5], alpha=0.5)\n",
    "    \n",
    "ax.scatter(x_data[:,0], 1.5*x_data[:,0]**2, color='k')\n",
    "ax.scatter(x_data[:,0], 3.5*torch.sin(2.5*x_data[:,0]), color='k')\n",
    "ax.scatter(x_data[:,0], 3.0*x_data[:,0]*torch.cos(0.5*x_data[:,0]), color='k')\n",
    "plt.show()\n"
   ]
  },
  {
   "cell_type": "markdown",
   "id": "33ec8a2e",
   "metadata": {},
   "source": [
    "### Step 14.2: Train bottleneck masked DSN with SD regularization on `F09_v1`"
   ]
  },
  {
   "cell_type": "code",
   "execution_count": 10,
   "id": "11ed5615",
   "metadata": {},
   "outputs": [],
   "source": [
    "# set wandb project\n",
    "wandb_project = \"142-bn-mask-DSN-sd-study-F09_v1\""
   ]
  },
  {
   "cell_type": "code",
   "execution_count": 11,
   "id": "9e2d1cd5",
   "metadata": {},
   "outputs": [],
   "source": [
    "# hyperparams = {\n",
    "#     \"arch\": {\n",
    "#         \"in_size\": train_data.in_data.shape[1],\n",
    "#         \"out_size\": train_data.target_data.shape[1],\n",
    "#         \"hid_num\": (2,0),\n",
    "#         \"hid_size\": 32, \n",
    "#         \"hid_type\": (\"DSN\", \"MLP\"),\n",
    "#         \"hid_kwargs\": {\n",
    "#             \"alpha\": [[1,0],[0,1],[1,0],[1,1],[1,1]],\n",
    "#             \"norm\": None,\n",
    "#             \"prune\": None,\n",
    "#             },\n",
    "#         \"lat_size\": 5,\n",
    "#         },\n",
    "#     \"epochs\": 30000,\n",
    "#     \"runtime\": None,\n",
    "#     \"batch_size\": train_data.in_data.shape[0],\n",
    "#     \"shuffle\": False,\n",
    "#     \"lr\": 1e-4,\n",
    "#     \"wd\": 1e-6,\n",
    "#     \"l1\": 0.0,\n",
    "#     \"a1\": 0.0,\n",
    "#     \"a2\": 0.0,\n",
    "#     \"e1\": 0.0,\n",
    "#     \"e2\": 0.0,\n",
    "#     \"e3\": 0.0,\n",
    "#     \"gc\": 0.0,\n",
    "#     \"sd\": 1e-6,\n",
    "#     \"disc\": {\n",
    "#         \"hid_num\": 6,\n",
    "#         \"hid_size\": 128,\n",
    "#         \"emb_size\": None,\n",
    "#         \"lr\": 1e-3,\n",
    "#         \"wd\": 1e-7,\n",
    "#         \"betas\": (0.9,0.999),\n",
    "#         \"iters\": 5,\n",
    "#         \"gp\": 1e-5,\n",
    "#     },\n",
    "# }"
   ]
  },
  {
   "cell_type": "code",
   "execution_count": 12,
   "id": "9ce8dfc8",
   "metadata": {},
   "outputs": [],
   "source": [
    "# define hyperparameter study\n",
    "hp_study = {\n",
    "    \"method\": \"random\",\n",
    "    \"parameters\": {\n",
    "        \"lr\": {\n",
    "            \"values\": [1e-5, 1e-4, 1e-3]\n",
    "        },\n",
    "        \"sd\": {\n",
    "            \"values\": [1e-7, 1e-6, 1e-5, 1e-4]\n",
    "        },\n",
    "        \"disc\": {\n",
    "            \"parameters\": {\n",
    "                \"hid_num\": {\n",
    "                    \"values\": [2, 4, 6, 8]\n",
    "                },\n",
    "                \"hid_size\": {\n",
    "                    \"values\": [64, 128, 256, 512]\n",
    "                },\n",
    "                \"lr\": {\n",
    "                    \"values\": [1e-5, 1e-4, 1e-3, 1e-2]\n",
    "                },\n",
    "                \"iters\": {\n",
    "                    \"values\": [2, 5, 8]\n",
    "                },\n",
    "                \"gp\": {\n",
    "                    \"values\": [1e-6, 1e-5, 1e-4, 1e-3]\n",
    "                },\n",
    "            }\n",
    "        }\n",
    "    }\n",
    "}"
   ]
  },
  {
   "cell_type": "code",
   "execution_count": null,
   "id": "aafce32b",
   "metadata": {},
   "outputs": [],
   "source": [
    "# create sweep\n",
    "sweep_id = wandb.sweep(hp_study, project=wandb_project)"
   ]
  },
  {
   "cell_type": "markdown",
   "id": "945b9845",
   "metadata": {
    "hide_input": false
   },
   "source": [
    "<img src=\"results/132-bn-mask-DSN-sd-study-F07_v1.png\">"
   ]
  },
  {
   "cell_type": "markdown",
   "id": "1aff19c4",
   "metadata": {},
   "source": [
    "Quick notes:\n",
    "\n",
    "* Only 2 out of 60 training runs improve `min_corr` without large oscillations:\n",
    "\n",
    "        good, better\n",
    "\n",
    "    * lr: 1e-5, 1e-5\n",
    "\n",
    "    * sd: 1e-6, 1e-7\n",
    "       \n",
    "    * sd.lr: 1e-3, 1e-2\n",
    "    \n",
    "    * sd.iters: 2, 8\n",
    "    \n",
    "    * sd.gp: 1e-4, 1e-4\n",
    "    \n",
    "    * sd.hid_num: 2, 6\n",
    "\n",
    "    * sd.hid_size: 256, 64\n",
    "    \n",
    "* 1 training runs with low validation error but high oscillations:\n",
    "\n",
    "    * lr: 1e-3\n",
    "    \n",
    "    * sd: 1e-7\n",
    "       \n",
    "    * sd.lr: 1e-3\n",
    "    \n",
    "    * sd.iters: 8\n",
    "    \n",
    "    * sd.gp: 1e-4\n",
    "    \n",
    "    * sd.hid_num: 4\n",
    "    \n",
    "    * sd.hid_size: 128\n",
    "\n",
    "* 2 training runs in between:\n",
    "\n",
    "    more osc., less osc.\n",
    "\n",
    "    * lr: 1e-4, 1e-4\n",
    "\n",
    "    * sd: 1e-6, 1e-7\n",
    "       \n",
    "    * sd.lr: 1e-3, 1e-5\n",
    "    \n",
    "    * sd.iters: 5, 8\n",
    "    \n",
    "    * sd.gp: 1e-3, 1e-3\n",
    "    \n",
    "    * sd.hid_num: 8, 2\n",
    "\n",
    "    * sd.hid_size: 128, 256\n",
    "\n",
    "* 1 training run with large training error:\n",
    "\n",
    "    * lr: 1e-4\n",
    "\n",
    "    * sd: 1e-6\n",
    "       \n",
    "    * sd.lr: 1e-3\n",
    "    \n",
    "    * sd.iters: 5\n",
    "    \n",
    "    * sd.gp: 1e-5\n",
    "    \n",
    "    * sd.hid_num: 2\n",
    "\n",
    "    * sd.hid_size: 256\n"
   ]
  },
  {
   "cell_type": "code",
   "execution_count": 13,
   "id": "ac2b1896",
   "metadata": {},
   "outputs": [],
   "source": [
    "# load data\n",
    "data_path = \"data_1k\"\n",
    "\n",
    "in_var = \"X09\"\n",
    "lat_var = \"G09\"\n",
    "target_var = \"F09\"\n",
    "\n",
    "mask_ext = \".mask\"\n",
    "masks = joblib.load(os.path.join(data_path, in_var + mask_ext))\n",
    "\n",
    "train_data = SRData(data_path, in_var, lat_var, target_var, masks[\"train\"])\n",
    "val_data = SRData(data_path, in_var, lat_var, target_var, masks[\"val\"])"
   ]
  },
  {
   "cell_type": "code",
   "execution_count": 14,
   "id": "c7394963",
   "metadata": {},
   "outputs": [
    {
     "data": {
      "application/vnd.jupyter.widget-view+json": {
       "model_id": "15917752d30548edaed0ee1ce1dbbc0b",
       "version_major": 2,
       "version_minor": 0
      },
      "text/plain": [
       "Canvas(toolbar=Toolbar(toolitems=[('Home', 'Reset original view', 'home', 'home'), ('Back', 'Back to previous …"
      ]
     },
     "metadata": {},
     "output_type": "display_data"
    }
   ],
   "source": [
    "# plot losses\n",
    "save_names = [\n",
    "    \"srnet_model_F09_v1_bn_mask_sd_study_v1\",\n",
    "]\n",
    "save_path = \"models\"\n",
    "models = ut.plot_losses(save_names, save_path=\"models\", excl_names=[])"
   ]
  },
  {
   "cell_type": "code",
   "execution_count": 15,
   "id": "34438533",
   "metadata": {},
   "outputs": [
    {
     "data": {
      "text/plain": [
       "torch.Size([700, 5])"
      ]
     },
     "execution_count": 15,
     "metadata": {},
     "output_type": "execute_result"
    }
   ],
   "source": [
    "train_data.lat_data.shape"
   ]
  },
  {
   "cell_type": "code",
   "execution_count": 16,
   "id": "dcf043b2",
   "metadata": {},
   "outputs": [],
   "source": [
    "corr_data = [(f\"g{i}\", train_data.lat_data[:,i]) for i in range(train_data.lat_data.shape[1])]"
   ]
  },
  {
   "cell_type": "code",
   "execution_count": 17,
   "id": "9f41e453",
   "metadata": {},
   "outputs": [
    {
     "name": "stdout",
     "output_type": "stream",
     "text": [
      "srnet_model_F09_v1_bn_mask_sd_study_v1\n",
      "1e-07\n",
      "{'gp': 0.0001, 'hid_num': 6, 'hid_size': 64, 'iters': 8, 'lr': 0.01}\n",
      "[9.079713, 7.470909, 6.1827435, 3.0480175, 1.0701797]\n",
      "[4, 3, 0, 1, 2]\n",
      "Validation error: 1.0992e+00\n",
      "\n",
      "Node 4\n",
      "corr(n4, g0): -0.2870\n",
      "corr(n4, g1): -0.6009\n",
      "corr(n4, g2): -0.4044\n",
      "corr(n4, g3): -0.5032\n",
      "corr(n4, g4): -0.5091\n",
      "\n",
      "Node 3\n",
      "corr(n3, g0): -0.4710\n",
      "corr(n3, g1): -0.3507\n",
      "corr(n3, g2): -0.3667\n",
      "corr(n3, g3): -0.6553\n",
      "corr(n3, g4): -0.5799\n",
      "\n",
      "Node 0\n",
      "corr(n0, g0): -0.8660\n",
      "corr(n0, g1): 0.0208\n",
      "corr(n0, g2): -0.5016\n",
      "corr(n0, g3): -0.1287\n",
      "corr(n0, g4): 0.0008\n",
      "\n",
      "Node 1\n",
      "corr(n1, g0): 0.0235\n",
      "corr(n1, g1): -0.8218\n",
      "corr(n1, g2): 0.0028\n",
      "corr(n1, g3): 0.0068\n",
      "corr(n1, g4): -0.3690\n",
      "\n",
      "Node 2\n",
      "corr(n2, g0): -0.3999\n",
      "corr(n2, g1): 0.0272\n",
      "corr(n2, g2): -0.8802\n",
      "corr(n2, g3): -0.0660\n",
      "corr(n2, g4): -0.0052\n",
      "\n"
     ]
    }
   ],
   "source": [
    "model_path = \"models\"\n",
    "model_ext = \".pkl\"\n",
    "\n",
    "for model_name in models:\n",
    "    print(model_name)\n",
    "    \n",
    "    state = joblib.load(os.path.join(model_path, model_name + model_ext))\n",
    "    \n",
    "    print(state['hyperparams']['sd'])\n",
    "    print(state['hyperparams']['disc'])\n",
    "    \n",
    "    model = ut.load_model(model_name + model_ext, model_path, SRNet)\n",
    "    \n",
    "    with torch.no_grad():\n",
    "        preds, acts = model(train_data.in_data, get_lat=True)\n",
    "        \n",
    "    all_nodes = ut.get_node_order(acts, show=True)\n",
    "    \n",
    "    print(f\"Validation error: {state['total_val_loss']:.4e}\")\n",
    "        \n",
    "    corr_mat = ut.node_correlations(acts, all_nodes, corr_data, show=True)\n",
    "        \n",
    "    print(\"\")"
   ]
  },
  {
   "cell_type": "code",
   "execution_count": 18,
   "id": "1230e6cf",
   "metadata": {},
   "outputs": [],
   "source": [
    "model_name = \"srnet_model_F09_v1_bn_mask_sd_study_v1\"\n",
    "model_path = \"models\"\n",
    "model_ext = \".pkl\"\n",
    "\n",
    "model = ut.load_model(model_name + model_ext, model_path, SRNet)\n",
    "\n",
    "with torch.no_grad():\n",
    "    preds, acts = model(train_data.in_data, get_lat=True)"
   ]
  },
  {
   "cell_type": "code",
   "execution_count": 19,
   "id": "ed7a7949",
   "metadata": {},
   "outputs": [
    {
     "data": {
      "application/vnd.jupyter.widget-view+json": {
       "model_id": "ba4a3282708e4927bcbe8c0b9550f02e",
       "version_major": 2,
       "version_minor": 0
      },
      "text/plain": [
       "Canvas(toolbar=Toolbar(toolitems=[('Home', 'Reset original view', 'home', 'home'), ('Back', 'Back to previous …"
      ]
     },
     "metadata": {},
     "output_type": "display_data"
    }
   ],
   "source": [
    "fig, ax = plt.subplots()\n",
    "\n",
    "n = 0\n",
    "bias = True\n",
    "\n",
    "ax.scatter(train_data.in_data[:,n], train_data.lat_data[:,n])\n",
    "ax.scatter(train_data.in_data[:,n], model.layers2[0].weight[0,n].item()*acts[:,n] + bias * model.layers2[0].bias.item())\n",
    "\n",
    "plt.show()"
   ]
  },
  {
   "cell_type": "code",
   "execution_count": 20,
   "id": "c20c2e7c",
   "metadata": {},
   "outputs": [
    {
     "data": {
      "application/vnd.jupyter.widget-view+json": {
       "model_id": "9d387ab665c24ad4be2dde63e2203515",
       "version_major": 2,
       "version_minor": 0
      },
      "text/plain": [
       "Canvas(toolbar=Toolbar(toolitems=[('Home', 'Reset original view', 'home', 'home'), ('Back', 'Back to previous …"
      ]
     },
     "metadata": {},
     "output_type": "display_data"
    }
   ],
   "source": [
    "fig, ax = plt.subplots()\n",
    "\n",
    "n = 1\n",
    "bias = True\n",
    "\n",
    "ax.scatter(train_data.in_data[:,n], train_data.lat_data[:,n])\n",
    "ax.scatter(train_data.in_data[:,n], model.layers2[0].weight[0,n].item()*acts[:,n] + bias * model.layers2[0].bias.item())\n",
    "\n",
    "plt.show()"
   ]
  },
  {
   "cell_type": "code",
   "execution_count": 21,
   "id": "a611c263",
   "metadata": {},
   "outputs": [
    {
     "data": {
      "application/vnd.jupyter.widget-view+json": {
       "model_id": "53ebed66b2374beebc1f9f138c50c880",
       "version_major": 2,
       "version_minor": 0
      },
      "text/plain": [
       "Canvas(toolbar=Toolbar(toolitems=[('Home', 'Reset original view', 'home', 'home'), ('Back', 'Back to previous …"
      ]
     },
     "metadata": {},
     "output_type": "display_data"
    }
   ],
   "source": [
    "fig, ax = plt.subplots()\n",
    "\n",
    "n = 2\n",
    "bias = True\n",
    "\n",
    "ax.scatter(train_data.in_data[:,0], train_data.lat_data[:,n])\n",
    "ax.scatter(train_data.in_data[:,0], model.layers2[0].weight[0,n].item()*acts[:,n] + bias * model.layers2[0].bias.item())\n",
    "\n",
    "plt.show()"
   ]
  },
  {
   "cell_type": "code",
   "execution_count": 22,
   "id": "9279acc2",
   "metadata": {},
   "outputs": [
    {
     "data": {
      "application/vnd.jupyter.widget-view+json": {
       "model_id": "1757585219cb4ca5bad3d35cc16e0cd0",
       "version_major": 2,
       "version_minor": 0
      },
      "text/plain": [
       "Canvas(toolbar=Toolbar(toolitems=[('Home', 'Reset original view', 'home', 'home'), ('Back', 'Back to previous …"
      ]
     },
     "metadata": {},
     "output_type": "display_data"
    }
   ],
   "source": [
    "n = 3\n",
    "z_data = [(f\"g{n}\", train_data.lat_data[:,n])]\n",
    "plot_size = train_data.target_data.shape[0]\n",
    "\n",
    "ut.plot_acts(train_data.in_data[:,0], train_data.in_data[:,1], z_data, acts=acts, nodes=[n], model=model, bias=False, nonzero=False, agg=False, plot_size=plot_size)"
   ]
  },
  {
   "cell_type": "code",
   "execution_count": 23,
   "id": "c98480d5",
   "metadata": {},
   "outputs": [
    {
     "data": {
      "application/vnd.jupyter.widget-view+json": {
       "model_id": "9c010300fbbf481b98bb95428a4f8628",
       "version_major": 2,
       "version_minor": 0
      },
      "text/plain": [
       "Canvas(toolbar=Toolbar(toolitems=[('Home', 'Reset original view', 'home', 'home'), ('Back', 'Back to previous …"
      ]
     },
     "metadata": {},
     "output_type": "display_data"
    }
   ],
   "source": [
    "n = 4\n",
    "z_data = [(f\"g{n}\", train_data.lat_data[:,n])]\n",
    "plot_size = train_data.target_data.shape[0]\n",
    "\n",
    "ut.plot_acts(train_data.in_data[:,0], train_data.in_data[:,1], z_data, acts=acts, nodes=[n], model=model, bias=False, nonzero=False, agg=False, plot_size=plot_size)"
   ]
  },
  {
   "cell_type": "markdown",
   "id": "2adb42b6",
   "metadata": {},
   "source": [
    "**Note**: Training `srnet_model_F09_v1_bn_mask_sd_study_v1` for 150,000 epochs does not increase `min_corr` and diverges eventually"
   ]
  }
 ],
 "metadata": {
  "kernelspec": {
   "display_name": "Python 3 (ipykernel)",
   "language": "python",
   "name": "python3"
  },
  "language_info": {
   "codemirror_mode": {
    "name": "ipython",
    "version": 3
   },
   "file_extension": ".py",
   "mimetype": "text/x-python",
   "name": "python",
   "nbconvert_exporter": "python",
   "pygments_lexer": "ipython3",
   "version": "3.8.3"
  },
  "toc": {
   "base_numbering": 1,
   "nav_menu": {},
   "number_sections": false,
   "sideBar": true,
   "skip_h1_title": true,
   "title_cell": "Table of Contents",
   "title_sidebar": "Contents",
   "toc_cell": false,
   "toc_position": {},
   "toc_section_display": true,
   "toc_window_display": false
  }
 },
 "nbformat": 4,
 "nbformat_minor": 5
}
