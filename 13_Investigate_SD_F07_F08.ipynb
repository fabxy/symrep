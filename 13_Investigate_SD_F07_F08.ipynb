{
 "cells": [
  {
   "cell_type": "markdown",
   "id": "99fe7d49",
   "metadata": {},
   "source": [
    "# 2022 Flatiron Machine Learning x Science Summer School\n",
    "\n",
    "## Step 13: Investigate symbolic discriminator"
   ]
  },
  {
   "cell_type": "markdown",
   "id": "5c53e455",
   "metadata": {},
   "source": [
    "Next steps:\n",
    "\n",
    "* Define `F00_v5`\n",
    "\n",
    "* Define `F07` with extended input range\n",
    "\n",
    "* Define `F08` with noise\n",
    "\n",
    "* Run hyperparameter study\n",
    "\n",
    "* Consider embedding (derivatives?)\n",
    "\n",
    "* Consider GhostAdam?\n",
    "\n",
    "* Restart from trained DSN\n",
    "\n",
    "* Select library functions depending on the number of input features\n",
    "\n",
    "* Train discriminator independently from `SRNet`?\n",
    "\n",
    "Discussion with Miles:\n",
    "\n",
    "* SD optimizer: `beta=(0.5, 0.9)`\n",
    "\n",
    "* Resample real function data every SD iteration\n",
    "\n",
    "* Resample input data every batch"
   ]
  },
  {
   "cell_type": "markdown",
   "id": "89d2e0d9",
   "metadata": {},
   "source": [
    "### Step 13.1: Create data with extended input range and noise"
   ]
  },
  {
   "cell_type": "code",
   "execution_count": 35,
   "id": "b3d73ac1",
   "metadata": {},
   "outputs": [
    {
     "name": "stdout",
     "output_type": "stream",
     "text": [
      "The autoreload extension is already loaded. To reload it, use:\n",
      "  %reload_ext autoreload\n"
     ]
    }
   ],
   "source": [
    "%matplotlib widget\n",
    "%load_ext autoreload\n",
    "%autoreload 2\n",
    "\n",
    "import os\n",
    "import numpy as np\n",
    "import matplotlib.pyplot as plt\n",
    "import joblib\n",
    "\n",
    "import torch\n",
    "import wandb\n",
    "\n",
    "from srnet import SRNet, SRData\n",
    "from sdnet import SDData\n",
    "import srnet_utils as ut"
   ]
  },
  {
   "cell_type": "code",
   "execution_count": 36,
   "id": "0b49b244",
   "metadata": {},
   "outputs": [],
   "source": [
    "fun_path = \"funs/F07_v1.lib\"\n",
    "in_var = \"X07\"\n",
    "shuffle = False"
   ]
  },
  {
   "cell_type": "code",
   "execution_count": 37,
   "id": "4c807563",
   "metadata": {},
   "outputs": [],
   "source": [
    "disc_data = SDData(fun_path, in_var, shuffle=shuffle)"
   ]
  },
  {
   "cell_type": "code",
   "execution_count": 38,
   "id": "6e250ca4",
   "metadata": {},
   "outputs": [],
   "source": [
    "data_size = int(1e3)"
   ]
  },
  {
   "cell_type": "code",
   "execution_count": 39,
   "id": "a4405693",
   "metadata": {},
   "outputs": [],
   "source": [
    "x_data = torch.randn(size=(data_size, 2))"
   ]
  },
  {
   "cell_type": "code",
   "execution_count": 40,
   "id": "1387637f",
   "metadata": {},
   "outputs": [
    {
     "data": {
      "text/plain": [
       "tensor(4.1430)"
      ]
     },
     "execution_count": 40,
     "metadata": {},
     "output_type": "execute_result"
    }
   ],
   "source": [
    "x_data.max()"
   ]
  },
  {
   "cell_type": "code",
   "execution_count": 41,
   "id": "c1880fcd",
   "metadata": {},
   "outputs": [
    {
     "data": {
      "text/plain": [
       "['2.7*N*X07[:,0]**2',\n",
       " '2.7*N*X07[:,1]**2',\n",
       " '0.45*N*X07[:,0]**3',\n",
       " '0.45*N*X07[:,1]**3',\n",
       " '5*N*np.sin(3*U*X07[:,0])',\n",
       " '5*N*np.sin(3*U*X07[:,1])',\n",
       " '5*N*np.cos(6*U*X07[:,0])',\n",
       " '5*N*np.cos(6*U*X07[:,1])',\n",
       " '4.5*N*X07[:,0] * X07[:,1]']"
      ]
     },
     "execution_count": 41,
     "metadata": {},
     "output_type": "execute_result"
    }
   ],
   "source": [
    "disc_data.funs"
   ]
  },
  {
   "cell_type": "code",
   "execution_count": 42,
   "id": "8a1506de",
   "metadata": {},
   "outputs": [],
   "source": [
    "n_samp = 10\n",
    "colors = plt.rcParams['axes.prop_cycle'].by_key()['color']"
   ]
  },
  {
   "cell_type": "code",
   "execution_count": 13,
   "id": "edbfb373",
   "metadata": {},
   "outputs": [
    {
     "data": {
      "application/vnd.jupyter.widget-view+json": {
       "model_id": "e381ae7e17a74633827d69cbcb829860",
       "version_major": 2,
       "version_minor": 0
      },
      "text/plain": [
       "Canvas(toolbar=Toolbar(toolitems=[('Home', 'Reset original view', 'home', 'home'), ('Back', 'Back to previous …"
      ]
     },
     "metadata": {},
     "output_type": "display_data"
    }
   ],
   "source": [
    "fig, ax = plt.subplots()\n",
    "\n",
    "for _ in range(n_samp):\n",
    "    ax.scatter(x_data[:,0], disc_data.get(in_data=x_data)[0,0,:], color=colors[0], alpha=0.5)\n",
    "    ax.scatter(x_data[:,0], disc_data.get(in_data=x_data)[0,2,:], color=colors[1], alpha=0.5)\n",
    "    ax.scatter(x_data[:,0], disc_data.get(in_data=x_data)[0,4,:], color=colors[2], alpha=0.5)\n",
    "    ax.scatter(x_data[:,0], disc_data.get(in_data=x_data)[0,6,:], color=colors[3], alpha=0.5)\n",
    "    \n",
    "ax.scatter(x_data[:,0], 2.7*x_data[:,0]**2, color='k')\n",
    "ax.scatter(x_data[:,0], 5*torch.cos(3*x_data[:,0]), color='k')\n",
    "\n",
    "plt.show()"
   ]
  },
  {
   "cell_type": "code",
   "execution_count": 14,
   "id": "db5250f1",
   "metadata": {},
   "outputs": [
    {
     "data": {
      "application/vnd.jupyter.widget-view+json": {
       "model_id": "09a4a0f1557c41438597f40f61d1835a",
       "version_major": 2,
       "version_minor": 0
      },
      "text/plain": [
       "Canvas(toolbar=Toolbar(toolitems=[('Home', 'Reset original view', 'home', 'home'), ('Back', 'Back to previous …"
      ]
     },
     "metadata": {},
     "output_type": "display_data"
    }
   ],
   "source": [
    "z_data = [\n",
    "    (\"2.7*x*x\", 2.7 * x_data[:,0] * x_data[:,0]),\n",
    "    (\"5*cos(3*y)\", 5 * torch.cos(3 * x_data[:,1])),\n",
    "    (\"4.5*x*y\", 4.5 * x_data[:,0] * x_data[:,1])]\n",
    "ut.plot_acts(x_data[:,0], x_data[:,1], z_data)"
   ]
  },
  {
   "cell_type": "markdown",
   "id": "bc333004",
   "metadata": {},
   "source": [
    "Created `F07` and `F07_v1`.\n",
    "\n",
    "Let's create some data with noise.\n",
    "\n",
    "Option 1:"
   ]
  },
  {
   "cell_type": "code",
   "execution_count": 58,
   "id": "581799be",
   "metadata": {},
   "outputs": [
    {
     "data": {
      "application/vnd.jupyter.widget-view+json": {
       "model_id": "a765d4f58be543c2b91b4666481120fc",
       "version_major": 2,
       "version_minor": 0
      },
      "text/plain": [
       "Canvas(toolbar=Toolbar(toolitems=[('Home', 'Reset original view', 'home', 'home'), ('Back', 'Back to previous …"
      ]
     },
     "metadata": {},
     "output_type": "display_data"
    }
   ],
   "source": [
    "fig, ax = plt.subplots()\n",
    "\n",
    "ax.scatter(x_data[:,0], torch.sin(x_data[:,0]) + 0.05*(x_data[:,0]+0.75)*torch.cos(10*x_data[:,0]))\n",
    "ax.scatter(x_data[:,0], torch.sin(x_data[:,0]))\n",
    "\n",
    "plt.show()"
   ]
  },
  {
   "cell_type": "markdown",
   "id": "49c25cd5",
   "metadata": {},
   "source": [
    "Option 2:"
   ]
  },
  {
   "cell_type": "code",
   "execution_count": 59,
   "id": "ef9b2e4a",
   "metadata": {},
   "outputs": [],
   "source": [
    "x_data = np.random.randn(1000,1)"
   ]
  },
  {
   "cell_type": "code",
   "execution_count": 60,
   "id": "a28d4f60",
   "metadata": {},
   "outputs": [
    {
     "data": {
      "application/vnd.jupyter.widget-view+json": {
       "model_id": "9fd668152c6d45d3a83c005325dc74e3",
       "version_major": 2,
       "version_minor": 0
      },
      "text/plain": [
       "Canvas(toolbar=Toolbar(toolitems=[('Home', 'Reset original view', 'home', 'home'), ('Back', 'Back to previous …"
      ]
     },
     "metadata": {},
     "output_type": "display_data"
    }
   ],
   "source": [
    "fig, ax = plt.subplots()\n",
    "\n",
    "a = 1.0\n",
    "c = 1.5\n",
    "\n",
    "ax.scatter(x_data, ut.triangle_cos(x_data, a, c))\n",
    "ax.scatter(x_data, ut.triangle(x_data, a, c))\n",
    "\n",
    "plt.show()"
   ]
  },
  {
   "cell_type": "code",
   "execution_count": 61,
   "id": "072186ac",
   "metadata": {},
   "outputs": [],
   "source": [
    "data_path = \"data_1k\"\n",
    "data_ext = \".gz\"\n",
    "info_ext = \".info\""
   ]
  },
  {
   "cell_type": "code",
   "execution_count": 62,
   "id": "0f2d0388",
   "metadata": {},
   "outputs": [],
   "source": [
    "a = 1.0\n",
    "c = 1.5"
   ]
  },
  {
   "cell_type": "code",
   "execution_count": 63,
   "id": "324fe47f",
   "metadata": {},
   "outputs": [],
   "source": [
    "g_data = ut.triangle_cos(x_data, a, c)"
   ]
  },
  {
   "cell_type": "code",
   "execution_count": 64,
   "id": "a6d057ab",
   "metadata": {},
   "outputs": [],
   "source": [
    "f_data = ut.triangle(x_data, a, c)"
   ]
  },
  {
   "cell_type": "code",
   "execution_count": null,
   "id": "d15a0d0f",
   "metadata": {},
   "outputs": [],
   "source": [
    "np.savetxt(os.path.join(data_path, \"X08\" + data_ext), x_data)"
   ]
  },
  {
   "cell_type": "code",
   "execution_count": null,
   "id": "a1ed30a2",
   "metadata": {},
   "outputs": [],
   "source": [
    "np.savetxt(os.path.join(data_path, \"G08\" + data_ext), g_data)"
   ]
  },
  {
   "cell_type": "code",
   "execution_count": null,
   "id": "6d023435",
   "metadata": {},
   "outputs": [],
   "source": [
    "with open(os.path.join(data_path, \"G08\" + info_ext), 'w') as f:\n",
    "    f.write(\"ut.triangle_cos(X08[:,0], 1.0, 1.5)\\n\")\n",
    "    f.write(\"0\\n\")"
   ]
  },
  {
   "cell_type": "code",
   "execution_count": null,
   "id": "eea7a600",
   "metadata": {},
   "outputs": [],
   "source": [
    "np.savetxt(os.path.join(data_path, \"F08\" + data_ext), f_data)"
   ]
  },
  {
   "cell_type": "code",
   "execution_count": null,
   "id": "c1b9fa1a",
   "metadata": {},
   "outputs": [],
   "source": [
    "with open(os.path.join(data_path, \"F08\" + info_ext), 'w') as f:\n",
    "    f.write(\"ut.triangle(X08[:,0], 1.0, 1.5)\\n\")\n",
    "    f.write(\"0\\n\")"
   ]
  },
  {
   "cell_type": "markdown",
   "id": "464cf2a7",
   "metadata": {},
   "source": [
    "Created `F08`. What should the function library look like?"
   ]
  },
  {
   "cell_type": "code",
   "execution_count": 65,
   "id": "b4775799",
   "metadata": {},
   "outputs": [],
   "source": [
    "x_data = torch.Tensor(x_data)\n",
    "g_data = torch.Tensor(g_data)\n",
    "f_data = torch.Tensor(f_data)"
   ]
  },
  {
   "cell_type": "code",
   "execution_count": 66,
   "id": "aa7d6eef",
   "metadata": {},
   "outputs": [],
   "source": [
    "fun_path = \"funs/F08_v1.lib\"\n",
    "in_var = \"X08\"\n",
    "shuffle = False"
   ]
  },
  {
   "cell_type": "code",
   "execution_count": 67,
   "id": "25539f1d",
   "metadata": {},
   "outputs": [],
   "source": [
    "disc_data = SDData(fun_path, in_var, shuffle=shuffle)"
   ]
  },
  {
   "cell_type": "code",
   "execution_count": 68,
   "id": "ea351489",
   "metadata": {},
   "outputs": [
    {
     "data": {
      "text/plain": [
       "['0.75*N*np.sin(4*U*X08[:,0])', '0.75*N*np.cos(4*U*X08[:,0])']"
      ]
     },
     "execution_count": 68,
     "metadata": {},
     "output_type": "execute_result"
    }
   ],
   "source": [
    "disc_data.funs"
   ]
  },
  {
   "cell_type": "code",
   "execution_count": 69,
   "id": "f586ec7e",
   "metadata": {},
   "outputs": [],
   "source": [
    "disc_data.funs = [\n",
    "    '0.75*N*np.sin(4*U*X08[:,0])', \n",
    "    '0.75*N*np.cos(4*U*X08[:,0])'\n",
    "]"
   ]
  },
  {
   "cell_type": "code",
   "execution_count": 70,
   "id": "6a299849",
   "metadata": {},
   "outputs": [],
   "source": [
    "disc_data.len = len(disc_data.funs)"
   ]
  },
  {
   "cell_type": "code",
   "execution_count": 71,
   "id": "adfbbd2c",
   "metadata": {},
   "outputs": [],
   "source": [
    "n_samp = 5\n",
    "colors = plt.rcParams['axes.prop_cycle'].by_key()['color']"
   ]
  },
  {
   "cell_type": "code",
   "execution_count": 76,
   "id": "34a96b8e",
   "metadata": {},
   "outputs": [
    {
     "data": {
      "application/vnd.jupyter.widget-view+json": {
       "model_id": "9a67120052194407a78eb9c48b01298f",
       "version_major": 2,
       "version_minor": 0
      },
      "text/plain": [
       "Canvas(toolbar=Toolbar(toolitems=[('Home', 'Reset original view', 'home', 'home'), ('Back', 'Back to previous …"
      ]
     },
     "metadata": {},
     "output_type": "display_data"
    }
   ],
   "source": [
    "fig, ax = plt.subplots()\n",
    "\n",
    "for _ in range(n_samp):\n",
    "    ax.scatter(x_data, disc_data.get(in_data=x_data)[0,0,:], color=colors[0], alpha=0.5)\n",
    "    ax.scatter(x_data, disc_data.get(in_data=x_data)[0,1,:], color=colors[1], alpha=0.5)\n",
    "    # ax.scatter(x_data, disc_data.get(in_data=x_data)[2,:], color=colors[2], alpha=0.5)\n",
    "    # ax.scatter(x_data, disc_data.get(in_data=x_data)[3,:], color=colors[3], alpha=0.5)\n",
    "    \n",
    "ax.scatter(x_data, g_data - 0.75, color='k')\n",
    "ax.scatter(x_data, f_data - 0.75, color='k')\n",
    "\n",
    "plt.show()"
   ]
  },
  {
   "cell_type": "markdown",
   "id": "e8ab82a9",
   "metadata": {},
   "source": [
    "`F08_v1` created.\n",
    "\n",
    "Let's run some initial tests:"
   ]
  },
  {
   "cell_type": "code",
   "execution_count": 79,
   "id": "cc4c3362",
   "metadata": {},
   "outputs": [
    {
     "data": {
      "application/vnd.jupyter.widget-view+json": {
       "model_id": "7f97da9203ee4243acb8b67e57be59a6",
       "version_major": 2,
       "version_minor": 0
      },
      "text/plain": [
       "Canvas(toolbar=Toolbar(toolitems=[('Home', 'Reset original view', 'home', 'home'), ('Back', 'Back to previous …"
      ]
     },
     "metadata": {},
     "output_type": "display_data"
    }
   ],
   "source": [
    "# plot losses\n",
    "save_names = [\"srnet_model_F08_v1_bn_sd\"]\n",
    "save_path = \"models\"\n",
    "models = ut.plot_losses(save_names, save_path=\"models\", excl_names=[\"study\"])"
   ]
  },
  {
   "cell_type": "code",
   "execution_count": 80,
   "id": "af27a64d",
   "metadata": {},
   "outputs": [],
   "source": [
    "# load data\n",
    "data_path = \"data_1k\"\n",
    "\n",
    "in_var = \"X08\"\n",
    "lat_var = \"G08\"\n",
    "target_var = \"F08\"\n",
    "\n",
    "mask_ext = \".mask\"\n",
    "masks = joblib.load(os.path.join(data_path, in_var + mask_ext))\n",
    "\n",
    "train_data = SRData(data_path, in_var, lat_var, target_var, masks[\"train\"])\n",
    "val_data = SRData(data_path, in_var, lat_var, target_var, masks[\"val\"])"
   ]
  },
  {
   "cell_type": "code",
   "execution_count": 82,
   "id": "b849ad80",
   "metadata": {},
   "outputs": [],
   "source": [
    "model_name = \"srnet_model_F08_v1_bn_sd_1e-08_5e-08_restart\"\n",
    "model_path = \"models\"\n",
    "model_ext = \".pkl\"\n",
    "\n",
    "model = ut.load_model(model_name + model_ext, model_path, SRNet)\n",
    "\n",
    "with torch.no_grad():\n",
    "    preds, acts = model(train_data.in_data, get_lat=True)"
   ]
  },
  {
   "cell_type": "code",
   "execution_count": 83,
   "id": "d6d7a4c4",
   "metadata": {},
   "outputs": [
    {
     "data": {
      "application/vnd.jupyter.widget-view+json": {
       "model_id": "fbfb6cf0e2824c3a9513aa49340576de",
       "version_major": 2,
       "version_minor": 0
      },
      "text/plain": [
       "Canvas(toolbar=Toolbar(toolitems=[('Home', 'Reset original view', 'home', 'home'), ('Back', 'Back to previous …"
      ]
     },
     "metadata": {},
     "output_type": "display_data"
    }
   ],
   "source": [
    "fig, ax = plt.subplots()\n",
    "\n",
    "ax.scatter(train_data.in_data, train_data.target_data)\n",
    "ax.scatter(train_data.in_data, preds)\n",
    "ax.scatter(train_data.in_data, train_data.lat_data)\n",
    "# ax.scatter(train_data.in_data, acts)\n",
    "\n",
    "plt.show()"
   ]
  },
  {
   "cell_type": "code",
   "execution_count": 84,
   "id": "614cb752",
   "metadata": {},
   "outputs": [
    {
     "data": {
      "text/plain": [
       "tensor(0.0130)"
      ]
     },
     "execution_count": 84,
     "metadata": {},
     "output_type": "execute_result"
    }
   ],
   "source": [
    "(train_data.target_data - train_data.lat_data).pow(2).mean()"
   ]
  },
  {
   "cell_type": "markdown",
   "id": "33ec8a2e",
   "metadata": {},
   "source": [
    "### Step 13.2: Train bottleneck masked DSN with SD regularization on `F07_v1`"
   ]
  },
  {
   "cell_type": "code",
   "execution_count": 85,
   "id": "11ed5615",
   "metadata": {},
   "outputs": [],
   "source": [
    "# set wandb project\n",
    "wandb_project = \"132-bn-mask-DSN-sd-study-F07_v1\""
   ]
  },
  {
   "cell_type": "code",
   "execution_count": 86,
   "id": "9e2d1cd5",
   "metadata": {},
   "outputs": [],
   "source": [
    "# hyperparams = {\n",
    "#     \"arch\": {\n",
    "#         \"in_size\": train_data.in_data.shape[1],\n",
    "#         \"out_size\": train_data.target_data.shape[1],\n",
    "#         \"hid_num\": (2,0),\n",
    "#         \"hid_size\": 32, \n",
    "#         \"hid_type\": (\"DSN\", \"MLP\"),\n",
    "#         \"hid_kwargs\": {\n",
    "#             \"alpha\": [[1,0],[0,1],[1,1]],\n",
    "#             \"norm\": None,\n",
    "#             \"prune\": None,\n",
    "#             },\n",
    "#         \"lat_size\": 3,\n",
    "#         },\n",
    "#     \"epochs\": 30000,\n",
    "#     \"runtime\": None,\n",
    "#     \"batch_size\": train_data.in_data.shape[0],\n",
    "#     \"shuffle\": False,\n",
    "#     \"lr\": 1e-4,\n",
    "#     \"wd\": 1e-6,\n",
    "#     \"l1\": 0.0,\n",
    "#     \"a1\": 0.0,\n",
    "#     \"a2\": 0.0,\n",
    "#     \"e1\": 0.0,\n",
    "#     \"e2\": 0.0,\n",
    "#     \"e3\": 0.0,\n",
    "#     \"gc\": 0.0,\n",
    "#     \"sd\": 1e-6,\n",
    "#     \"disc\": {\n",
    "#         \"hid_num\": 6,\n",
    "#         \"hid_size\": 128,\n",
    "#         \"emb_size\": None,\n",
    "#         \"lr\": 1e-3,\n",
    "#         \"wd\": 1e-4,\n",
    "#         \"iters\": 5,\n",
    "#         \"gp\": 1e-5,\n",
    "#     },\n",
    "# }"
   ]
  },
  {
   "cell_type": "code",
   "execution_count": 87,
   "id": "9ce8dfc8",
   "metadata": {},
   "outputs": [],
   "source": [
    "# define hyperparameter study\n",
    "hp_study = {\n",
    "    \"method\": \"random\",\n",
    "    \"parameters\": {\n",
    "        \"lr\": {\n",
    "            \"values\": [1e-5, 1e-4, 1e-3]\n",
    "        },\n",
    "        \"sd\": {\n",
    "            \"values\": [1e-7, 1e-6, 1e-5, 1e-4]\n",
    "        },\n",
    "        \"disc\": {\n",
    "            \"parameters\": {\n",
    "                \"hid_num\": {\n",
    "                    \"values\": [2, 4, 6, 8]\n",
    "                },\n",
    "                \"hid_size\": {\n",
    "                    \"values\": [64, 128, 256, 512]\n",
    "                },\n",
    "                \"lr\": {\n",
    "                    \"values\": [1e-5, 1e-4, 1e-3, 1e-2]\n",
    "                },\n",
    "                \"iters\": {\n",
    "                    \"values\": [2, 5, 8]\n",
    "                },\n",
    "                \"gp\": {\n",
    "                    \"values\": [1e-6, 1e-5, 1e-4, 1e-3]\n",
    "                },\n",
    "            }\n",
    "        }\n",
    "    }\n",
    "}"
   ]
  },
  {
   "cell_type": "code",
   "execution_count": null,
   "id": "aafce32b",
   "metadata": {},
   "outputs": [],
   "source": [
    "# create sweep\n",
    "sweep_id = wandb.sweep(hp_study, project=wandb_project)"
   ]
  },
  {
   "cell_type": "markdown",
   "id": "945b9845",
   "metadata": {},
   "source": [
    "<img src=\"results/132-bn-mask-DSN-sd-study-F07_v1.png\">"
   ]
  },
  {
   "cell_type": "code",
   "execution_count": null,
   "id": "3e867647",
   "metadata": {},
   "outputs": [],
   "source": [
    "# download data from wandb\n",
    "file_ext = \".pkl\"\n",
    "\n",
    "api = wandb.Api()\n",
    "\n",
    "runs = api.runs(wandb_project)\n",
    "for r, run in enumerate(runs):\n",
    "    if run.summaryMetrics['min_corr'] > 0.7:\n",
    "        for f in run.files():\n",
    "            if f.name[-len(file_ext):] == file_ext:\n",
    "                file_name = f.name.replace(file_ext, f\"_v{r+1}{file_ext}\")\n",
    "                print(f\"Downloading {os.path.basename(file_name)}.\")\n",
    "                run.file(f.name).download()\n",
    "                os.rename(f.name, file_name)"
   ]
  },
  {
   "cell_type": "code",
   "execution_count": 88,
   "id": "ac2b1896",
   "metadata": {},
   "outputs": [],
   "source": [
    "# load data\n",
    "data_path = \"data_1k\"\n",
    "\n",
    "in_var = \"X07\"\n",
    "lat_var = \"G07\"\n",
    "target_var = \"F07\"\n",
    "\n",
    "mask_ext = \".mask\"\n",
    "masks = joblib.load(os.path.join(data_path, in_var + mask_ext))\n",
    "\n",
    "train_data = SRData(data_path, in_var, lat_var, target_var, masks[\"train\"])\n",
    "val_data = SRData(data_path, in_var, lat_var, target_var, masks[\"val\"])"
   ]
  },
  {
   "cell_type": "code",
   "execution_count": 89,
   "id": "a7b16c98",
   "metadata": {},
   "outputs": [],
   "source": [
    "corr_data = [\n",
    "    (\"x**2\", train_data.lat_data[:,0]), \n",
    "    (\"cos(y)\", train_data.lat_data[:,1]), \n",
    "    (\"x*y\", train_data.lat_data[:,2]),\n",
    "]"
   ]
  },
  {
   "cell_type": "code",
   "execution_count": 95,
   "id": "f3c07a21",
   "metadata": {},
   "outputs": [
    {
     "name": "stdout",
     "output_type": "stream",
     "text": [
      "Loading srnet_model_F07_v1_bn_mask_sd_study_v10.pkl.\n",
      "Loading srnet_model_F07_v1_bn_mask_sd_study_v15.pkl.\n",
      "Loading srnet_model_F07_v1_bn_mask_sd_study_v17.pkl.\n",
      "Loading srnet_model_F07_v1_bn_mask_sd_study_v18.pkl.\n",
      "Loading srnet_model_F07_v1_bn_mask_sd_study_v29.pkl.\n",
      "Loading srnet_model_F07_v1_bn_mask_sd_study_v29_max.pkl.\n",
      "Loading srnet_model_F07_v1_bn_mask_sd_study_v4.pkl.\n",
      "Loading srnet_model_F07_v1_bn_mask_sd_study_v5.pkl.\n",
      "Loading srnet_model_F07_v1_bn_mask_sd_study_v8.pkl.\n",
      "Loading srnet_model_F07_v1_bn_mask_sd_study_v9.pkl.\n"
     ]
    }
   ],
   "source": [
    "# get validation loss and latent feature correlations\n",
    "model_path = \"models\"\n",
    "save_name = \"srnet_model_F07_v1_bn_mask_sd_study\"\n",
    "\n",
    "models = [f for f in os.listdir(model_path) if save_name in f]\n",
    "\n",
    "val_corr = {}\n",
    "\n",
    "for model_name in models:\n",
    "    print(f\"Loading {model_name}.\")\n",
    "    model = ut.load_model(model_name, model_path, SRNet)\n",
    "    \n",
    "    with torch.no_grad():\n",
    "        preds, acts = model(train_data.in_data, get_lat=True)\n",
    "        \n",
    "    all_nodes = ut.get_node_order(acts, show=False)\n",
    "        \n",
    "    corr_mat = ut.node_correlations(acts, all_nodes, corr_data, show=False)\n",
    "    corr = [np.abs(c).max() for c in corr_mat]\n",
    "    \n",
    "    with torch.no_grad():\n",
    "        preds = model(val_data.in_data)\n",
    "        \n",
    "    val_loss = (preds - val_data.target_data).pow(2).mean().item()\n",
    "    val_corr[model_name] = (val_loss, corr)"
   ]
  },
  {
   "cell_type": "code",
   "execution_count": 96,
   "id": "36e44af7",
   "metadata": {},
   "outputs": [
    {
     "data": {
      "application/vnd.jupyter.widget-view+json": {
       "model_id": "4ce9fa089c644ddaa79f2901aa04e4bb",
       "version_major": 2,
       "version_minor": 0
      },
      "text/plain": [
       "Canvas(toolbar=Toolbar(toolitems=[('Home', 'Reset original view', 'home', 'home'), ('Back', 'Back to previous …"
      ]
     },
     "metadata": {},
     "output_type": "display_data"
    }
   ],
   "source": [
    "fig, ax = plt.subplots()\n",
    "\n",
    "for v in val_corr:\n",
    "    ax.plot(val_corr[v][0], np.min(val_corr[v][1]), 'x', label=v.split('.')[0].split('_')[-1])\n",
    "\n",
    "ax.legend()\n",
    "plt.show()"
   ]
  },
  {
   "cell_type": "code",
   "execution_count": 100,
   "id": "42e81345",
   "metadata": {},
   "outputs": [
    {
     "data": {
      "application/vnd.jupyter.widget-view+json": {
       "model_id": "bc3c12588b334c0586bc8210c458340f",
       "version_major": 2,
       "version_minor": 0
      },
      "text/plain": [
       "Canvas(toolbar=Toolbar(toolitems=[('Home', 'Reset original view', 'home', 'home'), ('Back', 'Back to previous …"
      ]
     },
     "metadata": {},
     "output_type": "display_data"
    }
   ],
   "source": [
    "# plot losses\n",
    "save_names = [\n",
    "    \"srnet_model_F07_v1_bn_mask_sd_study_v8\",\n",
    "    \"srnet_model_F07_v1_bn_mask_sd_study_v15\",\n",
    "    \"srnet_model_F07_v1_bn_mask_sd_study_v4\",\n",
    "    \"srnet_model_F07_v1_bn_mask_sd_study_v17\",\n",
    "    \"srnet_model_F07_v1_bn_mask_sd_study_v29\",\n",
    "]\n",
    "save_path = \"models\"\n",
    "models = ut.plot_losses(save_names, save_path=\"models\", excl_names=[])"
   ]
  },
  {
   "cell_type": "code",
   "execution_count": 101,
   "id": "db676a1f",
   "metadata": {},
   "outputs": [],
   "source": [
    "corr_data = [\n",
    "    (\"x**2\", train_data.lat_data[:,0]),\n",
    "    (\"y**2\", train_data.in_data[:,1]**2), \n",
    "    (\"cos(x)\", torch.cos(train_data.in_data[:,0])), \n",
    "    (\"cos(y)\", train_data.lat_data[:,1]), \n",
    "    (\"x*y\", train_data.lat_data[:,2]),\n",
    "]"
   ]
  },
  {
   "cell_type": "code",
   "execution_count": 102,
   "id": "3c8b1149",
   "metadata": {
    "scrolled": false
   },
   "outputs": [
    {
     "name": "stdout",
     "output_type": "stream",
     "text": [
      "srnet_model_F07_v1_bn_mask_sd_study_v8\n",
      "1e-07\n",
      "{'gp': 0.0001, 'hid_num': 2, 'hid_size': 64, 'iters': 8, 'lr': 0.001}\n",
      "[3.4767916, 1.8724633, 0.99059254]\n",
      "[2, 0, 1]\n",
      "Validation error: 3.6128e-02\n",
      "\n",
      "Node 2\n",
      "corr(n2, x**2): -0.1143\n",
      "corr(n2, y**2): 0.3107\n",
      "corr(n2, cos(x)): 0.1046\n",
      "corr(n2, cos(y)): -0.3220\n",
      "corr(n2, x*y): -0.8738\n",
      "\n",
      "Node 0\n",
      "corr(n0, x**2): -0.9970\n",
      "corr(n0, y**2): 0.0535\n",
      "corr(n0, cos(x)): 0.9752\n",
      "corr(n0, cos(y)): 0.0281\n",
      "corr(n0, x*y): 0.0063\n",
      "\n",
      "Node 1\n",
      "corr(n1, x**2): 0.0397\n",
      "corr(n1, y**2): -0.4102\n",
      "corr(n1, cos(x)): -0.0412\n",
      "corr(n1, cos(y)): -0.7401\n",
      "corr(n1, x*y): -0.0058\n",
      "\n",
      "srnet_model_F07_v1_bn_mask_sd_study_v15\n",
      "1e-07\n",
      "{'gp': 0.0001, 'hid_num': 4, 'hid_size': 512, 'iters': 5, 'lr': 0.01}\n",
      "[3.412355, 1.850282, 1.4938799]\n",
      "[2, 0, 1]\n",
      "Validation error: 1.7346e-02\n",
      "\n",
      "Node 2\n",
      "corr(n2, x**2): -0.1323\n",
      "corr(n2, y**2): -0.3480\n",
      "corr(n2, cos(x)): 0.1235\n",
      "corr(n2, cos(y)): -0.2577\n",
      "corr(n2, x*y): -0.8523\n",
      "\n",
      "Node 0\n",
      "corr(n0, x**2): -0.9988\n",
      "corr(n0, y**2): 0.0504\n",
      "corr(n0, cos(x)): 0.9701\n",
      "corr(n0, cos(y)): 0.0285\n",
      "corr(n0, x*y): 0.0063\n",
      "\n",
      "Node 1\n",
      "corr(n1, x**2): -0.0162\n",
      "corr(n1, y**2): 0.7825\n",
      "corr(n1, cos(x)): 0.0181\n",
      "corr(n1, cos(y)): -0.7037\n",
      "corr(n1, x*y): -0.0162\n",
      "\n",
      "srnet_model_F07_v1_bn_mask_sd_study_v4\n",
      "1e-05\n",
      "{'gp': 0.001, 'hid_num': 4, 'hid_size': 256, 'iters': 8, 'lr': 1e-05}\n",
      "[4.6530366, 4.208263, 3.2084353]\n",
      "[2, 0, 1]\n",
      "Validation error: 2.4403e-01\n",
      "\n",
      "Node 2\n",
      "corr(n2, x**2): 0.0498\n",
      "corr(n2, y**2): -0.4589\n",
      "corr(n2, cos(x)): -0.0658\n",
      "corr(n2, cos(y)): -0.0341\n",
      "corr(n2, x*y): -0.7269\n",
      "\n",
      "Node 0\n",
      "corr(n0, x**2): -0.7649\n",
      "corr(n0, y**2): 0.0641\n",
      "corr(n0, cos(x)): 0.7507\n",
      "corr(n0, cos(y)): 0.0183\n",
      "corr(n0, x*y): 0.0463\n",
      "\n",
      "Node 1\n",
      "corr(n1, x**2): -0.0172\n",
      "corr(n1, y**2): 0.7842\n",
      "corr(n1, cos(x)): 0.0201\n",
      "corr(n1, cos(y)): -0.6999\n",
      "corr(n1, x*y): -0.0044\n",
      "\n",
      "srnet_model_F07_v1_bn_mask_sd_study_v17\n",
      "1e-06\n",
      "{'gp': 0.0001, 'hid_num': 4, 'hid_size': 256, 'iters': 5, 'lr': 0.001}\n",
      "[2.7176726, 1.4064339, 1.2664342]\n",
      "[2, 0, 1]\n",
      "Validation error: 3.0518e-01\n",
      "\n",
      "Node 2\n",
      "corr(n2, x**2): -0.0960\n",
      "corr(n2, y**2): -0.3496\n",
      "corr(n2, cos(x)): 0.0859\n",
      "corr(n2, cos(y)): -0.2043\n",
      "corr(n2, x*y): -0.8726\n",
      "\n",
      "Node 0\n",
      "corr(n0, x**2): -0.9961\n",
      "corr(n0, y**2): 0.0549\n",
      "corr(n0, cos(x)): 0.9682\n",
      "corr(n0, cos(y)): 0.0278\n",
      "corr(n0, x*y): 0.0068\n",
      "\n",
      "Node 1\n",
      "corr(n1, x**2): -0.0167\n",
      "corr(n1, y**2): 0.7790\n",
      "corr(n1, cos(x)): 0.0198\n",
      "corr(n1, cos(y)): -0.6910\n",
      "corr(n1, x*y): -0.0029\n",
      "\n",
      "srnet_model_F07_v1_bn_mask_sd_study_v29\n",
      "1e-07\n",
      "{'gp': 0.001, 'hid_num': 4, 'hid_size': 256, 'iters': 2, 'lr': 0.0001}\n",
      "[37.90582, 14.357742, 9.345659]\n",
      "[2, 1, 0]\n",
      "Validation error: 5.2057e+00\n",
      "\n",
      "Node 2\n",
      "corr(n2, x**2): -0.3283\n",
      "corr(n2, y**2): -0.1916\n",
      "corr(n2, cos(x)): 0.3317\n",
      "corr(n2, cos(y)): 0.0044\n",
      "corr(n2, x*y): -0.8506\n",
      "\n",
      "Node 1\n",
      "corr(n1, x**2): -0.0124\n",
      "corr(n1, y**2): 0.6548\n",
      "corr(n1, cos(x)): 0.0125\n",
      "corr(n1, cos(y)): -0.7069\n",
      "corr(n1, x*y): -0.0027\n",
      "\n",
      "Node 0\n",
      "corr(n0, x**2): -0.9613\n",
      "corr(n0, y**2): 0.0439\n",
      "corr(n0, cos(x)): 0.9793\n",
      "corr(n0, cos(y)): 0.0257\n",
      "corr(n0, x*y): -0.0050\n",
      "\n",
      "srnet_model_F07_v1_bn_mask_sd_study_v29_max\n",
      "1e-07\n",
      "{'gp': 0.001, 'hid_num': 4, 'hid_size': 256, 'iters': 2, 'lr': 0.0001}\n",
      "[6.122129, 2.783156, 1.5785829]\n",
      "[2, 0, 1]\n",
      "Validation error: 1.4677e-02\n",
      "\n",
      "Node 2\n",
      "corr(n2, x**2): -0.2120\n",
      "corr(n2, y**2): -0.0038\n",
      "corr(n2, cos(x)): 0.2124\n",
      "corr(n2, cos(y)): -0.2390\n",
      "corr(n2, x*y): -0.9356\n",
      "\n",
      "Node 0\n",
      "corr(n0, x**2): -0.9968\n",
      "corr(n0, y**2): 0.0468\n",
      "corr(n0, cos(x)): 0.9504\n",
      "corr(n0, cos(y)): 0.0303\n",
      "corr(n0, x*y): -0.0023\n",
      "\n",
      "Node 1\n",
      "corr(n1, x**2): 0.0244\n",
      "corr(n1, y**2): 0.2699\n",
      "corr(n1, cos(x)): -0.0224\n",
      "corr(n1, cos(y)): -0.9853\n",
      "corr(n1, x*y): 0.0100\n",
      "\n"
     ]
    }
   ],
   "source": [
    "model_path = \"models\"\n",
    "model_ext = \".pkl\"\n",
    "\n",
    "for model_name in models:\n",
    "    print(model_name)\n",
    "    \n",
    "    state = joblib.load(os.path.join(model_path, model_name + model_ext))\n",
    "    \n",
    "    print(state['hyperparams']['sd'])\n",
    "    print(state['hyperparams']['disc'])\n",
    "    \n",
    "    model = ut.load_model(model_name + model_ext, model_path, SRNet)\n",
    "    \n",
    "    with torch.no_grad():\n",
    "        preds, acts = model(train_data.in_data, get_lat=True)\n",
    "        \n",
    "    all_nodes = ut.get_node_order(acts, show=True)\n",
    "    \n",
    "    print(f\"Validation error: {state['total_val_loss']:.4e}\")\n",
    "        \n",
    "    corr_mat = ut.node_correlations(acts, all_nodes, corr_data, show=True)\n",
    "        \n",
    "    print(\"\")"
   ]
  },
  {
   "cell_type": "markdown",
   "id": "5e1781a2",
   "metadata": {},
   "source": [
    "Compare models:"
   ]
  },
  {
   "cell_type": "code",
   "execution_count": 112,
   "id": "c139472b",
   "metadata": {},
   "outputs": [],
   "source": [
    "comp_models = [\n",
    "    'srnet_model_F07_v1_bn_mask_sd_study_v8',\n",
    "    #'srnet_model_F07_v1_bn_mask_sd_study_v15',\n",
    "    #'srnet_model_F07_v1_bn_mask_sd_study_v4',\n",
    "    #'srnet_model_F07_v1_bn_mask_sd_study_v17',\n",
    "    'srnet_model_F07_v1_bn_mask_sd_study_v29',\n",
    "    'srnet_model_F07_v1_bn_mask_sd_study_v29_max'\n",
    "]"
   ]
  },
  {
   "cell_type": "code",
   "execution_count": 113,
   "id": "5c8aac2c",
   "metadata": {},
   "outputs": [
    {
     "data": {
      "application/vnd.jupyter.widget-view+json": {
       "model_id": "f76200e7fec54a64b9c36298bb6a6554",
       "version_major": 2,
       "version_minor": 0
      },
      "text/plain": [
       "Canvas(toolbar=Toolbar(toolitems=[('Home', 'Reset original view', 'home', 'home'), ('Back', 'Back to previous …"
      ]
     },
     "metadata": {},
     "output_type": "display_data"
    },
    {
     "data": {
      "application/vnd.jupyter.widget-view+json": {
       "model_id": "4d63b28430d5445e9f88e378f5fbe9b2",
       "version_major": 2,
       "version_minor": 0
      },
      "text/plain": [
       "Canvas(toolbar=Toolbar(toolitems=[('Home', 'Reset original view', 'home', 'home'), ('Back', 'Back to previous …"
      ]
     },
     "metadata": {},
     "output_type": "display_data"
    }
   ],
   "source": [
    "model_path = \"models\"\n",
    "model_ext = \".pkl\"\n",
    "\n",
    "fig = {}\n",
    "ax = {}\n",
    "bias = True\n",
    "\n",
    "for n in range(2):\n",
    "    fig[n], ax[n] = plt.subplots()\n",
    "    ax[n].scatter(train_data.in_data[:,n], train_data.lat_data[:,n])\n",
    "\n",
    "for model_name in comp_models:\n",
    "    \n",
    "    model = ut.load_model(model_name + model_ext, model_path, SRNet)\n",
    "    \n",
    "    with torch.no_grad():\n",
    "        preds, acts = model(train_data.in_data, get_lat=True)\n",
    "        \n",
    "    for n in range(2):\n",
    "        ax[n].scatter(train_data.in_data[:,n], model.layers2[0].weight[0,n].item()*acts[:,n] + bias * model.layers2[0].bias.item(), label=model_name.split('_')[-1])\n",
    "\n",
    "for n in range(2):\n",
    "    ax[n].legend()\n",
    "plt.show()"
   ]
  },
  {
   "cell_type": "markdown",
   "id": "e0563712",
   "metadata": {},
   "source": [
    "Plot individual model:"
   ]
  },
  {
   "cell_type": "code",
   "execution_count": 114,
   "id": "1230e6cf",
   "metadata": {},
   "outputs": [],
   "source": [
    "model_name = \"srnet_model_F07_v1_bn_mask_sd_study_v29_max\"\n",
    "model_path = \"models\"\n",
    "model_ext = \".pkl\"\n",
    "\n",
    "model = ut.load_model(model_name + model_ext, model_path, SRNet)\n",
    "\n",
    "with torch.no_grad():\n",
    "    preds, acts = model(train_data.in_data, get_lat=True)"
   ]
  },
  {
   "cell_type": "code",
   "execution_count": 115,
   "id": "ed7a7949",
   "metadata": {},
   "outputs": [
    {
     "data": {
      "application/vnd.jupyter.widget-view+json": {
       "model_id": "95f3047fb4c04d7ebb98e9a16ef7acbc",
       "version_major": 2,
       "version_minor": 0
      },
      "text/plain": [
       "Canvas(toolbar=Toolbar(toolitems=[('Home', 'Reset original view', 'home', 'home'), ('Back', 'Back to previous …"
      ]
     },
     "metadata": {},
     "output_type": "display_data"
    }
   ],
   "source": [
    "fig, ax = plt.subplots()\n",
    "\n",
    "n = 0\n",
    "bias = True\n",
    "\n",
    "ax.scatter(train_data.in_data[:,n], train_data.lat_data[:,n])\n",
    "ax.scatter(train_data.in_data[:,n], model.layers2[0].weight[0,n].item()*acts[:,n] + bias * model.layers2[0].bias.item())\n",
    "\n",
    "plt.show()"
   ]
  },
  {
   "cell_type": "code",
   "execution_count": 116,
   "id": "c20c2e7c",
   "metadata": {},
   "outputs": [
    {
     "data": {
      "application/vnd.jupyter.widget-view+json": {
       "model_id": "956e8732b96040fead6ead2aac9a6194",
       "version_major": 2,
       "version_minor": 0
      },
      "text/plain": [
       "Canvas(toolbar=Toolbar(toolitems=[('Home', 'Reset original view', 'home', 'home'), ('Back', 'Back to previous …"
      ]
     },
     "metadata": {},
     "output_type": "display_data"
    }
   ],
   "source": [
    "fig, ax = plt.subplots()\n",
    "\n",
    "n = 1\n",
    "bias = True\n",
    "\n",
    "ax.scatter(train_data.in_data[:,n], train_data.lat_data[:,n])\n",
    "ax.scatter(train_data.in_data[:,n], model.layers2[0].weight[0,n].item()*acts[:,n] + bias * model.layers2[0].bias.item())\n",
    "\n",
    "plt.show()"
   ]
  },
  {
   "cell_type": "code",
   "execution_count": 117,
   "id": "9279acc2",
   "metadata": {},
   "outputs": [
    {
     "data": {
      "application/vnd.jupyter.widget-view+json": {
       "model_id": "2831ff25408b44d0b1bf184512ee6a64",
       "version_major": 2,
       "version_minor": 0
      },
      "text/plain": [
       "Canvas(toolbar=Toolbar(toolitems=[('Home', 'Reset original view', 'home', 'home'), ('Back', 'Back to previous …"
      ]
     },
     "metadata": {},
     "output_type": "display_data"
    }
   ],
   "source": [
    "n = 2\n",
    "z_data = [(\"x*y\", train_data.lat_data[:,n])]\n",
    "plot_size = train_data.target_data.shape[0]\n",
    "\n",
    "ut.plot_acts(train_data.in_data[:,0], train_data.in_data[:,1], z_data, acts=acts, nodes=[n], model=model, bias=False, nonzero=False, agg=False, plot_size=plot_size)"
   ]
  },
  {
   "cell_type": "markdown",
   "id": "2740131d",
   "metadata": {},
   "source": [
    "Runs that are similar to v29:\n",
    "\n",
    "* `gp`: most `1e-3`, one `1e-4`\n",
    "\n",
    "* `hid_num`: 2, 4, 4, 4, 8\n",
    "\n",
    "* `hid_size`: most 256, one 128\n",
    "\n",
    "* `iters`: 2, 5, 5, 8, 8\n",
    "\n",
    "* `disc.lr`: 1e-5, 1e-4, 1e-3, 1e-3, 1e-3\n",
    "\n",
    "* `lr`: all 1e-5\n",
    "\n",
    "* `sd`: 1e-7, 1e-7, 1e-7, 1e-6, 1e-6\n",
    "\n",
    "Define baseline setup and test:\n",
    "\n",
    "* Adam parameters\n",
    "\n",
    "* Resample coefficients each SD epoch\n",
    "\n",
    "Next:\n",
    "\n",
    "* Embed input data\n",
    "\n",
    "* Resample input data\n",
    "\n",
    "* Embed gradients\n",
    "\n",
    "* No weight decay\n",
    "\n",
    "* Gradients:\n",
    "\n",
    "    * Stack\n",
    "    \n",
    "    * Embed\n",
    "    \n",
    "    * CNN\n",
    "\n",
    "* Restart `max`"
   ]
  },
  {
   "cell_type": "markdown",
   "id": "b74186c7",
   "metadata": {},
   "source": [
    "### Step 13.3: Train bottleneck DSN with SD regularization on `F08_v1`"
   ]
  },
  {
   "cell_type": "code",
   "execution_count": 118,
   "id": "56c8db7d",
   "metadata": {},
   "outputs": [],
   "source": [
    "# set wandb project\n",
    "wandb_project = \"133-bn-DSN-sd-study-F08_v1\""
   ]
  },
  {
   "cell_type": "code",
   "execution_count": 119,
   "id": "58a96aa6",
   "metadata": {},
   "outputs": [],
   "source": [
    "# hyperparams = {\n",
    "#     \"arch\": {\n",
    "#         \"in_size\": train_data.in_data.shape[1],\n",
    "#         \"out_size\": train_data.target_data.shape[1],\n",
    "#         \"hid_num\": (2,0),\n",
    "#         \"hid_size\": 32, \n",
    "#         \"hid_type\": \"MLP\",\n",
    "#         \"hid_kwargs\": {\n",
    "#             \"alpha\": None,\n",
    "#             \"norm\": None,\n",
    "#             \"prune\": None,\n",
    "#             },\n",
    "#         \"lat_size\": 1,\n",
    "#         },\n",
    "#     \"epochs\": 50000,\n",
    "#     \"runtime\": None,\n",
    "#     \"batch_size\": train_data.in_data.shape[0],\n",
    "#     \"shuffle\": False,\n",
    "#     \"lr\": 1e-4,\n",
    "#     \"wd\": 1e-6,\n",
    "#     \"l1\": 0.0,\n",
    "#     \"a1\": 0.0,\n",
    "#     \"a2\": 0.0,\n",
    "#     \"e1\": 0.0,\n",
    "#     \"e2\": 0.0,\n",
    "#     \"e3\": 0.0,\n",
    "#     \"gc\": 0.0,\n",
    "#     \"sd\": 1e-8,\n",
    "#     \"disc\": {\n",
    "#         \"hid_num\": 2,\n",
    "#         \"hid_size\": 32,\n",
    "#         \"emb_size\": None,\n",
    "#         \"lr\": 1e-3,\n",
    "#         \"wd\": 1e-7,\n",
    "#         \"iters\": 5,\n",
    "#         \"gp\": 1e-5,\n",
    "#     },\n",
    "# }"
   ]
  },
  {
   "cell_type": "code",
   "execution_count": 120,
   "id": "0a0c7bd8",
   "metadata": {},
   "outputs": [],
   "source": [
    "# define hyperparameter study\n",
    "hp_study = {\n",
    "    \"method\": \"random\",\n",
    "    \"parameters\": {\n",
    "        \"lr\": {\n",
    "            \"values\": [1e-5, 1e-4, 1e-3]\n",
    "        },\n",
    "        \"sd\": {\n",
    "            \"values\": [1e-8, 5e-8, 1e-7, 5e-7, 1e-6, 1e-5]\n",
    "        },\n",
    "        \"disc\": {\n",
    "            \"parameters\": {\n",
    "                \"hid_num\": {\n",
    "                    \"values\": [2, 4, 6]\n",
    "                },\n",
    "                \"hid_size\": {\n",
    "                    \"values\": [64, 128, 256]\n",
    "                },\n",
    "                \"lr\": {\n",
    "                    \"values\": [1e-5, 1e-4, 1e-3, 1e-2]\n",
    "                },\n",
    "                \"iters\": {\n",
    "                    \"values\": [2, 5]\n",
    "                },\n",
    "                \"gp\": {\n",
    "                    \"values\": [1e-6, 1e-5, 1e-4, 1e-3]\n",
    "                },\n",
    "            }\n",
    "        }\n",
    "    }\n",
    "}"
   ]
  },
  {
   "cell_type": "code",
   "execution_count": null,
   "id": "a7a43e70",
   "metadata": {},
   "outputs": [],
   "source": [
    "# create sweep\n",
    "sweep_id = wandb.sweep(hp_study, project=wandb_project)"
   ]
  },
  {
   "cell_type": "markdown",
   "id": "bf69e417",
   "metadata": {},
   "source": [
    "<img src=\"results/133-bn-DSN-sd-study-F08_v1.png\">"
   ]
  },
  {
   "cell_type": "code",
   "execution_count": null,
   "id": "1cc8188a",
   "metadata": {},
   "outputs": [],
   "source": [
    "# download data from wandb\n",
    "file_ext = \".pkl\"\n",
    "\n",
    "api = wandb.Api()\n",
    "\n",
    "runs = api.runs(wandb_project)\n",
    "for r, run in enumerate(runs):\n",
    "    if run.summaryMetrics['min_corr'] > 0.9:\n",
    "        for f in run.files():\n",
    "            if f.name[-len(file_ext):] == file_ext:\n",
    "                file_name = f.name.replace(file_ext, f\"_v{r+1}{file_ext}\")\n",
    "                print(f\"Downloading {os.path.basename(file_name)}.\")\n",
    "                run.file(f.name).download()\n",
    "                os.rename(f.name, file_name)"
   ]
  },
  {
   "cell_type": "code",
   "execution_count": 121,
   "id": "06980766",
   "metadata": {},
   "outputs": [
    {
     "data": {
      "application/vnd.jupyter.widget-view+json": {
       "model_id": "88ef2ffec9b44551a1e7286038d79dcd",
       "version_major": 2,
       "version_minor": 0
      },
      "text/plain": [
       "Canvas(toolbar=Toolbar(toolitems=[('Home', 'Reset original view', 'home', 'home'), ('Back', 'Back to previous …"
      ]
     },
     "metadata": {},
     "output_type": "display_data"
    }
   ],
   "source": [
    "# plot losses\n",
    "save_names = [\"srnet_model_F08_v1_bn_sd_study\"]\n",
    "save_path = \"models\"\n",
    "models = ut.plot_losses(save_names, save_path=\"models\", excl_names=[])"
   ]
  },
  {
   "cell_type": "code",
   "execution_count": 122,
   "id": "3b355ffd",
   "metadata": {},
   "outputs": [],
   "source": [
    "# load data\n",
    "data_path = \"data_1k\"\n",
    "\n",
    "in_var = \"X08\"\n",
    "lat_var = \"G08\"\n",
    "target_var = \"F08\"\n",
    "\n",
    "mask_ext = \".mask\"\n",
    "masks = joblib.load(os.path.join(data_path, in_var + mask_ext))\n",
    "\n",
    "train_data = SRData(data_path, in_var, lat_var, target_var, masks[\"train\"])\n",
    "val_data = SRData(data_path, in_var, lat_var, target_var, masks[\"val\"])"
   ]
  },
  {
   "cell_type": "code",
   "execution_count": 123,
   "id": "c037fda2",
   "metadata": {},
   "outputs": [
    {
     "data": {
      "application/vnd.jupyter.widget-view+json": {
       "model_id": "ab808b61049e49e98c3da196e76c63bc",
       "version_major": 2,
       "version_minor": 0
      },
      "text/plain": [
       "Canvas(toolbar=Toolbar(toolitems=[('Home', 'Reset original view', 'home', 'home'), ('Back', 'Back to previous …"
      ]
     },
     "metadata": {},
     "output_type": "display_data"
    }
   ],
   "source": [
    "# model_name = \"srnet_model_F08_v1_bn_mask_sd_1e-08_5e-08_restart\"\n",
    "model_path = \"models\"\n",
    "model_ext = \".pkl\"\n",
    "\n",
    "fig, ax = plt.subplots()\n",
    "\n",
    "for model_name in models:\n",
    "\n",
    "    model = ut.load_model(model_name + model_ext, model_path, SRNet)\n",
    "\n",
    "    with torch.no_grad():\n",
    "        preds, acts = model(train_data.in_data, get_lat=True)\n",
    "\n",
    "    ax.scatter(train_data.in_data, preds)\n",
    "    \n",
    "ax.scatter(train_data.in_data, train_data.target_data, color='k')\n",
    "ax.scatter(train_data.in_data, train_data.lat_data, color='k')\n",
    "\n",
    "plt.show()"
   ]
  }
 ],
 "metadata": {
  "kernelspec": {
   "display_name": "Python 3 (ipykernel)",
   "language": "python",
   "name": "python3"
  },
  "language_info": {
   "codemirror_mode": {
    "name": "ipython",
    "version": 3
   },
   "file_extension": ".py",
   "mimetype": "text/x-python",
   "name": "python",
   "nbconvert_exporter": "python",
   "pygments_lexer": "ipython3",
   "version": "3.8.3"
  },
  "toc": {
   "base_numbering": 1,
   "nav_menu": {},
   "number_sections": false,
   "sideBar": true,
   "skip_h1_title": true,
   "title_cell": "Table of Contents",
   "title_sidebar": "Contents",
   "toc_cell": false,
   "toc_position": {},
   "toc_section_display": true,
   "toc_window_display": false
  }
 },
 "nbformat": 4,
 "nbformat_minor": 5
}
