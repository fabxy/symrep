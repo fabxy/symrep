{
 "cells": [
  {
   "cell_type": "markdown",
   "id": "1921e6e1",
   "metadata": {},
   "source": [
    "# 2022 Flatiron Machine Learning x Science Summer School\n",
    "\n",
    "## Step 12: Explore symbolic discriminator alternatives\n",
    "\n",
    "In this step, as an alternative to the symbolic discriminator, we try to maximize the probability that the latent features come from the \"distribution\" of library functions: $f_i \\in \\mathbb{R}^d$, $D = \\{f_i\\}_{i=1}^N$\n",
    "\n",
    "The indices of library functions $\\pi$ come from a categorical distribution with a uniform prior: $p(\\pi) = 1/|D|$\n",
    "\n",
    "The likelihood is the probability of the latent feature given a library function index: $p(f|\\pi) = N(f_\\pi, I\\sigma^2)$\n",
    "\n",
    "The posterior is the probability of library function indices given the latent feature: $p(\\pi|f)$\n",
    "\n",
    "We want to find $\\hat{f}$ that minimizes the entropy of $p(\\pi|f)$."
   ]
  },
  {
   "cell_type": "markdown",
   "id": "a77003f4",
   "metadata": {},
   "source": [
    "**Implementation**:\n",
    "\n",
    "How can we implement this?\n",
    "\n",
    "* MSE of latent features and library functions, softmax and entropy\n",
    "\n",
    "* Assume the likelihood to be Gaussian, normalize the posterior and calculate entropy\n",
    "\n",
    "What are the differences?\n",
    "\n",
    "* Define $l_{MSE} = \\sum_i ||\\hat{f}^{(i)} - f^{(i)}_\\pi||^2$\n",
    "\n",
    "* A low MSE should indicate a high probability and vice versa, thus, we want to take the negative MSE\n",
    "\n",
    "* Gaussian constant and prior disappear during normalization\n",
    "\n",
    "* The different would practically be to multiply $l_{MSE}$ by $1/(2\\sigma^2)$ or not"
   ]
  },
  {
   "cell_type": "markdown",
   "id": "40cb06fe",
   "metadata": {},
   "source": [
    "**Issue**:\n",
    "\n",
    "One issue is that, depending on the target function, the MSE can be high despite a good correlation and higher than for a target function with a low correlation.\n",
    "\n",
    "Let's normalize the differences by the absolute real function values, which corresponds to point-wise variances, right?\n",
    "\n",
    "**TODO**: Double check derivation."
   ]
  },
  {
   "cell_type": "markdown",
   "id": "e69ee561",
   "metadata": {},
   "source": [
    "**Correlation**:\n",
    "\n",
    "A second alternative is calculating and regularizing the correlation values directly, i.e. we minimize the entropy of the softmax-normalized correlations."
   ]
  },
  {
   "cell_type": "markdown",
   "id": "ec642460",
   "metadata": {},
   "source": [
    "**Work in progress**:\n",
    "\n",
    "So far, only the correlation approach yielded somewhat reasonable results and also only when using a pre-trained network. More experiments need to be run."
   ]
  },
  {
   "cell_type": "code",
   "execution_count": 1,
   "id": "26c4f46d",
   "metadata": {},
   "outputs": [],
   "source": [
    "%matplotlib widget\n",
    "%load_ext autoreload\n",
    "%autoreload 2\n",
    "\n",
    "import os\n",
    "import numpy as np\n",
    "import matplotlib.pyplot as plt\n",
    "import joblib\n",
    "\n",
    "import torch\n",
    "import wandb\n",
    "\n",
    "from srnet import SRNet, SRData\n",
    "from sdnet import SDData\n",
    "import srnet_utils as ut"
   ]
  },
  {
   "cell_type": "code",
   "execution_count": 2,
   "id": "ac2b1896",
   "metadata": {},
   "outputs": [],
   "source": [
    "# load data\n",
    "data_path = \"data_1k\"\n",
    "\n",
    "in_var = \"X00\"\n",
    "lat_var = \"G00\"\n",
    "target_var = \"F00\"\n",
    "\n",
    "mask_ext = \".mask\"\n",
    "masks = joblib.load(os.path.join(data_path, in_var + mask_ext))\n",
    "\n",
    "train_data = SRData(data_path, in_var, lat_var, target_var, masks[\"train\"])\n",
    "val_data = SRData(data_path, in_var, lat_var, target_var, masks[\"val\"])"
   ]
  },
  {
   "cell_type": "code",
   "execution_count": 3,
   "id": "b3b1fda7",
   "metadata": {},
   "outputs": [],
   "source": [
    "x_data = train_data.in_data[:,0]\n",
    "y_data = train_data.in_data[:,1]"
   ]
  },
  {
   "cell_type": "code",
   "execution_count": 4,
   "id": "1230e6cf",
   "metadata": {},
   "outputs": [
    {
     "name": "stdout",
     "output_type": "stream",
     "text": [
      "[5.4851813, 1.4364765, 0.427018]\n",
      "[0, 2, 1]\n",
      "[[1. 0.]\n",
      " [1. 1.]\n",
      " [0. 1.]]\n",
      "\n"
     ]
    }
   ],
   "source": [
    "model_name = \"srnet_model_F00_v3_bn_mask_corr_check_v1\"\n",
    "model_path = \"models\"\n",
    "model_ext = \".pkl\"\n",
    "\n",
    "model = ut.load_model(model_name + model_ext, model_path, SRNet)\n",
    "\n",
    "with torch.no_grad():\n",
    "    preds, acts = model(train_data.in_data, get_lat=True)\n",
    "    \n",
    "all_nodes = ut.get_node_order(acts, show=True)\n",
    "\n",
    "print(model.layers1.norm(model.layers1.alpha).detach().cpu().numpy()[all_nodes])\n",
    "\n",
    "print(\"\")"
   ]
  },
  {
   "cell_type": "code",
   "execution_count": 5,
   "id": "b1bad9c4",
   "metadata": {},
   "outputs": [],
   "source": [
    "nodes = all_nodes[:3]"
   ]
  },
  {
   "cell_type": "code",
   "execution_count": 6,
   "id": "5cf34eaa",
   "metadata": {},
   "outputs": [],
   "source": [
    "# select plotting data\n",
    "x_data = train_data.in_data[:,0]\n",
    "y_data = train_data.in_data[:,1]\n",
    "z_data = [\n",
    "    (\"target\", train_data.target_data),\n",
    "    #(\"x**2\", x_data**2), \n",
    "    #(\"cos(y)\", np.cos(y_data)), \n",
    "    #(\"x*y\", x_data * y_data),\n",
    "]\n",
    "plot_size = train_data.target_data.shape[0]"
   ]
  },
  {
   "cell_type": "code",
   "execution_count": 7,
   "id": "1b715a29",
   "metadata": {},
   "outputs": [
    {
     "data": {
      "application/vnd.jupyter.widget-view+json": {
       "model_id": "04b431c78836458e9cb406363aec7d67",
       "version_major": 2,
       "version_minor": 0
      },
      "text/plain": [
       "Canvas(toolbar=Toolbar(toolitems=[('Home', 'Reset original view', 'home', 'home'), ('Back', 'Back to previous …"
      ]
     },
     "metadata": {},
     "output_type": "display_data"
    }
   ],
   "source": [
    "ut.plot_acts(x_data, y_data, z_data, acts=acts, nodes=nodes, model=model, bias=True, nonzero=False, agg=False, plot_size=plot_size)"
   ]
  },
  {
   "cell_type": "code",
   "execution_count": 8,
   "id": "9249d4ef",
   "metadata": {},
   "outputs": [],
   "source": [
    "corr_data = [\n",
    "    (\"x**2\", x_data**2), \n",
    "    (\"y**2\", y_data**2), \n",
    "    (\"cos(x)\", np.cos(x_data)), \n",
    "    (\"cos(y)\", np.cos(y_data)), \n",
    "    (\"x*y\", x_data * y_data),\n",
    "]"
   ]
  },
  {
   "cell_type": "code",
   "execution_count": 9,
   "id": "d790165c",
   "metadata": {},
   "outputs": [
    {
     "name": "stdout",
     "output_type": "stream",
     "text": [
      "\n",
      "Node 0\n",
      "corr(n0, x**2): -0.9934\n",
      "corr(n0, y**2): -0.0152\n",
      "corr(n0, cos(x)): 0.9746\n",
      "corr(n0, cos(y)): 0.0146\n",
      "corr(n0, x*y): -0.1587\n",
      "\n",
      "Node 2\n",
      "corr(n2, x**2): -0.0458\n",
      "corr(n2, y**2): 0.0001\n",
      "corr(n2, cos(x)): -0.0004\n",
      "corr(n2, cos(y)): 0.0078\n",
      "corr(n2, x*y): -0.9817\n",
      "\n",
      "Node 1\n",
      "corr(n1, x**2): 0.0112\n",
      "corr(n1, y**2): 0.9806\n",
      "corr(n1, cos(x)): -0.0263\n",
      "corr(n1, cos(y)): -0.9901\n",
      "corr(n1, x*y): 0.0559\n"
     ]
    }
   ],
   "source": [
    "ut.node_correlations(acts, nodes, corr_data);"
   ]
  },
  {
   "cell_type": "code",
   "execution_count": 10,
   "id": "ed7a7949",
   "metadata": {},
   "outputs": [
    {
     "data": {
      "application/vnd.jupyter.widget-view+json": {
       "model_id": "19640739817048c494e68ef668d4e2da",
       "version_major": 2,
       "version_minor": 0
      },
      "text/plain": [
       "Canvas(toolbar=Toolbar(toolitems=[('Home', 'Reset original view', 'home', 'home'), ('Back', 'Back to previous …"
      ]
     },
     "metadata": {},
     "output_type": "display_data"
    }
   ],
   "source": [
    "fig, ax = plt.subplots()\n",
    "\n",
    "n = 0\n",
    "bias = True\n",
    "\n",
    "ax.scatter(x_data, x_data**2 + 1.5)\n",
    "# ax.scatter(x_data, -np.cos(x_data))\n",
    "ax.scatter(x_data, model.layers2[0].weight[0,n].item()*acts[:,n] + bias * model.layers2[0].bias.item())\n",
    "\n",
    "plt.show()"
   ]
  },
  {
   "cell_type": "code",
   "execution_count": 11,
   "id": "c20c2e7c",
   "metadata": {},
   "outputs": [
    {
     "data": {
      "application/vnd.jupyter.widget-view+json": {
       "model_id": "a54ca8fe4c3f40efa40dca05245a7454",
       "version_major": 2,
       "version_minor": 0
      },
      "text/plain": [
       "Canvas(toolbar=Toolbar(toolitems=[('Home', 'Reset original view', 'home', 'home'), ('Back', 'Back to previous …"
      ]
     },
     "metadata": {},
     "output_type": "display_data"
    }
   ],
   "source": [
    "fig, ax = plt.subplots()\n",
    "\n",
    "n = 1\n",
    "bias = False\n",
    "\n",
    "ax.scatter(y_data, np.cos(y_data) - 1.5)\n",
    "ax.scatter(y_data, model.layers2[0].weight[0,n].item()*acts[:,n] + bias * model.layers2[0].bias.item())\n",
    "\n",
    "plt.show()"
   ]
  },
  {
   "cell_type": "code",
   "execution_count": 12,
   "id": "9bd4304c",
   "metadata": {},
   "outputs": [],
   "source": [
    "# select plotting data\n",
    "x_data = train_data.in_data[:,0]\n",
    "y_data = train_data.in_data[:,1]\n",
    "z_data = [\n",
    "    #(\"target\", train_data.target_data),\n",
    "    #(\"x**2\", x_data**2), \n",
    "    #(\"cos(y)\", np.cos(y_data)), \n",
    "    (\"x*y\", x_data * y_data),\n",
    "]\n",
    "plot_size = train_data.target_data.shape[0]"
   ]
  },
  {
   "cell_type": "code",
   "execution_count": 13,
   "id": "9279acc2",
   "metadata": {},
   "outputs": [
    {
     "data": {
      "application/vnd.jupyter.widget-view+json": {
       "model_id": "5f5fce52e18847d29249842e6a5597c9",
       "version_major": 2,
       "version_minor": 0
      },
      "text/plain": [
       "Canvas(toolbar=Toolbar(toolitems=[('Home', 'Reset original view', 'home', 'home'), ('Back', 'Back to previous …"
      ]
     },
     "metadata": {},
     "output_type": "display_data"
    }
   ],
   "source": [
    "n = 2\n",
    "ut.plot_acts(x_data, y_data, z_data, acts=acts, nodes=[n], model=model, bias=False, nonzero=False, agg=False, plot_size=plot_size)"
   ]
  },
  {
   "cell_type": "code",
   "execution_count": 14,
   "id": "3568fc3d",
   "metadata": {},
   "outputs": [],
   "source": [
    "def Gaussian(x, mu, sigma):\n",
    "    return 1/(sigma * np.sqrt(2 * np.pi)) * np.exp(-0.5*((x - mu) / sigma)**2)"
   ]
  },
  {
   "cell_type": "code",
   "execution_count": 15,
   "id": "dd11a5fa",
   "metadata": {},
   "outputs": [],
   "source": [
    "p_data = np.linspace(-5,5)"
   ]
  },
  {
   "cell_type": "code",
   "execution_count": 16,
   "id": "254ca9a2",
   "metadata": {},
   "outputs": [
    {
     "data": {
      "application/vnd.jupyter.widget-view+json": {
       "model_id": "c351e7df414447a4a34ad081cb1a2a8d",
       "version_major": 2,
       "version_minor": 0
      },
      "text/plain": [
       "Canvas(toolbar=Toolbar(toolitems=[('Home', 'Reset original view', 'home', 'home'), ('Back', 'Back to previous …"
      ]
     },
     "metadata": {},
     "output_type": "display_data"
    }
   ],
   "source": [
    "fig, ax = plt.subplots()\n",
    "\n",
    "ax.plot(p_data, Gaussian(p_data, 0, 1))\n",
    "ax.plot(p_data, Gaussian(p_data, 1, 1))\n",
    "ax.plot(p_data, Gaussian(p_data, 1, 2))\n",
    "\n",
    "plt.show()"
   ]
  },
  {
   "cell_type": "markdown",
   "id": "2cacf252",
   "metadata": {},
   "source": [
    "What would the ideal correlations look like?\n",
    "\n",
    "**N(0,1)**:\n",
    "\n",
    "`x**2`:\n",
    "```\n",
    "Node 0\n",
    "corr(n0, x**2): 1.0000\n",
    "corr(n0, y**2): 0.0159\n",
    "corr(n0, cos(x)): -0.9553\n",
    "corr(n0, cos(y)): -0.0170\n",
    "corr(n0, x*y): 0.1732\n",
    "```\n",
    "\n",
    "`cos(y)`:\n",
    "```\n",
    "Node 0\n",
    "corr(n0, x**2): -0.0170\n",
    "corr(n0, y**2): -0.9632\n",
    "corr(n0, cos(x)): 0.0298\n",
    "corr(n0, cos(y)): 1.0000\n",
    "corr(n0, x*y): -0.0622\n",
    "```\n",
    "\n",
    "`x*y`:\n",
    "```\n",
    "Node 0\n",
    "corr(n0, x**2): 0.1732\n",
    "corr(n0, y**2): 0.0431\n",
    "corr(n0, cos(x)): -0.1515\n",
    "corr(n0, cos(y)): -0.0622\n",
    "corr(n0, x*y): 1.0000\n",
    "```\n",
    "\n",
    "**U(-1,1)**:\n",
    "\n",
    "`x**2`:\n",
    "```\n",
    "Node 0\n",
    "corr(n0, x**2): 1.0000\n",
    "corr(n0, y**2): 0.0380\n",
    "corr(n0, cos(x)): -0.9998\n",
    "corr(n0, cos(y)): -0.0377\n",
    "corr(n0, x*y): 0.0492\n",
    "```\n",
    "\n",
    "`cos(y)`:\n",
    "```\n",
    "Node 0\n",
    "corr(n0, x**2): -0.0377\n",
    "corr(n0, y**2): -0.9997\n",
    "corr(n0, cos(x)): 0.0338\n",
    "corr(n0, cos(y)): 1.0000\n",
    "corr(n0, x*y): 0.0192\n",
    "```\n",
    "\n",
    "`x*y`:\n",
    "```\n",
    "Node 0\n",
    "corr(n0, x**2): 0.0492\n",
    "corr(n0, y**2): -0.0243\n",
    "corr(n0, cos(x)): -0.0494\n",
    "corr(n0, cos(y)): 0.0192\n",
    "corr(n0, x*y): 1.0000\n",
    "```\n",
    "\n",
    "**U(-5,5)**:\n",
    "\n",
    "`x**2`:\n",
    "```\n",
    "Node 0\n",
    "corr(n0, x**2): 1.0000\n",
    "corr(n0, y**2): -0.0238\n",
    "corr(n0, cos(x)): -0.4797\n",
    "corr(n0, cos(y)): 0.1668\n",
    "corr(n0, x*y): -0.0543\n",
    "```\n",
    "\n",
    "`cos(y)`:\n",
    "```\n",
    "Node 0\n",
    "corr(n0, x**2): 0.1668\n",
    "corr(n0, y**2): -0.3535\n",
    "corr(n0, cos(x)): -0.0979\n",
    "corr(n0, cos(y)): 1.0000\n",
    "corr(n0, x*y): -0.0339\n",
    "```\n",
    "\n",
    "`x*y`:\n",
    "```\n",
    "Node 0\n",
    "corr(n0, x**2): -0.0543\n",
    "corr(n0, y**2): -0.0506\n",
    "corr(n0, cos(x)): 0.1231\n",
    "corr(n0, cos(y)): -0.0339\n",
    "corr(n0, x*y): 1.0000\n",
    "```"
   ]
  }
 ],
 "metadata": {
  "kernelspec": {
   "display_name": "Python 3 (ipykernel)",
   "language": "python",
   "name": "python3"
  },
  "language_info": {
   "codemirror_mode": {
    "name": "ipython",
    "version": 3
   },
   "file_extension": ".py",
   "mimetype": "text/x-python",
   "name": "python",
   "nbconvert_exporter": "python",
   "pygments_lexer": "ipython3",
   "version": "3.8.3"
  },
  "toc": {
   "base_numbering": 1,
   "nav_menu": {},
   "number_sections": false,
   "sideBar": true,
   "skip_h1_title": true,
   "title_cell": "Table of Contents",
   "title_sidebar": "Contents",
   "toc_cell": false,
   "toc_position": {},
   "toc_section_display": true,
   "toc_window_display": false
  }
 },
 "nbformat": 4,
 "nbformat_minor": 5
}
